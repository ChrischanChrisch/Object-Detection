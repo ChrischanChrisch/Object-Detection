{
 "cells": [
  {
   "cell_type": "markdown",
   "metadata": {},
   "source": [
    "# 1. Aufteilen der Datensätze in Test und Train\n",
    "Alle Bilder und xml-Datein sollten im Ordner C:\\Tensorflow2\\workspace\\training_demo\\images   abgelegt sein\n",
    "ebenso sollte unterordner 'test' und 'train' angelegt sein.  \n",
    "\n",
    "Die Aufteilung kann in Zeile 10 ratio = 0.1 angepasst werden.\n",
    "Hier werden 10% der Daten in den Test Ordner gepackt."
   ]
  },
  {
   "cell_type": "code",
   "execution_count": null,
   "metadata": {},
   "outputs": [],
   "source": [
    "import os\n",
    "import re\n",
    "from shutil import copyfile\n",
    "import math\n",
    "import random\n",
    "import time\n",
    "\n",
    "imageDir = r'C:\\Tensorflow2\\workspace\\Training_demo\\images'\n",
    "outputDir = r'C:\\Tensorflow2\\workspace\\Training_demo\\images'\n",
    "ratio = 0.1\n",
    "xml = True\n",
    "\n",
    "def iterate_dir(source, dest, ratio, copy_xml):\n",
    "    source = source.replace('\\\\', '/')\n",
    "    dest = dest.replace('\\\\', '/')\n",
    "    train_dir = os.path.join(dest, 'train')\n",
    "    test_dir = os.path.join(dest, 'test')\n",
    "\n",
    "    if not os.path.exists(train_dir):\n",
    "        os.makedirs(train_dir)\n",
    "    if not os.path.exists(test_dir):\n",
    "        os.makedirs(test_dir)\n",
    "\n",
    "    images = [f for f in os.listdir(source)\n",
    "              if re.search(r'([a-zA-Z0-9\\s_\\\\.\\-\\(\\):])+(.jpg|.jpeg|.png)$', f)]\n",
    "\n",
    "    num_images = len(images)\n",
    "    num_test_images = math.ceil(ratio*num_images)\n",
    "\n",
    "    for i in range(num_test_images):\n",
    "        idx = random.randint(0, len(images)-1)\n",
    "        filename = images[idx]\n",
    "        copyfile(os.path.join(source, filename),\n",
    "                 os.path.join(test_dir, filename))\n",
    "        if copy_xml:\n",
    "            xml_filename = os.path.splitext(filename)[0]+'.xml'\n",
    "            copyfile(os.path.join(source, xml_filename),\n",
    "                     os.path.join(test_dir,xml_filename))\n",
    "        images.remove(images[idx])\n",
    "\n",
    "    for filename in images:\n",
    "        copyfile(os.path.join(source, filename),\n",
    "                 os.path.join(train_dir, filename))\n",
    "        if copy_xml:\n",
    "            xml_filename = os.path.splitext(filename)[0]+'.xml'\n",
    "            copyfile(os.path.join(source, xml_filename),\n",
    "                     os.path.join(train_dir, xml_filename))\n",
    "\n",
    "\n",
    "def main():   \n",
    "\n",
    "    # Now we are ready to start the iteration\n",
    "    start_time = time.perf_counter()\n",
    "    print('Start')\n",
    "    iterate_dir(imageDir, outputDir, ratio, xml)\n",
    "    end_time = time.perf_counter() - start_time\n",
    "    print('Ende: Dauer = ', end_time)\n",
    "\n",
    "if __name__ == '__main__':\n",
    "    main()"
   ]
  },
  {
   "cell_type": "markdown",
   "metadata": {},
   "source": [
    "# 1b. Andere Label verwenden (optional)\n",
    "neue xml-Datein zu den bereits aufgeteilten Bildern zuordnen\n",
    "dazu die neuen xml-Dateien C:\\Tensorflow2\\workspace\\training_demo\\images  ablegen\n",
    "unötig zu sagen dass die xml-Dateien den gleichen Namen haben wie das dazugehörige Bild"
   ]
  },
  {
   "cell_type": "code",
   "execution_count": null,
   "metadata": {},
   "outputs": [],
   "source": [
    "#Test_Train_xml.py\n",
    "# wird nur benötigt wenn Labels geändert wurden und neue XML-Datein zu den bereits aufgeteileten \n",
    "# Bilder zugordenet werden sollen \n",
    "import os\n",
    "import glob\n",
    "import time\n",
    "\n",
    "imageDir = r'C:\\Tensorflow2\\workspace\\Training_demo\\images'\n",
    "#CWD_Path = os.getcwd()\n",
    "start_time = time.perf_counter()\n",
    "print('Start:')\n",
    "for Folder in ['Test','Train']:\n",
    "    print(Folder)\n",
    "    for img in glob.glob(os.path.join(imageDir,Folder,'*.jpg')):\n",
    "        img_path = os.path.split(img)\n",
    "        img_path_2 = img_path[1].split('.')\n",
    "\n",
    "        for xml_file in glob.glob(CWD_Path + '\\*.xml'):\n",
    "            xml_path = os.path.split(xml_file)\n",
    "            xml_path_2 = xml_path[1].split('.')\n",
    "\n",
    "            if img_path_2 [0] == xml_path_2[0]:\n",
    "                print(img_path[1])\n",
    "                print(xml_path[1])\n",
    "                os.replace(xml_file, os.path.join(CWD_Path,Folder,xml_path[1]))\n",
    "                \n",
    "end_time = time.perf_counter() - start_time\n",
    "print('Ende: Dauer = ', end_time)\n",
    "print('Daten wurden aufgeteilt.')"
   ]
  },
  {
   "cell_type": "markdown",
   "metadata": {},
   "source": [
    "# 2. Label_Map erstellen\n",
    "die Namen der Labels müssen angepasst werden."
   ]
  },
  {
   "cell_type": "code",
   "execution_count": null,
   "metadata": {
    "scrolled": true
   },
   "outputs": [],
   "source": [
    "labels = [{'name':'Label1', 'id':1},{'name':'Label2', 'id':2},{'name':'Label3', 'id':3},{'name':'Label4', 'id':4}]\n",
    "\n",
    "with open(r'C:\\Tensorflow2\\workspace\\Training_demo\\annotations\\label_map1.pbtxt', 'w') as f:\n",
    "    for label in labels:\n",
    "        f.write('item { \\n')\n",
    "        f.write('\\tname:\\'{}\\'\\n'.format(label['name']))\n",
    "        f.write('\\tid:{}\\n'.format(label['id']))\n",
    "        f.write('}\\n')\n",
    "print('Label_map.pbtxt wurde erstellt.')"
   ]
  },
  {
   "cell_type": "markdown",
   "metadata": {},
   "source": [
    "# 3a. Umwandeln der csv in tfrecord\n",
    "# Test\n",
    "erstellt eine csv und eine .tfrecord Datei für Test\n",
    "Achtung!! es muss eine label_map.pbtxt vorhanden sein unter C:\\Tensorflow2\\workspace\\training_demo\\annotations\\"
   ]
  },
  {
   "cell_type": "code",
   "execution_count": null,
   "metadata": {},
   "outputs": [],
   "source": [
    "import os\n",
    "import glob\n",
    "import pandas as pd\n",
    "import io\n",
    "import xml.etree.ElementTree as ET\n",
    "\n",
    "os.environ['TF_CPP_MIN_LOG_LEVEL'] = '2'    # Suppress TensorFlow logging (1)\n",
    "import tensorflow.compat.v1 as tf\n",
    "from PIL import Image\n",
    "from object_detection.utils import dataset_util, label_map_util\n",
    "from collections import namedtuple\n",
    "\n",
    "xml_dir = r'C:\\Tensorflow2\\workspace\\Training_demo\\images\\test'\n",
    "labels_path = r'C:\\Tensorflow2\\workspace\\Training_demo\\annotations\\label_map.pbtxt'\n",
    "output_path = r'C:\\Tensorflow2\\workspace\\Training_demo\\annotations\\test.record'\n",
    "image_dir = xml_dir\n",
    "csv_path = r'C:\\Tensorflow2\\workspace\\Training_demo\\images\\_Test_labels.csv'\n",
    "\n",
    "label_map = label_map_util.load_labelmap(labels_path)\n",
    "label_map_dict = label_map_util.get_label_map_dict(label_map)\n",
    "\n",
    "\n",
    "def xml_to_csv(path): \n",
    "    xml_list = []\n",
    "    for xml_file in glob.glob(path + '/*.xml'):\n",
    "        tree = ET.parse(xml_file)\n",
    "        root = tree.getroot()\n",
    "        for member in root.findall('object'):\n",
    "            value = (root.find('filename').text,\n",
    "                     int(root.find('size')[0].text),\n",
    "                     int(root.find('size')[1].text),\n",
    "                     member[0].text,\n",
    "                     int(member[4][0].text),\n",
    "                     int(member[4][1].text),\n",
    "                     int(member[4][2].text),\n",
    "                     int(member[4][3].text)\n",
    "                     )\n",
    "            xml_list.append(value)\n",
    "    column_name = ['filename', 'width', 'height',\n",
    "                   'class', 'xmin', 'ymin', 'xmax', 'ymax']\n",
    "    xml_df = pd.DataFrame(xml_list, columns=column_name)\n",
    "    return xml_df\n",
    "\n",
    "\n",
    "def class_text_to_int(row_label):\n",
    "    return label_map_dict[row_label]\n",
    "\n",
    "\n",
    "def split(df, group):\n",
    "    data = namedtuple('data', ['filename', 'object'])\n",
    "    gb = df.groupby(group)\n",
    "    return [data(filename, gb.get_group(x)) for filename, x in zip(gb.groups.keys(), gb.groups)]\n",
    "\n",
    "\n",
    "def create_tf_example(group, path):\n",
    "    with tf.gfile.GFile(os.path.join(path, '{}'.format(group.filename)), 'rb') as fid:\n",
    "        encoded_jpg = fid.read()\n",
    "    encoded_jpg_io = io.BytesIO(encoded_jpg)\n",
    "    image = Image.open(encoded_jpg_io)\n",
    "    width, height = image.size\n",
    "\n",
    "    filename = group.filename.encode('utf8')\n",
    "    image_format = b'jpg'\n",
    "    xmins = []\n",
    "    xmaxs = []\n",
    "    ymins = []\n",
    "    ymaxs = []\n",
    "    classes_text = []\n",
    "    classes = []\n",
    "\n",
    "    for index, row in group.object.iterrows():\n",
    "        xmins.append(row['xmin'] / width)\n",
    "        xmaxs.append(row['xmax'] / width)\n",
    "        ymins.append(row['ymin'] / height)\n",
    "        ymaxs.append(row['ymax'] / height)\n",
    "        classes_text.append(row['class'].encode('utf8'))\n",
    "        classes.append(class_text_to_int(row['class']))\n",
    "\n",
    "    tf_example = tf.train.Example(features=tf.train.Features(feature={\n",
    "        'image/height': dataset_util.int64_feature(height),\n",
    "        'image/width': dataset_util.int64_feature(width),\n",
    "        'image/filename': dataset_util.bytes_feature(filename),\n",
    "        'image/source_id': dataset_util.bytes_feature(filename),\n",
    "        'image/encoded': dataset_util.bytes_feature(encoded_jpg),\n",
    "        'image/format': dataset_util.bytes_feature(image_format),\n",
    "        'image/object/bbox/xmin': dataset_util.float_list_feature(xmins),\n",
    "        'image/object/bbox/xmax': dataset_util.float_list_feature(xmaxs),\n",
    "        'image/object/bbox/ymin': dataset_util.float_list_feature(ymins),\n",
    "        'image/object/bbox/ymax': dataset_util.float_list_feature(ymaxs),\n",
    "        'image/object/class/text': dataset_util.bytes_list_feature(classes_text),\n",
    "        'image/object/class/label': dataset_util.int64_list_feature(classes),\n",
    "    }))\n",
    "    return tf_example\n",
    "\n",
    "\n",
    "def main(_):\n",
    "    start_time = time.perf_counter()\n",
    "    print('Start:')\n",
    "    writer = tf.python_io.TFRecordWriter(output_path)\n",
    "    path = os.path.join(image_dir)\n",
    "    examples = xml_to_csv(xml_dir)\n",
    "    grouped = split(examples, 'filename')\n",
    "    for group in grouped:\n",
    "        #print(group['filename'])\n",
    "        tf_example = create_tf_example(group, path)\n",
    "        writer.write(tf_example.SerializeToString())\n",
    "    writer.close()\n",
    "    print('Successfully created the TFRecord file: {}'.format(output_path))\n",
    "    if csv_path is not None:\n",
    "        examples.to_csv(csv_path, index=None)\n",
    "        print('Successfully created the CSV file: {}'.format(csv_path))\n",
    "        \n",
    "    end_time = time.perf_counter() - start_time\n",
    "    print('Ende: Dauer = ', end_time)\n",
    "\n",
    "if __name__ == '__main__':\n",
    "    tf.app.run()\n"
   ]
  },
  {
   "cell_type": "markdown",
   "metadata": {},
   "source": [
    "# 3b. Umwandeln der csv in tfrecord\n",
    "# Train\n",
    "erstellt eine csv und eine .tfrecord Datei für Train"
   ]
  },
  {
   "cell_type": "code",
   "execution_count": null,
   "metadata": {
    "scrolled": true
   },
   "outputs": [],
   "source": [
    "import os\n",
    "import glob\n",
    "import pandas as pd\n",
    "import io\n",
    "import xml.etree.ElementTree as ET\n",
    "\n",
    "os.environ['TF_CPP_MIN_LOG_LEVEL'] = '2'    # Suppress TensorFlow logging (1)\n",
    "import tensorflow.compat.v1 as tf\n",
    "from PIL import Image\n",
    "from object_detection.utils import dataset_util, label_map_util\n",
    "from collections import namedtuple\n",
    "\n",
    "xml_dir = r'C:\\Tensorflow2\\workspace\\Training_demo\\images\\train'\n",
    "labels_path = r'C:\\Tensorflow2\\workspace\\Training_demo\\annotations\\label_map.pbtxt'\n",
    "output_path = r'C:\\Tensorflow2\\workspace\\Training_demo\\annotations\\train.record'\n",
    "image_dir = xml_dir\n",
    "csv_path = r'C:\\Tensorflow2\\workspace\\Training_demo\\images\\_Train_labels.csv'\n",
    "\n",
    "label_map = label_map_util.load_labelmap(labels_path)\n",
    "label_map_dict = label_map_util.get_label_map_dict(label_map)\n",
    "\n",
    "\n",
    "def xml_to_csv(path): \n",
    "    xml_list = []\n",
    "    for xml_file in glob.glob(path + '/*.xml'):\n",
    "        tree = ET.parse(xml_file)\n",
    "        root = tree.getroot()\n",
    "        for member in root.findall('object'):\n",
    "            value = (root.find('filename').text,\n",
    "                     int(root.find('size')[0].text),\n",
    "                     int(root.find('size')[1].text),\n",
    "                     member[0].text,\n",
    "                     int(member[4][0].text),\n",
    "                     int(member[4][1].text),\n",
    "                     int(member[4][2].text),\n",
    "                     int(member[4][3].text)\n",
    "                     )\n",
    "            xml_list.append(value)\n",
    "    column_name = ['filename', 'width', 'height',\n",
    "                   'class', 'xmin', 'ymin', 'xmax', 'ymax']\n",
    "    xml_df = pd.DataFrame(xml_list, columns=column_name)\n",
    "    return xml_df\n",
    "\n",
    "\n",
    "def class_text_to_int(row_label):\n",
    "    return label_map_dict[row_label]\n",
    "\n",
    "\n",
    "def split(df, group):\n",
    "    data = namedtuple('data', ['filename', 'object'])\n",
    "    gb = df.groupby(group)\n",
    "    return [data(filename, gb.get_group(x)) for filename, x in zip(gb.groups.keys(), gb.groups)]\n",
    "\n",
    "\n",
    "def create_tf_example(group, path):\n",
    "    with tf.gfile.GFile(os.path.join(path, '{}'.format(group.filename)), 'rb') as fid:\n",
    "        encoded_jpg = fid.read()\n",
    "    encoded_jpg_io = io.BytesIO(encoded_jpg)\n",
    "    image = Image.open(encoded_jpg_io)\n",
    "    width, height = image.size\n",
    "\n",
    "    filename = group.filename.encode('utf8')\n",
    "    image_format = b'jpg'\n",
    "    xmins = []\n",
    "    xmaxs = []\n",
    "    ymins = []\n",
    "    ymaxs = []\n",
    "    classes_text = []\n",
    "    classes = []\n",
    "\n",
    "    for index, row in group.object.iterrows():\n",
    "        xmins.append(row['xmin'] / width)\n",
    "        xmaxs.append(row['xmax'] / width)\n",
    "        ymins.append(row['ymin'] / height)\n",
    "        ymaxs.append(row['ymax'] / height)\n",
    "        classes_text.append(row['class'].encode('utf8'))\n",
    "        classes.append(class_text_to_int(row['class']))\n",
    "\n",
    "    tf_example = tf.train.Example(features=tf.train.Features(feature={\n",
    "        'image/height': dataset_util.int64_feature(height),\n",
    "        'image/width': dataset_util.int64_feature(width),\n",
    "        'image/filename': dataset_util.bytes_feature(filename),\n",
    "        'image/source_id': dataset_util.bytes_feature(filename),\n",
    "        'image/encoded': dataset_util.bytes_feature(encoded_jpg),\n",
    "        'image/format': dataset_util.bytes_feature(image_format),\n",
    "        'image/object/bbox/xmin': dataset_util.float_list_feature(xmins),\n",
    "        'image/object/bbox/xmax': dataset_util.float_list_feature(xmaxs),\n",
    "        'image/object/bbox/ymin': dataset_util.float_list_feature(ymins),\n",
    "        'image/object/bbox/ymax': dataset_util.float_list_feature(ymaxs),\n",
    "        'image/object/class/text': dataset_util.bytes_list_feature(classes_text),\n",
    "        'image/object/class/label': dataset_util.int64_list_feature(classes),\n",
    "    }))\n",
    "    return tf_example\n",
    "\n",
    "\n",
    "def main(_):\n",
    "    start_time = time.perf_counter()\n",
    "    print('Start:')\n",
    "    writer = tf.python_io.TFRecordWriter(output_path)\n",
    "    path = os.path.join(image_dir)\n",
    "    examples = xml_to_csv(xml_dir)\n",
    "    grouped = split(examples, 'filename')\n",
    "    for group in grouped:\n",
    "        #print(group['filename'])\n",
    "        tf_example = create_tf_example(group, path)\n",
    "        writer.write(tf_example.SerializeToString())\n",
    "    writer.close()\n",
    "    print('Successfully created the TFRecord file: {}'.format(output_path))\n",
    "    if csv_path is not None:\n",
    "        examples.to_csv(csv_path, index=None)\n",
    "        print('Successfully created the CSV file: {}'.format(csv_path))\n",
    "        \n",
    "    end_time = time.perf_counter() - start_time\n",
    "    print('Ende: Dauer = ', end_time)\n",
    "\n",
    "if __name__ == '__main__':\n",
    "    tf.app.run()\n"
   ]
  },
  {
   "cell_type": "markdown",
   "metadata": {},
   "source": [
    "# 4. pipeline config anpassen\n",
    "dazu die piplien.config vom pretrained model kopieren in \n",
    "und Anpassungen bei folgenden Punkten vornehmen:\n",
    "Zeile 3:  PRETRAINED_MODEL_NAME - anpassen \n",
    "\n",
    "vorher muss ein pretrained Model von https://github.com/tensorflow/models/blob/master/research/object_detection/g3doc/tf2_detection_zoo.md runtergelade und in C:/Tensorflow2/workspace/training_demo/pretrained_Models gespeichert werden. \n",
    "In diesem Bsp. wird \n",
    "faster_rcnn_rcnn_inception_resnet_v2_1024x1024_coco17_tpu-8 \n",
    "genutzt.\n",
    "\n",
    "Achtung im Unterschritt 3 Zeile 1 muss mindestens \n",
    "pipeline_config.model.faster_rcnn.num_classes = xx\n",
    "angepasst werden."
   ]
  },
  {
   "cell_type": "code",
   "execution_count": 24,
   "metadata": {},
   "outputs": [
    {
     "name": "stdout",
     "output_type": "stream",
     "text": [
      "        1 Datei(en) kopiert.\n"
     ]
    }
   ],
   "source": [
    "import os\n",
    "root_path = r'C:\\Tensorflow2\\workspace\\training_demo'\n",
    "PRETRAINED_MODEL_NAME = 'faster_rcnn_inception_resnet_v2_1024x1024_coco17_tpu-8'\n",
    "!copy {os.path.join(root_path,'pretrained-models', PRETRAINED_MODEL_NAME, 'pipeline.config')} {os.path.join(os.path.join(root_path, 'models\\my_model1'))}"
   ]
  },
  {
   "cell_type": "code",
   "execution_count": 25,
   "metadata": {},
   "outputs": [
    {
     "data": {
      "text/plain": [
       "{'model': faster_rcnn {\n",
       "   num_classes: 90\n",
       "   image_resizer {\n",
       "     keep_aspect_ratio_resizer {\n",
       "       min_dimension: 800\n",
       "       max_dimension: 1333\n",
       "       pad_to_max_dimension: true\n",
       "     }\n",
       "   }\n",
       "   feature_extractor {\n",
       "     type: \"faster_rcnn_inception_resnet_v2_keras\"\n",
       "   }\n",
       "   first_stage_anchor_generator {\n",
       "     grid_anchor_generator {\n",
       "       height_stride: 16\n",
       "       width_stride: 16\n",
       "       scales: 0.25\n",
       "       scales: 0.5\n",
       "       scales: 1.0\n",
       "       scales: 2.0\n",
       "       aspect_ratios: 0.5\n",
       "       aspect_ratios: 1.0\n",
       "       aspect_ratios: 2.0\n",
       "     }\n",
       "   }\n",
       "   first_stage_box_predictor_conv_hyperparams {\n",
       "     op: CONV\n",
       "     regularizer {\n",
       "       l2_regularizer {\n",
       "         weight: 0.0\n",
       "       }\n",
       "     }\n",
       "     initializer {\n",
       "       truncated_normal_initializer {\n",
       "         stddev: 0.01\n",
       "       }\n",
       "     }\n",
       "   }\n",
       "   first_stage_nms_score_threshold: 0.0\n",
       "   first_stage_nms_iou_threshold: 0.7\n",
       "   first_stage_max_proposals: 300\n",
       "   first_stage_localization_loss_weight: 2.0\n",
       "   first_stage_objectness_loss_weight: 1.0\n",
       "   initial_crop_size: 17\n",
       "   maxpool_kernel_size: 1\n",
       "   maxpool_stride: 1\n",
       "   second_stage_box_predictor {\n",
       "     mask_rcnn_box_predictor {\n",
       "       fc_hyperparams {\n",
       "         op: FC\n",
       "         regularizer {\n",
       "           l2_regularizer {\n",
       "             weight: 0.0\n",
       "           }\n",
       "         }\n",
       "         initializer {\n",
       "           variance_scaling_initializer {\n",
       "             factor: 1.0\n",
       "             uniform: true\n",
       "             mode: FAN_AVG\n",
       "           }\n",
       "         }\n",
       "       }\n",
       "       use_dropout: false\n",
       "       dropout_keep_probability: 1.0\n",
       "     }\n",
       "   }\n",
       "   second_stage_post_processing {\n",
       "     batch_non_max_suppression {\n",
       "       score_threshold: 0.0\n",
       "       iou_threshold: 0.6\n",
       "       max_detections_per_class: 100\n",
       "       max_total_detections: 100\n",
       "     }\n",
       "     score_converter: SOFTMAX\n",
       "   }\n",
       "   second_stage_localization_loss_weight: 2.0\n",
       "   second_stage_classification_loss_weight: 1.0\n",
       " },\n",
       " 'train_config': batch_size: 16\n",
       " data_augmentation_options {\n",
       "   random_horizontal_flip {\n",
       "   }\n",
       " }\n",
       " data_augmentation_options {\n",
       "   random_adjust_hue {\n",
       "   }\n",
       " }\n",
       " data_augmentation_options {\n",
       "   random_adjust_contrast {\n",
       "   }\n",
       " }\n",
       " data_augmentation_options {\n",
       "   random_adjust_saturation {\n",
       "   }\n",
       " }\n",
       " data_augmentation_options {\n",
       "   random_square_crop_by_scale {\n",
       "     scale_min: 0.6\n",
       "     scale_max: 1.3\n",
       "   }\n",
       " }\n",
       " optimizer {\n",
       "   momentum_optimizer {\n",
       "     learning_rate {\n",
       "       cosine_decay_learning_rate {\n",
       "         learning_rate_base: 0.008\n",
       "         total_steps: 200000\n",
       "         warmup_learning_rate: 0.0\n",
       "         warmup_steps: 5000\n",
       "       }\n",
       "     }\n",
       "     momentum_optimizer_value: 0.9\n",
       "   }\n",
       "   use_moving_average: false\n",
       " }\n",
       " gradient_clipping_by_norm: 10.0\n",
       " fine_tune_checkpoint: \"PATH_TO_BE_CONFIGURED\"\n",
       " num_steps: 200000\n",
       " fine_tune_checkpoint_type: \"classification\"\n",
       " fine_tune_checkpoint_version: V2,\n",
       " 'train_input_config': label_map_path: \"PATH_TO_BE_CONFIGURED/label_map.txt\"\n",
       " tf_record_input_reader {\n",
       "   input_path: \"PATH_TO_BE_CONFIGURED/train2017-?????-of-00256.tfrecord\"\n",
       " },\n",
       " 'eval_config': metrics_set: \"coco_detection_metrics\"\n",
       " use_moving_averages: false\n",
       " batch_size: 1,\n",
       " 'eval_input_configs': [label_map_path: \"PATH_TO_BE_CONFIGURED/label_map.txt\"\n",
       " shuffle: false\n",
       " num_epochs: 1\n",
       " tf_record_input_reader {\n",
       "   input_path: \"PATH_TO_BE_CONFIGURED/val2017-?????-of-00032.tfrecord\"\n",
       " }\n",
       " ],\n",
       " 'eval_input_config': label_map_path: \"PATH_TO_BE_CONFIGURED/label_map.txt\"\n",
       " shuffle: false\n",
       " num_epochs: 1\n",
       " tf_record_input_reader {\n",
       "   input_path: \"PATH_TO_BE_CONFIGURED/val2017-?????-of-00032.tfrecord\"\n",
       " }}"
      ]
     },
     "execution_count": 25,
     "metadata": {},
     "output_type": "execute_result"
    }
   ],
   "source": [
    "import tensorflow as tf\n",
    "from object_detection.utils import config_util\n",
    "from object_detection.protos import pipeline_pb2\n",
    "from google.protobuf import text_format\n",
    "config_path = os.path.join(root_path, 'models\\my_model1\\pipeline.config')\n",
    "config = config_util.get_configs_from_pipeline_file(config_path)\n",
    "config"
   ]
  },
  {
   "cell_type": "code",
   "execution_count": 26,
   "metadata": {},
   "outputs": [],
   "source": [
    "pipeline_config = pipeline_pb2.TrainEvalPipelineConfig()\n",
    "with tf.io.gfile.GFile(config_path, \"r\") as f:                                                                                                                                                                                                                     \n",
    "    proto_str = f.read()                                                                                                                                                                                                                                          \n",
    "    text_format.Merge(proto_str, pipeline_config)"
   ]
  },
  {
   "cell_type": "code",
   "execution_count": 27,
   "metadata": {},
   "outputs": [
    {
     "ename": "TypeError",
     "evalue": "Cannot set object_detection.protos.InputReader.label_map_path to ['C:\\\\Tensorflow2\\\\workspace\\\\training_demo\\\\annotations\\\\label_map1.pbtxt']: ['C:\\\\Tensorflow2\\\\workspace\\\\training_demo\\\\annotations\\\\label_map1.pbtxt'] has type <class 'list'>, but expected one of: (<class 'bytes'>, <class 'str'>)",
     "output_type": "error",
     "traceback": [
      "\u001b[1;31m---------------------------------------------------------------------------\u001b[0m",
      "\u001b[1;31mTypeError\u001b[0m                                 Traceback (most recent call last)",
      "\u001b[1;32mC:\\Anaconda3\\envs\\tf2_env\\lib\\site-packages\\google\\protobuf\\internal\\python_message.py\u001b[0m in \u001b[0;36mfield_setter\u001b[1;34m(self, new_value)\u001b[0m\n\u001b[0;32m    712\u001b[0m     \u001b[1;32mtry\u001b[0m\u001b[1;33m:\u001b[0m\u001b[1;33m\u001b[0m\u001b[1;33m\u001b[0m\u001b[0m\n\u001b[1;32m--> 713\u001b[1;33m       \u001b[0mnew_value\u001b[0m \u001b[1;33m=\u001b[0m \u001b[0mtype_checker\u001b[0m\u001b[1;33m.\u001b[0m\u001b[0mCheckValue\u001b[0m\u001b[1;33m(\u001b[0m\u001b[0mnew_value\u001b[0m\u001b[1;33m)\u001b[0m\u001b[1;33m\u001b[0m\u001b[1;33m\u001b[0m\u001b[0m\n\u001b[0m\u001b[0;32m    714\u001b[0m     \u001b[1;32mexcept\u001b[0m \u001b[0mTypeError\u001b[0m \u001b[1;32mas\u001b[0m \u001b[0me\u001b[0m\u001b[1;33m:\u001b[0m\u001b[1;33m\u001b[0m\u001b[1;33m\u001b[0m\u001b[0m\n",
      "\u001b[1;32mC:\\Anaconda3\\envs\\tf2_env\\lib\\site-packages\\google\\protobuf\\internal\\type_checkers.py\u001b[0m in \u001b[0;36mCheckValue\u001b[1;34m(self, proposed_value)\u001b[0m\n\u001b[0;32m    209\u001b[0m                  (proposed_value, type(proposed_value), (bytes, six.text_type)))\n\u001b[1;32m--> 210\u001b[1;33m       \u001b[1;32mraise\u001b[0m \u001b[0mTypeError\u001b[0m\u001b[1;33m(\u001b[0m\u001b[0mmessage\u001b[0m\u001b[1;33m)\u001b[0m\u001b[1;33m\u001b[0m\u001b[1;33m\u001b[0m\u001b[0m\n\u001b[0m\u001b[0;32m    211\u001b[0m \u001b[1;33m\u001b[0m\u001b[0m\n",
      "\u001b[1;31mTypeError\u001b[0m: ['C:\\\\Tensorflow2\\\\workspace\\\\training_demo\\\\annotations\\\\label_map1.pbtxt'] has type <class 'list'>, but expected one of: (<class 'bytes'>, <class 'str'>)",
      "\nDuring handling of the above exception, another exception occurred:\n",
      "\u001b[1;31mTypeError\u001b[0m                                 Traceback (most recent call last)",
      "\u001b[1;32m<ipython-input-27-acd984472413>\u001b[0m in \u001b[0;36m<module>\u001b[1;34m\u001b[0m\n\u001b[0;32m      3\u001b[0m \u001b[0mpipeline_config\u001b[0m\u001b[1;33m.\u001b[0m\u001b[0mtrain_config\u001b[0m\u001b[1;33m.\u001b[0m\u001b[0mfine_tune_checkpoint\u001b[0m \u001b[1;33m=\u001b[0m \u001b[0mos\u001b[0m\u001b[1;33m.\u001b[0m\u001b[0mpath\u001b[0m\u001b[1;33m.\u001b[0m\u001b[0mjoin\u001b[0m\u001b[1;33m(\u001b[0m\u001b[0mroot_path\u001b[0m\u001b[1;33m,\u001b[0m\u001b[1;34m'pretrained-models'\u001b[0m\u001b[1;33m,\u001b[0m \u001b[0mPRETRAINED_MODEL_NAME\u001b[0m\u001b[1;33m,\u001b[0m \u001b[1;34m'checkpoint'\u001b[0m\u001b[1;33m,\u001b[0m \u001b[1;34m'ckpt-0'\u001b[0m\u001b[1;33m)\u001b[0m\u001b[1;33m\u001b[0m\u001b[1;33m\u001b[0m\u001b[0m\n\u001b[0;32m      4\u001b[0m \u001b[0mpipeline_config\u001b[0m\u001b[1;33m.\u001b[0m\u001b[0mtrain_config\u001b[0m\u001b[1;33m.\u001b[0m\u001b[0mfine_tune_checkpoint_type\u001b[0m \u001b[1;33m=\u001b[0m \u001b[1;34m\"detection\"\u001b[0m\u001b[1;33m\u001b[0m\u001b[1;33m\u001b[0m\u001b[0m\n\u001b[1;32m----> 5\u001b[1;33m \u001b[0mpipeline_config\u001b[0m\u001b[1;33m.\u001b[0m\u001b[0mtrain_input_reader\u001b[0m\u001b[1;33m.\u001b[0m\u001b[0mlabel_map_path\u001b[0m \u001b[1;33m=\u001b[0m \u001b[1;33m[\u001b[0m\u001b[0mos\u001b[0m\u001b[1;33m.\u001b[0m\u001b[0mpath\u001b[0m\u001b[1;33m.\u001b[0m\u001b[0mjoin\u001b[0m\u001b[1;33m(\u001b[0m\u001b[0mroot_path\u001b[0m\u001b[1;33m,\u001b[0m\u001b[1;34m'annotations'\u001b[0m\u001b[1;33m,\u001b[0m \u001b[1;34m'label_map1.pbtxt'\u001b[0m\u001b[1;33m)\u001b[0m\u001b[1;33m]\u001b[0m\u001b[1;33m\u001b[0m\u001b[1;33m\u001b[0m\u001b[0m\n\u001b[0m\u001b[0;32m      6\u001b[0m \u001b[0mpipeline_config\u001b[0m\u001b[1;33m.\u001b[0m\u001b[0mtrain_input_reader\u001b[0m\u001b[1;33m.\u001b[0m\u001b[0mtf_record_input_reader\u001b[0m\u001b[1;33m.\u001b[0m\u001b[0minput_path\u001b[0m\u001b[1;33m[\u001b[0m\u001b[1;33m:\u001b[0m\u001b[1;33m]\u001b[0m \u001b[1;33m=\u001b[0m \u001b[1;33m[\u001b[0m\u001b[0mos\u001b[0m\u001b[1;33m.\u001b[0m\u001b[0mpath\u001b[0m\u001b[1;33m.\u001b[0m\u001b[0mjoin\u001b[0m\u001b[1;33m(\u001b[0m\u001b[0mroot_path\u001b[0m\u001b[1;33m,\u001b[0m\u001b[1;34m'annotations'\u001b[0m\u001b[1;33m,\u001b[0m \u001b[1;34m'train.record'\u001b[0m\u001b[1;33m)\u001b[0m\u001b[1;33m]\u001b[0m\u001b[1;33m\u001b[0m\u001b[1;33m\u001b[0m\u001b[0m\n\u001b[0;32m      7\u001b[0m \u001b[0mpipeline_config\u001b[0m\u001b[1;33m.\u001b[0m\u001b[0meval_input_reader\u001b[0m\u001b[1;33m[\u001b[0m\u001b[1;36m0\u001b[0m\u001b[1;33m]\u001b[0m\u001b[1;33m.\u001b[0m\u001b[0mlabel_map_path\u001b[0m \u001b[1;33m=\u001b[0m \u001b[1;33m[\u001b[0m\u001b[0mos\u001b[0m\u001b[1;33m.\u001b[0m\u001b[0mpath\u001b[0m\u001b[1;33m.\u001b[0m\u001b[0mjoin\u001b[0m\u001b[1;33m(\u001b[0m\u001b[0mroot_path\u001b[0m\u001b[1;33m,\u001b[0m\u001b[1;34m'annotations'\u001b[0m\u001b[1;33m,\u001b[0m \u001b[1;34m'label_map1.pbtxt'\u001b[0m\u001b[1;33m)\u001b[0m\u001b[1;33m]\u001b[0m\u001b[1;33m\u001b[0m\u001b[1;33m\u001b[0m\u001b[0m\n",
      "\u001b[1;32mC:\\Anaconda3\\envs\\tf2_env\\lib\\site-packages\\google\\protobuf\\internal\\python_message.py\u001b[0m in \u001b[0;36mfield_setter\u001b[1;34m(self, new_value)\u001b[0m\n\u001b[0;32m    713\u001b[0m       \u001b[0mnew_value\u001b[0m \u001b[1;33m=\u001b[0m \u001b[0mtype_checker\u001b[0m\u001b[1;33m.\u001b[0m\u001b[0mCheckValue\u001b[0m\u001b[1;33m(\u001b[0m\u001b[0mnew_value\u001b[0m\u001b[1;33m)\u001b[0m\u001b[1;33m\u001b[0m\u001b[1;33m\u001b[0m\u001b[0m\n\u001b[0;32m    714\u001b[0m     \u001b[1;32mexcept\u001b[0m \u001b[0mTypeError\u001b[0m \u001b[1;32mas\u001b[0m \u001b[0me\u001b[0m\u001b[1;33m:\u001b[0m\u001b[1;33m\u001b[0m\u001b[1;33m\u001b[0m\u001b[0m\n\u001b[1;32m--> 715\u001b[1;33m       raise TypeError(\n\u001b[0m\u001b[0;32m    716\u001b[0m           'Cannot set %s to %.1024r: %s' % (field.full_name, new_value, e))\n\u001b[0;32m    717\u001b[0m     \u001b[1;32mif\u001b[0m \u001b[0mclear_when_set_to_default\u001b[0m \u001b[1;32mand\u001b[0m \u001b[1;32mnot\u001b[0m \u001b[0mnew_value\u001b[0m\u001b[1;33m:\u001b[0m\u001b[1;33m\u001b[0m\u001b[1;33m\u001b[0m\u001b[0m\n",
      "\u001b[1;31mTypeError\u001b[0m: Cannot set object_detection.protos.InputReader.label_map_path to ['C:\\\\Tensorflow2\\\\workspace\\\\training_demo\\\\annotations\\\\label_map1.pbtxt']: ['C:\\\\Tensorflow2\\\\workspace\\\\training_demo\\\\annotations\\\\label_map1.pbtxt'] has type <class 'list'>, but expected one of: (<class 'bytes'>, <class 'str'>)"
     ]
    }
   ],
   "source": [
    "pipeline_config.model.faster_rcnn.num_classes = 10\n",
    "pipeline_config.train_config.batch_size = 1\n",
    "pipeline_config.train_config.fine_tune_checkpoint = os.path.join(root_path,'pretrained-models', PRETRAINED_MODEL_NAME, 'checkpoint', 'ckpt-0')\n",
    "pipeline_config.train_config.fine_tune_checkpoint_type = \"detection\" \n",
    "pipeline_config.train_input_reader.label_map_path = [os.path.join(root_path,'annotations', 'label_map1.pbtxt')]\n",
    "pipeline_config.train_input_reader.tf_record_input_reader.input_path[:] = [os.path.join(root_path,'annotations', 'train.record')]\n",
    "pipeline_config.eval_input_reader[0].label_map_path = [os.path.join(root_path,'annotations', 'label_map1.pbtxt')]\n",
    "pipeline_config.eval_input_reader[0].tf_record_input_reader.input_path[:] = [os.path.join(root_path,'annotations', 'test.record')]\n",
    "#pipeline_config.train_config.data_augmentation_options ="
   ]
  },
  {
   "cell_type": "code",
   "execution_count": 28,
   "metadata": {},
   "outputs": [],
   "source": [
    "config_text = text_format.MessageToString(pipeline_config)                                                                                                                                                                                                        \n",
    "with tf.io.gfile.GFile(config_path, \"wb\") as f:                                                                                                                                                                                                                     \n",
    "    f.write(config_text)"
   ]
  },
  {
   "cell_type": "markdown",
   "metadata": {},
   "source": [
    "# 5. Das Training\n",
    "individuell angepasst werden kann Zeile 11 \n",
    "Zeile 20  num_train_steps  ist anzupassen, wenn nach bestimmten Schritte eine evaluierung (Schritt 4a) durchgeführt werden soll.\n",
    "\n",
    "vorher muss ein pretrained Model von https://github.com/tensorflow/models/blob/master/research/object_detection/g3doc/tf2_detection_zoo.md runtergelade und in C:/Tensorflow2/workspace/training_demo/prtrained_Models  gespeichert werden.\n",
    "In diesem Bsp. faster_rcnn_resnet50_v1_1024x1024_coco17_tpu-8   genutzt.\n",
    "\n",
    "Von da die entsprechende config -Datei  nehmen und in C:/Tensorflow2/workspace/training_demo/models/my_model...   speichern\n",
    "in der verschobenen config-Datei müssen die Zeilen \n",
    "110 - fine_tune_checkpoint: \"PATH_TO_BE_CONFIGURED\"\n",
    "143 - label_map_path: \"PATH_TO_BE_CONFIGURED/label_map.txt\"\n",
    "145 - input_path: \"PATH_TO_BE_CONFIGURED/train2017-?????-of-00256.tfrecord\"\n",
    "156 - label_map_path: \"PATH_TO_BE_CONFIGURED/label_map.txt\"\n",
    "160 - input_path: \"PATH_TO_BE_CONFIGURED/val2017-?????-of-00032.tfrecord\"\n",
    "angepast werden.\n",
    "\n"
   ]
  },
  {
   "cell_type": "code",
   "execution_count": 57,
   "metadata": {
    "scrolled": true
   },
   "outputs": [
    {
     "name": "stdout",
     "output_type": "stream",
     "text": [
      "INFO:tensorflow:Using MirroredStrategy with devices ('/job:localhost/replica:0/task:0/device:GPU:0',)\n"
     ]
    },
    {
     "name": "stderr",
     "output_type": "stream",
     "text": [
      "[06/07 08:07:08] tensorflow INFO: Using MirroredStrategy with devices ('/job:localhost/replica:0/task:0/device:GPU:0',)\n"
     ]
    },
    {
     "name": "stdout",
     "output_type": "stream",
     "text": [
      "INFO:tensorflow:Maybe overwriting train_steps: 300000\n"
     ]
    },
    {
     "name": "stderr",
     "output_type": "stream",
     "text": [
      "[06/07 08:07:08] tensorflow INFO: Maybe overwriting train_steps: 300000\n"
     ]
    },
    {
     "name": "stdout",
     "output_type": "stream",
     "text": [
      "INFO:tensorflow:Maybe overwriting use_bfloat16: False\n"
     ]
    },
    {
     "name": "stderr",
     "output_type": "stream",
     "text": [
      "[06/07 08:07:08] tensorflow INFO: Maybe overwriting use_bfloat16: False\n"
     ]
    },
    {
     "name": "stdout",
     "output_type": "stream",
     "text": [
      "INFO:tensorflow:Reading unweighted datasets: ['C:/Tensorflow2/workspace/training_demo/annotations/train.record']\n"
     ]
    },
    {
     "name": "stderr",
     "output_type": "stream",
     "text": [
      "[06/07 08:07:08] tensorflow INFO: Reading unweighted datasets: ['C:/Tensorflow2/workspace/training_demo/annotations/train.record']\n"
     ]
    },
    {
     "name": "stdout",
     "output_type": "stream",
     "text": [
      "INFO:tensorflow:Reading record datasets for input file: ['C:/Tensorflow2/workspace/training_demo/annotations/train.record']\n"
     ]
    },
    {
     "name": "stderr",
     "output_type": "stream",
     "text": [
      "[06/07 08:07:08] tensorflow INFO: Reading record datasets for input file: ['C:/Tensorflow2/workspace/training_demo/annotations/train.record']\n"
     ]
    },
    {
     "name": "stdout",
     "output_type": "stream",
     "text": [
      "INFO:tensorflow:Number of filenames to read: 1\n"
     ]
    },
    {
     "name": "stderr",
     "output_type": "stream",
     "text": [
      "[06/07 08:07:08] tensorflow INFO: Number of filenames to read: 1\n"
     ]
    },
    {
     "name": "stdout",
     "output_type": "stream",
     "text": [
      "WARNING:tensorflow:num_readers has been reduced to 1 to match input file shards.\n"
     ]
    },
    {
     "name": "stderr",
     "output_type": "stream",
     "text": [
      "[06/07 08:07:08] tensorflow WARNING: num_readers has been reduced to 1 to match input file shards.\n"
     ]
    },
    {
     "name": "stdout",
     "output_type": "stream",
     "text": [
      "INFO:tensorflow:depth of additional conv before box predictor: 0\n"
     ]
    },
    {
     "name": "stderr",
     "output_type": "stream",
     "text": [
      "[06/07 08:07:15] tensorflow INFO: depth of additional conv before box predictor: 0\n"
     ]
    },
    {
     "name": "stdout",
     "output_type": "stream",
     "text": [
      "WARNING:tensorflow:Unresolved object in checkpoint: (root).model._groundtruth_lists\n"
     ]
    },
    {
     "name": "stderr",
     "output_type": "stream",
     "text": [
      "[06/07 08:07:31] tensorflow WARNING: Unresolved object in checkpoint: (root).model._groundtruth_lists\n"
     ]
    },
    {
     "name": "stdout",
     "output_type": "stream",
     "text": [
      "WARNING:tensorflow:Unresolved object in checkpoint: (root).model._first_stage_box_predictor_first_conv\n"
     ]
    },
    {
     "name": "stderr",
     "output_type": "stream",
     "text": [
      "[06/07 08:07:31] tensorflow WARNING: Unresolved object in checkpoint: (root).model._first_stage_box_predictor_first_conv\n"
     ]
    },
    {
     "name": "stdout",
     "output_type": "stream",
     "text": [
      "WARNING:tensorflow:Unresolved object in checkpoint: (root).model._first_stage_box_predictor\n"
     ]
    },
    {
     "name": "stderr",
     "output_type": "stream",
     "text": [
      "[06/07 08:07:31] tensorflow WARNING: Unresolved object in checkpoint: (root).model._first_stage_box_predictor\n"
     ]
    },
    {
     "name": "stdout",
     "output_type": "stream",
     "text": [
      "WARNING:tensorflow:Unresolved object in checkpoint: (root).model._maxpool_layer\n"
     ]
    },
    {
     "name": "stderr",
     "output_type": "stream",
     "text": [
      "[06/07 08:07:31] tensorflow WARNING: Unresolved object in checkpoint: (root).model._maxpool_layer\n"
     ]
    },
    {
     "name": "stdout",
     "output_type": "stream",
     "text": [
      "WARNING:tensorflow:Unresolved object in checkpoint: (root).model._mask_rcnn_box_predictor\n"
     ]
    },
    {
     "name": "stderr",
     "output_type": "stream",
     "text": [
      "[06/07 08:07:31] tensorflow WARNING: Unresolved object in checkpoint: (root).model._mask_rcnn_box_predictor\n"
     ]
    },
    {
     "name": "stdout",
     "output_type": "stream",
     "text": [
      "WARNING:tensorflow:Unresolved object in checkpoint: (root).model._batched_prediction_tensor_names\n"
     ]
    },
    {
     "name": "stderr",
     "output_type": "stream",
     "text": [
      "[06/07 08:07:31] tensorflow WARNING: Unresolved object in checkpoint: (root).model._batched_prediction_tensor_names\n"
     ]
    },
    {
     "name": "stdout",
     "output_type": "stream",
     "text": [
      "WARNING:tensorflow:Unresolved object in checkpoint: (root).model.endpoints\n"
     ]
    },
    {
     "name": "stderr",
     "output_type": "stream",
     "text": [
      "[06/07 08:07:31] tensorflow WARNING: Unresolved object in checkpoint: (root).model.endpoints\n"
     ]
    },
    {
     "name": "stdout",
     "output_type": "stream",
     "text": [
      "WARNING:tensorflow:Unresolved object in checkpoint: (root).model._first_stage_box_predictor_first_conv.layer_with_weights-0\n"
     ]
    },
    {
     "name": "stderr",
     "output_type": "stream",
     "text": [
      "[06/07 08:07:31] tensorflow WARNING: Unresolved object in checkpoint: (root).model._first_stage_box_predictor_first_conv.layer_with_weights-0\n"
     ]
    },
    {
     "name": "stdout",
     "output_type": "stream",
     "text": [
      "WARNING:tensorflow:Unresolved object in checkpoint: (root).model._first_stage_box_predictor_first_conv.layer-1\n"
     ]
    },
    {
     "name": "stderr",
     "output_type": "stream",
     "text": [
      "[06/07 08:07:31] tensorflow WARNING: Unresolved object in checkpoint: (root).model._first_stage_box_predictor_first_conv.layer-1\n"
     ]
    },
    {
     "name": "stdout",
     "output_type": "stream",
     "text": [
      "WARNING:tensorflow:Unresolved object in checkpoint: (root).model._first_stage_box_predictor_first_conv.layer-2\n"
     ]
    },
    {
     "name": "stderr",
     "output_type": "stream",
     "text": [
      "[06/07 08:07:31] tensorflow WARNING: Unresolved object in checkpoint: (root).model._first_stage_box_predictor_first_conv.layer-2\n"
     ]
    },
    {
     "name": "stdout",
     "output_type": "stream",
     "text": [
      "WARNING:tensorflow:Unresolved object in checkpoint: (root).model._first_stage_box_predictor._prediction_heads\n"
     ]
    },
    {
     "name": "stderr",
     "output_type": "stream",
     "text": [
      "[06/07 08:07:31] tensorflow WARNING: Unresolved object in checkpoint: (root).model._first_stage_box_predictor._prediction_heads\n"
     ]
    },
    {
     "name": "stdout",
     "output_type": "stream",
     "text": [
      "WARNING:tensorflow:Unresolved object in checkpoint: (root).model._first_stage_box_predictor._sorted_head_names\n"
     ]
    },
    {
     "name": "stderr",
     "output_type": "stream",
     "text": [
      "[06/07 08:07:31] tensorflow WARNING: Unresolved object in checkpoint: (root).model._first_stage_box_predictor._sorted_head_names\n"
     ]
    },
    {
     "name": "stdout",
     "output_type": "stream",
     "text": [
      "WARNING:tensorflow:Unresolved object in checkpoint: (root).model._first_stage_box_predictor._shared_nets\n"
     ]
    },
    {
     "name": "stderr",
     "output_type": "stream",
     "text": [
      "[06/07 08:07:31] tensorflow WARNING: Unresolved object in checkpoint: (root).model._first_stage_box_predictor._shared_nets\n"
     ]
    },
    {
     "name": "stdout",
     "output_type": "stream",
     "text": [
      "WARNING:tensorflow:Unresolved object in checkpoint: (root).model._mask_rcnn_box_predictor._box_prediction_head\n"
     ]
    },
    {
     "name": "stderr",
     "output_type": "stream",
     "text": [
      "[06/07 08:07:31] tensorflow WARNING: Unresolved object in checkpoint: (root).model._mask_rcnn_box_predictor._box_prediction_head\n"
     ]
    },
    {
     "name": "stdout",
     "output_type": "stream",
     "text": [
      "WARNING:tensorflow:Unresolved object in checkpoint: (root).model._mask_rcnn_box_predictor._class_prediction_head\n"
     ]
    },
    {
     "name": "stderr",
     "output_type": "stream",
     "text": [
      "[06/07 08:07:31] tensorflow WARNING: Unresolved object in checkpoint: (root).model._mask_rcnn_box_predictor._class_prediction_head\n"
     ]
    },
    {
     "name": "stdout",
     "output_type": "stream",
     "text": [
      "WARNING:tensorflow:Unresolved object in checkpoint: (root).model._mask_rcnn_box_predictor._third_stage_heads\n"
     ]
    },
    {
     "name": "stderr",
     "output_type": "stream",
     "text": [
      "[06/07 08:07:31] tensorflow WARNING: Unresolved object in checkpoint: (root).model._mask_rcnn_box_predictor._third_stage_heads\n"
     ]
    },
    {
     "name": "stdout",
     "output_type": "stream",
     "text": [
      "WARNING:tensorflow:Unresolved object in checkpoint: (root).model._first_stage_box_predictor_first_conv.layer_with_weights-0._inbound_nodes\n"
     ]
    },
    {
     "name": "stderr",
     "output_type": "stream",
     "text": [
      "[06/07 08:07:31] tensorflow WARNING: Unresolved object in checkpoint: (root).model._first_stage_box_predictor_first_conv.layer_with_weights-0._inbound_nodes\n"
     ]
    },
    {
     "name": "stdout",
     "output_type": "stream",
     "text": [
      "WARNING:tensorflow:Unresolved object in checkpoint: (root).model._first_stage_box_predictor_first_conv.layer_with_weights-0.kernel\n"
     ]
    },
    {
     "name": "stderr",
     "output_type": "stream",
     "text": [
      "[06/07 08:07:31] tensorflow WARNING: Unresolved object in checkpoint: (root).model._first_stage_box_predictor_first_conv.layer_with_weights-0.kernel\n"
     ]
    },
    {
     "name": "stdout",
     "output_type": "stream",
     "text": [
      "WARNING:tensorflow:Unresolved object in checkpoint: (root).model._first_stage_box_predictor_first_conv.layer_with_weights-0.bias\n"
     ]
    },
    {
     "name": "stderr",
     "output_type": "stream",
     "text": [
      "[06/07 08:07:31] tensorflow WARNING: Unresolved object in checkpoint: (root).model._first_stage_box_predictor_first_conv.layer_with_weights-0.bias\n"
     ]
    },
    {
     "name": "stdout",
     "output_type": "stream",
     "text": [
      "WARNING:tensorflow:Unresolved object in checkpoint: (root).model._first_stage_box_predictor_first_conv.layer-1._inbound_nodes\n"
     ]
    },
    {
     "name": "stderr",
     "output_type": "stream",
     "text": [
      "[06/07 08:07:31] tensorflow WARNING: Unresolved object in checkpoint: (root).model._first_stage_box_predictor_first_conv.layer-1._inbound_nodes\n"
     ]
    },
    {
     "name": "stdout",
     "output_type": "stream",
     "text": [
      "WARNING:tensorflow:Unresolved object in checkpoint: (root).model._first_stage_box_predictor_first_conv.layer-2._inbound_nodes\n"
     ]
    },
    {
     "name": "stderr",
     "output_type": "stream",
     "text": [
      "[06/07 08:07:31] tensorflow WARNING: Unresolved object in checkpoint: (root).model._first_stage_box_predictor_first_conv.layer-2._inbound_nodes\n"
     ]
    },
    {
     "name": "stdout",
     "output_type": "stream",
     "text": [
      "WARNING:tensorflow:Unresolved object in checkpoint: (root).model._first_stage_box_predictor._prediction_heads.box_encodings\n"
     ]
    },
    {
     "name": "stderr",
     "output_type": "stream",
     "text": [
      "[06/07 08:07:31] tensorflow WARNING: Unresolved object in checkpoint: (root).model._first_stage_box_predictor._prediction_heads.box_encodings\n"
     ]
    },
    {
     "name": "stdout",
     "output_type": "stream",
     "text": [
      "WARNING:tensorflow:Unresolved object in checkpoint: (root).model._first_stage_box_predictor._prediction_heads.class_predictions_with_background\n"
     ]
    },
    {
     "name": "stderr",
     "output_type": "stream",
     "text": [
      "[06/07 08:07:31] tensorflow WARNING: Unresolved object in checkpoint: (root).model._first_stage_box_predictor._prediction_heads.class_predictions_with_background\n"
     ]
    },
    {
     "name": "stdout",
     "output_type": "stream",
     "text": [
      "WARNING:tensorflow:Unresolved object in checkpoint: (root).model._first_stage_box_predictor._shared_nets.0\n"
     ]
    },
    {
     "name": "stderr",
     "output_type": "stream",
     "text": [
      "[06/07 08:07:31] tensorflow WARNING: Unresolved object in checkpoint: (root).model._first_stage_box_predictor._shared_nets.0\n"
     ]
    },
    {
     "name": "stdout",
     "output_type": "stream",
     "text": [
      "WARNING:tensorflow:Unresolved object in checkpoint: (root).model._mask_rcnn_box_predictor._box_prediction_head._box_encoder_layers\n"
     ]
    },
    {
     "name": "stderr",
     "output_type": "stream",
     "text": [
      "[06/07 08:07:31] tensorflow WARNING: Unresolved object in checkpoint: (root).model._mask_rcnn_box_predictor._box_prediction_head._box_encoder_layers\n"
     ]
    },
    {
     "name": "stdout",
     "output_type": "stream",
     "text": [
      "WARNING:tensorflow:Unresolved object in checkpoint: (root).model._mask_rcnn_box_predictor._class_prediction_head._class_predictor_layers\n"
     ]
    },
    {
     "name": "stderr",
     "output_type": "stream",
     "text": [
      "[06/07 08:07:31] tensorflow WARNING: Unresolved object in checkpoint: (root).model._mask_rcnn_box_predictor._class_prediction_head._class_predictor_layers\n"
     ]
    },
    {
     "name": "stdout",
     "output_type": "stream",
     "text": [
      "WARNING:tensorflow:Unresolved object in checkpoint: (root).model._first_stage_box_predictor._prediction_heads.box_encodings.0\n"
     ]
    },
    {
     "name": "stderr",
     "output_type": "stream",
     "text": [
      "[06/07 08:07:31] tensorflow WARNING: Unresolved object in checkpoint: (root).model._first_stage_box_predictor._prediction_heads.box_encodings.0\n"
     ]
    },
    {
     "name": "stdout",
     "output_type": "stream",
     "text": [
      "WARNING:tensorflow:Unresolved object in checkpoint: (root).model._first_stage_box_predictor._prediction_heads.class_predictions_with_background.0\n"
     ]
    },
    {
     "name": "stderr",
     "output_type": "stream",
     "text": [
      "[06/07 08:07:31] tensorflow WARNING: Unresolved object in checkpoint: (root).model._first_stage_box_predictor._prediction_heads.class_predictions_with_background.0\n"
     ]
    },
    {
     "name": "stdout",
     "output_type": "stream",
     "text": [
      "WARNING:tensorflow:Unresolved object in checkpoint: (root).model._mask_rcnn_box_predictor._box_prediction_head._box_encoder_layers.0\n"
     ]
    },
    {
     "name": "stderr",
     "output_type": "stream",
     "text": [
      "[06/07 08:07:31] tensorflow WARNING: Unresolved object in checkpoint: (root).model._mask_rcnn_box_predictor._box_prediction_head._box_encoder_layers.0\n"
     ]
    },
    {
     "name": "stdout",
     "output_type": "stream",
     "text": [
      "WARNING:tensorflow:Unresolved object in checkpoint: (root).model._mask_rcnn_box_predictor._box_prediction_head._box_encoder_layers.1\n"
     ]
    },
    {
     "name": "stderr",
     "output_type": "stream",
     "text": [
      "[06/07 08:07:31] tensorflow WARNING: Unresolved object in checkpoint: (root).model._mask_rcnn_box_predictor._box_prediction_head._box_encoder_layers.1\n"
     ]
    },
    {
     "name": "stdout",
     "output_type": "stream",
     "text": [
      "WARNING:tensorflow:Unresolved object in checkpoint: (root).model._mask_rcnn_box_predictor._box_prediction_head._box_encoder_layers.2\n"
     ]
    },
    {
     "name": "stderr",
     "output_type": "stream",
     "text": [
      "[06/07 08:07:31] tensorflow WARNING: Unresolved object in checkpoint: (root).model._mask_rcnn_box_predictor._box_prediction_head._box_encoder_layers.2\n"
     ]
    },
    {
     "name": "stdout",
     "output_type": "stream",
     "text": [
      "WARNING:tensorflow:Unresolved object in checkpoint: (root).model._mask_rcnn_box_predictor._class_prediction_head._class_predictor_layers.0\n"
     ]
    },
    {
     "name": "stderr",
     "output_type": "stream",
     "text": [
      "[06/07 08:07:31] tensorflow WARNING: Unresolved object in checkpoint: (root).model._mask_rcnn_box_predictor._class_prediction_head._class_predictor_layers.0\n"
     ]
    },
    {
     "name": "stdout",
     "output_type": "stream",
     "text": [
      "WARNING:tensorflow:Unresolved object in checkpoint: (root).model._mask_rcnn_box_predictor._class_prediction_head._class_predictor_layers.1\n"
     ]
    },
    {
     "name": "stderr",
     "output_type": "stream",
     "text": [
      "[06/07 08:07:31] tensorflow WARNING: Unresolved object in checkpoint: (root).model._mask_rcnn_box_predictor._class_prediction_head._class_predictor_layers.1\n"
     ]
    },
    {
     "name": "stdout",
     "output_type": "stream",
     "text": [
      "WARNING:tensorflow:Unresolved object in checkpoint: (root).model._mask_rcnn_box_predictor._class_prediction_head._class_predictor_layers.2\n"
     ]
    },
    {
     "name": "stderr",
     "output_type": "stream",
     "text": [
      "[06/07 08:07:31] tensorflow WARNING: Unresolved object in checkpoint: (root).model._mask_rcnn_box_predictor._class_prediction_head._class_predictor_layers.2\n"
     ]
    },
    {
     "name": "stdout",
     "output_type": "stream",
     "text": [
      "WARNING:tensorflow:Unresolved object in checkpoint: (root).model._first_stage_box_predictor._prediction_heads.box_encodings.0._box_encoder_layers\n"
     ]
    },
    {
     "name": "stderr",
     "output_type": "stream",
     "text": [
      "[06/07 08:07:31] tensorflow WARNING: Unresolved object in checkpoint: (root).model._first_stage_box_predictor._prediction_heads.box_encodings.0._box_encoder_layers\n"
     ]
    },
    {
     "name": "stdout",
     "output_type": "stream",
     "text": [
      "WARNING:tensorflow:Unresolved object in checkpoint: (root).model._first_stage_box_predictor._prediction_heads.class_predictions_with_background.0._class_predictor_layers\n"
     ]
    },
    {
     "name": "stderr",
     "output_type": "stream",
     "text": [
      "[06/07 08:07:31] tensorflow WARNING: Unresolved object in checkpoint: (root).model._first_stage_box_predictor._prediction_heads.class_predictions_with_background.0._class_predictor_layers\n"
     ]
    },
    {
     "name": "stdout",
     "output_type": "stream",
     "text": [
      "WARNING:tensorflow:Unresolved object in checkpoint: (root).model._mask_rcnn_box_predictor._box_prediction_head._box_encoder_layers.1.kernel\n"
     ]
    },
    {
     "name": "stderr",
     "output_type": "stream",
     "text": [
      "[06/07 08:07:31] tensorflow WARNING: Unresolved object in checkpoint: (root).model._mask_rcnn_box_predictor._box_prediction_head._box_encoder_layers.1.kernel\n"
     ]
    },
    {
     "name": "stdout",
     "output_type": "stream",
     "text": [
      "WARNING:tensorflow:Unresolved object in checkpoint: (root).model._mask_rcnn_box_predictor._box_prediction_head._box_encoder_layers.1.bias\n"
     ]
    },
    {
     "name": "stderr",
     "output_type": "stream",
     "text": [
      "[06/07 08:07:31] tensorflow WARNING: Unresolved object in checkpoint: (root).model._mask_rcnn_box_predictor._box_prediction_head._box_encoder_layers.1.bias\n"
     ]
    },
    {
     "name": "stdout",
     "output_type": "stream",
     "text": [
      "WARNING:tensorflow:Unresolved object in checkpoint: (root).model._mask_rcnn_box_predictor._class_prediction_head._class_predictor_layers.1.kernel\n"
     ]
    },
    {
     "name": "stderr",
     "output_type": "stream",
     "text": [
      "[06/07 08:07:31] tensorflow WARNING: Unresolved object in checkpoint: (root).model._mask_rcnn_box_predictor._class_prediction_head._class_predictor_layers.1.kernel\n"
     ]
    },
    {
     "name": "stdout",
     "output_type": "stream",
     "text": [
      "WARNING:tensorflow:Unresolved object in checkpoint: (root).model._mask_rcnn_box_predictor._class_prediction_head._class_predictor_layers.1.bias\n"
     ]
    },
    {
     "name": "stderr",
     "output_type": "stream",
     "text": [
      "[06/07 08:07:31] tensorflow WARNING: Unresolved object in checkpoint: (root).model._mask_rcnn_box_predictor._class_prediction_head._class_predictor_layers.1.bias\n"
     ]
    },
    {
     "name": "stdout",
     "output_type": "stream",
     "text": [
      "WARNING:tensorflow:Unresolved object in checkpoint: (root).model._first_stage_box_predictor._prediction_heads.box_encodings.0._box_encoder_layers.0\n"
     ]
    },
    {
     "name": "stderr",
     "output_type": "stream",
     "text": [
      "[06/07 08:07:31] tensorflow WARNING: Unresolved object in checkpoint: (root).model._first_stage_box_predictor._prediction_heads.box_encodings.0._box_encoder_layers.0\n"
     ]
    },
    {
     "name": "stdout",
     "output_type": "stream",
     "text": [
      "WARNING:tensorflow:Unresolved object in checkpoint: (root).model._first_stage_box_predictor._prediction_heads.class_predictions_with_background.0._class_predictor_layers.0\n"
     ]
    },
    {
     "name": "stderr",
     "output_type": "stream",
     "text": [
      "[06/07 08:07:31] tensorflow WARNING: Unresolved object in checkpoint: (root).model._first_stage_box_predictor._prediction_heads.class_predictions_with_background.0._class_predictor_layers.0\n"
     ]
    },
    {
     "name": "stdout",
     "output_type": "stream",
     "text": [
      "WARNING:tensorflow:Unresolved object in checkpoint: (root).model._first_stage_box_predictor._prediction_heads.box_encodings.0._box_encoder_layers.0.kernel\n"
     ]
    },
    {
     "name": "stderr",
     "output_type": "stream",
     "text": [
      "[06/07 08:07:31] tensorflow WARNING: Unresolved object in checkpoint: (root).model._first_stage_box_predictor._prediction_heads.box_encodings.0._box_encoder_layers.0.kernel\n"
     ]
    },
    {
     "name": "stdout",
     "output_type": "stream",
     "text": [
      "WARNING:tensorflow:Unresolved object in checkpoint: (root).model._first_stage_box_predictor._prediction_heads.box_encodings.0._box_encoder_layers.0.bias\n"
     ]
    },
    {
     "name": "stderr",
     "output_type": "stream",
     "text": [
      "[06/07 08:07:31] tensorflow WARNING: Unresolved object in checkpoint: (root).model._first_stage_box_predictor._prediction_heads.box_encodings.0._box_encoder_layers.0.bias\n"
     ]
    },
    {
     "name": "stdout",
     "output_type": "stream",
     "text": [
      "WARNING:tensorflow:Unresolved object in checkpoint: (root).model._first_stage_box_predictor._prediction_heads.class_predictions_with_background.0._class_predictor_layers.0.kernel\n"
     ]
    },
    {
     "name": "stderr",
     "output_type": "stream",
     "text": [
      "[06/07 08:07:31] tensorflow WARNING: Unresolved object in checkpoint: (root).model._first_stage_box_predictor._prediction_heads.class_predictions_with_background.0._class_predictor_layers.0.kernel\n"
     ]
    },
    {
     "name": "stdout",
     "output_type": "stream",
     "text": [
      "WARNING:tensorflow:Unresolved object in checkpoint: (root).model._first_stage_box_predictor._prediction_heads.class_predictions_with_background.0._class_predictor_layers.0.bias\n"
     ]
    },
    {
     "name": "stderr",
     "output_type": "stream",
     "text": [
      "[06/07 08:07:31] tensorflow WARNING: Unresolved object in checkpoint: (root).model._first_stage_box_predictor._prediction_heads.class_predictions_with_background.0._class_predictor_layers.0.bias\n"
     ]
    },
    {
     "name": "stdout",
     "output_type": "stream",
     "text": [
      "WARNING:tensorflow:A checkpoint was restored (e.g. tf.train.Checkpoint.restore or tf.keras.Model.load_weights) but not all checkpointed values were used. See above for specific issues. Use expect_partial() on the load status object, e.g. tf.train.Checkpoint.restore(...).expect_partial(), to silence these warnings, or use assert_consumed() to make the check explicit. See https://www.tensorflow.org/guide/checkpoint#loading_mechanics for details.\n"
     ]
    },
    {
     "name": "stderr",
     "output_type": "stream",
     "text": [
      "[06/07 08:07:31] tensorflow WARNING: A checkpoint was restored (e.g. tf.train.Checkpoint.restore or tf.keras.Model.load_weights) but not all checkpointed values were used. See above for specific issues. Use expect_partial() on the load status object, e.g. tf.train.Checkpoint.restore(...).expect_partial(), to silence these warnings, or use assert_consumed() to make the check explicit. See https://www.tensorflow.org/guide/checkpoint#loading_mechanics for details.\n"
     ]
    },
    {
     "name": "stdout",
     "output_type": "stream",
     "text": [
      "INFO:tensorflow:Step 250100 per-step time 1.169s loss=0.094\n"
     ]
    },
    {
     "name": "stderr",
     "output_type": "stream",
     "text": [
      "[06/07 08:09:32] tensorflow INFO: Step 250100 per-step time 1.169s loss=0.094\n"
     ]
    },
    {
     "name": "stdout",
     "output_type": "stream",
     "text": [
      "INFO:tensorflow:Step 250200 per-step time 0.614s loss=0.266\n"
     ]
    },
    {
     "name": "stderr",
     "output_type": "stream",
     "text": [
      "[06/07 08:10:33] tensorflow INFO: Step 250200 per-step time 0.614s loss=0.266\n"
     ]
    },
    {
     "name": "stdout",
     "output_type": "stream",
     "text": [
      "INFO:tensorflow:Step 250300 per-step time 0.612s loss=0.053\n"
     ]
    },
    {
     "name": "stderr",
     "output_type": "stream",
     "text": [
      "[06/07 08:11:35] tensorflow INFO: Step 250300 per-step time 0.612s loss=0.053\n"
     ]
    },
    {
     "name": "stdout",
     "output_type": "stream",
     "text": [
      "INFO:tensorflow:Step 250400 per-step time 0.614s loss=0.028\n"
     ]
    },
    {
     "name": "stderr",
     "output_type": "stream",
     "text": [
      "[06/07 08:12:36] tensorflow INFO: Step 250400 per-step time 0.614s loss=0.028\n"
     ]
    },
    {
     "name": "stdout",
     "output_type": "stream",
     "text": [
      "INFO:tensorflow:Step 250500 per-step time 0.613s loss=0.139\n"
     ]
    },
    {
     "name": "stderr",
     "output_type": "stream",
     "text": [
      "[06/07 08:13:37] tensorflow INFO: Step 250500 per-step time 0.613s loss=0.139\n"
     ]
    },
    {
     "name": "stdout",
     "output_type": "stream",
     "text": [
      "INFO:tensorflow:Step 250600 per-step time 0.615s loss=0.052\n"
     ]
    },
    {
     "name": "stderr",
     "output_type": "stream",
     "text": [
      "[06/07 08:14:39] tensorflow INFO: Step 250600 per-step time 0.615s loss=0.052\n"
     ]
    },
    {
     "name": "stdout",
     "output_type": "stream",
     "text": [
      "INFO:tensorflow:Step 250700 per-step time 0.614s loss=0.079\n"
     ]
    },
    {
     "name": "stderr",
     "output_type": "stream",
     "text": [
      "[06/07 08:15:40] tensorflow INFO: Step 250700 per-step time 0.614s loss=0.079\n"
     ]
    },
    {
     "name": "stdout",
     "output_type": "stream",
     "text": [
      "INFO:tensorflow:Step 250800 per-step time 0.616s loss=0.006\n"
     ]
    },
    {
     "name": "stderr",
     "output_type": "stream",
     "text": [
      "[06/07 08:16:42] tensorflow INFO: Step 250800 per-step time 0.616s loss=0.006\n"
     ]
    },
    {
     "name": "stdout",
     "output_type": "stream",
     "text": [
      "INFO:tensorflow:Step 250900 per-step time 0.616s loss=0.097\n"
     ]
    },
    {
     "name": "stderr",
     "output_type": "stream",
     "text": [
      "[06/07 08:17:43] tensorflow INFO: Step 250900 per-step time 0.616s loss=0.097\n"
     ]
    },
    {
     "name": "stdout",
     "output_type": "stream",
     "text": [
      "INFO:tensorflow:Step 251000 per-step time 0.615s loss=0.011\n"
     ]
    },
    {
     "name": "stderr",
     "output_type": "stream",
     "text": [
      "[06/07 08:18:45] tensorflow INFO: Step 251000 per-step time 0.615s loss=0.011\n"
     ]
    },
    {
     "name": "stdout",
     "output_type": "stream",
     "text": [
      "INFO:tensorflow:Step 251100 per-step time 0.627s loss=0.134\n"
     ]
    },
    {
     "name": "stderr",
     "output_type": "stream",
     "text": [
      "[06/07 08:19:48] tensorflow INFO: Step 251100 per-step time 0.627s loss=0.134\n"
     ]
    },
    {
     "name": "stdout",
     "output_type": "stream",
     "text": [
      "INFO:tensorflow:Step 251200 per-step time 0.613s loss=0.007\n"
     ]
    },
    {
     "name": "stderr",
     "output_type": "stream",
     "text": [
      "[06/07 08:20:49] tensorflow INFO: Step 251200 per-step time 0.613s loss=0.007\n"
     ]
    },
    {
     "name": "stdout",
     "output_type": "stream",
     "text": [
      "INFO:tensorflow:Step 251300 per-step time 0.614s loss=0.034\n"
     ]
    },
    {
     "name": "stderr",
     "output_type": "stream",
     "text": [
      "[06/07 08:21:50] tensorflow INFO: Step 251300 per-step time 0.614s loss=0.034\n"
     ]
    },
    {
     "name": "stdout",
     "output_type": "stream",
     "text": [
      "INFO:tensorflow:Step 251400 per-step time 0.615s loss=0.102\n"
     ]
    },
    {
     "name": "stderr",
     "output_type": "stream",
     "text": [
      "[06/07 08:22:52] tensorflow INFO: Step 251400 per-step time 0.615s loss=0.102\n"
     ]
    },
    {
     "name": "stdout",
     "output_type": "stream",
     "text": [
      "INFO:tensorflow:Step 251500 per-step time 0.613s loss=0.051\n"
     ]
    },
    {
     "name": "stderr",
     "output_type": "stream",
     "text": [
      "[06/07 08:23:53] tensorflow INFO: Step 251500 per-step time 0.613s loss=0.051\n"
     ]
    },
    {
     "name": "stdout",
     "output_type": "stream",
     "text": [
      "INFO:tensorflow:Step 251600 per-step time 0.614s loss=0.060\n"
     ]
    },
    {
     "name": "stderr",
     "output_type": "stream",
     "text": [
      "[06/07 08:24:55] tensorflow INFO: Step 251600 per-step time 0.614s loss=0.060\n"
     ]
    },
    {
     "name": "stdout",
     "output_type": "stream",
     "text": [
      "INFO:tensorflow:Step 251700 per-step time 0.614s loss=0.046\n"
     ]
    },
    {
     "name": "stderr",
     "output_type": "stream",
     "text": [
      "[06/07 08:25:56] tensorflow INFO: Step 251700 per-step time 0.614s loss=0.046\n"
     ]
    },
    {
     "name": "stdout",
     "output_type": "stream",
     "text": [
      "INFO:tensorflow:Step 251800 per-step time 0.614s loss=0.021\n"
     ]
    },
    {
     "name": "stderr",
     "output_type": "stream",
     "text": [
      "[06/07 08:26:58] tensorflow INFO: Step 251800 per-step time 0.614s loss=0.021\n"
     ]
    },
    {
     "name": "stdout",
     "output_type": "stream",
     "text": [
      "INFO:tensorflow:Step 251900 per-step time 0.613s loss=0.126\n"
     ]
    },
    {
     "name": "stderr",
     "output_type": "stream",
     "text": [
      "[06/07 08:27:59] tensorflow INFO: Step 251900 per-step time 0.613s loss=0.126\n"
     ]
    },
    {
     "name": "stdout",
     "output_type": "stream",
     "text": [
      "INFO:tensorflow:Step 252000 per-step time 0.615s loss=0.062\n"
     ]
    },
    {
     "name": "stderr",
     "output_type": "stream",
     "text": [
      "[06/07 08:29:00] tensorflow INFO: Step 252000 per-step time 0.615s loss=0.062\n"
     ]
    },
    {
     "name": "stdout",
     "output_type": "stream",
     "text": [
      "INFO:tensorflow:Step 252100 per-step time 0.630s loss=0.101\n"
     ]
    },
    {
     "name": "stderr",
     "output_type": "stream",
     "text": [
      "[06/07 08:30:03] tensorflow INFO: Step 252100 per-step time 0.630s loss=0.101\n"
     ]
    },
    {
     "name": "stdout",
     "output_type": "stream",
     "text": [
      "INFO:tensorflow:Step 252200 per-step time 0.614s loss=0.031\n"
     ]
    },
    {
     "name": "stderr",
     "output_type": "stream",
     "text": [
      "[06/07 08:31:05] tensorflow INFO: Step 252200 per-step time 0.614s loss=0.031\n"
     ]
    },
    {
     "name": "stdout",
     "output_type": "stream",
     "text": [
      "INFO:tensorflow:Step 252300 per-step time 0.615s loss=0.113\n"
     ]
    },
    {
     "name": "stderr",
     "output_type": "stream",
     "text": [
      "[06/07 08:32:06] tensorflow INFO: Step 252300 per-step time 0.615s loss=0.113\n"
     ]
    },
    {
     "name": "stdout",
     "output_type": "stream",
     "text": [
      "INFO:tensorflow:Step 252400 per-step time 0.614s loss=0.027\n"
     ]
    },
    {
     "name": "stderr",
     "output_type": "stream",
     "text": [
      "[06/07 08:33:08] tensorflow INFO: Step 252400 per-step time 0.614s loss=0.027\n"
     ]
    },
    {
     "name": "stdout",
     "output_type": "stream",
     "text": [
      "INFO:tensorflow:Step 252500 per-step time 0.615s loss=0.123\n"
     ]
    },
    {
     "name": "stderr",
     "output_type": "stream",
     "text": [
      "[06/07 08:34:09] tensorflow INFO: Step 252500 per-step time 0.615s loss=0.123\n"
     ]
    },
    {
     "name": "stdout",
     "output_type": "stream",
     "text": [
      "INFO:tensorflow:Step 252600 per-step time 0.613s loss=0.052\n"
     ]
    },
    {
     "name": "stderr",
     "output_type": "stream",
     "text": [
      "[06/07 08:35:10] tensorflow INFO: Step 252600 per-step time 0.613s loss=0.052\n"
     ]
    },
    {
     "name": "stdout",
     "output_type": "stream",
     "text": [
      "INFO:tensorflow:Step 252700 per-step time 0.614s loss=0.074\n"
     ]
    },
    {
     "name": "stderr",
     "output_type": "stream",
     "text": [
      "[06/07 08:36:12] tensorflow INFO: Step 252700 per-step time 0.614s loss=0.074\n"
     ]
    },
    {
     "name": "stdout",
     "output_type": "stream",
     "text": [
      "INFO:tensorflow:Step 252800 per-step time 0.614s loss=0.087\n"
     ]
    },
    {
     "name": "stderr",
     "output_type": "stream",
     "text": [
      "[06/07 08:37:13] tensorflow INFO: Step 252800 per-step time 0.614s loss=0.087\n"
     ]
    },
    {
     "name": "stdout",
     "output_type": "stream",
     "text": [
      "INFO:tensorflow:Step 252900 per-step time 0.615s loss=0.110\n"
     ]
    },
    {
     "name": "stderr",
     "output_type": "stream",
     "text": [
      "[06/07 08:38:15] tensorflow INFO: Step 252900 per-step time 0.615s loss=0.110\n"
     ]
    },
    {
     "name": "stdout",
     "output_type": "stream",
     "text": [
      "INFO:tensorflow:Step 253000 per-step time 0.615s loss=0.037\n"
     ]
    },
    {
     "name": "stderr",
     "output_type": "stream",
     "text": [
      "[06/07 08:39:16] tensorflow INFO: Step 253000 per-step time 0.615s loss=0.037\n"
     ]
    },
    {
     "name": "stdout",
     "output_type": "stream",
     "text": [
      "INFO:tensorflow:Step 253100 per-step time 0.628s loss=0.071\n"
     ]
    },
    {
     "name": "stderr",
     "output_type": "stream",
     "text": [
      "[06/07 08:40:19] tensorflow INFO: Step 253100 per-step time 0.628s loss=0.071\n"
     ]
    },
    {
     "name": "stdout",
     "output_type": "stream",
     "text": [
      "INFO:tensorflow:Step 253200 per-step time 0.615s loss=0.175\n"
     ]
    },
    {
     "name": "stderr",
     "output_type": "stream",
     "text": [
      "[06/07 08:41:21] tensorflow INFO: Step 253200 per-step time 0.615s loss=0.175\n"
     ]
    },
    {
     "name": "stdout",
     "output_type": "stream",
     "text": [
      "INFO:tensorflow:Step 253300 per-step time 0.614s loss=0.009\n"
     ]
    },
    {
     "name": "stderr",
     "output_type": "stream",
     "text": [
      "[06/07 08:42:22] tensorflow INFO: Step 253300 per-step time 0.614s loss=0.009\n"
     ]
    },
    {
     "name": "stdout",
     "output_type": "stream",
     "text": [
      "INFO:tensorflow:Step 253400 per-step time 0.615s loss=0.107\n"
     ]
    },
    {
     "name": "stderr",
     "output_type": "stream",
     "text": [
      "[06/07 08:43:23] tensorflow INFO: Step 253400 per-step time 0.615s loss=0.107\n"
     ]
    },
    {
     "name": "stdout",
     "output_type": "stream",
     "text": [
      "INFO:tensorflow:Step 253500 per-step time 0.615s loss=0.012\n"
     ]
    },
    {
     "name": "stderr",
     "output_type": "stream",
     "text": [
      "[06/07 08:44:25] tensorflow INFO: Step 253500 per-step time 0.615s loss=0.012\n"
     ]
    },
    {
     "name": "stdout",
     "output_type": "stream",
     "text": [
      "INFO:tensorflow:Step 253600 per-step time 0.614s loss=0.007\n"
     ]
    },
    {
     "name": "stderr",
     "output_type": "stream",
     "text": [
      "[06/07 08:45:26] tensorflow INFO: Step 253600 per-step time 0.614s loss=0.007\n"
     ]
    },
    {
     "name": "stdout",
     "output_type": "stream",
     "text": [
      "INFO:tensorflow:Step 253700 per-step time 0.614s loss=0.027\n"
     ]
    },
    {
     "name": "stderr",
     "output_type": "stream",
     "text": [
      "[06/07 08:46:28] tensorflow INFO: Step 253700 per-step time 0.614s loss=0.027\n"
     ]
    },
    {
     "name": "stdout",
     "output_type": "stream",
     "text": [
      "INFO:tensorflow:Step 253800 per-step time 0.615s loss=0.068\n"
     ]
    },
    {
     "name": "stderr",
     "output_type": "stream",
     "text": [
      "[06/07 08:47:29] tensorflow INFO: Step 253800 per-step time 0.615s loss=0.068\n"
     ]
    },
    {
     "name": "stdout",
     "output_type": "stream",
     "text": [
      "INFO:tensorflow:Step 253900 per-step time 0.614s loss=0.066\n"
     ]
    },
    {
     "name": "stderr",
     "output_type": "stream",
     "text": [
      "[06/07 08:48:31] tensorflow INFO: Step 253900 per-step time 0.614s loss=0.066\n"
     ]
    },
    {
     "name": "stdout",
     "output_type": "stream",
     "text": [
      "INFO:tensorflow:Step 254000 per-step time 0.617s loss=0.012\n"
     ]
    },
    {
     "name": "stderr",
     "output_type": "stream",
     "text": [
      "[06/07 08:49:32] tensorflow INFO: Step 254000 per-step time 0.617s loss=0.012\n"
     ]
    },
    {
     "name": "stdout",
     "output_type": "stream",
     "text": [
      "INFO:tensorflow:Step 254100 per-step time 0.648s loss=0.015\n"
     ]
    },
    {
     "name": "stderr",
     "output_type": "stream",
     "text": [
      "[06/07 08:50:37] tensorflow INFO: Step 254100 per-step time 0.648s loss=0.015\n"
     ]
    },
    {
     "name": "stdout",
     "output_type": "stream",
     "text": [
      "INFO:tensorflow:Step 254200 per-step time 0.615s loss=0.019\n"
     ]
    },
    {
     "name": "stderr",
     "output_type": "stream",
     "text": [
      "[06/07 08:51:39] tensorflow INFO: Step 254200 per-step time 0.615s loss=0.019\n"
     ]
    },
    {
     "name": "stdout",
     "output_type": "stream",
     "text": [
      "INFO:tensorflow:Step 254300 per-step time 0.615s loss=0.091\n"
     ]
    },
    {
     "name": "stderr",
     "output_type": "stream",
     "text": [
      "[06/07 08:52:40] tensorflow INFO: Step 254300 per-step time 0.615s loss=0.091\n"
     ]
    },
    {
     "name": "stdout",
     "output_type": "stream",
     "text": [
      "INFO:tensorflow:Step 254400 per-step time 0.614s loss=0.027\n"
     ]
    },
    {
     "name": "stderr",
     "output_type": "stream",
     "text": [
      "[06/07 08:53:42] tensorflow INFO: Step 254400 per-step time 0.614s loss=0.027\n"
     ]
    },
    {
     "name": "stdout",
     "output_type": "stream",
     "text": [
      "INFO:tensorflow:Step 254500 per-step time 0.618s loss=0.088\n"
     ]
    },
    {
     "name": "stderr",
     "output_type": "stream",
     "text": [
      "[06/07 08:54:43] tensorflow INFO: Step 254500 per-step time 0.618s loss=0.088\n"
     ]
    },
    {
     "name": "stdout",
     "output_type": "stream",
     "text": [
      "INFO:tensorflow:Step 254600 per-step time 0.614s loss=0.011\n"
     ]
    },
    {
     "name": "stderr",
     "output_type": "stream",
     "text": [
      "[06/07 08:55:45] tensorflow INFO: Step 254600 per-step time 0.614s loss=0.011\n"
     ]
    },
    {
     "name": "stdout",
     "output_type": "stream",
     "text": [
      "INFO:tensorflow:Step 254700 per-step time 0.615s loss=0.013\n"
     ]
    },
    {
     "name": "stderr",
     "output_type": "stream",
     "text": [
      "[06/07 08:56:46] tensorflow INFO: Step 254700 per-step time 0.615s loss=0.013\n"
     ]
    },
    {
     "name": "stdout",
     "output_type": "stream",
     "text": [
      "INFO:tensorflow:Step 254800 per-step time 0.615s loss=0.012\n"
     ]
    },
    {
     "name": "stderr",
     "output_type": "stream",
     "text": [
      "[06/07 08:57:48] tensorflow INFO: Step 254800 per-step time 0.615s loss=0.012\n"
     ]
    },
    {
     "name": "stdout",
     "output_type": "stream",
     "text": [
      "INFO:tensorflow:Step 254900 per-step time 0.615s loss=0.045\n"
     ]
    },
    {
     "name": "stderr",
     "output_type": "stream",
     "text": [
      "[06/07 08:58:49] tensorflow INFO: Step 254900 per-step time 0.615s loss=0.045\n"
     ]
    },
    {
     "name": "stdout",
     "output_type": "stream",
     "text": [
      "INFO:tensorflow:Step 255000 per-step time 0.614s loss=0.011\n"
     ]
    },
    {
     "name": "stderr",
     "output_type": "stream",
     "text": [
      "[06/07 08:59:51] tensorflow INFO: Step 255000 per-step time 0.614s loss=0.011\n"
     ]
    },
    {
     "name": "stdout",
     "output_type": "stream",
     "text": [
      "INFO:tensorflow:Step 255100 per-step time 0.629s loss=0.030\n"
     ]
    },
    {
     "name": "stderr",
     "output_type": "stream",
     "text": [
      "[06/07 09:00:53] tensorflow INFO: Step 255100 per-step time 0.629s loss=0.030\n"
     ]
    },
    {
     "name": "stdout",
     "output_type": "stream",
     "text": [
      "INFO:tensorflow:Step 255200 per-step time 0.616s loss=0.018\n"
     ]
    },
    {
     "name": "stderr",
     "output_type": "stream",
     "text": [
      "[06/07 09:01:55] tensorflow INFO: Step 255200 per-step time 0.616s loss=0.018\n"
     ]
    },
    {
     "name": "stdout",
     "output_type": "stream",
     "text": [
      "INFO:tensorflow:Step 255300 per-step time 0.616s loss=0.008\n"
     ]
    },
    {
     "name": "stderr",
     "output_type": "stream",
     "text": [
      "[06/07 09:02:57] tensorflow INFO: Step 255300 per-step time 0.616s loss=0.008\n"
     ]
    },
    {
     "name": "stdout",
     "output_type": "stream",
     "text": [
      "INFO:tensorflow:Step 255400 per-step time 0.615s loss=0.029\n"
     ]
    },
    {
     "name": "stderr",
     "output_type": "stream",
     "text": [
      "[06/07 09:03:58] tensorflow INFO: Step 255400 per-step time 0.615s loss=0.029\n"
     ]
    },
    {
     "name": "stdout",
     "output_type": "stream",
     "text": [
      "INFO:tensorflow:Step 255500 per-step time 0.616s loss=0.021\n"
     ]
    },
    {
     "name": "stderr",
     "output_type": "stream",
     "text": [
      "[06/07 09:05:00] tensorflow INFO: Step 255500 per-step time 0.616s loss=0.021\n"
     ]
    },
    {
     "name": "stdout",
     "output_type": "stream",
     "text": [
      "INFO:tensorflow:Step 255600 per-step time 0.616s loss=0.041\n"
     ]
    },
    {
     "name": "stderr",
     "output_type": "stream",
     "text": [
      "[06/07 09:06:01] tensorflow INFO: Step 255600 per-step time 0.616s loss=0.041\n"
     ]
    },
    {
     "name": "stdout",
     "output_type": "stream",
     "text": [
      "INFO:tensorflow:Step 255700 per-step time 0.616s loss=0.063\n"
     ]
    },
    {
     "name": "stderr",
     "output_type": "stream",
     "text": [
      "[06/07 09:07:03] tensorflow INFO: Step 255700 per-step time 0.616s loss=0.063\n"
     ]
    },
    {
     "name": "stdout",
     "output_type": "stream",
     "text": [
      "INFO:tensorflow:Step 255800 per-step time 0.616s loss=0.015\n"
     ]
    },
    {
     "name": "stderr",
     "output_type": "stream",
     "text": [
      "[06/07 09:08:04] tensorflow INFO: Step 255800 per-step time 0.616s loss=0.015\n"
     ]
    },
    {
     "name": "stdout",
     "output_type": "stream",
     "text": [
      "INFO:tensorflow:Step 255900 per-step time 0.615s loss=0.121\n"
     ]
    },
    {
     "name": "stderr",
     "output_type": "stream",
     "text": [
      "[06/07 09:09:06] tensorflow INFO: Step 255900 per-step time 0.615s loss=0.121\n"
     ]
    },
    {
     "name": "stdout",
     "output_type": "stream",
     "text": [
      "INFO:tensorflow:Step 256000 per-step time 0.616s loss=0.131\n"
     ]
    },
    {
     "name": "stderr",
     "output_type": "stream",
     "text": [
      "[06/07 09:10:08] tensorflow INFO: Step 256000 per-step time 0.616s loss=0.131\n"
     ]
    },
    {
     "name": "stdout",
     "output_type": "stream",
     "text": [
      "INFO:tensorflow:Step 256100 per-step time 0.629s loss=0.195\n"
     ]
    },
    {
     "name": "stderr",
     "output_type": "stream",
     "text": [
      "[06/07 09:11:11] tensorflow INFO: Step 256100 per-step time 0.629s loss=0.195\n"
     ]
    },
    {
     "name": "stdout",
     "output_type": "stream",
     "text": [
      "INFO:tensorflow:Step 256200 per-step time 0.614s loss=0.082\n"
     ]
    },
    {
     "name": "stderr",
     "output_type": "stream",
     "text": [
      "[06/07 09:12:12] tensorflow INFO: Step 256200 per-step time 0.614s loss=0.082\n"
     ]
    },
    {
     "name": "stdout",
     "output_type": "stream",
     "text": [
      "INFO:tensorflow:Step 256300 per-step time 0.614s loss=0.086\n"
     ]
    },
    {
     "name": "stderr",
     "output_type": "stream",
     "text": [
      "[06/07 09:13:13] tensorflow INFO: Step 256300 per-step time 0.614s loss=0.086\n"
     ]
    },
    {
     "name": "stdout",
     "output_type": "stream",
     "text": [
      "INFO:tensorflow:Step 256400 per-step time 0.615s loss=0.051\n"
     ]
    },
    {
     "name": "stderr",
     "output_type": "stream",
     "text": [
      "[06/07 09:14:15] tensorflow INFO: Step 256400 per-step time 0.615s loss=0.051\n"
     ]
    },
    {
     "name": "stdout",
     "output_type": "stream",
     "text": [
      "INFO:tensorflow:Step 256500 per-step time 0.614s loss=0.160\n"
     ]
    },
    {
     "name": "stderr",
     "output_type": "stream",
     "text": [
      "[06/07 09:15:16] tensorflow INFO: Step 256500 per-step time 0.614s loss=0.160\n"
     ]
    },
    {
     "name": "stdout",
     "output_type": "stream",
     "text": [
      "INFO:tensorflow:Step 256600 per-step time 0.615s loss=0.034\n"
     ]
    },
    {
     "name": "stderr",
     "output_type": "stream",
     "text": [
      "[06/07 09:16:18] tensorflow INFO: Step 256600 per-step time 0.615s loss=0.034\n"
     ]
    },
    {
     "name": "stdout",
     "output_type": "stream",
     "text": [
      "INFO:tensorflow:Step 256700 per-step time 0.615s loss=0.030\n"
     ]
    },
    {
     "name": "stderr",
     "output_type": "stream",
     "text": [
      "[06/07 09:17:19] tensorflow INFO: Step 256700 per-step time 0.615s loss=0.030\n"
     ]
    },
    {
     "name": "stdout",
     "output_type": "stream",
     "text": [
      "INFO:tensorflow:Step 256800 per-step time 0.614s loss=0.017\n"
     ]
    },
    {
     "name": "stderr",
     "output_type": "stream",
     "text": [
      "[06/07 09:18:21] tensorflow INFO: Step 256800 per-step time 0.614s loss=0.017\n"
     ]
    },
    {
     "name": "stdout",
     "output_type": "stream",
     "text": [
      "INFO:tensorflow:Step 256900 per-step time 0.615s loss=0.018\n"
     ]
    },
    {
     "name": "stderr",
     "output_type": "stream",
     "text": [
      "[06/07 09:19:22] tensorflow INFO: Step 256900 per-step time 0.615s loss=0.018\n"
     ]
    },
    {
     "name": "stdout",
     "output_type": "stream",
     "text": [
      "INFO:tensorflow:Step 257000 per-step time 0.615s loss=0.033\n"
     ]
    },
    {
     "name": "stderr",
     "output_type": "stream",
     "text": [
      "[06/07 09:20:24] tensorflow INFO: Step 257000 per-step time 0.615s loss=0.033\n"
     ]
    },
    {
     "name": "stdout",
     "output_type": "stream",
     "text": [
      "INFO:tensorflow:Step 257100 per-step time 0.629s loss=0.013\n"
     ]
    },
    {
     "name": "stderr",
     "output_type": "stream",
     "text": [
      "[06/07 09:21:27] tensorflow INFO: Step 257100 per-step time 0.629s loss=0.013\n"
     ]
    },
    {
     "name": "stdout",
     "output_type": "stream",
     "text": [
      "INFO:tensorflow:Step 257200 per-step time 0.615s loss=1.052\n"
     ]
    },
    {
     "name": "stderr",
     "output_type": "stream",
     "text": [
      "[06/07 09:22:28] tensorflow INFO: Step 257200 per-step time 0.615s loss=1.052\n"
     ]
    },
    {
     "name": "stdout",
     "output_type": "stream",
     "text": [
      "INFO:tensorflow:Step 257300 per-step time 0.616s loss=0.431\n"
     ]
    },
    {
     "name": "stderr",
     "output_type": "stream",
     "text": [
      "[06/07 09:23:30] tensorflow INFO: Step 257300 per-step time 0.616s loss=0.431\n"
     ]
    },
    {
     "name": "stdout",
     "output_type": "stream",
     "text": [
      "INFO:tensorflow:Step 257400 per-step time 0.614s loss=0.020\n"
     ]
    },
    {
     "name": "stderr",
     "output_type": "stream",
     "text": [
      "[06/07 09:24:31] tensorflow INFO: Step 257400 per-step time 0.614s loss=0.020\n"
     ]
    },
    {
     "name": "stdout",
     "output_type": "stream",
     "text": [
      "INFO:tensorflow:Step 257500 per-step time 0.615s loss=0.064\n"
     ]
    },
    {
     "name": "stderr",
     "output_type": "stream",
     "text": [
      "[06/07 09:25:33] tensorflow INFO: Step 257500 per-step time 0.615s loss=0.064\n"
     ]
    },
    {
     "name": "stdout",
     "output_type": "stream",
     "text": [
      "INFO:tensorflow:Step 257600 per-step time 0.615s loss=0.020\n"
     ]
    },
    {
     "name": "stderr",
     "output_type": "stream",
     "text": [
      "[06/07 09:26:34] tensorflow INFO: Step 257600 per-step time 0.615s loss=0.020\n"
     ]
    },
    {
     "name": "stdout",
     "output_type": "stream",
     "text": [
      "INFO:tensorflow:Step 257700 per-step time 0.616s loss=0.245\n"
     ]
    },
    {
     "name": "stderr",
     "output_type": "stream",
     "text": [
      "[06/07 09:27:36] tensorflow INFO: Step 257700 per-step time 0.616s loss=0.245\n"
     ]
    },
    {
     "name": "stdout",
     "output_type": "stream",
     "text": [
      "INFO:tensorflow:Step 257800 per-step time 0.616s loss=0.027\n"
     ]
    },
    {
     "name": "stderr",
     "output_type": "stream",
     "text": [
      "[06/07 09:28:37] tensorflow INFO: Step 257800 per-step time 0.616s loss=0.027\n"
     ]
    },
    {
     "name": "stdout",
     "output_type": "stream",
     "text": [
      "INFO:tensorflow:Step 257900 per-step time 0.615s loss=0.012\n"
     ]
    },
    {
     "name": "stderr",
     "output_type": "stream",
     "text": [
      "[06/07 09:29:39] tensorflow INFO: Step 257900 per-step time 0.615s loss=0.012\n"
     ]
    },
    {
     "name": "stdout",
     "output_type": "stream",
     "text": [
      "INFO:tensorflow:Step 258000 per-step time 0.615s loss=0.119\n"
     ]
    },
    {
     "name": "stderr",
     "output_type": "stream",
     "text": [
      "[06/07 09:30:40] tensorflow INFO: Step 258000 per-step time 0.615s loss=0.119\n"
     ]
    },
    {
     "name": "stdout",
     "output_type": "stream",
     "text": [
      "INFO:tensorflow:Step 258100 per-step time 0.629s loss=0.040\n"
     ]
    },
    {
     "name": "stderr",
     "output_type": "stream",
     "text": [
      "[06/07 09:31:43] tensorflow INFO: Step 258100 per-step time 0.629s loss=0.040\n"
     ]
    },
    {
     "name": "stdout",
     "output_type": "stream",
     "text": [
      "INFO:tensorflow:Step 258200 per-step time 0.615s loss=0.026\n"
     ]
    },
    {
     "name": "stderr",
     "output_type": "stream",
     "text": [
      "[06/07 09:32:45] tensorflow INFO: Step 258200 per-step time 0.615s loss=0.026\n"
     ]
    },
    {
     "name": "stdout",
     "output_type": "stream",
     "text": [
      "INFO:tensorflow:Step 258300 per-step time 0.616s loss=0.036\n"
     ]
    },
    {
     "name": "stderr",
     "output_type": "stream",
     "text": [
      "[06/07 09:33:46] tensorflow INFO: Step 258300 per-step time 0.616s loss=0.036\n"
     ]
    },
    {
     "name": "stdout",
     "output_type": "stream",
     "text": [
      "INFO:tensorflow:Step 258400 per-step time 0.615s loss=0.069\n"
     ]
    },
    {
     "name": "stderr",
     "output_type": "stream",
     "text": [
      "[06/07 09:34:48] tensorflow INFO: Step 258400 per-step time 0.615s loss=0.069\n"
     ]
    },
    {
     "name": "stdout",
     "output_type": "stream",
     "text": [
      "INFO:tensorflow:Step 258500 per-step time 0.615s loss=0.044\n"
     ]
    },
    {
     "name": "stderr",
     "output_type": "stream",
     "text": [
      "[06/07 09:35:49] tensorflow INFO: Step 258500 per-step time 0.615s loss=0.044\n"
     ]
    },
    {
     "name": "stdout",
     "output_type": "stream",
     "text": [
      "INFO:tensorflow:Step 258600 per-step time 0.614s loss=0.020\n"
     ]
    },
    {
     "name": "stderr",
     "output_type": "stream",
     "text": [
      "[06/07 09:36:51] tensorflow INFO: Step 258600 per-step time 0.614s loss=0.020\n"
     ]
    },
    {
     "name": "stdout",
     "output_type": "stream",
     "text": [
      "INFO:tensorflow:Step 258700 per-step time 0.615s loss=0.289\n"
     ]
    },
    {
     "name": "stderr",
     "output_type": "stream",
     "text": [
      "[06/07 09:37:52] tensorflow INFO: Step 258700 per-step time 0.615s loss=0.289\n"
     ]
    },
    {
     "name": "stdout",
     "output_type": "stream",
     "text": [
      "INFO:tensorflow:Step 258800 per-step time 0.615s loss=0.034\n"
     ]
    },
    {
     "name": "stderr",
     "output_type": "stream",
     "text": [
      "[06/07 09:38:54] tensorflow INFO: Step 258800 per-step time 0.615s loss=0.034\n"
     ]
    },
    {
     "name": "stdout",
     "output_type": "stream",
     "text": [
      "INFO:tensorflow:Step 258900 per-step time 0.616s loss=0.106\n"
     ]
    },
    {
     "name": "stderr",
     "output_type": "stream",
     "text": [
      "[06/07 09:39:55] tensorflow INFO: Step 258900 per-step time 0.616s loss=0.106\n"
     ]
    },
    {
     "name": "stdout",
     "output_type": "stream",
     "text": [
      "INFO:tensorflow:Step 259000 per-step time 0.616s loss=0.071\n"
     ]
    },
    {
     "name": "stderr",
     "output_type": "stream",
     "text": [
      "[06/07 09:40:57] tensorflow INFO: Step 259000 per-step time 0.616s loss=0.071\n"
     ]
    },
    {
     "name": "stdout",
     "output_type": "stream",
     "text": [
      "INFO:tensorflow:Step 259100 per-step time 0.629s loss=0.054\n"
     ]
    },
    {
     "name": "stderr",
     "output_type": "stream",
     "text": [
      "[06/07 09:42:00] tensorflow INFO: Step 259100 per-step time 0.629s loss=0.054\n"
     ]
    },
    {
     "name": "stdout",
     "output_type": "stream",
     "text": [
      "INFO:tensorflow:Step 259200 per-step time 0.614s loss=0.075\n"
     ]
    },
    {
     "name": "stderr",
     "output_type": "stream",
     "text": [
      "[06/07 09:43:01] tensorflow INFO: Step 259200 per-step time 0.614s loss=0.075\n"
     ]
    },
    {
     "name": "stdout",
     "output_type": "stream",
     "text": [
      "INFO:tensorflow:Step 259300 per-step time 0.614s loss=0.023\n"
     ]
    },
    {
     "name": "stderr",
     "output_type": "stream",
     "text": [
      "[06/07 09:44:03] tensorflow INFO: Step 259300 per-step time 0.614s loss=0.023\n"
     ]
    },
    {
     "name": "stdout",
     "output_type": "stream",
     "text": [
      "INFO:tensorflow:Step 259400 per-step time 0.614s loss=0.062\n"
     ]
    },
    {
     "name": "stderr",
     "output_type": "stream",
     "text": [
      "[06/07 09:45:04] tensorflow INFO: Step 259400 per-step time 0.614s loss=0.062\n"
     ]
    },
    {
     "name": "stdout",
     "output_type": "stream",
     "text": [
      "INFO:tensorflow:Step 259500 per-step time 0.615s loss=0.018\n"
     ]
    },
    {
     "name": "stderr",
     "output_type": "stream",
     "text": [
      "[06/07 09:46:06] tensorflow INFO: Step 259500 per-step time 0.615s loss=0.018\n"
     ]
    },
    {
     "name": "stdout",
     "output_type": "stream",
     "text": [
      "INFO:tensorflow:Step 259600 per-step time 0.615s loss=0.112\n"
     ]
    },
    {
     "name": "stderr",
     "output_type": "stream",
     "text": [
      "[06/07 09:47:07] tensorflow INFO: Step 259600 per-step time 0.615s loss=0.112\n"
     ]
    },
    {
     "name": "stdout",
     "output_type": "stream",
     "text": [
      "INFO:tensorflow:Step 259700 per-step time 0.618s loss=0.734\n"
     ]
    },
    {
     "name": "stderr",
     "output_type": "stream",
     "text": [
      "[06/07 09:48:09] tensorflow INFO: Step 259700 per-step time 0.618s loss=0.734\n"
     ]
    },
    {
     "name": "stdout",
     "output_type": "stream",
     "text": [
      "INFO:tensorflow:Step 259800 per-step time 0.614s loss=0.014\n"
     ]
    },
    {
     "name": "stderr",
     "output_type": "stream",
     "text": [
      "[06/07 09:49:10] tensorflow INFO: Step 259800 per-step time 0.614s loss=0.014\n"
     ]
    },
    {
     "name": "stdout",
     "output_type": "stream",
     "text": [
      "INFO:tensorflow:Step 259900 per-step time 0.615s loss=0.027\n"
     ]
    },
    {
     "name": "stderr",
     "output_type": "stream",
     "text": [
      "[06/07 09:50:12] tensorflow INFO: Step 259900 per-step time 0.615s loss=0.027\n"
     ]
    },
    {
     "name": "stdout",
     "output_type": "stream",
     "text": [
      "INFO:tensorflow:Step 260000 per-step time 0.613s loss=0.029\n"
     ]
    },
    {
     "name": "stderr",
     "output_type": "stream",
     "text": [
      "[06/07 09:51:13] tensorflow INFO: Step 260000 per-step time 0.613s loss=0.029\n"
     ]
    },
    {
     "name": "stdout",
     "output_type": "stream",
     "text": [
      "INFO:tensorflow:Step 260100 per-step time 0.629s loss=0.071\n"
     ]
    },
    {
     "name": "stderr",
     "output_type": "stream",
     "text": [
      "[06/07 09:52:16] tensorflow INFO: Step 260100 per-step time 0.629s loss=0.071\n"
     ]
    },
    {
     "name": "stdout",
     "output_type": "stream",
     "text": [
      "INFO:tensorflow:Step 260200 per-step time 0.615s loss=0.040\n"
     ]
    },
    {
     "name": "stderr",
     "output_type": "stream",
     "text": [
      "[06/07 09:53:18] tensorflow INFO: Step 260200 per-step time 0.615s loss=0.040\n"
     ]
    },
    {
     "name": "stdout",
     "output_type": "stream",
     "text": [
      "INFO:tensorflow:Step 260300 per-step time 0.616s loss=0.050\n"
     ]
    },
    {
     "name": "stderr",
     "output_type": "stream",
     "text": [
      "[06/07 09:54:19] tensorflow INFO: Step 260300 per-step time 0.616s loss=0.050\n"
     ]
    },
    {
     "name": "stdout",
     "output_type": "stream",
     "text": [
      "INFO:tensorflow:Step 260400 per-step time 0.615s loss=0.109\n"
     ]
    },
    {
     "name": "stderr",
     "output_type": "stream",
     "text": [
      "[06/07 09:55:21] tensorflow INFO: Step 260400 per-step time 0.615s loss=0.109\n"
     ]
    },
    {
     "name": "stdout",
     "output_type": "stream",
     "text": [
      "INFO:tensorflow:Step 260500 per-step time 0.616s loss=0.009\n"
     ]
    },
    {
     "name": "stderr",
     "output_type": "stream",
     "text": [
      "[06/07 09:56:22] tensorflow INFO: Step 260500 per-step time 0.616s loss=0.009\n"
     ]
    },
    {
     "name": "stdout",
     "output_type": "stream",
     "text": [
      "INFO:tensorflow:Step 260600 per-step time 0.614s loss=0.036\n"
     ]
    },
    {
     "name": "stderr",
     "output_type": "stream",
     "text": [
      "[06/07 09:57:24] tensorflow INFO: Step 260600 per-step time 0.614s loss=0.036\n"
     ]
    },
    {
     "name": "stdout",
     "output_type": "stream",
     "text": [
      "INFO:tensorflow:Step 260700 per-step time 0.614s loss=0.032\n"
     ]
    },
    {
     "name": "stderr",
     "output_type": "stream",
     "text": [
      "[06/07 09:58:25] tensorflow INFO: Step 260700 per-step time 0.614s loss=0.032\n"
     ]
    },
    {
     "name": "stdout",
     "output_type": "stream",
     "text": [
      "INFO:tensorflow:Step 260800 per-step time 0.615s loss=0.018\n"
     ]
    },
    {
     "name": "stderr",
     "output_type": "stream",
     "text": [
      "[06/07 09:59:27] tensorflow INFO: Step 260800 per-step time 0.615s loss=0.018\n"
     ]
    },
    {
     "name": "stdout",
     "output_type": "stream",
     "text": [
      "INFO:tensorflow:Step 260900 per-step time 0.616s loss=0.185\n"
     ]
    },
    {
     "name": "stderr",
     "output_type": "stream",
     "text": [
      "[06/07 10:00:28] tensorflow INFO: Step 260900 per-step time 0.616s loss=0.185\n"
     ]
    },
    {
     "name": "stdout",
     "output_type": "stream",
     "text": [
      "INFO:tensorflow:Step 261000 per-step time 0.614s loss=0.112\n"
     ]
    },
    {
     "name": "stderr",
     "output_type": "stream",
     "text": [
      "[06/07 10:01:30] tensorflow INFO: Step 261000 per-step time 0.614s loss=0.112\n"
     ]
    },
    {
     "name": "stdout",
     "output_type": "stream",
     "text": [
      "INFO:tensorflow:Step 261100 per-step time 0.629s loss=0.005\n"
     ]
    },
    {
     "name": "stderr",
     "output_type": "stream",
     "text": [
      "[06/07 10:02:33] tensorflow INFO: Step 261100 per-step time 0.629s loss=0.005\n"
     ]
    },
    {
     "name": "stdout",
     "output_type": "stream",
     "text": [
      "INFO:tensorflow:Step 261200 per-step time 0.615s loss=0.021\n"
     ]
    },
    {
     "name": "stderr",
     "output_type": "stream",
     "text": [
      "[06/07 10:03:34] tensorflow INFO: Step 261200 per-step time 0.615s loss=0.021\n"
     ]
    },
    {
     "name": "stdout",
     "output_type": "stream",
     "text": [
      "INFO:tensorflow:Step 261300 per-step time 0.614s loss=0.050\n"
     ]
    },
    {
     "name": "stderr",
     "output_type": "stream",
     "text": [
      "[06/07 10:04:36] tensorflow INFO: Step 261300 per-step time 0.614s loss=0.050\n"
     ]
    },
    {
     "name": "stdout",
     "output_type": "stream",
     "text": [
      "INFO:tensorflow:Step 261400 per-step time 0.615s loss=0.190\n"
     ]
    },
    {
     "name": "stderr",
     "output_type": "stream",
     "text": [
      "[06/07 10:05:37] tensorflow INFO: Step 261400 per-step time 0.615s loss=0.190\n"
     ]
    },
    {
     "name": "stdout",
     "output_type": "stream",
     "text": [
      "INFO:tensorflow:Step 261500 per-step time 0.616s loss=0.183\n"
     ]
    },
    {
     "name": "stderr",
     "output_type": "stream",
     "text": [
      "[06/07 10:06:39] tensorflow INFO: Step 261500 per-step time 0.616s loss=0.183\n"
     ]
    },
    {
     "name": "stdout",
     "output_type": "stream",
     "text": [
      "INFO:tensorflow:Step 261600 per-step time 0.614s loss=0.054\n"
     ]
    },
    {
     "name": "stderr",
     "output_type": "stream",
     "text": [
      "[06/07 10:07:40] tensorflow INFO: Step 261600 per-step time 0.614s loss=0.054\n"
     ]
    },
    {
     "name": "stdout",
     "output_type": "stream",
     "text": [
      "INFO:tensorflow:Step 261700 per-step time 0.616s loss=0.041\n"
     ]
    },
    {
     "name": "stderr",
     "output_type": "stream",
     "text": [
      "[06/07 10:08:42] tensorflow INFO: Step 261700 per-step time 0.616s loss=0.041\n"
     ]
    },
    {
     "name": "stdout",
     "output_type": "stream",
     "text": [
      "INFO:tensorflow:Step 261800 per-step time 0.614s loss=0.026\n"
     ]
    },
    {
     "name": "stderr",
     "output_type": "stream",
     "text": [
      "[06/07 10:09:43] tensorflow INFO: Step 261800 per-step time 0.614s loss=0.026\n"
     ]
    },
    {
     "name": "stdout",
     "output_type": "stream",
     "text": [
      "INFO:tensorflow:Step 261900 per-step time 0.615s loss=0.058\n"
     ]
    },
    {
     "name": "stderr",
     "output_type": "stream",
     "text": [
      "[06/07 10:10:45] tensorflow INFO: Step 261900 per-step time 0.615s loss=0.058\n"
     ]
    },
    {
     "name": "stdout",
     "output_type": "stream",
     "text": [
      "INFO:tensorflow:Step 262000 per-step time 0.613s loss=0.028\n"
     ]
    },
    {
     "name": "stderr",
     "output_type": "stream",
     "text": [
      "[06/07 10:11:46] tensorflow INFO: Step 262000 per-step time 0.613s loss=0.028\n"
     ]
    },
    {
     "name": "stdout",
     "output_type": "stream",
     "text": [
      "INFO:tensorflow:Step 262100 per-step time 0.628s loss=0.025\n"
     ]
    },
    {
     "name": "stderr",
     "output_type": "stream",
     "text": [
      "[06/07 10:12:49] tensorflow INFO: Step 262100 per-step time 0.628s loss=0.025\n"
     ]
    },
    {
     "name": "stdout",
     "output_type": "stream",
     "text": [
      "INFO:tensorflow:Step 262200 per-step time 0.614s loss=0.121\n"
     ]
    },
    {
     "name": "stderr",
     "output_type": "stream",
     "text": [
      "[06/07 10:13:50] tensorflow INFO: Step 262200 per-step time 0.614s loss=0.121\n"
     ]
    },
    {
     "name": "stdout",
     "output_type": "stream",
     "text": [
      "INFO:tensorflow:Step 262300 per-step time 0.617s loss=0.005\n"
     ]
    },
    {
     "name": "stderr",
     "output_type": "stream",
     "text": [
      "[06/07 10:14:52] tensorflow INFO: Step 262300 per-step time 0.617s loss=0.005\n"
     ]
    },
    {
     "name": "stdout",
     "output_type": "stream",
     "text": [
      "INFO:tensorflow:Step 262400 per-step time 0.614s loss=0.136\n"
     ]
    },
    {
     "name": "stderr",
     "output_type": "stream",
     "text": [
      "[06/07 10:15:53] tensorflow INFO: Step 262400 per-step time 0.614s loss=0.136\n"
     ]
    },
    {
     "name": "stdout",
     "output_type": "stream",
     "text": [
      "INFO:tensorflow:Step 262500 per-step time 0.614s loss=0.167\n"
     ]
    },
    {
     "name": "stderr",
     "output_type": "stream",
     "text": [
      "[06/07 10:16:55] tensorflow INFO: Step 262500 per-step time 0.614s loss=0.167\n"
     ]
    },
    {
     "name": "stdout",
     "output_type": "stream",
     "text": [
      "INFO:tensorflow:Step 262600 per-step time 0.615s loss=0.065\n"
     ]
    },
    {
     "name": "stderr",
     "output_type": "stream",
     "text": [
      "[06/07 10:17:56] tensorflow INFO: Step 262600 per-step time 0.615s loss=0.065\n"
     ]
    },
    {
     "name": "stdout",
     "output_type": "stream",
     "text": [
      "INFO:tensorflow:Step 262700 per-step time 0.613s loss=0.014\n"
     ]
    },
    {
     "name": "stderr",
     "output_type": "stream",
     "text": [
      "[06/07 10:18:57] tensorflow INFO: Step 262700 per-step time 0.613s loss=0.014\n"
     ]
    },
    {
     "name": "stdout",
     "output_type": "stream",
     "text": [
      "INFO:tensorflow:Step 262800 per-step time 0.613s loss=0.015\n"
     ]
    },
    {
     "name": "stderr",
     "output_type": "stream",
     "text": [
      "[06/07 10:19:59] tensorflow INFO: Step 262800 per-step time 0.613s loss=0.015\n"
     ]
    },
    {
     "name": "stdout",
     "output_type": "stream",
     "text": [
      "INFO:tensorflow:Step 262900 per-step time 0.615s loss=0.024\n"
     ]
    },
    {
     "name": "stderr",
     "output_type": "stream",
     "text": [
      "[06/07 10:21:00] tensorflow INFO: Step 262900 per-step time 0.615s loss=0.024\n"
     ]
    },
    {
     "name": "stdout",
     "output_type": "stream",
     "text": [
      "INFO:tensorflow:Step 263000 per-step time 0.616s loss=0.020\n"
     ]
    },
    {
     "name": "stderr",
     "output_type": "stream",
     "text": [
      "[06/07 10:22:02] tensorflow INFO: Step 263000 per-step time 0.616s loss=0.020\n"
     ]
    },
    {
     "name": "stdout",
     "output_type": "stream",
     "text": [
      "INFO:tensorflow:Step 263100 per-step time 0.628s loss=0.053\n"
     ]
    },
    {
     "name": "stderr",
     "output_type": "stream",
     "text": [
      "[06/07 10:23:05] tensorflow INFO: Step 263100 per-step time 0.628s loss=0.053\n"
     ]
    },
    {
     "name": "stdout",
     "output_type": "stream",
     "text": [
      "INFO:tensorflow:Step 263200 per-step time 0.615s loss=0.178\n"
     ]
    },
    {
     "name": "stderr",
     "output_type": "stream",
     "text": [
      "[06/07 10:24:06] tensorflow INFO: Step 263200 per-step time 0.615s loss=0.178\n"
     ]
    },
    {
     "name": "stdout",
     "output_type": "stream",
     "text": [
      "INFO:tensorflow:Step 263300 per-step time 0.614s loss=0.197\n"
     ]
    },
    {
     "name": "stderr",
     "output_type": "stream",
     "text": [
      "[06/07 10:25:07] tensorflow INFO: Step 263300 per-step time 0.614s loss=0.197\n"
     ]
    },
    {
     "name": "stdout",
     "output_type": "stream",
     "text": [
      "INFO:tensorflow:Step 263400 per-step time 0.615s loss=0.017\n"
     ]
    },
    {
     "name": "stderr",
     "output_type": "stream",
     "text": [
      "[06/07 10:26:09] tensorflow INFO: Step 263400 per-step time 0.615s loss=0.017\n"
     ]
    },
    {
     "name": "stdout",
     "output_type": "stream",
     "text": [
      "INFO:tensorflow:Step 263500 per-step time 0.616s loss=0.022\n"
     ]
    },
    {
     "name": "stderr",
     "output_type": "stream",
     "text": [
      "[06/07 10:27:11] tensorflow INFO: Step 263500 per-step time 0.616s loss=0.022\n"
     ]
    },
    {
     "name": "stdout",
     "output_type": "stream",
     "text": [
      "INFO:tensorflow:Step 263600 per-step time 0.615s loss=0.051\n"
     ]
    },
    {
     "name": "stderr",
     "output_type": "stream",
     "text": [
      "[06/07 10:28:12] tensorflow INFO: Step 263600 per-step time 0.615s loss=0.051\n"
     ]
    },
    {
     "name": "stdout",
     "output_type": "stream",
     "text": [
      "INFO:tensorflow:Step 263700 per-step time 0.615s loss=0.104\n"
     ]
    },
    {
     "name": "stderr",
     "output_type": "stream",
     "text": [
      "[06/07 10:29:14] tensorflow INFO: Step 263700 per-step time 0.615s loss=0.104\n"
     ]
    },
    {
     "name": "stdout",
     "output_type": "stream",
     "text": [
      "INFO:tensorflow:Step 263800 per-step time 0.615s loss=0.038\n"
     ]
    },
    {
     "name": "stderr",
     "output_type": "stream",
     "text": [
      "[06/07 10:30:15] tensorflow INFO: Step 263800 per-step time 0.615s loss=0.038\n"
     ]
    },
    {
     "name": "stdout",
     "output_type": "stream",
     "text": [
      "INFO:tensorflow:Step 263900 per-step time 0.616s loss=0.069\n"
     ]
    },
    {
     "name": "stderr",
     "output_type": "stream",
     "text": [
      "[06/07 10:31:17] tensorflow INFO: Step 263900 per-step time 0.616s loss=0.069\n"
     ]
    },
    {
     "name": "stdout",
     "output_type": "stream",
     "text": [
      "INFO:tensorflow:Step 264000 per-step time 0.616s loss=0.007\n"
     ]
    },
    {
     "name": "stderr",
     "output_type": "stream",
     "text": [
      "[06/07 10:32:18] tensorflow INFO: Step 264000 per-step time 0.616s loss=0.007\n"
     ]
    },
    {
     "name": "stdout",
     "output_type": "stream",
     "text": [
      "INFO:tensorflow:Step 264100 per-step time 0.630s loss=0.063\n"
     ]
    },
    {
     "name": "stderr",
     "output_type": "stream",
     "text": [
      "[06/07 10:33:21] tensorflow INFO: Step 264100 per-step time 0.630s loss=0.063\n"
     ]
    },
    {
     "name": "stdout",
     "output_type": "stream",
     "text": [
      "INFO:tensorflow:Step 264200 per-step time 0.616s loss=0.016\n"
     ]
    },
    {
     "name": "stderr",
     "output_type": "stream",
     "text": [
      "[06/07 10:34:23] tensorflow INFO: Step 264200 per-step time 0.616s loss=0.016\n"
     ]
    },
    {
     "name": "stdout",
     "output_type": "stream",
     "text": [
      "INFO:tensorflow:Step 264300 per-step time 0.614s loss=0.066\n"
     ]
    },
    {
     "name": "stderr",
     "output_type": "stream",
     "text": [
      "[06/07 10:35:24] tensorflow INFO: Step 264300 per-step time 0.614s loss=0.066\n"
     ]
    },
    {
     "name": "stdout",
     "output_type": "stream",
     "text": [
      "INFO:tensorflow:Step 264400 per-step time 0.616s loss=0.054\n"
     ]
    },
    {
     "name": "stderr",
     "output_type": "stream",
     "text": [
      "[06/07 10:36:26] tensorflow INFO: Step 264400 per-step time 0.616s loss=0.054\n"
     ]
    },
    {
     "name": "stdout",
     "output_type": "stream",
     "text": [
      "INFO:tensorflow:Step 264500 per-step time 0.614s loss=0.026\n"
     ]
    },
    {
     "name": "stderr",
     "output_type": "stream",
     "text": [
      "[06/07 10:37:27] tensorflow INFO: Step 264500 per-step time 0.614s loss=0.026\n"
     ]
    },
    {
     "name": "stdout",
     "output_type": "stream",
     "text": [
      "INFO:tensorflow:Step 264600 per-step time 0.615s loss=0.114\n"
     ]
    },
    {
     "name": "stderr",
     "output_type": "stream",
     "text": [
      "[06/07 10:38:29] tensorflow INFO: Step 264600 per-step time 0.615s loss=0.114\n"
     ]
    },
    {
     "name": "stdout",
     "output_type": "stream",
     "text": [
      "INFO:tensorflow:Step 264700 per-step time 0.614s loss=0.009\n"
     ]
    },
    {
     "name": "stderr",
     "output_type": "stream",
     "text": [
      "[06/07 10:39:30] tensorflow INFO: Step 264700 per-step time 0.614s loss=0.009\n"
     ]
    },
    {
     "name": "stdout",
     "output_type": "stream",
     "text": [
      "INFO:tensorflow:Step 264800 per-step time 0.614s loss=0.017\n"
     ]
    },
    {
     "name": "stderr",
     "output_type": "stream",
     "text": [
      "[06/07 10:40:31] tensorflow INFO: Step 264800 per-step time 0.614s loss=0.017\n"
     ]
    },
    {
     "name": "stdout",
     "output_type": "stream",
     "text": [
      "INFO:tensorflow:Step 264900 per-step time 0.615s loss=0.108\n"
     ]
    },
    {
     "name": "stderr",
     "output_type": "stream",
     "text": [
      "[06/07 10:41:33] tensorflow INFO: Step 264900 per-step time 0.615s loss=0.108\n"
     ]
    },
    {
     "name": "stdout",
     "output_type": "stream",
     "text": [
      "INFO:tensorflow:Step 265000 per-step time 0.615s loss=0.049\n"
     ]
    },
    {
     "name": "stderr",
     "output_type": "stream",
     "text": [
      "[06/07 10:42:34] tensorflow INFO: Step 265000 per-step time 0.615s loss=0.049\n"
     ]
    },
    {
     "name": "stdout",
     "output_type": "stream",
     "text": [
      "INFO:tensorflow:Step 265100 per-step time 0.629s loss=0.012\n"
     ]
    },
    {
     "name": "stderr",
     "output_type": "stream",
     "text": [
      "[06/07 10:43:37] tensorflow INFO: Step 265100 per-step time 0.629s loss=0.012\n"
     ]
    },
    {
     "name": "stdout",
     "output_type": "stream",
     "text": [
      "INFO:tensorflow:Step 265200 per-step time 0.616s loss=0.014\n"
     ]
    },
    {
     "name": "stderr",
     "output_type": "stream",
     "text": [
      "[06/07 10:44:39] tensorflow INFO: Step 265200 per-step time 0.616s loss=0.014\n"
     ]
    },
    {
     "name": "stdout",
     "output_type": "stream",
     "text": [
      "INFO:tensorflow:Step 265300 per-step time 0.614s loss=0.626\n"
     ]
    },
    {
     "name": "stderr",
     "output_type": "stream",
     "text": [
      "[06/07 10:45:40] tensorflow INFO: Step 265300 per-step time 0.614s loss=0.626\n"
     ]
    },
    {
     "name": "stdout",
     "output_type": "stream",
     "text": [
      "INFO:tensorflow:Step 265400 per-step time 0.615s loss=0.009\n"
     ]
    },
    {
     "name": "stderr",
     "output_type": "stream",
     "text": [
      "[06/07 10:46:42] tensorflow INFO: Step 265400 per-step time 0.615s loss=0.009\n"
     ]
    },
    {
     "name": "stdout",
     "output_type": "stream",
     "text": [
      "INFO:tensorflow:Step 265500 per-step time 0.614s loss=0.019\n"
     ]
    },
    {
     "name": "stderr",
     "output_type": "stream",
     "text": [
      "[06/07 10:47:43] tensorflow INFO: Step 265500 per-step time 0.614s loss=0.019\n"
     ]
    },
    {
     "name": "stdout",
     "output_type": "stream",
     "text": [
      "INFO:tensorflow:Step 265600 per-step time 0.616s loss=0.055\n"
     ]
    },
    {
     "name": "stderr",
     "output_type": "stream",
     "text": [
      "[06/07 10:48:45] tensorflow INFO: Step 265600 per-step time 0.616s loss=0.055\n"
     ]
    },
    {
     "name": "stdout",
     "output_type": "stream",
     "text": [
      "INFO:tensorflow:Step 265700 per-step time 0.616s loss=0.299\n"
     ]
    },
    {
     "name": "stderr",
     "output_type": "stream",
     "text": [
      "[06/07 10:49:46] tensorflow INFO: Step 265700 per-step time 0.616s loss=0.299\n"
     ]
    },
    {
     "name": "stdout",
     "output_type": "stream",
     "text": [
      "INFO:tensorflow:Step 265800 per-step time 0.615s loss=0.110\n"
     ]
    },
    {
     "name": "stderr",
     "output_type": "stream",
     "text": [
      "[06/07 10:50:48] tensorflow INFO: Step 265800 per-step time 0.615s loss=0.110\n"
     ]
    },
    {
     "name": "stdout",
     "output_type": "stream",
     "text": [
      "INFO:tensorflow:Step 265900 per-step time 0.614s loss=0.030\n"
     ]
    },
    {
     "name": "stderr",
     "output_type": "stream",
     "text": [
      "[06/07 10:51:49] tensorflow INFO: Step 265900 per-step time 0.614s loss=0.030\n"
     ]
    },
    {
     "name": "stdout",
     "output_type": "stream",
     "text": [
      "INFO:tensorflow:Step 266000 per-step time 0.617s loss=0.053\n"
     ]
    },
    {
     "name": "stderr",
     "output_type": "stream",
     "text": [
      "[06/07 10:52:51] tensorflow INFO: Step 266000 per-step time 0.617s loss=0.053\n"
     ]
    },
    {
     "name": "stdout",
     "output_type": "stream",
     "text": [
      "INFO:tensorflow:Step 266100 per-step time 0.627s loss=0.019\n"
     ]
    },
    {
     "name": "stderr",
     "output_type": "stream",
     "text": [
      "[06/07 10:53:54] tensorflow INFO: Step 266100 per-step time 0.627s loss=0.019\n"
     ]
    },
    {
     "name": "stdout",
     "output_type": "stream",
     "text": [
      "INFO:tensorflow:Step 266200 per-step time 0.615s loss=0.093\n"
     ]
    },
    {
     "name": "stderr",
     "output_type": "stream",
     "text": [
      "[06/07 10:54:55] tensorflow INFO: Step 266200 per-step time 0.615s loss=0.093\n"
     ]
    },
    {
     "name": "stdout",
     "output_type": "stream",
     "text": [
      "INFO:tensorflow:Step 266300 per-step time 0.615s loss=0.086\n"
     ]
    },
    {
     "name": "stderr",
     "output_type": "stream",
     "text": [
      "[06/07 10:55:57] tensorflow INFO: Step 266300 per-step time 0.615s loss=0.086\n"
     ]
    },
    {
     "name": "stdout",
     "output_type": "stream",
     "text": [
      "INFO:tensorflow:Step 266400 per-step time 0.614s loss=0.008\n"
     ]
    },
    {
     "name": "stderr",
     "output_type": "stream",
     "text": [
      "[06/07 10:56:58] tensorflow INFO: Step 266400 per-step time 0.614s loss=0.008\n"
     ]
    },
    {
     "name": "stdout",
     "output_type": "stream",
     "text": [
      "INFO:tensorflow:Step 266500 per-step time 0.613s loss=0.048\n"
     ]
    },
    {
     "name": "stderr",
     "output_type": "stream",
     "text": [
      "[06/07 10:57:59] tensorflow INFO: Step 266500 per-step time 0.613s loss=0.048\n"
     ]
    },
    {
     "name": "stdout",
     "output_type": "stream",
     "text": [
      "INFO:tensorflow:Step 266600 per-step time 0.616s loss=0.024\n"
     ]
    },
    {
     "name": "stderr",
     "output_type": "stream",
     "text": [
      "[06/07 10:59:01] tensorflow INFO: Step 266600 per-step time 0.616s loss=0.024\n"
     ]
    },
    {
     "name": "stdout",
     "output_type": "stream",
     "text": [
      "INFO:tensorflow:Step 266700 per-step time 0.615s loss=0.020\n"
     ]
    },
    {
     "name": "stderr",
     "output_type": "stream",
     "text": [
      "[06/07 11:00:02] tensorflow INFO: Step 266700 per-step time 0.615s loss=0.020\n"
     ]
    },
    {
     "name": "stdout",
     "output_type": "stream",
     "text": [
      "INFO:tensorflow:Step 266800 per-step time 0.614s loss=0.090\n"
     ]
    },
    {
     "name": "stderr",
     "output_type": "stream",
     "text": [
      "[06/07 11:01:04] tensorflow INFO: Step 266800 per-step time 0.614s loss=0.090\n"
     ]
    },
    {
     "name": "stdout",
     "output_type": "stream",
     "text": [
      "INFO:tensorflow:Step 266900 per-step time 0.614s loss=0.017\n"
     ]
    },
    {
     "name": "stderr",
     "output_type": "stream",
     "text": [
      "[06/07 11:02:05] tensorflow INFO: Step 266900 per-step time 0.614s loss=0.017\n"
     ]
    },
    {
     "name": "stdout",
     "output_type": "stream",
     "text": [
      "INFO:tensorflow:Step 267000 per-step time 0.614s loss=0.062\n"
     ]
    },
    {
     "name": "stderr",
     "output_type": "stream",
     "text": [
      "[06/07 11:03:07] tensorflow INFO: Step 267000 per-step time 0.614s loss=0.062\n"
     ]
    },
    {
     "name": "stdout",
     "output_type": "stream",
     "text": [
      "INFO:tensorflow:Step 267100 per-step time 0.630s loss=0.046\n"
     ]
    },
    {
     "name": "stderr",
     "output_type": "stream",
     "text": [
      "[06/07 11:04:10] tensorflow INFO: Step 267100 per-step time 0.630s loss=0.046\n"
     ]
    },
    {
     "name": "stdout",
     "output_type": "stream",
     "text": [
      "INFO:tensorflow:Step 267200 per-step time 0.615s loss=0.036\n"
     ]
    },
    {
     "name": "stderr",
     "output_type": "stream",
     "text": [
      "[06/07 11:05:11] tensorflow INFO: Step 267200 per-step time 0.615s loss=0.036\n"
     ]
    },
    {
     "name": "stdout",
     "output_type": "stream",
     "text": [
      "INFO:tensorflow:Step 267300 per-step time 0.616s loss=0.060\n"
     ]
    },
    {
     "name": "stderr",
     "output_type": "stream",
     "text": [
      "[06/07 11:06:13] tensorflow INFO: Step 267300 per-step time 0.616s loss=0.060\n"
     ]
    },
    {
     "name": "stdout",
     "output_type": "stream",
     "text": [
      "INFO:tensorflow:Step 267400 per-step time 0.614s loss=0.014\n"
     ]
    },
    {
     "name": "stderr",
     "output_type": "stream",
     "text": [
      "[06/07 11:07:14] tensorflow INFO: Step 267400 per-step time 0.614s loss=0.014\n"
     ]
    },
    {
     "name": "stdout",
     "output_type": "stream",
     "text": [
      "INFO:tensorflow:Step 267500 per-step time 0.617s loss=0.005\n"
     ]
    },
    {
     "name": "stderr",
     "output_type": "stream",
     "text": [
      "[06/07 11:08:16] tensorflow INFO: Step 267500 per-step time 0.617s loss=0.005\n"
     ]
    },
    {
     "name": "stdout",
     "output_type": "stream",
     "text": [
      "INFO:tensorflow:Step 267600 per-step time 0.613s loss=0.020\n"
     ]
    },
    {
     "name": "stderr",
     "output_type": "stream",
     "text": [
      "[06/07 11:09:17] tensorflow INFO: Step 267600 per-step time 0.613s loss=0.020\n"
     ]
    },
    {
     "name": "stdout",
     "output_type": "stream",
     "text": [
      "INFO:tensorflow:Step 267700 per-step time 0.615s loss=0.102\n"
     ]
    },
    {
     "name": "stderr",
     "output_type": "stream",
     "text": [
      "[06/07 11:10:19] tensorflow INFO: Step 267700 per-step time 0.615s loss=0.102\n"
     ]
    },
    {
     "name": "stdout",
     "output_type": "stream",
     "text": [
      "INFO:tensorflow:Step 267800 per-step time 0.615s loss=0.014\n"
     ]
    },
    {
     "name": "stderr",
     "output_type": "stream",
     "text": [
      "[06/07 11:11:20] tensorflow INFO: Step 267800 per-step time 0.615s loss=0.014\n"
     ]
    },
    {
     "name": "stdout",
     "output_type": "stream",
     "text": [
      "INFO:tensorflow:Step 267900 per-step time 0.614s loss=0.040\n"
     ]
    },
    {
     "name": "stderr",
     "output_type": "stream",
     "text": [
      "[06/07 11:12:22] tensorflow INFO: Step 267900 per-step time 0.614s loss=0.040\n"
     ]
    },
    {
     "name": "stdout",
     "output_type": "stream",
     "text": [
      "INFO:tensorflow:Step 268000 per-step time 0.614s loss=0.010\n"
     ]
    },
    {
     "name": "stderr",
     "output_type": "stream",
     "text": [
      "[06/07 11:13:23] tensorflow INFO: Step 268000 per-step time 0.614s loss=0.010\n"
     ]
    },
    {
     "name": "stdout",
     "output_type": "stream",
     "text": [
      "INFO:tensorflow:Step 268100 per-step time 0.630s loss=0.017\n"
     ]
    },
    {
     "name": "stderr",
     "output_type": "stream",
     "text": [
      "[06/07 11:14:26] tensorflow INFO: Step 268100 per-step time 0.630s loss=0.017\n"
     ]
    },
    {
     "name": "stdout",
     "output_type": "stream",
     "text": [
      "INFO:tensorflow:Step 268200 per-step time 0.616s loss=0.031\n"
     ]
    },
    {
     "name": "stderr",
     "output_type": "stream",
     "text": [
      "[06/07 11:15:28] tensorflow INFO: Step 268200 per-step time 0.616s loss=0.031\n"
     ]
    },
    {
     "name": "stdout",
     "output_type": "stream",
     "text": [
      "INFO:tensorflow:Step 268300 per-step time 0.617s loss=0.019\n"
     ]
    },
    {
     "name": "stderr",
     "output_type": "stream",
     "text": [
      "[06/07 11:16:29] tensorflow INFO: Step 268300 per-step time 0.617s loss=0.019\n"
     ]
    },
    {
     "name": "stdout",
     "output_type": "stream",
     "text": [
      "INFO:tensorflow:Step 268400 per-step time 0.615s loss=0.445\n"
     ]
    },
    {
     "name": "stderr",
     "output_type": "stream",
     "text": [
      "[06/07 11:17:31] tensorflow INFO: Step 268400 per-step time 0.615s loss=0.445\n"
     ]
    },
    {
     "name": "stdout",
     "output_type": "stream",
     "text": [
      "INFO:tensorflow:Step 268500 per-step time 0.615s loss=0.043\n"
     ]
    },
    {
     "name": "stderr",
     "output_type": "stream",
     "text": [
      "[06/07 11:18:32] tensorflow INFO: Step 268500 per-step time 0.615s loss=0.043\n"
     ]
    },
    {
     "name": "stdout",
     "output_type": "stream",
     "text": [
      "INFO:tensorflow:Step 268600 per-step time 0.614s loss=0.015\n"
     ]
    },
    {
     "name": "stderr",
     "output_type": "stream",
     "text": [
      "[06/07 11:19:34] tensorflow INFO: Step 268600 per-step time 0.614s loss=0.015\n"
     ]
    },
    {
     "name": "stdout",
     "output_type": "stream",
     "text": [
      "INFO:tensorflow:Step 268700 per-step time 0.616s loss=0.151\n"
     ]
    },
    {
     "name": "stderr",
     "output_type": "stream",
     "text": [
      "[06/07 11:20:35] tensorflow INFO: Step 268700 per-step time 0.616s loss=0.151\n"
     ]
    },
    {
     "name": "stdout",
     "output_type": "stream",
     "text": [
      "INFO:tensorflow:Step 268800 per-step time 0.613s loss=0.048\n"
     ]
    },
    {
     "name": "stderr",
     "output_type": "stream",
     "text": [
      "[06/07 11:21:37] tensorflow INFO: Step 268800 per-step time 0.613s loss=0.048\n"
     ]
    },
    {
     "name": "stdout",
     "output_type": "stream",
     "text": [
      "INFO:tensorflow:Step 268900 per-step time 0.614s loss=0.094\n"
     ]
    },
    {
     "name": "stderr",
     "output_type": "stream",
     "text": [
      "[06/07 11:22:38] tensorflow INFO: Step 268900 per-step time 0.614s loss=0.094\n"
     ]
    },
    {
     "name": "stdout",
     "output_type": "stream",
     "text": [
      "INFO:tensorflow:Step 269000 per-step time 0.614s loss=0.017\n"
     ]
    },
    {
     "name": "stderr",
     "output_type": "stream",
     "text": [
      "[06/07 11:23:39] tensorflow INFO: Step 269000 per-step time 0.614s loss=0.017\n"
     ]
    },
    {
     "name": "stdout",
     "output_type": "stream",
     "text": [
      "INFO:tensorflow:Step 269100 per-step time 0.629s loss=0.105\n"
     ]
    },
    {
     "name": "stderr",
     "output_type": "stream",
     "text": [
      "[06/07 11:24:42] tensorflow INFO: Step 269100 per-step time 0.629s loss=0.105\n"
     ]
    },
    {
     "name": "stdout",
     "output_type": "stream",
     "text": [
      "INFO:tensorflow:Step 269200 per-step time 0.615s loss=0.049\n"
     ]
    },
    {
     "name": "stderr",
     "output_type": "stream",
     "text": [
      "[06/07 11:25:44] tensorflow INFO: Step 269200 per-step time 0.615s loss=0.049\n"
     ]
    },
    {
     "name": "stdout",
     "output_type": "stream",
     "text": [
      "INFO:tensorflow:Step 269300 per-step time 0.615s loss=0.160\n"
     ]
    },
    {
     "name": "stderr",
     "output_type": "stream",
     "text": [
      "[06/07 11:26:45] tensorflow INFO: Step 269300 per-step time 0.615s loss=0.160\n"
     ]
    },
    {
     "name": "stdout",
     "output_type": "stream",
     "text": [
      "INFO:tensorflow:Step 269400 per-step time 0.615s loss=0.025\n"
     ]
    },
    {
     "name": "stderr",
     "output_type": "stream",
     "text": [
      "[06/07 11:27:47] tensorflow INFO: Step 269400 per-step time 0.615s loss=0.025\n"
     ]
    },
    {
     "name": "stdout",
     "output_type": "stream",
     "text": [
      "INFO:tensorflow:Step 269500 per-step time 0.614s loss=0.065\n"
     ]
    },
    {
     "name": "stderr",
     "output_type": "stream",
     "text": [
      "[06/07 11:28:48] tensorflow INFO: Step 269500 per-step time 0.614s loss=0.065\n"
     ]
    },
    {
     "name": "stdout",
     "output_type": "stream",
     "text": [
      "INFO:tensorflow:Step 269600 per-step time 0.616s loss=0.036\n"
     ]
    },
    {
     "name": "stderr",
     "output_type": "stream",
     "text": [
      "[06/07 11:29:50] tensorflow INFO: Step 269600 per-step time 0.616s loss=0.036\n"
     ]
    },
    {
     "name": "stdout",
     "output_type": "stream",
     "text": [
      "INFO:tensorflow:Step 269700 per-step time 0.615s loss=0.071\n"
     ]
    },
    {
     "name": "stderr",
     "output_type": "stream",
     "text": [
      "[06/07 11:30:51] tensorflow INFO: Step 269700 per-step time 0.615s loss=0.071\n"
     ]
    },
    {
     "name": "stdout",
     "output_type": "stream",
     "text": [
      "INFO:tensorflow:Step 269800 per-step time 0.615s loss=0.037\n"
     ]
    },
    {
     "name": "stderr",
     "output_type": "stream",
     "text": [
      "[06/07 11:31:53] tensorflow INFO: Step 269800 per-step time 0.615s loss=0.037\n"
     ]
    },
    {
     "name": "stdout",
     "output_type": "stream",
     "text": [
      "INFO:tensorflow:Step 269900 per-step time 0.615s loss=0.044\n"
     ]
    },
    {
     "name": "stderr",
     "output_type": "stream",
     "text": [
      "[06/07 11:32:54] tensorflow INFO: Step 269900 per-step time 0.615s loss=0.044\n"
     ]
    },
    {
     "name": "stdout",
     "output_type": "stream",
     "text": [
      "INFO:tensorflow:Step 270000 per-step time 0.614s loss=0.035\n"
     ]
    },
    {
     "name": "stderr",
     "output_type": "stream",
     "text": [
      "[06/07 11:33:56] tensorflow INFO: Step 270000 per-step time 0.614s loss=0.035\n"
     ]
    },
    {
     "name": "stdout",
     "output_type": "stream",
     "text": [
      "INFO:tensorflow:Step 270100 per-step time 0.628s loss=0.490\n"
     ]
    },
    {
     "name": "stderr",
     "output_type": "stream",
     "text": [
      "[06/07 11:34:58] tensorflow INFO: Step 270100 per-step time 0.628s loss=0.490\n"
     ]
    },
    {
     "name": "stdout",
     "output_type": "stream",
     "text": [
      "INFO:tensorflow:Step 270200 per-step time 0.616s loss=0.088\n"
     ]
    },
    {
     "name": "stderr",
     "output_type": "stream",
     "text": [
      "[06/07 11:36:00] tensorflow INFO: Step 270200 per-step time 0.616s loss=0.088\n"
     ]
    },
    {
     "name": "stdout",
     "output_type": "stream",
     "text": [
      "INFO:tensorflow:Step 270300 per-step time 0.615s loss=0.010\n"
     ]
    },
    {
     "name": "stderr",
     "output_type": "stream",
     "text": [
      "[06/07 11:37:01] tensorflow INFO: Step 270300 per-step time 0.615s loss=0.010\n"
     ]
    },
    {
     "name": "stdout",
     "output_type": "stream",
     "text": [
      "INFO:tensorflow:Step 270400 per-step time 0.615s loss=0.108\n"
     ]
    },
    {
     "name": "stderr",
     "output_type": "stream",
     "text": [
      "[06/07 11:38:03] tensorflow INFO: Step 270400 per-step time 0.615s loss=0.108\n"
     ]
    },
    {
     "name": "stdout",
     "output_type": "stream",
     "text": [
      "INFO:tensorflow:Step 270500 per-step time 0.613s loss=0.547\n"
     ]
    },
    {
     "name": "stderr",
     "output_type": "stream",
     "text": [
      "[06/07 11:39:04] tensorflow INFO: Step 270500 per-step time 0.613s loss=0.547\n"
     ]
    },
    {
     "name": "stdout",
     "output_type": "stream",
     "text": [
      "INFO:tensorflow:Step 270600 per-step time 0.615s loss=0.095\n"
     ]
    },
    {
     "name": "stderr",
     "output_type": "stream",
     "text": [
      "[06/07 11:40:06] tensorflow INFO: Step 270600 per-step time 0.615s loss=0.095\n"
     ]
    },
    {
     "name": "stdout",
     "output_type": "stream",
     "text": [
      "INFO:tensorflow:Step 270700 per-step time 0.616s loss=0.080\n"
     ]
    },
    {
     "name": "stderr",
     "output_type": "stream",
     "text": [
      "[06/07 11:41:07] tensorflow INFO: Step 270700 per-step time 0.616s loss=0.080\n"
     ]
    },
    {
     "name": "stdout",
     "output_type": "stream",
     "text": [
      "INFO:tensorflow:Step 270800 per-step time 0.614s loss=0.090\n"
     ]
    },
    {
     "name": "stderr",
     "output_type": "stream",
     "text": [
      "[06/07 11:42:09] tensorflow INFO: Step 270800 per-step time 0.614s loss=0.090\n"
     ]
    },
    {
     "name": "stdout",
     "output_type": "stream",
     "text": [
      "INFO:tensorflow:Step 270900 per-step time 0.617s loss=0.093\n"
     ]
    },
    {
     "name": "stderr",
     "output_type": "stream",
     "text": [
      "[06/07 11:43:10] tensorflow INFO: Step 270900 per-step time 0.617s loss=0.093\n"
     ]
    },
    {
     "name": "stdout",
     "output_type": "stream",
     "text": [
      "INFO:tensorflow:Step 271000 per-step time 0.614s loss=0.010\n"
     ]
    },
    {
     "name": "stderr",
     "output_type": "stream",
     "text": [
      "[06/07 11:44:12] tensorflow INFO: Step 271000 per-step time 0.614s loss=0.010\n"
     ]
    },
    {
     "name": "stdout",
     "output_type": "stream",
     "text": [
      "INFO:tensorflow:Step 271100 per-step time 0.628s loss=0.010\n"
     ]
    },
    {
     "name": "stderr",
     "output_type": "stream",
     "text": [
      "[06/07 11:45:15] tensorflow INFO: Step 271100 per-step time 0.628s loss=0.010\n"
     ]
    },
    {
     "name": "stdout",
     "output_type": "stream",
     "text": [
      "INFO:tensorflow:Step 271200 per-step time 0.613s loss=0.060\n"
     ]
    },
    {
     "name": "stderr",
     "output_type": "stream",
     "text": [
      "[06/07 11:46:16] tensorflow INFO: Step 271200 per-step time 0.613s loss=0.060\n"
     ]
    },
    {
     "name": "stdout",
     "output_type": "stream",
     "text": [
      "INFO:tensorflow:Step 271300 per-step time 0.614s loss=0.021\n"
     ]
    },
    {
     "name": "stderr",
     "output_type": "stream",
     "text": [
      "[06/07 11:47:17] tensorflow INFO: Step 271300 per-step time 0.614s loss=0.021\n"
     ]
    },
    {
     "name": "stdout",
     "output_type": "stream",
     "text": [
      "INFO:tensorflow:Step 271400 per-step time 0.616s loss=0.096\n"
     ]
    },
    {
     "name": "stderr",
     "output_type": "stream",
     "text": [
      "[06/07 11:48:19] tensorflow INFO: Step 271400 per-step time 0.616s loss=0.096\n"
     ]
    },
    {
     "name": "stdout",
     "output_type": "stream",
     "text": [
      "INFO:tensorflow:Step 271500 per-step time 0.615s loss=0.011\n"
     ]
    },
    {
     "name": "stderr",
     "output_type": "stream",
     "text": [
      "[06/07 11:49:20] tensorflow INFO: Step 271500 per-step time 0.615s loss=0.011\n"
     ]
    },
    {
     "name": "stdout",
     "output_type": "stream",
     "text": [
      "INFO:tensorflow:Step 271600 per-step time 0.616s loss=0.045\n"
     ]
    },
    {
     "name": "stderr",
     "output_type": "stream",
     "text": [
      "[06/07 11:50:22] tensorflow INFO: Step 271600 per-step time 0.616s loss=0.045\n"
     ]
    },
    {
     "name": "stdout",
     "output_type": "stream",
     "text": [
      "INFO:tensorflow:Step 271700 per-step time 0.615s loss=0.092\n"
     ]
    },
    {
     "name": "stderr",
     "output_type": "stream",
     "text": [
      "[06/07 11:51:24] tensorflow INFO: Step 271700 per-step time 0.615s loss=0.092\n"
     ]
    },
    {
     "name": "stdout",
     "output_type": "stream",
     "text": [
      "INFO:tensorflow:Step 271800 per-step time 0.615s loss=0.006\n"
     ]
    },
    {
     "name": "stderr",
     "output_type": "stream",
     "text": [
      "[06/07 11:52:25] tensorflow INFO: Step 271800 per-step time 0.615s loss=0.006\n"
     ]
    },
    {
     "name": "stdout",
     "output_type": "stream",
     "text": [
      "INFO:tensorflow:Step 271900 per-step time 0.615s loss=0.015\n"
     ]
    },
    {
     "name": "stderr",
     "output_type": "stream",
     "text": [
      "[06/07 11:53:27] tensorflow INFO: Step 271900 per-step time 0.615s loss=0.015\n"
     ]
    },
    {
     "name": "stdout",
     "output_type": "stream",
     "text": [
      "INFO:tensorflow:Step 272000 per-step time 0.615s loss=0.073\n"
     ]
    },
    {
     "name": "stderr",
     "output_type": "stream",
     "text": [
      "[06/07 11:54:28] tensorflow INFO: Step 272000 per-step time 0.615s loss=0.073\n"
     ]
    },
    {
     "name": "stdout",
     "output_type": "stream",
     "text": [
      "INFO:tensorflow:Step 272100 per-step time 0.628s loss=0.073\n"
     ]
    },
    {
     "name": "stderr",
     "output_type": "stream",
     "text": [
      "[06/07 11:55:31] tensorflow INFO: Step 272100 per-step time 0.628s loss=0.073\n"
     ]
    },
    {
     "name": "stdout",
     "output_type": "stream",
     "text": [
      "INFO:tensorflow:Step 272200 per-step time 0.617s loss=0.042\n"
     ]
    },
    {
     "name": "stderr",
     "output_type": "stream",
     "text": [
      "[06/07 11:56:32] tensorflow INFO: Step 272200 per-step time 0.617s loss=0.042\n"
     ]
    },
    {
     "name": "stdout",
     "output_type": "stream",
     "text": [
      "INFO:tensorflow:Step 272300 per-step time 0.614s loss=0.082\n"
     ]
    },
    {
     "name": "stderr",
     "output_type": "stream",
     "text": [
      "[06/07 11:57:34] tensorflow INFO: Step 272300 per-step time 0.614s loss=0.082\n"
     ]
    },
    {
     "name": "stdout",
     "output_type": "stream",
     "text": [
      "INFO:tensorflow:Step 272400 per-step time 0.614s loss=0.052\n"
     ]
    },
    {
     "name": "stderr",
     "output_type": "stream",
     "text": [
      "[06/07 11:58:35] tensorflow INFO: Step 272400 per-step time 0.614s loss=0.052\n"
     ]
    },
    {
     "name": "stdout",
     "output_type": "stream",
     "text": [
      "INFO:tensorflow:Step 272500 per-step time 0.614s loss=0.141\n"
     ]
    },
    {
     "name": "stderr",
     "output_type": "stream",
     "text": [
      "[06/07 11:59:37] tensorflow INFO: Step 272500 per-step time 0.614s loss=0.141\n"
     ]
    },
    {
     "name": "stdout",
     "output_type": "stream",
     "text": [
      "INFO:tensorflow:Step 272600 per-step time 0.618s loss=0.040\n"
     ]
    },
    {
     "name": "stderr",
     "output_type": "stream",
     "text": [
      "[06/07 12:00:39] tensorflow INFO: Step 272600 per-step time 0.618s loss=0.040\n"
     ]
    },
    {
     "name": "stdout",
     "output_type": "stream",
     "text": [
      "INFO:tensorflow:Step 272700 per-step time 0.615s loss=0.042\n"
     ]
    },
    {
     "name": "stderr",
     "output_type": "stream",
     "text": [
      "[06/07 12:01:40] tensorflow INFO: Step 272700 per-step time 0.615s loss=0.042\n"
     ]
    },
    {
     "name": "stdout",
     "output_type": "stream",
     "text": [
      "INFO:tensorflow:Step 272800 per-step time 0.615s loss=0.021\n"
     ]
    },
    {
     "name": "stderr",
     "output_type": "stream",
     "text": [
      "[06/07 12:02:42] tensorflow INFO: Step 272800 per-step time 0.615s loss=0.021\n"
     ]
    },
    {
     "name": "stdout",
     "output_type": "stream",
     "text": [
      "INFO:tensorflow:Step 272900 per-step time 0.614s loss=0.110\n"
     ]
    },
    {
     "name": "stderr",
     "output_type": "stream",
     "text": [
      "[06/07 12:03:43] tensorflow INFO: Step 272900 per-step time 0.614s loss=0.110\n"
     ]
    },
    {
     "name": "stdout",
     "output_type": "stream",
     "text": [
      "INFO:tensorflow:Step 273000 per-step time 0.617s loss=0.014\n"
     ]
    },
    {
     "name": "stderr",
     "output_type": "stream",
     "text": [
      "[06/07 12:04:45] tensorflow INFO: Step 273000 per-step time 0.617s loss=0.014\n"
     ]
    },
    {
     "name": "stdout",
     "output_type": "stream",
     "text": [
      "INFO:tensorflow:Step 273100 per-step time 0.648s loss=0.016\n"
     ]
    },
    {
     "name": "stderr",
     "output_type": "stream",
     "text": [
      "[06/07 12:05:49] tensorflow INFO: Step 273100 per-step time 0.648s loss=0.016\n"
     ]
    },
    {
     "name": "stdout",
     "output_type": "stream",
     "text": [
      "INFO:tensorflow:Step 273200 per-step time 0.614s loss=0.029\n"
     ]
    },
    {
     "name": "stderr",
     "output_type": "stream",
     "text": [
      "[06/07 12:06:51] tensorflow INFO: Step 273200 per-step time 0.614s loss=0.029\n"
     ]
    },
    {
     "name": "stdout",
     "output_type": "stream",
     "text": [
      "INFO:tensorflow:Step 273300 per-step time 0.615s loss=0.450\n"
     ]
    },
    {
     "name": "stderr",
     "output_type": "stream",
     "text": [
      "[06/07 12:07:52] tensorflow INFO: Step 273300 per-step time 0.615s loss=0.450\n"
     ]
    },
    {
     "name": "stdout",
     "output_type": "stream",
     "text": [
      "INFO:tensorflow:Step 273400 per-step time 0.614s loss=0.151\n"
     ]
    },
    {
     "name": "stderr",
     "output_type": "stream",
     "text": [
      "[06/07 12:08:54] tensorflow INFO: Step 273400 per-step time 0.614s loss=0.151\n"
     ]
    },
    {
     "name": "stdout",
     "output_type": "stream",
     "text": [
      "INFO:tensorflow:Step 273500 per-step time 0.614s loss=0.249\n"
     ]
    },
    {
     "name": "stderr",
     "output_type": "stream",
     "text": [
      "[06/07 12:09:55] tensorflow INFO: Step 273500 per-step time 0.614s loss=0.249\n"
     ]
    },
    {
     "name": "stdout",
     "output_type": "stream",
     "text": [
      "INFO:tensorflow:Step 273600 per-step time 0.615s loss=0.355\n"
     ]
    },
    {
     "name": "stderr",
     "output_type": "stream",
     "text": [
      "[06/07 12:10:57] tensorflow INFO: Step 273600 per-step time 0.615s loss=0.355\n"
     ]
    },
    {
     "name": "stdout",
     "output_type": "stream",
     "text": [
      "INFO:tensorflow:Step 273700 per-step time 0.616s loss=0.030\n"
     ]
    },
    {
     "name": "stderr",
     "output_type": "stream",
     "text": [
      "[06/07 12:11:58] tensorflow INFO: Step 273700 per-step time 0.616s loss=0.030\n"
     ]
    },
    {
     "name": "stdout",
     "output_type": "stream",
     "text": [
      "INFO:tensorflow:Step 273800 per-step time 0.615s loss=0.060\n"
     ]
    },
    {
     "name": "stderr",
     "output_type": "stream",
     "text": [
      "[06/07 12:13:00] tensorflow INFO: Step 273800 per-step time 0.615s loss=0.060\n"
     ]
    },
    {
     "name": "stdout",
     "output_type": "stream",
     "text": [
      "INFO:tensorflow:Step 273900 per-step time 0.615s loss=0.029\n"
     ]
    },
    {
     "name": "stderr",
     "output_type": "stream",
     "text": [
      "[06/07 12:14:01] tensorflow INFO: Step 273900 per-step time 0.615s loss=0.029\n"
     ]
    },
    {
     "name": "stdout",
     "output_type": "stream",
     "text": [
      "INFO:tensorflow:Step 274000 per-step time 0.616s loss=0.036\n"
     ]
    },
    {
     "name": "stderr",
     "output_type": "stream",
     "text": [
      "[06/07 12:15:03] tensorflow INFO: Step 274000 per-step time 0.616s loss=0.036\n"
     ]
    },
    {
     "name": "stdout",
     "output_type": "stream",
     "text": [
      "INFO:tensorflow:Step 274100 per-step time 0.628s loss=0.030\n"
     ]
    },
    {
     "name": "stderr",
     "output_type": "stream",
     "text": [
      "[06/07 12:16:06] tensorflow INFO: Step 274100 per-step time 0.628s loss=0.030\n"
     ]
    },
    {
     "name": "stdout",
     "output_type": "stream",
     "text": [
      "INFO:tensorflow:Step 274200 per-step time 0.615s loss=0.006\n"
     ]
    },
    {
     "name": "stderr",
     "output_type": "stream",
     "text": [
      "[06/07 12:17:07] tensorflow INFO: Step 274200 per-step time 0.615s loss=0.006\n"
     ]
    },
    {
     "name": "stdout",
     "output_type": "stream",
     "text": [
      "INFO:tensorflow:Step 274300 per-step time 0.616s loss=0.115\n"
     ]
    },
    {
     "name": "stderr",
     "output_type": "stream",
     "text": [
      "[06/07 12:18:09] tensorflow INFO: Step 274300 per-step time 0.616s loss=0.115\n"
     ]
    },
    {
     "name": "stdout",
     "output_type": "stream",
     "text": [
      "INFO:tensorflow:Step 274400 per-step time 0.614s loss=0.154\n"
     ]
    },
    {
     "name": "stderr",
     "output_type": "stream",
     "text": [
      "[06/07 12:19:10] tensorflow INFO: Step 274400 per-step time 0.614s loss=0.154\n"
     ]
    },
    {
     "name": "stdout",
     "output_type": "stream",
     "text": [
      "INFO:tensorflow:Step 274500 per-step time 0.614s loss=0.045\n"
     ]
    },
    {
     "name": "stderr",
     "output_type": "stream",
     "text": [
      "[06/07 12:20:11] tensorflow INFO: Step 274500 per-step time 0.614s loss=0.045\n"
     ]
    },
    {
     "name": "stdout",
     "output_type": "stream",
     "text": [
      "INFO:tensorflow:Step 274600 per-step time 0.614s loss=0.028\n"
     ]
    },
    {
     "name": "stderr",
     "output_type": "stream",
     "text": [
      "[06/07 12:21:13] tensorflow INFO: Step 274600 per-step time 0.614s loss=0.028\n"
     ]
    },
    {
     "name": "stdout",
     "output_type": "stream",
     "text": [
      "INFO:tensorflow:Step 274700 per-step time 0.615s loss=0.021\n"
     ]
    },
    {
     "name": "stderr",
     "output_type": "stream",
     "text": [
      "[06/07 12:22:14] tensorflow INFO: Step 274700 per-step time 0.615s loss=0.021\n"
     ]
    },
    {
     "name": "stdout",
     "output_type": "stream",
     "text": [
      "INFO:tensorflow:Step 274800 per-step time 0.614s loss=0.022\n"
     ]
    },
    {
     "name": "stderr",
     "output_type": "stream",
     "text": [
      "[06/07 12:23:16] tensorflow INFO: Step 274800 per-step time 0.614s loss=0.022\n"
     ]
    },
    {
     "name": "stdout",
     "output_type": "stream",
     "text": [
      "INFO:tensorflow:Step 274900 per-step time 0.614s loss=0.078\n"
     ]
    },
    {
     "name": "stderr",
     "output_type": "stream",
     "text": [
      "[06/07 12:24:17] tensorflow INFO: Step 274900 per-step time 0.614s loss=0.078\n"
     ]
    },
    {
     "name": "stdout",
     "output_type": "stream",
     "text": [
      "INFO:tensorflow:Step 275000 per-step time 0.615s loss=0.021\n"
     ]
    },
    {
     "name": "stderr",
     "output_type": "stream",
     "text": [
      "[06/07 12:25:19] tensorflow INFO: Step 275000 per-step time 0.615s loss=0.021\n"
     ]
    },
    {
     "name": "stdout",
     "output_type": "stream",
     "text": [
      "INFO:tensorflow:Step 275100 per-step time 0.629s loss=0.080\n"
     ]
    },
    {
     "name": "stderr",
     "output_type": "stream",
     "text": [
      "[06/07 12:26:22] tensorflow INFO: Step 275100 per-step time 0.629s loss=0.080\n"
     ]
    },
    {
     "name": "stdout",
     "output_type": "stream",
     "text": [
      "INFO:tensorflow:Step 275200 per-step time 0.615s loss=0.038\n"
     ]
    },
    {
     "name": "stderr",
     "output_type": "stream",
     "text": [
      "[06/07 12:27:23] tensorflow INFO: Step 275200 per-step time 0.615s loss=0.038\n"
     ]
    },
    {
     "name": "stdout",
     "output_type": "stream",
     "text": [
      "INFO:tensorflow:Step 275300 per-step time 0.615s loss=0.008\n"
     ]
    },
    {
     "name": "stderr",
     "output_type": "stream",
     "text": [
      "[06/07 12:28:25] tensorflow INFO: Step 275300 per-step time 0.615s loss=0.008\n"
     ]
    },
    {
     "name": "stdout",
     "output_type": "stream",
     "text": [
      "INFO:tensorflow:Step 275400 per-step time 0.614s loss=0.137\n"
     ]
    },
    {
     "name": "stderr",
     "output_type": "stream",
     "text": [
      "[06/07 12:29:26] tensorflow INFO: Step 275400 per-step time 0.614s loss=0.137\n"
     ]
    },
    {
     "name": "stdout",
     "output_type": "stream",
     "text": [
      "INFO:tensorflow:Step 275500 per-step time 0.614s loss=0.174\n"
     ]
    },
    {
     "name": "stderr",
     "output_type": "stream",
     "text": [
      "[06/07 12:30:28] tensorflow INFO: Step 275500 per-step time 0.614s loss=0.174\n"
     ]
    },
    {
     "name": "stdout",
     "output_type": "stream",
     "text": [
      "INFO:tensorflow:Step 275600 per-step time 0.613s loss=0.010\n"
     ]
    },
    {
     "name": "stderr",
     "output_type": "stream",
     "text": [
      "[06/07 12:31:29] tensorflow INFO: Step 275600 per-step time 0.613s loss=0.010\n"
     ]
    },
    {
     "name": "stdout",
     "output_type": "stream",
     "text": [
      "INFO:tensorflow:Step 275700 per-step time 0.616s loss=0.010\n"
     ]
    },
    {
     "name": "stderr",
     "output_type": "stream",
     "text": [
      "[06/07 12:32:30] tensorflow INFO: Step 275700 per-step time 0.616s loss=0.010\n"
     ]
    },
    {
     "name": "stdout",
     "output_type": "stream",
     "text": [
      "INFO:tensorflow:Step 275800 per-step time 0.614s loss=0.035\n"
     ]
    },
    {
     "name": "stderr",
     "output_type": "stream",
     "text": [
      "[06/07 12:33:32] tensorflow INFO: Step 275800 per-step time 0.614s loss=0.035\n"
     ]
    },
    {
     "name": "stdout",
     "output_type": "stream",
     "text": [
      "INFO:tensorflow:Step 275900 per-step time 0.614s loss=0.221\n"
     ]
    },
    {
     "name": "stderr",
     "output_type": "stream",
     "text": [
      "[06/07 12:34:33] tensorflow INFO: Step 275900 per-step time 0.614s loss=0.221\n"
     ]
    },
    {
     "name": "stdout",
     "output_type": "stream",
     "text": [
      "INFO:tensorflow:Step 276000 per-step time 0.615s loss=0.053\n"
     ]
    },
    {
     "name": "stderr",
     "output_type": "stream",
     "text": [
      "[06/07 12:35:35] tensorflow INFO: Step 276000 per-step time 0.615s loss=0.053\n"
     ]
    },
    {
     "name": "stdout",
     "output_type": "stream",
     "text": [
      "INFO:tensorflow:Step 276100 per-step time 0.628s loss=0.514\n"
     ]
    },
    {
     "name": "stderr",
     "output_type": "stream",
     "text": [
      "[06/07 12:36:38] tensorflow INFO: Step 276100 per-step time 0.628s loss=0.514\n"
     ]
    },
    {
     "name": "stdout",
     "output_type": "stream",
     "text": [
      "INFO:tensorflow:Step 276200 per-step time 0.616s loss=0.100\n"
     ]
    },
    {
     "name": "stderr",
     "output_type": "stream",
     "text": [
      "[06/07 12:37:39] tensorflow INFO: Step 276200 per-step time 0.616s loss=0.100\n"
     ]
    },
    {
     "name": "stdout",
     "output_type": "stream",
     "text": [
      "INFO:tensorflow:Step 276300 per-step time 0.615s loss=0.006\n"
     ]
    },
    {
     "name": "stderr",
     "output_type": "stream",
     "text": [
      "[06/07 12:38:41] tensorflow INFO: Step 276300 per-step time 0.615s loss=0.006\n"
     ]
    },
    {
     "name": "stdout",
     "output_type": "stream",
     "text": [
      "INFO:tensorflow:Step 276400 per-step time 0.613s loss=0.062\n"
     ]
    },
    {
     "name": "stderr",
     "output_type": "stream",
     "text": [
      "[06/07 12:39:42] tensorflow INFO: Step 276400 per-step time 0.613s loss=0.062\n"
     ]
    },
    {
     "name": "stdout",
     "output_type": "stream",
     "text": [
      "INFO:tensorflow:Step 276500 per-step time 0.616s loss=0.029\n"
     ]
    },
    {
     "name": "stderr",
     "output_type": "stream",
     "text": [
      "[06/07 12:40:44] tensorflow INFO: Step 276500 per-step time 0.616s loss=0.029\n"
     ]
    },
    {
     "name": "stdout",
     "output_type": "stream",
     "text": [
      "INFO:tensorflow:Step 276600 per-step time 0.615s loss=0.020\n"
     ]
    },
    {
     "name": "stderr",
     "output_type": "stream",
     "text": [
      "[06/07 12:41:45] tensorflow INFO: Step 276600 per-step time 0.615s loss=0.020\n"
     ]
    },
    {
     "name": "stdout",
     "output_type": "stream",
     "text": [
      "INFO:tensorflow:Step 276700 per-step time 0.615s loss=0.011\n"
     ]
    },
    {
     "name": "stderr",
     "output_type": "stream",
     "text": [
      "[06/07 12:42:47] tensorflow INFO: Step 276700 per-step time 0.615s loss=0.011\n"
     ]
    },
    {
     "name": "stdout",
     "output_type": "stream",
     "text": [
      "INFO:tensorflow:Step 276800 per-step time 0.614s loss=0.095\n"
     ]
    },
    {
     "name": "stderr",
     "output_type": "stream",
     "text": [
      "[06/07 12:43:48] tensorflow INFO: Step 276800 per-step time 0.614s loss=0.095\n"
     ]
    },
    {
     "name": "stdout",
     "output_type": "stream",
     "text": [
      "INFO:tensorflow:Step 276900 per-step time 0.617s loss=0.005\n"
     ]
    },
    {
     "name": "stderr",
     "output_type": "stream",
     "text": [
      "[06/07 12:44:50] tensorflow INFO: Step 276900 per-step time 0.617s loss=0.005\n"
     ]
    },
    {
     "name": "stdout",
     "output_type": "stream",
     "text": [
      "INFO:tensorflow:Step 277000 per-step time 0.615s loss=0.013\n"
     ]
    },
    {
     "name": "stderr",
     "output_type": "stream",
     "text": [
      "[06/07 12:45:51] tensorflow INFO: Step 277000 per-step time 0.615s loss=0.013\n"
     ]
    },
    {
     "name": "stdout",
     "output_type": "stream",
     "text": [
      "INFO:tensorflow:Step 277100 per-step time 0.628s loss=0.033\n"
     ]
    },
    {
     "name": "stderr",
     "output_type": "stream",
     "text": [
      "[06/07 12:46:54] tensorflow INFO: Step 277100 per-step time 0.628s loss=0.033\n"
     ]
    },
    {
     "name": "stdout",
     "output_type": "stream",
     "text": [
      "INFO:tensorflow:Step 277200 per-step time 0.616s loss=0.026\n"
     ]
    },
    {
     "name": "stderr",
     "output_type": "stream",
     "text": [
      "[06/07 12:47:56] tensorflow INFO: Step 277200 per-step time 0.616s loss=0.026\n"
     ]
    },
    {
     "name": "stdout",
     "output_type": "stream",
     "text": [
      "INFO:tensorflow:Step 277300 per-step time 0.615s loss=0.203\n"
     ]
    },
    {
     "name": "stderr",
     "output_type": "stream",
     "text": [
      "[06/07 12:48:57] tensorflow INFO: Step 277300 per-step time 0.615s loss=0.203\n"
     ]
    },
    {
     "name": "stdout",
     "output_type": "stream",
     "text": [
      "INFO:tensorflow:Step 277400 per-step time 0.615s loss=0.016\n"
     ]
    },
    {
     "name": "stderr",
     "output_type": "stream",
     "text": [
      "[06/07 12:49:59] tensorflow INFO: Step 277400 per-step time 0.615s loss=0.016\n"
     ]
    },
    {
     "name": "stdout",
     "output_type": "stream",
     "text": [
      "INFO:tensorflow:Step 277500 per-step time 0.618s loss=0.015\n"
     ]
    },
    {
     "name": "stderr",
     "output_type": "stream",
     "text": [
      "[06/07 12:51:00] tensorflow INFO: Step 277500 per-step time 0.618s loss=0.015\n"
     ]
    },
    {
     "name": "stdout",
     "output_type": "stream",
     "text": [
      "INFO:tensorflow:Step 277600 per-step time 0.615s loss=0.053\n"
     ]
    },
    {
     "name": "stderr",
     "output_type": "stream",
     "text": [
      "[06/07 12:52:02] tensorflow INFO: Step 277600 per-step time 0.615s loss=0.053\n"
     ]
    },
    {
     "name": "stdout",
     "output_type": "stream",
     "text": [
      "INFO:tensorflow:Step 277700 per-step time 0.616s loss=0.024\n"
     ]
    },
    {
     "name": "stderr",
     "output_type": "stream",
     "text": [
      "[06/07 12:53:03] tensorflow INFO: Step 277700 per-step time 0.616s loss=0.024\n"
     ]
    },
    {
     "name": "stdout",
     "output_type": "stream",
     "text": [
      "INFO:tensorflow:Step 277800 per-step time 0.615s loss=0.063\n"
     ]
    },
    {
     "name": "stderr",
     "output_type": "stream",
     "text": [
      "[06/07 12:54:05] tensorflow INFO: Step 277800 per-step time 0.615s loss=0.063\n"
     ]
    },
    {
     "name": "stdout",
     "output_type": "stream",
     "text": [
      "INFO:tensorflow:Step 277900 per-step time 0.615s loss=0.204\n"
     ]
    },
    {
     "name": "stderr",
     "output_type": "stream",
     "text": [
      "[06/07 12:55:06] tensorflow INFO: Step 277900 per-step time 0.615s loss=0.204\n"
     ]
    },
    {
     "name": "stdout",
     "output_type": "stream",
     "text": [
      "INFO:tensorflow:Step 278000 per-step time 0.616s loss=0.073\n"
     ]
    },
    {
     "name": "stderr",
     "output_type": "stream",
     "text": [
      "[06/07 12:56:08] tensorflow INFO: Step 278000 per-step time 0.616s loss=0.073\n"
     ]
    },
    {
     "name": "stdout",
     "output_type": "stream",
     "text": [
      "INFO:tensorflow:Step 278100 per-step time 0.629s loss=0.036\n"
     ]
    },
    {
     "name": "stderr",
     "output_type": "stream",
     "text": [
      "[06/07 12:57:11] tensorflow INFO: Step 278100 per-step time 0.629s loss=0.036\n"
     ]
    },
    {
     "name": "stdout",
     "output_type": "stream",
     "text": [
      "INFO:tensorflow:Step 278200 per-step time 0.615s loss=0.250\n"
     ]
    },
    {
     "name": "stderr",
     "output_type": "stream",
     "text": [
      "[06/07 12:58:12] tensorflow INFO: Step 278200 per-step time 0.615s loss=0.250\n"
     ]
    },
    {
     "name": "stdout",
     "output_type": "stream",
     "text": [
      "INFO:tensorflow:Step 278300 per-step time 0.614s loss=0.057\n"
     ]
    },
    {
     "name": "stderr",
     "output_type": "stream",
     "text": [
      "[06/07 12:59:14] tensorflow INFO: Step 278300 per-step time 0.614s loss=0.057\n"
     ]
    },
    {
     "name": "stdout",
     "output_type": "stream",
     "text": [
      "INFO:tensorflow:Step 278400 per-step time 0.615s loss=0.020\n"
     ]
    },
    {
     "name": "stderr",
     "output_type": "stream",
     "text": [
      "[06/07 13:00:15] tensorflow INFO: Step 278400 per-step time 0.615s loss=0.020\n"
     ]
    },
    {
     "name": "stdout",
     "output_type": "stream",
     "text": [
      "INFO:tensorflow:Step 278500 per-step time 0.616s loss=0.025\n"
     ]
    },
    {
     "name": "stderr",
     "output_type": "stream",
     "text": [
      "[06/07 13:01:17] tensorflow INFO: Step 278500 per-step time 0.616s loss=0.025\n"
     ]
    },
    {
     "name": "stdout",
     "output_type": "stream",
     "text": [
      "INFO:tensorflow:Step 278600 per-step time 0.614s loss=0.566\n"
     ]
    },
    {
     "name": "stderr",
     "output_type": "stream",
     "text": [
      "[06/07 13:02:18] tensorflow INFO: Step 278600 per-step time 0.614s loss=0.566\n"
     ]
    },
    {
     "name": "stdout",
     "output_type": "stream",
     "text": [
      "INFO:tensorflow:Step 278700 per-step time 0.614s loss=0.042\n"
     ]
    },
    {
     "name": "stderr",
     "output_type": "stream",
     "text": [
      "[06/07 13:03:20] tensorflow INFO: Step 278700 per-step time 0.614s loss=0.042\n"
     ]
    },
    {
     "name": "stdout",
     "output_type": "stream",
     "text": [
      "INFO:tensorflow:Step 278800 per-step time 0.617s loss=0.041\n"
     ]
    },
    {
     "name": "stderr",
     "output_type": "stream",
     "text": [
      "[06/07 13:04:22] tensorflow INFO: Step 278800 per-step time 0.617s loss=0.041\n"
     ]
    },
    {
     "name": "stdout",
     "output_type": "stream",
     "text": [
      "INFO:tensorflow:Step 278900 per-step time 0.615s loss=0.541\n"
     ]
    },
    {
     "name": "stderr",
     "output_type": "stream",
     "text": [
      "[06/07 13:05:23] tensorflow INFO: Step 278900 per-step time 0.615s loss=0.541\n"
     ]
    },
    {
     "name": "stdout",
     "output_type": "stream",
     "text": [
      "INFO:tensorflow:Step 279000 per-step time 0.616s loss=0.023\n"
     ]
    },
    {
     "name": "stderr",
     "output_type": "stream",
     "text": [
      "[06/07 13:06:25] tensorflow INFO: Step 279000 per-step time 0.616s loss=0.023\n"
     ]
    },
    {
     "name": "stdout",
     "output_type": "stream",
     "text": [
      "INFO:tensorflow:Step 279100 per-step time 0.628s loss=0.054\n"
     ]
    },
    {
     "name": "stderr",
     "output_type": "stream",
     "text": [
      "[06/07 13:07:27] tensorflow INFO: Step 279100 per-step time 0.628s loss=0.054\n"
     ]
    },
    {
     "name": "stdout",
     "output_type": "stream",
     "text": [
      "INFO:tensorflow:Step 279200 per-step time 0.616s loss=0.024\n"
     ]
    },
    {
     "name": "stderr",
     "output_type": "stream",
     "text": [
      "[06/07 13:08:29] tensorflow INFO: Step 279200 per-step time 0.616s loss=0.024\n"
     ]
    },
    {
     "name": "stdout",
     "output_type": "stream",
     "text": [
      "INFO:tensorflow:Step 279300 per-step time 0.618s loss=0.270\n"
     ]
    },
    {
     "name": "stderr",
     "output_type": "stream",
     "text": [
      "[06/07 13:09:31] tensorflow INFO: Step 279300 per-step time 0.618s loss=0.270\n"
     ]
    },
    {
     "name": "stdout",
     "output_type": "stream",
     "text": [
      "INFO:tensorflow:Step 279400 per-step time 0.615s loss=0.018\n"
     ]
    },
    {
     "name": "stderr",
     "output_type": "stream",
     "text": [
      "[06/07 13:10:32] tensorflow INFO: Step 279400 per-step time 0.615s loss=0.018\n"
     ]
    },
    {
     "name": "stdout",
     "output_type": "stream",
     "text": [
      "INFO:tensorflow:Step 279500 per-step time 0.614s loss=0.104\n"
     ]
    },
    {
     "name": "stderr",
     "output_type": "stream",
     "text": [
      "[06/07 13:11:34] tensorflow INFO: Step 279500 per-step time 0.614s loss=0.104\n"
     ]
    },
    {
     "name": "stdout",
     "output_type": "stream",
     "text": [
      "INFO:tensorflow:Step 279600 per-step time 0.615s loss=0.014\n"
     ]
    },
    {
     "name": "stderr",
     "output_type": "stream",
     "text": [
      "[06/07 13:12:35] tensorflow INFO: Step 279600 per-step time 0.615s loss=0.014\n"
     ]
    },
    {
     "name": "stdout",
     "output_type": "stream",
     "text": [
      "INFO:tensorflow:Step 279700 per-step time 0.614s loss=0.045\n"
     ]
    },
    {
     "name": "stderr",
     "output_type": "stream",
     "text": [
      "[06/07 13:13:37] tensorflow INFO: Step 279700 per-step time 0.614s loss=0.045\n"
     ]
    },
    {
     "name": "stdout",
     "output_type": "stream",
     "text": [
      "INFO:tensorflow:Step 279800 per-step time 0.614s loss=0.050\n"
     ]
    },
    {
     "name": "stderr",
     "output_type": "stream",
     "text": [
      "[06/07 13:14:38] tensorflow INFO: Step 279800 per-step time 0.614s loss=0.050\n"
     ]
    },
    {
     "name": "stdout",
     "output_type": "stream",
     "text": [
      "INFO:tensorflow:Step 279900 per-step time 0.616s loss=0.009\n"
     ]
    },
    {
     "name": "stderr",
     "output_type": "stream",
     "text": [
      "[06/07 13:15:40] tensorflow INFO: Step 279900 per-step time 0.616s loss=0.009\n"
     ]
    },
    {
     "name": "stdout",
     "output_type": "stream",
     "text": [
      "INFO:tensorflow:Step 280000 per-step time 0.616s loss=0.053\n"
     ]
    },
    {
     "name": "stderr",
     "output_type": "stream",
     "text": [
      "[06/07 13:16:41] tensorflow INFO: Step 280000 per-step time 0.616s loss=0.053\n"
     ]
    },
    {
     "name": "stdout",
     "output_type": "stream",
     "text": [
      "INFO:tensorflow:Step 280100 per-step time 0.628s loss=0.037\n"
     ]
    },
    {
     "name": "stderr",
     "output_type": "stream",
     "text": [
      "[06/07 13:17:44] tensorflow INFO: Step 280100 per-step time 0.628s loss=0.037\n"
     ]
    },
    {
     "name": "stdout",
     "output_type": "stream",
     "text": [
      "INFO:tensorflow:Step 280200 per-step time 0.617s loss=0.134\n"
     ]
    },
    {
     "name": "stderr",
     "output_type": "stream",
     "text": [
      "[06/07 13:18:46] tensorflow INFO: Step 280200 per-step time 0.617s loss=0.134\n"
     ]
    },
    {
     "name": "stdout",
     "output_type": "stream",
     "text": [
      "INFO:tensorflow:Step 280300 per-step time 0.613s loss=0.037\n"
     ]
    },
    {
     "name": "stderr",
     "output_type": "stream",
     "text": [
      "[06/07 13:19:47] tensorflow INFO: Step 280300 per-step time 0.613s loss=0.037\n"
     ]
    },
    {
     "name": "stdout",
     "output_type": "stream",
     "text": [
      "INFO:tensorflow:Step 280400 per-step time 0.617s loss=0.041\n"
     ]
    },
    {
     "name": "stderr",
     "output_type": "stream",
     "text": [
      "[06/07 13:20:49] tensorflow INFO: Step 280400 per-step time 0.617s loss=0.041\n"
     ]
    },
    {
     "name": "stdout",
     "output_type": "stream",
     "text": [
      "INFO:tensorflow:Step 280500 per-step time 0.614s loss=0.042\n"
     ]
    },
    {
     "name": "stderr",
     "output_type": "stream",
     "text": [
      "[06/07 13:21:50] tensorflow INFO: Step 280500 per-step time 0.614s loss=0.042\n"
     ]
    },
    {
     "name": "stdout",
     "output_type": "stream",
     "text": [
      "INFO:tensorflow:Step 280600 per-step time 0.615s loss=0.027\n"
     ]
    },
    {
     "name": "stderr",
     "output_type": "stream",
     "text": [
      "[06/07 13:22:52] tensorflow INFO: Step 280600 per-step time 0.615s loss=0.027\n"
     ]
    },
    {
     "name": "stdout",
     "output_type": "stream",
     "text": [
      "INFO:tensorflow:Step 280700 per-step time 0.616s loss=0.007\n"
     ]
    },
    {
     "name": "stderr",
     "output_type": "stream",
     "text": [
      "[06/07 13:23:53] tensorflow INFO: Step 280700 per-step time 0.616s loss=0.007\n"
     ]
    },
    {
     "name": "stdout",
     "output_type": "stream",
     "text": [
      "INFO:tensorflow:Step 280800 per-step time 0.617s loss=0.010\n"
     ]
    },
    {
     "name": "stderr",
     "output_type": "stream",
     "text": [
      "[06/07 13:24:55] tensorflow INFO: Step 280800 per-step time 0.617s loss=0.010\n"
     ]
    },
    {
     "name": "stdout",
     "output_type": "stream",
     "text": [
      "INFO:tensorflow:Step 280900 per-step time 0.614s loss=0.021\n"
     ]
    },
    {
     "name": "stderr",
     "output_type": "stream",
     "text": [
      "[06/07 13:25:56] tensorflow INFO: Step 280900 per-step time 0.614s loss=0.021\n"
     ]
    },
    {
     "name": "stdout",
     "output_type": "stream",
     "text": [
      "INFO:tensorflow:Step 281000 per-step time 0.616s loss=0.024\n"
     ]
    },
    {
     "name": "stderr",
     "output_type": "stream",
     "text": [
      "[06/07 13:26:58] tensorflow INFO: Step 281000 per-step time 0.616s loss=0.024\n"
     ]
    },
    {
     "name": "stdout",
     "output_type": "stream",
     "text": [
      "INFO:tensorflow:Step 281100 per-step time 0.629s loss=0.126\n"
     ]
    },
    {
     "name": "stderr",
     "output_type": "stream",
     "text": [
      "[06/07 13:28:01] tensorflow INFO: Step 281100 per-step time 0.629s loss=0.126\n"
     ]
    },
    {
     "name": "stdout",
     "output_type": "stream",
     "text": [
      "INFO:tensorflow:Step 281200 per-step time 0.615s loss=0.007\n"
     ]
    },
    {
     "name": "stderr",
     "output_type": "stream",
     "text": [
      "[06/07 13:29:02] tensorflow INFO: Step 281200 per-step time 0.615s loss=0.007\n"
     ]
    },
    {
     "name": "stdout",
     "output_type": "stream",
     "text": [
      "INFO:tensorflow:Step 281300 per-step time 0.616s loss=0.011\n"
     ]
    },
    {
     "name": "stderr",
     "output_type": "stream",
     "text": [
      "[06/07 13:30:04] tensorflow INFO: Step 281300 per-step time 0.616s loss=0.011\n"
     ]
    },
    {
     "name": "stdout",
     "output_type": "stream",
     "text": [
      "INFO:tensorflow:Step 281400 per-step time 0.615s loss=0.065\n"
     ]
    },
    {
     "name": "stderr",
     "output_type": "stream",
     "text": [
      "[06/07 13:31:05] tensorflow INFO: Step 281400 per-step time 0.615s loss=0.065\n"
     ]
    },
    {
     "name": "stdout",
     "output_type": "stream",
     "text": [
      "INFO:tensorflow:Step 281500 per-step time 0.616s loss=0.102\n"
     ]
    },
    {
     "name": "stderr",
     "output_type": "stream",
     "text": [
      "[06/07 13:32:07] tensorflow INFO: Step 281500 per-step time 0.616s loss=0.102\n"
     ]
    },
    {
     "name": "stdout",
     "output_type": "stream",
     "text": [
      "INFO:tensorflow:Step 281600 per-step time 0.614s loss=0.016\n"
     ]
    },
    {
     "name": "stderr",
     "output_type": "stream",
     "text": [
      "[06/07 13:33:08] tensorflow INFO: Step 281600 per-step time 0.614s loss=0.016\n"
     ]
    },
    {
     "name": "stdout",
     "output_type": "stream",
     "text": [
      "INFO:tensorflow:Step 281700 per-step time 0.615s loss=0.081\n"
     ]
    },
    {
     "name": "stderr",
     "output_type": "stream",
     "text": [
      "[06/07 13:34:10] tensorflow INFO: Step 281700 per-step time 0.615s loss=0.081\n"
     ]
    },
    {
     "name": "stdout",
     "output_type": "stream",
     "text": [
      "INFO:tensorflow:Step 281800 per-step time 0.615s loss=0.125\n"
     ]
    },
    {
     "name": "stderr",
     "output_type": "stream",
     "text": [
      "[06/07 13:35:11] tensorflow INFO: Step 281800 per-step time 0.615s loss=0.125\n"
     ]
    },
    {
     "name": "stdout",
     "output_type": "stream",
     "text": [
      "INFO:tensorflow:Step 281900 per-step time 0.614s loss=0.016\n"
     ]
    },
    {
     "name": "stderr",
     "output_type": "stream",
     "text": [
      "[06/07 13:36:13] tensorflow INFO: Step 281900 per-step time 0.614s loss=0.016\n"
     ]
    },
    {
     "name": "stdout",
     "output_type": "stream",
     "text": [
      "INFO:tensorflow:Step 282000 per-step time 0.615s loss=0.013\n"
     ]
    },
    {
     "name": "stderr",
     "output_type": "stream",
     "text": [
      "[06/07 13:37:14] tensorflow INFO: Step 282000 per-step time 0.615s loss=0.013\n"
     ]
    },
    {
     "name": "stdout",
     "output_type": "stream",
     "text": [
      "INFO:tensorflow:Step 282100 per-step time 0.629s loss=0.057\n"
     ]
    },
    {
     "name": "stderr",
     "output_type": "stream",
     "text": [
      "[06/07 13:38:17] tensorflow INFO: Step 282100 per-step time 0.629s loss=0.057\n"
     ]
    },
    {
     "name": "stdout",
     "output_type": "stream",
     "text": [
      "INFO:tensorflow:Step 282200 per-step time 0.615s loss=0.035\n"
     ]
    },
    {
     "name": "stderr",
     "output_type": "stream",
     "text": [
      "[06/07 13:39:19] tensorflow INFO: Step 282200 per-step time 0.615s loss=0.035\n"
     ]
    },
    {
     "name": "stdout",
     "output_type": "stream",
     "text": [
      "INFO:tensorflow:Step 282300 per-step time 0.615s loss=0.040\n"
     ]
    },
    {
     "name": "stderr",
     "output_type": "stream",
     "text": [
      "[06/07 13:40:20] tensorflow INFO: Step 282300 per-step time 0.615s loss=0.040\n"
     ]
    },
    {
     "name": "stdout",
     "output_type": "stream",
     "text": [
      "INFO:tensorflow:Step 282400 per-step time 0.615s loss=0.085\n"
     ]
    },
    {
     "name": "stderr",
     "output_type": "stream",
     "text": [
      "[06/07 13:41:22] tensorflow INFO: Step 282400 per-step time 0.615s loss=0.085\n"
     ]
    },
    {
     "name": "stdout",
     "output_type": "stream",
     "text": [
      "INFO:tensorflow:Step 282500 per-step time 0.616s loss=0.050\n"
     ]
    },
    {
     "name": "stderr",
     "output_type": "stream",
     "text": [
      "[06/07 13:42:23] tensorflow INFO: Step 282500 per-step time 0.616s loss=0.050\n"
     ]
    },
    {
     "name": "stdout",
     "output_type": "stream",
     "text": [
      "INFO:tensorflow:Step 282600 per-step time 0.615s loss=0.032\n"
     ]
    },
    {
     "name": "stderr",
     "output_type": "stream",
     "text": [
      "[06/07 13:43:25] tensorflow INFO: Step 282600 per-step time 0.615s loss=0.032\n"
     ]
    },
    {
     "name": "stdout",
     "output_type": "stream",
     "text": [
      "INFO:tensorflow:Step 282700 per-step time 0.616s loss=0.136\n"
     ]
    },
    {
     "name": "stderr",
     "output_type": "stream",
     "text": [
      "[06/07 13:44:27] tensorflow INFO: Step 282700 per-step time 0.616s loss=0.136\n"
     ]
    },
    {
     "name": "stdout",
     "output_type": "stream",
     "text": [
      "INFO:tensorflow:Step 282800 per-step time 0.616s loss=0.056\n"
     ]
    },
    {
     "name": "stderr",
     "output_type": "stream",
     "text": [
      "[06/07 13:45:28] tensorflow INFO: Step 282800 per-step time 0.616s loss=0.056\n"
     ]
    },
    {
     "name": "stdout",
     "output_type": "stream",
     "text": [
      "INFO:tensorflow:Step 282900 per-step time 0.616s loss=0.102\n"
     ]
    },
    {
     "name": "stderr",
     "output_type": "stream",
     "text": [
      "[06/07 13:46:30] tensorflow INFO: Step 282900 per-step time 0.616s loss=0.102\n"
     ]
    },
    {
     "name": "stdout",
     "output_type": "stream",
     "text": [
      "INFO:tensorflow:Step 283000 per-step time 0.616s loss=0.016\n"
     ]
    },
    {
     "name": "stderr",
     "output_type": "stream",
     "text": [
      "[06/07 13:47:31] tensorflow INFO: Step 283000 per-step time 0.616s loss=0.016\n"
     ]
    },
    {
     "name": "stdout",
     "output_type": "stream",
     "text": [
      "INFO:tensorflow:Step 283100 per-step time 0.629s loss=0.058\n"
     ]
    },
    {
     "name": "stderr",
     "output_type": "stream",
     "text": [
      "[06/07 13:48:34] tensorflow INFO: Step 283100 per-step time 0.629s loss=0.058\n"
     ]
    },
    {
     "name": "stdout",
     "output_type": "stream",
     "text": [
      "INFO:tensorflow:Step 283200 per-step time 0.615s loss=0.053\n"
     ]
    },
    {
     "name": "stderr",
     "output_type": "stream",
     "text": [
      "[06/07 13:49:36] tensorflow INFO: Step 283200 per-step time 0.615s loss=0.053\n"
     ]
    },
    {
     "name": "stdout",
     "output_type": "stream",
     "text": [
      "INFO:tensorflow:Step 283300 per-step time 0.616s loss=0.081\n"
     ]
    },
    {
     "name": "stderr",
     "output_type": "stream",
     "text": [
      "[06/07 13:50:37] tensorflow INFO: Step 283300 per-step time 0.616s loss=0.081\n"
     ]
    },
    {
     "name": "stdout",
     "output_type": "stream",
     "text": [
      "INFO:tensorflow:Step 283400 per-step time 0.614s loss=0.032\n"
     ]
    },
    {
     "name": "stderr",
     "output_type": "stream",
     "text": [
      "[06/07 13:51:39] tensorflow INFO: Step 283400 per-step time 0.614s loss=0.032\n"
     ]
    },
    {
     "name": "stdout",
     "output_type": "stream",
     "text": [
      "INFO:tensorflow:Step 283500 per-step time 0.617s loss=0.032\n"
     ]
    },
    {
     "name": "stderr",
     "output_type": "stream",
     "text": [
      "[06/07 13:52:40] tensorflow INFO: Step 283500 per-step time 0.617s loss=0.032\n"
     ]
    },
    {
     "name": "stdout",
     "output_type": "stream",
     "text": [
      "INFO:tensorflow:Step 283600 per-step time 0.616s loss=0.133\n"
     ]
    },
    {
     "name": "stderr",
     "output_type": "stream",
     "text": [
      "[06/07 13:53:42] tensorflow INFO: Step 283600 per-step time 0.616s loss=0.133\n"
     ]
    },
    {
     "name": "stdout",
     "output_type": "stream",
     "text": [
      "INFO:tensorflow:Step 283700 per-step time 0.616s loss=0.072\n"
     ]
    },
    {
     "name": "stderr",
     "output_type": "stream",
     "text": [
      "[06/07 13:54:44] tensorflow INFO: Step 283700 per-step time 0.616s loss=0.072\n"
     ]
    },
    {
     "name": "stdout",
     "output_type": "stream",
     "text": [
      "INFO:tensorflow:Step 283800 per-step time 0.615s loss=0.057\n"
     ]
    },
    {
     "name": "stderr",
     "output_type": "stream",
     "text": [
      "[06/07 13:55:45] tensorflow INFO: Step 283800 per-step time 0.615s loss=0.057\n"
     ]
    },
    {
     "name": "stdout",
     "output_type": "stream",
     "text": [
      "INFO:tensorflow:Step 283900 per-step time 0.615s loss=0.014\n"
     ]
    },
    {
     "name": "stderr",
     "output_type": "stream",
     "text": [
      "[06/07 13:56:47] tensorflow INFO: Step 283900 per-step time 0.615s loss=0.014\n"
     ]
    },
    {
     "name": "stdout",
     "output_type": "stream",
     "text": [
      "INFO:tensorflow:Step 284000 per-step time 0.616s loss=0.013\n"
     ]
    },
    {
     "name": "stderr",
     "output_type": "stream",
     "text": [
      "[06/07 13:57:48] tensorflow INFO: Step 284000 per-step time 0.616s loss=0.013\n"
     ]
    },
    {
     "name": "stdout",
     "output_type": "stream",
     "text": [
      "INFO:tensorflow:Step 284100 per-step time 0.630s loss=0.061\n"
     ]
    },
    {
     "name": "stderr",
     "output_type": "stream",
     "text": [
      "[06/07 13:58:51] tensorflow INFO: Step 284100 per-step time 0.630s loss=0.061\n"
     ]
    },
    {
     "name": "stdout",
     "output_type": "stream",
     "text": [
      "INFO:tensorflow:Step 284200 per-step time 0.613s loss=0.031\n"
     ]
    },
    {
     "name": "stderr",
     "output_type": "stream",
     "text": [
      "[06/07 13:59:52] tensorflow INFO: Step 284200 per-step time 0.613s loss=0.031\n"
     ]
    },
    {
     "name": "stdout",
     "output_type": "stream",
     "text": [
      "INFO:tensorflow:Step 284300 per-step time 0.616s loss=0.054\n"
     ]
    },
    {
     "name": "stderr",
     "output_type": "stream",
     "text": [
      "[06/07 14:00:54] tensorflow INFO: Step 284300 per-step time 0.616s loss=0.054\n"
     ]
    },
    {
     "name": "stdout",
     "output_type": "stream",
     "text": [
      "INFO:tensorflow:Step 284400 per-step time 0.615s loss=0.019\n"
     ]
    },
    {
     "name": "stderr",
     "output_type": "stream",
     "text": [
      "[06/07 14:01:56] tensorflow INFO: Step 284400 per-step time 0.615s loss=0.019\n"
     ]
    },
    {
     "name": "stdout",
     "output_type": "stream",
     "text": [
      "INFO:tensorflow:Step 284500 per-step time 0.617s loss=0.237\n"
     ]
    },
    {
     "name": "stderr",
     "output_type": "stream",
     "text": [
      "[06/07 14:02:57] tensorflow INFO: Step 284500 per-step time 0.617s loss=0.237\n"
     ]
    },
    {
     "name": "stdout",
     "output_type": "stream",
     "text": [
      "INFO:tensorflow:Step 284600 per-step time 0.615s loss=0.042\n"
     ]
    },
    {
     "name": "stderr",
     "output_type": "stream",
     "text": [
      "[06/07 14:03:59] tensorflow INFO: Step 284600 per-step time 0.615s loss=0.042\n"
     ]
    },
    {
     "name": "stdout",
     "output_type": "stream",
     "text": [
      "INFO:tensorflow:Step 284700 per-step time 0.614s loss=0.011\n"
     ]
    },
    {
     "name": "stderr",
     "output_type": "stream",
     "text": [
      "[06/07 14:05:00] tensorflow INFO: Step 284700 per-step time 0.614s loss=0.011\n"
     ]
    },
    {
     "name": "stdout",
     "output_type": "stream",
     "text": [
      "INFO:tensorflow:Step 284800 per-step time 0.615s loss=0.058\n"
     ]
    },
    {
     "name": "stderr",
     "output_type": "stream",
     "text": [
      "[06/07 14:06:02] tensorflow INFO: Step 284800 per-step time 0.615s loss=0.058\n"
     ]
    },
    {
     "name": "stdout",
     "output_type": "stream",
     "text": [
      "INFO:tensorflow:Step 284900 per-step time 0.615s loss=0.019\n"
     ]
    },
    {
     "name": "stderr",
     "output_type": "stream",
     "text": [
      "[06/07 14:07:03] tensorflow INFO: Step 284900 per-step time 0.615s loss=0.019\n"
     ]
    },
    {
     "name": "stdout",
     "output_type": "stream",
     "text": [
      "INFO:tensorflow:Step 285000 per-step time 0.615s loss=0.395\n"
     ]
    },
    {
     "name": "stderr",
     "output_type": "stream",
     "text": [
      "[06/07 14:08:05] tensorflow INFO: Step 285000 per-step time 0.615s loss=0.395\n"
     ]
    },
    {
     "name": "stdout",
     "output_type": "stream",
     "text": [
      "INFO:tensorflow:Step 285100 per-step time 0.628s loss=0.058\n"
     ]
    },
    {
     "name": "stderr",
     "output_type": "stream",
     "text": [
      "[06/07 14:09:07] tensorflow INFO: Step 285100 per-step time 0.628s loss=0.058\n"
     ]
    },
    {
     "name": "stdout",
     "output_type": "stream",
     "text": [
      "INFO:tensorflow:Step 285200 per-step time 0.616s loss=0.018\n"
     ]
    },
    {
     "name": "stderr",
     "output_type": "stream",
     "text": [
      "[06/07 14:10:09] tensorflow INFO: Step 285200 per-step time 0.616s loss=0.018\n"
     ]
    },
    {
     "name": "stdout",
     "output_type": "stream",
     "text": [
      "INFO:tensorflow:Step 285300 per-step time 0.614s loss=0.010\n"
     ]
    },
    {
     "name": "stderr",
     "output_type": "stream",
     "text": [
      "[06/07 14:11:10] tensorflow INFO: Step 285300 per-step time 0.614s loss=0.010\n"
     ]
    },
    {
     "name": "stdout",
     "output_type": "stream",
     "text": [
      "INFO:tensorflow:Step 285400 per-step time 0.616s loss=0.036\n"
     ]
    },
    {
     "name": "stderr",
     "output_type": "stream",
     "text": [
      "[06/07 14:12:12] tensorflow INFO: Step 285400 per-step time 0.616s loss=0.036\n"
     ]
    },
    {
     "name": "stdout",
     "output_type": "stream",
     "text": [
      "INFO:tensorflow:Step 285500 per-step time 0.615s loss=0.099\n"
     ]
    },
    {
     "name": "stderr",
     "output_type": "stream",
     "text": [
      "[06/07 14:13:13] tensorflow INFO: Step 285500 per-step time 0.615s loss=0.099\n"
     ]
    },
    {
     "name": "stdout",
     "output_type": "stream",
     "text": [
      "INFO:tensorflow:Step 285600 per-step time 0.616s loss=0.011\n"
     ]
    },
    {
     "name": "stderr",
     "output_type": "stream",
     "text": [
      "[06/07 14:14:15] tensorflow INFO: Step 285600 per-step time 0.616s loss=0.011\n"
     ]
    },
    {
     "name": "stdout",
     "output_type": "stream",
     "text": [
      "INFO:tensorflow:Step 285700 per-step time 0.616s loss=0.369\n"
     ]
    },
    {
     "name": "stderr",
     "output_type": "stream",
     "text": [
      "[06/07 14:15:17] tensorflow INFO: Step 285700 per-step time 0.616s loss=0.369\n"
     ]
    },
    {
     "name": "stdout",
     "output_type": "stream",
     "text": [
      "INFO:tensorflow:Step 285800 per-step time 0.615s loss=0.010\n"
     ]
    },
    {
     "name": "stderr",
     "output_type": "stream",
     "text": [
      "[06/07 14:16:18] tensorflow INFO: Step 285800 per-step time 0.615s loss=0.010\n"
     ]
    },
    {
     "name": "stdout",
     "output_type": "stream",
     "text": [
      "INFO:tensorflow:Step 285900 per-step time 0.614s loss=0.028\n"
     ]
    },
    {
     "name": "stderr",
     "output_type": "stream",
     "text": [
      "[06/07 14:17:20] tensorflow INFO: Step 285900 per-step time 0.614s loss=0.028\n"
     ]
    },
    {
     "name": "stdout",
     "output_type": "stream",
     "text": [
      "INFO:tensorflow:Step 286000 per-step time 0.616s loss=0.189\n"
     ]
    },
    {
     "name": "stderr",
     "output_type": "stream",
     "text": [
      "[06/07 14:18:21] tensorflow INFO: Step 286000 per-step time 0.616s loss=0.189\n"
     ]
    },
    {
     "name": "stdout",
     "output_type": "stream",
     "text": [
      "INFO:tensorflow:Step 286100 per-step time 0.628s loss=0.070\n"
     ]
    },
    {
     "name": "stderr",
     "output_type": "stream",
     "text": [
      "[06/07 14:19:24] tensorflow INFO: Step 286100 per-step time 0.628s loss=0.070\n"
     ]
    },
    {
     "name": "stdout",
     "output_type": "stream",
     "text": [
      "INFO:tensorflow:Step 286200 per-step time 0.616s loss=0.010\n"
     ]
    },
    {
     "name": "stderr",
     "output_type": "stream",
     "text": [
      "[06/07 14:20:26] tensorflow INFO: Step 286200 per-step time 0.616s loss=0.010\n"
     ]
    },
    {
     "name": "stdout",
     "output_type": "stream",
     "text": [
      "INFO:tensorflow:Step 286300 per-step time 0.615s loss=0.029\n"
     ]
    },
    {
     "name": "stderr",
     "output_type": "stream",
     "text": [
      "[06/07 14:21:27] tensorflow INFO: Step 286300 per-step time 0.615s loss=0.029\n"
     ]
    },
    {
     "name": "stdout",
     "output_type": "stream",
     "text": [
      "INFO:tensorflow:Step 286400 per-step time 0.616s loss=0.100\n"
     ]
    },
    {
     "name": "stderr",
     "output_type": "stream",
     "text": [
      "[06/07 14:22:29] tensorflow INFO: Step 286400 per-step time 0.616s loss=0.100\n"
     ]
    },
    {
     "name": "stdout",
     "output_type": "stream",
     "text": [
      "INFO:tensorflow:Step 286500 per-step time 0.614s loss=0.010\n"
     ]
    },
    {
     "name": "stderr",
     "output_type": "stream",
     "text": [
      "[06/07 14:23:30] tensorflow INFO: Step 286500 per-step time 0.614s loss=0.010\n"
     ]
    },
    {
     "name": "stdout",
     "output_type": "stream",
     "text": [
      "INFO:tensorflow:Step 286600 per-step time 0.616s loss=0.032\n"
     ]
    },
    {
     "name": "stderr",
     "output_type": "stream",
     "text": [
      "[06/07 14:24:32] tensorflow INFO: Step 286600 per-step time 0.616s loss=0.032\n"
     ]
    },
    {
     "name": "stdout",
     "output_type": "stream",
     "text": [
      "INFO:tensorflow:Step 286700 per-step time 0.616s loss=0.018\n"
     ]
    },
    {
     "name": "stderr",
     "output_type": "stream",
     "text": [
      "[06/07 14:25:33] tensorflow INFO: Step 286700 per-step time 0.616s loss=0.018\n"
     ]
    },
    {
     "name": "stdout",
     "output_type": "stream",
     "text": [
      "INFO:tensorflow:Step 286800 per-step time 0.617s loss=0.083\n"
     ]
    },
    {
     "name": "stderr",
     "output_type": "stream",
     "text": [
      "[06/07 14:26:35] tensorflow INFO: Step 286800 per-step time 0.617s loss=0.083\n"
     ]
    },
    {
     "name": "stdout",
     "output_type": "stream",
     "text": [
      "INFO:tensorflow:Step 286900 per-step time 0.615s loss=0.220\n"
     ]
    },
    {
     "name": "stderr",
     "output_type": "stream",
     "text": [
      "[06/07 14:27:37] tensorflow INFO: Step 286900 per-step time 0.615s loss=0.220\n"
     ]
    },
    {
     "name": "stdout",
     "output_type": "stream",
     "text": [
      "INFO:tensorflow:Step 287000 per-step time 0.615s loss=0.025\n"
     ]
    },
    {
     "name": "stderr",
     "output_type": "stream",
     "text": [
      "[06/07 14:28:38] tensorflow INFO: Step 287000 per-step time 0.615s loss=0.025\n"
     ]
    },
    {
     "name": "stdout",
     "output_type": "stream",
     "text": [
      "INFO:tensorflow:Step 287100 per-step time 0.629s loss=0.240\n"
     ]
    },
    {
     "name": "stderr",
     "output_type": "stream",
     "text": [
      "[06/07 14:29:41] tensorflow INFO: Step 287100 per-step time 0.629s loss=0.240\n"
     ]
    },
    {
     "name": "stdout",
     "output_type": "stream",
     "text": [
      "INFO:tensorflow:Step 287200 per-step time 0.615s loss=0.036\n"
     ]
    },
    {
     "name": "stderr",
     "output_type": "stream",
     "text": [
      "[06/07 14:30:42] tensorflow INFO: Step 287200 per-step time 0.615s loss=0.036\n"
     ]
    },
    {
     "name": "stdout",
     "output_type": "stream",
     "text": [
      "INFO:tensorflow:Step 287300 per-step time 0.615s loss=0.089\n"
     ]
    },
    {
     "name": "stderr",
     "output_type": "stream",
     "text": [
      "[06/07 14:31:44] tensorflow INFO: Step 287300 per-step time 0.615s loss=0.089\n"
     ]
    },
    {
     "name": "stdout",
     "output_type": "stream",
     "text": [
      "INFO:tensorflow:Step 287400 per-step time 0.615s loss=0.038\n"
     ]
    },
    {
     "name": "stderr",
     "output_type": "stream",
     "text": [
      "[06/07 14:32:45] tensorflow INFO: Step 287400 per-step time 0.615s loss=0.038\n"
     ]
    },
    {
     "name": "stdout",
     "output_type": "stream",
     "text": [
      "INFO:tensorflow:Step 287500 per-step time 0.615s loss=0.049\n"
     ]
    },
    {
     "name": "stderr",
     "output_type": "stream",
     "text": [
      "[06/07 14:33:47] tensorflow INFO: Step 287500 per-step time 0.615s loss=0.049\n"
     ]
    },
    {
     "name": "stdout",
     "output_type": "stream",
     "text": [
      "INFO:tensorflow:Step 287600 per-step time 0.616s loss=0.024\n"
     ]
    },
    {
     "name": "stderr",
     "output_type": "stream",
     "text": [
      "[06/07 14:34:49] tensorflow INFO: Step 287600 per-step time 0.616s loss=0.024\n"
     ]
    },
    {
     "name": "stdout",
     "output_type": "stream",
     "text": [
      "INFO:tensorflow:Step 287700 per-step time 0.613s loss=0.034\n"
     ]
    },
    {
     "name": "stderr",
     "output_type": "stream",
     "text": [
      "[06/07 14:35:50] tensorflow INFO: Step 287700 per-step time 0.613s loss=0.034\n"
     ]
    },
    {
     "name": "stdout",
     "output_type": "stream",
     "text": [
      "INFO:tensorflow:Step 287800 per-step time 0.615s loss=0.040\n"
     ]
    },
    {
     "name": "stderr",
     "output_type": "stream",
     "text": [
      "[06/07 14:36:51] tensorflow INFO: Step 287800 per-step time 0.615s loss=0.040\n"
     ]
    },
    {
     "name": "stdout",
     "output_type": "stream",
     "text": [
      "INFO:tensorflow:Step 287900 per-step time 0.613s loss=0.129\n"
     ]
    },
    {
     "name": "stderr",
     "output_type": "stream",
     "text": [
      "[06/07 14:37:53] tensorflow INFO: Step 287900 per-step time 0.613s loss=0.129\n"
     ]
    },
    {
     "name": "stdout",
     "output_type": "stream",
     "text": [
      "INFO:tensorflow:Step 288000 per-step time 0.614s loss=0.040\n"
     ]
    },
    {
     "name": "stderr",
     "output_type": "stream",
     "text": [
      "[06/07 14:38:54] tensorflow INFO: Step 288000 per-step time 0.614s loss=0.040\n"
     ]
    },
    {
     "name": "stdout",
     "output_type": "stream",
     "text": [
      "INFO:tensorflow:Step 288100 per-step time 0.628s loss=0.005\n"
     ]
    },
    {
     "name": "stderr",
     "output_type": "stream",
     "text": [
      "[06/07 14:39:57] tensorflow INFO: Step 288100 per-step time 0.628s loss=0.005\n"
     ]
    },
    {
     "name": "stdout",
     "output_type": "stream",
     "text": [
      "INFO:tensorflow:Step 288200 per-step time 0.614s loss=0.028\n"
     ]
    },
    {
     "name": "stderr",
     "output_type": "stream",
     "text": [
      "[06/07 14:40:58] tensorflow INFO: Step 288200 per-step time 0.614s loss=0.028\n"
     ]
    },
    {
     "name": "stdout",
     "output_type": "stream",
     "text": [
      "INFO:tensorflow:Step 288300 per-step time 0.615s loss=0.018\n"
     ]
    },
    {
     "name": "stderr",
     "output_type": "stream",
     "text": [
      "[06/07 14:42:00] tensorflow INFO: Step 288300 per-step time 0.615s loss=0.018\n"
     ]
    },
    {
     "name": "stdout",
     "output_type": "stream",
     "text": [
      "INFO:tensorflow:Step 288400 per-step time 0.615s loss=0.020\n"
     ]
    },
    {
     "name": "stderr",
     "output_type": "stream",
     "text": [
      "[06/07 14:43:01] tensorflow INFO: Step 288400 per-step time 0.615s loss=0.020\n"
     ]
    },
    {
     "name": "stdout",
     "output_type": "stream",
     "text": [
      "INFO:tensorflow:Step 288500 per-step time 0.615s loss=0.043\n"
     ]
    },
    {
     "name": "stderr",
     "output_type": "stream",
     "text": [
      "[06/07 14:44:03] tensorflow INFO: Step 288500 per-step time 0.615s loss=0.043\n"
     ]
    },
    {
     "name": "stdout",
     "output_type": "stream",
     "text": [
      "INFO:tensorflow:Step 288600 per-step time 0.615s loss=0.023\n"
     ]
    },
    {
     "name": "stderr",
     "output_type": "stream",
     "text": [
      "[06/07 14:45:04] tensorflow INFO: Step 288600 per-step time 0.615s loss=0.023\n"
     ]
    },
    {
     "name": "stdout",
     "output_type": "stream",
     "text": [
      "INFO:tensorflow:Step 288700 per-step time 0.616s loss=0.033\n"
     ]
    },
    {
     "name": "stderr",
     "output_type": "stream",
     "text": [
      "[06/07 14:46:06] tensorflow INFO: Step 288700 per-step time 0.616s loss=0.033\n"
     ]
    },
    {
     "name": "stdout",
     "output_type": "stream",
     "text": [
      "INFO:tensorflow:Step 288800 per-step time 0.614s loss=0.015\n"
     ]
    },
    {
     "name": "stderr",
     "output_type": "stream",
     "text": [
      "[06/07 14:47:07] tensorflow INFO: Step 288800 per-step time 0.614s loss=0.015\n"
     ]
    },
    {
     "name": "stdout",
     "output_type": "stream",
     "text": [
      "INFO:tensorflow:Step 288900 per-step time 0.616s loss=0.039\n"
     ]
    },
    {
     "name": "stderr",
     "output_type": "stream",
     "text": [
      "[06/07 14:48:09] tensorflow INFO: Step 288900 per-step time 0.616s loss=0.039\n"
     ]
    },
    {
     "name": "stdout",
     "output_type": "stream",
     "text": [
      "INFO:tensorflow:Step 289000 per-step time 0.614s loss=0.050\n"
     ]
    },
    {
     "name": "stderr",
     "output_type": "stream",
     "text": [
      "[06/07 14:49:10] tensorflow INFO: Step 289000 per-step time 0.614s loss=0.050\n"
     ]
    },
    {
     "name": "stdout",
     "output_type": "stream",
     "text": [
      "INFO:tensorflow:Step 289100 per-step time 0.629s loss=0.116\n"
     ]
    },
    {
     "name": "stderr",
     "output_type": "stream",
     "text": [
      "[06/07 14:50:13] tensorflow INFO: Step 289100 per-step time 0.629s loss=0.116\n"
     ]
    },
    {
     "name": "stdout",
     "output_type": "stream",
     "text": [
      "INFO:tensorflow:Step 289200 per-step time 0.617s loss=0.034\n"
     ]
    },
    {
     "name": "stderr",
     "output_type": "stream",
     "text": [
      "[06/07 14:51:15] tensorflow INFO: Step 289200 per-step time 0.617s loss=0.034\n"
     ]
    },
    {
     "name": "stdout",
     "output_type": "stream",
     "text": [
      "INFO:tensorflow:Step 289300 per-step time 0.617s loss=0.012\n"
     ]
    },
    {
     "name": "stderr",
     "output_type": "stream",
     "text": [
      "[06/07 14:52:17] tensorflow INFO: Step 289300 per-step time 0.617s loss=0.012\n"
     ]
    },
    {
     "name": "stdout",
     "output_type": "stream",
     "text": [
      "INFO:tensorflow:Step 289400 per-step time 0.614s loss=0.025\n"
     ]
    },
    {
     "name": "stderr",
     "output_type": "stream",
     "text": [
      "[06/07 14:53:18] tensorflow INFO: Step 289400 per-step time 0.614s loss=0.025\n"
     ]
    },
    {
     "name": "stdout",
     "output_type": "stream",
     "text": [
      "INFO:tensorflow:Step 289500 per-step time 0.616s loss=0.108\n"
     ]
    },
    {
     "name": "stderr",
     "output_type": "stream",
     "text": [
      "[06/07 14:54:20] tensorflow INFO: Step 289500 per-step time 0.616s loss=0.108\n"
     ]
    },
    {
     "name": "stdout",
     "output_type": "stream",
     "text": [
      "INFO:tensorflow:Step 289600 per-step time 0.614s loss=0.092\n"
     ]
    },
    {
     "name": "stderr",
     "output_type": "stream",
     "text": [
      "[06/07 14:55:21] tensorflow INFO: Step 289600 per-step time 0.614s loss=0.092\n"
     ]
    },
    {
     "name": "stdout",
     "output_type": "stream",
     "text": [
      "INFO:tensorflow:Step 289700 per-step time 0.617s loss=0.003\n"
     ]
    },
    {
     "name": "stderr",
     "output_type": "stream",
     "text": [
      "[06/07 14:56:23] tensorflow INFO: Step 289700 per-step time 0.617s loss=0.003\n"
     ]
    },
    {
     "name": "stdout",
     "output_type": "stream",
     "text": [
      "INFO:tensorflow:Step 289800 per-step time 0.613s loss=0.018\n"
     ]
    },
    {
     "name": "stderr",
     "output_type": "stream",
     "text": [
      "[06/07 14:57:24] tensorflow INFO: Step 289800 per-step time 0.613s loss=0.018\n"
     ]
    },
    {
     "name": "stdout",
     "output_type": "stream",
     "text": [
      "INFO:tensorflow:Step 289900 per-step time 0.615s loss=0.112\n"
     ]
    },
    {
     "name": "stderr",
     "output_type": "stream",
     "text": [
      "[06/07 14:58:26] tensorflow INFO: Step 289900 per-step time 0.615s loss=0.112\n"
     ]
    },
    {
     "name": "stdout",
     "output_type": "stream",
     "text": [
      "INFO:tensorflow:Step 290000 per-step time 0.615s loss=0.011\n"
     ]
    },
    {
     "name": "stderr",
     "output_type": "stream",
     "text": [
      "[06/07 14:59:27] tensorflow INFO: Step 290000 per-step time 0.615s loss=0.011\n"
     ]
    },
    {
     "name": "stdout",
     "output_type": "stream",
     "text": [
      "INFO:tensorflow:Step 290100 per-step time 0.630s loss=0.024\n"
     ]
    },
    {
     "name": "stderr",
     "output_type": "stream",
     "text": [
      "[06/07 15:00:30] tensorflow INFO: Step 290100 per-step time 0.630s loss=0.024\n"
     ]
    },
    {
     "name": "stdout",
     "output_type": "stream",
     "text": [
      "INFO:tensorflow:Step 290200 per-step time 0.615s loss=0.015\n"
     ]
    },
    {
     "name": "stderr",
     "output_type": "stream",
     "text": [
      "[06/07 15:01:32] tensorflow INFO: Step 290200 per-step time 0.615s loss=0.015\n"
     ]
    },
    {
     "name": "stdout",
     "output_type": "stream",
     "text": [
      "INFO:tensorflow:Step 290300 per-step time 0.615s loss=0.226\n"
     ]
    },
    {
     "name": "stderr",
     "output_type": "stream",
     "text": [
      "[06/07 15:02:33] tensorflow INFO: Step 290300 per-step time 0.615s loss=0.226\n"
     ]
    },
    {
     "name": "stdout",
     "output_type": "stream",
     "text": [
      "INFO:tensorflow:Step 290400 per-step time 0.615s loss=0.030\n"
     ]
    },
    {
     "name": "stderr",
     "output_type": "stream",
     "text": [
      "[06/07 15:03:34] tensorflow INFO: Step 290400 per-step time 0.615s loss=0.030\n"
     ]
    },
    {
     "name": "stdout",
     "output_type": "stream",
     "text": [
      "INFO:tensorflow:Step 290500 per-step time 0.617s loss=0.049\n"
     ]
    },
    {
     "name": "stderr",
     "output_type": "stream",
     "text": [
      "[06/07 15:04:36] tensorflow INFO: Step 290500 per-step time 0.617s loss=0.049\n"
     ]
    },
    {
     "name": "stdout",
     "output_type": "stream",
     "text": [
      "INFO:tensorflow:Step 290600 per-step time 0.614s loss=0.012\n"
     ]
    },
    {
     "name": "stderr",
     "output_type": "stream",
     "text": [
      "[06/07 15:05:38] tensorflow INFO: Step 290600 per-step time 0.614s loss=0.012\n"
     ]
    },
    {
     "name": "stdout",
     "output_type": "stream",
     "text": [
      "INFO:tensorflow:Step 290700 per-step time 0.616s loss=0.013\n"
     ]
    },
    {
     "name": "stderr",
     "output_type": "stream",
     "text": [
      "[06/07 15:06:39] tensorflow INFO: Step 290700 per-step time 0.616s loss=0.013\n"
     ]
    },
    {
     "name": "stdout",
     "output_type": "stream",
     "text": [
      "INFO:tensorflow:Step 290800 per-step time 0.616s loss=0.052\n"
     ]
    },
    {
     "name": "stderr",
     "output_type": "stream",
     "text": [
      "[06/07 15:07:41] tensorflow INFO: Step 290800 per-step time 0.616s loss=0.052\n"
     ]
    },
    {
     "name": "stdout",
     "output_type": "stream",
     "text": [
      "INFO:tensorflow:Step 290900 per-step time 0.615s loss=0.044\n"
     ]
    },
    {
     "name": "stderr",
     "output_type": "stream",
     "text": [
      "[06/07 15:08:42] tensorflow INFO: Step 290900 per-step time 0.615s loss=0.044\n"
     ]
    },
    {
     "name": "stdout",
     "output_type": "stream",
     "text": [
      "INFO:tensorflow:Step 291000 per-step time 0.615s loss=0.013\n"
     ]
    },
    {
     "name": "stderr",
     "output_type": "stream",
     "text": [
      "[06/07 15:09:44] tensorflow INFO: Step 291000 per-step time 0.615s loss=0.013\n"
     ]
    },
    {
     "name": "stdout",
     "output_type": "stream",
     "text": [
      "INFO:tensorflow:Step 291100 per-step time 0.631s loss=0.016\n"
     ]
    },
    {
     "name": "stderr",
     "output_type": "stream",
     "text": [
      "[06/07 15:10:47] tensorflow INFO: Step 291100 per-step time 0.631s loss=0.016\n"
     ]
    },
    {
     "name": "stdout",
     "output_type": "stream",
     "text": [
      "INFO:tensorflow:Step 291200 per-step time 0.615s loss=0.144\n"
     ]
    },
    {
     "name": "stderr",
     "output_type": "stream",
     "text": [
      "[06/07 15:11:48] tensorflow INFO: Step 291200 per-step time 0.615s loss=0.144\n"
     ]
    },
    {
     "name": "stdout",
     "output_type": "stream",
     "text": [
      "INFO:tensorflow:Step 291300 per-step time 0.615s loss=0.104\n"
     ]
    },
    {
     "name": "stderr",
     "output_type": "stream",
     "text": [
      "[06/07 15:12:50] tensorflow INFO: Step 291300 per-step time 0.615s loss=0.104\n"
     ]
    },
    {
     "name": "stdout",
     "output_type": "stream",
     "text": [
      "INFO:tensorflow:Step 291400 per-step time 0.616s loss=0.066\n"
     ]
    },
    {
     "name": "stderr",
     "output_type": "stream",
     "text": [
      "[06/07 15:13:51] tensorflow INFO: Step 291400 per-step time 0.616s loss=0.066\n"
     ]
    },
    {
     "name": "stdout",
     "output_type": "stream",
     "text": [
      "INFO:tensorflow:Step 291500 per-step time 0.616s loss=0.073\n"
     ]
    },
    {
     "name": "stderr",
     "output_type": "stream",
     "text": [
      "[06/07 15:14:53] tensorflow INFO: Step 291500 per-step time 0.616s loss=0.073\n"
     ]
    },
    {
     "name": "stdout",
     "output_type": "stream",
     "text": [
      "INFO:tensorflow:Step 291600 per-step time 0.615s loss=0.022\n"
     ]
    },
    {
     "name": "stderr",
     "output_type": "stream",
     "text": [
      "[06/07 15:15:54] tensorflow INFO: Step 291600 per-step time 0.615s loss=0.022\n"
     ]
    },
    {
     "name": "stdout",
     "output_type": "stream",
     "text": [
      "INFO:tensorflow:Step 291700 per-step time 0.614s loss=0.007\n"
     ]
    },
    {
     "name": "stderr",
     "output_type": "stream",
     "text": [
      "[06/07 15:16:56] tensorflow INFO: Step 291700 per-step time 0.614s loss=0.007\n"
     ]
    },
    {
     "name": "stdout",
     "output_type": "stream",
     "text": [
      "INFO:tensorflow:Step 291800 per-step time 0.614s loss=0.018\n"
     ]
    },
    {
     "name": "stderr",
     "output_type": "stream",
     "text": [
      "[06/07 15:17:57] tensorflow INFO: Step 291800 per-step time 0.614s loss=0.018\n"
     ]
    },
    {
     "name": "stdout",
     "output_type": "stream",
     "text": [
      "INFO:tensorflow:Step 291900 per-step time 0.615s loss=0.021\n"
     ]
    },
    {
     "name": "stderr",
     "output_type": "stream",
     "text": [
      "[06/07 15:18:59] tensorflow INFO: Step 291900 per-step time 0.615s loss=0.021\n"
     ]
    },
    {
     "name": "stdout",
     "output_type": "stream",
     "text": [
      "INFO:tensorflow:Step 292000 per-step time 0.614s loss=0.065\n"
     ]
    },
    {
     "name": "stderr",
     "output_type": "stream",
     "text": [
      "[06/07 15:20:00] tensorflow INFO: Step 292000 per-step time 0.614s loss=0.065\n"
     ]
    },
    {
     "name": "stdout",
     "output_type": "stream",
     "text": [
      "INFO:tensorflow:Step 292100 per-step time 0.649s loss=0.008\n"
     ]
    },
    {
     "name": "stderr",
     "output_type": "stream",
     "text": [
      "[06/07 15:21:05] tensorflow INFO: Step 292100 per-step time 0.649s loss=0.008\n"
     ]
    },
    {
     "name": "stdout",
     "output_type": "stream",
     "text": [
      "INFO:tensorflow:Step 292200 per-step time 0.615s loss=0.073\n"
     ]
    },
    {
     "name": "stderr",
     "output_type": "stream",
     "text": [
      "[06/07 15:22:06] tensorflow INFO: Step 292200 per-step time 0.615s loss=0.073\n"
     ]
    },
    {
     "name": "stdout",
     "output_type": "stream",
     "text": [
      "INFO:tensorflow:Step 292300 per-step time 0.614s loss=0.128\n"
     ]
    },
    {
     "name": "stderr",
     "output_type": "stream",
     "text": [
      "[06/07 15:23:08] tensorflow INFO: Step 292300 per-step time 0.614s loss=0.128\n"
     ]
    },
    {
     "name": "stdout",
     "output_type": "stream",
     "text": [
      "INFO:tensorflow:Step 292400 per-step time 0.615s loss=0.036\n"
     ]
    },
    {
     "name": "stderr",
     "output_type": "stream",
     "text": [
      "[06/07 15:24:09] tensorflow INFO: Step 292400 per-step time 0.615s loss=0.036\n"
     ]
    },
    {
     "name": "stdout",
     "output_type": "stream",
     "text": [
      "INFO:tensorflow:Step 292500 per-step time 0.616s loss=0.054\n"
     ]
    },
    {
     "name": "stderr",
     "output_type": "stream",
     "text": [
      "[06/07 15:25:11] tensorflow INFO: Step 292500 per-step time 0.616s loss=0.054\n"
     ]
    },
    {
     "name": "stdout",
     "output_type": "stream",
     "text": [
      "INFO:tensorflow:Step 292600 per-step time 0.617s loss=0.045\n"
     ]
    },
    {
     "name": "stderr",
     "output_type": "stream",
     "text": [
      "[06/07 15:26:13] tensorflow INFO: Step 292600 per-step time 0.617s loss=0.045\n"
     ]
    },
    {
     "name": "stdout",
     "output_type": "stream",
     "text": [
      "INFO:tensorflow:Step 292700 per-step time 0.614s loss=0.018\n"
     ]
    },
    {
     "name": "stderr",
     "output_type": "stream",
     "text": [
      "[06/07 15:27:14] tensorflow INFO: Step 292700 per-step time 0.614s loss=0.018\n"
     ]
    },
    {
     "name": "stdout",
     "output_type": "stream",
     "text": [
      "INFO:tensorflow:Step 292800 per-step time 0.615s loss=0.055\n"
     ]
    },
    {
     "name": "stderr",
     "output_type": "stream",
     "text": [
      "[06/07 15:28:15] tensorflow INFO: Step 292800 per-step time 0.615s loss=0.055\n"
     ]
    },
    {
     "name": "stdout",
     "output_type": "stream",
     "text": [
      "INFO:tensorflow:Step 292900 per-step time 0.615s loss=0.080\n"
     ]
    },
    {
     "name": "stderr",
     "output_type": "stream",
     "text": [
      "[06/07 15:29:17] tensorflow INFO: Step 292900 per-step time 0.615s loss=0.080\n"
     ]
    },
    {
     "name": "stdout",
     "output_type": "stream",
     "text": [
      "INFO:tensorflow:Step 293000 per-step time 0.615s loss=0.016\n"
     ]
    },
    {
     "name": "stderr",
     "output_type": "stream",
     "text": [
      "[06/07 15:30:18] tensorflow INFO: Step 293000 per-step time 0.615s loss=0.016\n"
     ]
    },
    {
     "name": "stdout",
     "output_type": "stream",
     "text": [
      "INFO:tensorflow:Step 293100 per-step time 0.629s loss=0.085\n"
     ]
    },
    {
     "name": "stderr",
     "output_type": "stream",
     "text": [
      "[06/07 15:31:21] tensorflow INFO: Step 293100 per-step time 0.629s loss=0.085\n"
     ]
    },
    {
     "name": "stdout",
     "output_type": "stream",
     "text": [
      "INFO:tensorflow:Step 293200 per-step time 0.615s loss=0.193\n"
     ]
    },
    {
     "name": "stderr",
     "output_type": "stream",
     "text": [
      "[06/07 15:32:23] tensorflow INFO: Step 293200 per-step time 0.615s loss=0.193\n"
     ]
    },
    {
     "name": "stdout",
     "output_type": "stream",
     "text": [
      "INFO:tensorflow:Step 293300 per-step time 0.615s loss=0.116\n"
     ]
    },
    {
     "name": "stderr",
     "output_type": "stream",
     "text": [
      "[06/07 15:33:24] tensorflow INFO: Step 293300 per-step time 0.615s loss=0.116\n"
     ]
    },
    {
     "name": "stdout",
     "output_type": "stream",
     "text": [
      "INFO:tensorflow:Step 293400 per-step time 0.614s loss=0.014\n"
     ]
    },
    {
     "name": "stderr",
     "output_type": "stream",
     "text": [
      "[06/07 15:34:26] tensorflow INFO: Step 293400 per-step time 0.614s loss=0.014\n"
     ]
    },
    {
     "name": "stdout",
     "output_type": "stream",
     "text": [
      "INFO:tensorflow:Step 293500 per-step time 0.615s loss=0.192\n"
     ]
    },
    {
     "name": "stderr",
     "output_type": "stream",
     "text": [
      "[06/07 15:35:27] tensorflow INFO: Step 293500 per-step time 0.615s loss=0.192\n"
     ]
    },
    {
     "name": "stdout",
     "output_type": "stream",
     "text": [
      "INFO:tensorflow:Step 293600 per-step time 0.615s loss=0.075\n"
     ]
    },
    {
     "name": "stderr",
     "output_type": "stream",
     "text": [
      "[06/07 15:36:29] tensorflow INFO: Step 293600 per-step time 0.615s loss=0.075\n"
     ]
    },
    {
     "name": "stdout",
     "output_type": "stream",
     "text": [
      "INFO:tensorflow:Step 293700 per-step time 0.616s loss=0.126\n"
     ]
    },
    {
     "name": "stderr",
     "output_type": "stream",
     "text": [
      "[06/07 15:37:30] tensorflow INFO: Step 293700 per-step time 0.616s loss=0.126\n"
     ]
    },
    {
     "name": "stdout",
     "output_type": "stream",
     "text": [
      "INFO:tensorflow:Step 293800 per-step time 0.617s loss=0.498\n"
     ]
    },
    {
     "name": "stderr",
     "output_type": "stream",
     "text": [
      "[06/07 15:38:32] tensorflow INFO: Step 293800 per-step time 0.617s loss=0.498\n"
     ]
    },
    {
     "name": "stdout",
     "output_type": "stream",
     "text": [
      "INFO:tensorflow:Step 293900 per-step time 0.615s loss=0.394\n"
     ]
    },
    {
     "name": "stderr",
     "output_type": "stream",
     "text": [
      "[06/07 15:39:33] tensorflow INFO: Step 293900 per-step time 0.615s loss=0.394\n"
     ]
    },
    {
     "name": "stdout",
     "output_type": "stream",
     "text": [
      "INFO:tensorflow:Step 294000 per-step time 0.615s loss=0.090\n"
     ]
    },
    {
     "name": "stderr",
     "output_type": "stream",
     "text": [
      "[06/07 15:40:35] tensorflow INFO: Step 294000 per-step time 0.615s loss=0.090\n"
     ]
    },
    {
     "name": "stdout",
     "output_type": "stream",
     "text": [
      "INFO:tensorflow:Step 294100 per-step time 0.629s loss=0.082\n"
     ]
    },
    {
     "name": "stderr",
     "output_type": "stream",
     "text": [
      "[06/07 15:41:38] tensorflow INFO: Step 294100 per-step time 0.629s loss=0.082\n"
     ]
    },
    {
     "name": "stdout",
     "output_type": "stream",
     "text": [
      "INFO:tensorflow:Step 294200 per-step time 0.615s loss=0.070\n"
     ]
    },
    {
     "name": "stderr",
     "output_type": "stream",
     "text": [
      "[06/07 15:42:39] tensorflow INFO: Step 294200 per-step time 0.615s loss=0.070\n"
     ]
    },
    {
     "name": "stdout",
     "output_type": "stream",
     "text": [
      "INFO:tensorflow:Step 294300 per-step time 0.614s loss=0.080\n"
     ]
    },
    {
     "name": "stderr",
     "output_type": "stream",
     "text": [
      "[06/07 15:43:41] tensorflow INFO: Step 294300 per-step time 0.614s loss=0.080\n"
     ]
    },
    {
     "name": "stdout",
     "output_type": "stream",
     "text": [
      "INFO:tensorflow:Step 294400 per-step time 0.615s loss=0.212\n"
     ]
    },
    {
     "name": "stderr",
     "output_type": "stream",
     "text": [
      "[06/07 15:44:42] tensorflow INFO: Step 294400 per-step time 0.615s loss=0.212\n"
     ]
    },
    {
     "name": "stdout",
     "output_type": "stream",
     "text": [
      "INFO:tensorflow:Step 294500 per-step time 0.615s loss=0.032\n"
     ]
    },
    {
     "name": "stderr",
     "output_type": "stream",
     "text": [
      "[06/07 15:45:44] tensorflow INFO: Step 294500 per-step time 0.615s loss=0.032\n"
     ]
    },
    {
     "name": "stdout",
     "output_type": "stream",
     "text": [
      "INFO:tensorflow:Step 294600 per-step time 0.617s loss=0.091\n"
     ]
    },
    {
     "name": "stderr",
     "output_type": "stream",
     "text": [
      "[06/07 15:46:46] tensorflow INFO: Step 294600 per-step time 0.617s loss=0.091\n"
     ]
    },
    {
     "name": "stdout",
     "output_type": "stream",
     "text": [
      "INFO:tensorflow:Step 294700 per-step time 0.614s loss=0.268\n"
     ]
    },
    {
     "name": "stderr",
     "output_type": "stream",
     "text": [
      "[06/07 15:47:47] tensorflow INFO: Step 294700 per-step time 0.614s loss=0.268\n"
     ]
    },
    {
     "name": "stdout",
     "output_type": "stream",
     "text": [
      "INFO:tensorflow:Step 294800 per-step time 0.616s loss=0.067\n"
     ]
    },
    {
     "name": "stderr",
     "output_type": "stream",
     "text": [
      "[06/07 15:48:49] tensorflow INFO: Step 294800 per-step time 0.616s loss=0.067\n"
     ]
    },
    {
     "name": "stdout",
     "output_type": "stream",
     "text": [
      "INFO:tensorflow:Step 294900 per-step time 0.615s loss=0.420\n"
     ]
    },
    {
     "name": "stderr",
     "output_type": "stream",
     "text": [
      "[06/07 15:49:50] tensorflow INFO: Step 294900 per-step time 0.615s loss=0.420\n"
     ]
    },
    {
     "name": "stdout",
     "output_type": "stream",
     "text": [
      "INFO:tensorflow:Step 295000 per-step time 0.616s loss=0.100\n"
     ]
    },
    {
     "name": "stderr",
     "output_type": "stream",
     "text": [
      "[06/07 15:50:52] tensorflow INFO: Step 295000 per-step time 0.616s loss=0.100\n"
     ]
    },
    {
     "name": "stdout",
     "output_type": "stream",
     "text": [
      "INFO:tensorflow:Step 295100 per-step time 0.629s loss=0.178\n"
     ]
    },
    {
     "name": "stderr",
     "output_type": "stream",
     "text": [
      "[06/07 15:51:55] tensorflow INFO: Step 295100 per-step time 0.629s loss=0.178\n"
     ]
    },
    {
     "name": "stdout",
     "output_type": "stream",
     "text": [
      "INFO:tensorflow:Step 295200 per-step time 0.615s loss=0.035\n"
     ]
    },
    {
     "name": "stderr",
     "output_type": "stream",
     "text": [
      "[06/07 15:52:56] tensorflow INFO: Step 295200 per-step time 0.615s loss=0.035\n"
     ]
    },
    {
     "name": "stdout",
     "output_type": "stream",
     "text": [
      "INFO:tensorflow:Step 295300 per-step time 0.617s loss=0.118\n"
     ]
    },
    {
     "name": "stderr",
     "output_type": "stream",
     "text": [
      "[06/07 15:53:58] tensorflow INFO: Step 295300 per-step time 0.617s loss=0.118\n"
     ]
    },
    {
     "name": "stdout",
     "output_type": "stream",
     "text": [
      "INFO:tensorflow:Step 295400 per-step time 0.616s loss=0.121\n"
     ]
    },
    {
     "name": "stderr",
     "output_type": "stream",
     "text": [
      "[06/07 15:54:59] tensorflow INFO: Step 295400 per-step time 0.616s loss=0.121\n"
     ]
    },
    {
     "name": "stdout",
     "output_type": "stream",
     "text": [
      "INFO:tensorflow:Step 295500 per-step time 0.614s loss=0.014\n"
     ]
    },
    {
     "name": "stderr",
     "output_type": "stream",
     "text": [
      "[06/07 15:56:01] tensorflow INFO: Step 295500 per-step time 0.614s loss=0.014\n"
     ]
    },
    {
     "name": "stdout",
     "output_type": "stream",
     "text": [
      "INFO:tensorflow:Step 295600 per-step time 0.616s loss=0.182\n"
     ]
    },
    {
     "name": "stderr",
     "output_type": "stream",
     "text": [
      "[06/07 15:57:02] tensorflow INFO: Step 295600 per-step time 0.616s loss=0.182\n"
     ]
    },
    {
     "name": "stdout",
     "output_type": "stream",
     "text": [
      "INFO:tensorflow:Step 295700 per-step time 0.616s loss=0.020\n"
     ]
    },
    {
     "name": "stderr",
     "output_type": "stream",
     "text": [
      "[06/07 15:58:04] tensorflow INFO: Step 295700 per-step time 0.616s loss=0.020\n"
     ]
    },
    {
     "name": "stdout",
     "output_type": "stream",
     "text": [
      "INFO:tensorflow:Step 295800 per-step time 0.614s loss=0.055\n"
     ]
    },
    {
     "name": "stderr",
     "output_type": "stream",
     "text": [
      "[06/07 15:59:05] tensorflow INFO: Step 295800 per-step time 0.614s loss=0.055\n"
     ]
    },
    {
     "name": "stdout",
     "output_type": "stream",
     "text": [
      "INFO:tensorflow:Step 295900 per-step time 0.616s loss=0.218\n"
     ]
    },
    {
     "name": "stderr",
     "output_type": "stream",
     "text": [
      "[06/07 16:00:07] tensorflow INFO: Step 295900 per-step time 0.616s loss=0.218\n"
     ]
    },
    {
     "name": "stdout",
     "output_type": "stream",
     "text": [
      "INFO:tensorflow:Step 296000 per-step time 0.615s loss=0.039\n"
     ]
    },
    {
     "name": "stderr",
     "output_type": "stream",
     "text": [
      "[06/07 16:01:08] tensorflow INFO: Step 296000 per-step time 0.615s loss=0.039\n"
     ]
    },
    {
     "name": "stdout",
     "output_type": "stream",
     "text": [
      "INFO:tensorflow:Step 296100 per-step time 0.630s loss=0.232\n"
     ]
    },
    {
     "name": "stderr",
     "output_type": "stream",
     "text": [
      "[06/07 16:02:11] tensorflow INFO: Step 296100 per-step time 0.630s loss=0.232\n"
     ]
    },
    {
     "name": "stdout",
     "output_type": "stream",
     "text": [
      "INFO:tensorflow:Step 296200 per-step time 0.615s loss=0.126\n"
     ]
    },
    {
     "name": "stderr",
     "output_type": "stream",
     "text": [
      "[06/07 16:03:13] tensorflow INFO: Step 296200 per-step time 0.615s loss=0.126\n"
     ]
    },
    {
     "name": "stdout",
     "output_type": "stream",
     "text": [
      "INFO:tensorflow:Step 296300 per-step time 0.616s loss=0.022\n"
     ]
    },
    {
     "name": "stderr",
     "output_type": "stream",
     "text": [
      "[06/07 16:04:14] tensorflow INFO: Step 296300 per-step time 0.616s loss=0.022\n"
     ]
    },
    {
     "name": "stdout",
     "output_type": "stream",
     "text": [
      "INFO:tensorflow:Step 296400 per-step time 0.616s loss=0.034\n"
     ]
    },
    {
     "name": "stderr",
     "output_type": "stream",
     "text": [
      "[06/07 16:05:16] tensorflow INFO: Step 296400 per-step time 0.616s loss=0.034\n"
     ]
    },
    {
     "name": "stdout",
     "output_type": "stream",
     "text": [
      "INFO:tensorflow:Step 296500 per-step time 0.616s loss=0.014\n"
     ]
    },
    {
     "name": "stderr",
     "output_type": "stream",
     "text": [
      "[06/07 16:06:18] tensorflow INFO: Step 296500 per-step time 0.616s loss=0.014\n"
     ]
    },
    {
     "name": "stdout",
     "output_type": "stream",
     "text": [
      "INFO:tensorflow:Step 296600 per-step time 0.614s loss=0.189\n"
     ]
    },
    {
     "name": "stderr",
     "output_type": "stream",
     "text": [
      "[06/07 16:07:19] tensorflow INFO: Step 296600 per-step time 0.614s loss=0.189\n"
     ]
    },
    {
     "name": "stdout",
     "output_type": "stream",
     "text": [
      "INFO:tensorflow:Step 296700 per-step time 0.615s loss=0.036\n"
     ]
    },
    {
     "name": "stderr",
     "output_type": "stream",
     "text": [
      "[06/07 16:08:21] tensorflow INFO: Step 296700 per-step time 0.615s loss=0.036\n"
     ]
    },
    {
     "name": "stdout",
     "output_type": "stream",
     "text": [
      "INFO:tensorflow:Step 296800 per-step time 0.614s loss=0.027\n"
     ]
    },
    {
     "name": "stderr",
     "output_type": "stream",
     "text": [
      "[06/07 16:09:22] tensorflow INFO: Step 296800 per-step time 0.614s loss=0.027\n"
     ]
    },
    {
     "name": "stdout",
     "output_type": "stream",
     "text": [
      "INFO:tensorflow:Step 296900 per-step time 0.614s loss=0.043\n"
     ]
    },
    {
     "name": "stderr",
     "output_type": "stream",
     "text": [
      "[06/07 16:10:23] tensorflow INFO: Step 296900 per-step time 0.614s loss=0.043\n"
     ]
    },
    {
     "name": "stdout",
     "output_type": "stream",
     "text": [
      "INFO:tensorflow:Step 297000 per-step time 0.614s loss=0.010\n"
     ]
    },
    {
     "name": "stderr",
     "output_type": "stream",
     "text": [
      "[06/07 16:11:25] tensorflow INFO: Step 297000 per-step time 0.614s loss=0.010\n"
     ]
    },
    {
     "name": "stdout",
     "output_type": "stream",
     "text": [
      "INFO:tensorflow:Step 297100 per-step time 0.630s loss=0.201\n"
     ]
    },
    {
     "name": "stderr",
     "output_type": "stream",
     "text": [
      "[06/07 16:12:28] tensorflow INFO: Step 297100 per-step time 0.630s loss=0.201\n"
     ]
    },
    {
     "name": "stdout",
     "output_type": "stream",
     "text": [
      "INFO:tensorflow:Step 297200 per-step time 0.615s loss=0.046\n"
     ]
    },
    {
     "name": "stderr",
     "output_type": "stream",
     "text": [
      "[06/07 16:13:29] tensorflow INFO: Step 297200 per-step time 0.615s loss=0.046\n"
     ]
    },
    {
     "name": "stdout",
     "output_type": "stream",
     "text": [
      "INFO:tensorflow:Step 297300 per-step time 0.617s loss=0.041\n"
     ]
    },
    {
     "name": "stderr",
     "output_type": "stream",
     "text": [
      "[06/07 16:14:31] tensorflow INFO: Step 297300 per-step time 0.617s loss=0.041\n"
     ]
    },
    {
     "name": "stdout",
     "output_type": "stream",
     "text": [
      "INFO:tensorflow:Step 297400 per-step time 0.615s loss=0.021\n"
     ]
    },
    {
     "name": "stderr",
     "output_type": "stream",
     "text": [
      "[06/07 16:15:32] tensorflow INFO: Step 297400 per-step time 0.615s loss=0.021\n"
     ]
    },
    {
     "name": "stdout",
     "output_type": "stream",
     "text": [
      "INFO:tensorflow:Step 297500 per-step time 0.615s loss=0.072\n"
     ]
    },
    {
     "name": "stderr",
     "output_type": "stream",
     "text": [
      "[06/07 16:16:34] tensorflow INFO: Step 297500 per-step time 0.615s loss=0.072\n"
     ]
    },
    {
     "name": "stdout",
     "output_type": "stream",
     "text": [
      "INFO:tensorflow:Step 297600 per-step time 0.616s loss=0.025\n"
     ]
    },
    {
     "name": "stderr",
     "output_type": "stream",
     "text": [
      "[06/07 16:17:36] tensorflow INFO: Step 297600 per-step time 0.616s loss=0.025\n"
     ]
    },
    {
     "name": "stdout",
     "output_type": "stream",
     "text": [
      "INFO:tensorflow:Step 297700 per-step time 0.615s loss=0.183\n"
     ]
    },
    {
     "name": "stderr",
     "output_type": "stream",
     "text": [
      "[06/07 16:18:37] tensorflow INFO: Step 297700 per-step time 0.615s loss=0.183\n"
     ]
    },
    {
     "name": "stdout",
     "output_type": "stream",
     "text": [
      "INFO:tensorflow:Step 297800 per-step time 0.614s loss=0.021\n"
     ]
    },
    {
     "name": "stderr",
     "output_type": "stream",
     "text": [
      "[06/07 16:19:38] tensorflow INFO: Step 297800 per-step time 0.614s loss=0.021\n"
     ]
    },
    {
     "name": "stdout",
     "output_type": "stream",
     "text": [
      "INFO:tensorflow:Step 297900 per-step time 0.616s loss=0.126\n"
     ]
    },
    {
     "name": "stderr",
     "output_type": "stream",
     "text": [
      "[06/07 16:20:40] tensorflow INFO: Step 297900 per-step time 0.616s loss=0.126\n"
     ]
    },
    {
     "name": "stdout",
     "output_type": "stream",
     "text": [
      "INFO:tensorflow:Step 298000 per-step time 0.616s loss=0.029\n"
     ]
    },
    {
     "name": "stderr",
     "output_type": "stream",
     "text": [
      "[06/07 16:21:41] tensorflow INFO: Step 298000 per-step time 0.616s loss=0.029\n"
     ]
    },
    {
     "name": "stdout",
     "output_type": "stream",
     "text": [
      "INFO:tensorflow:Step 298100 per-step time 0.628s loss=0.064\n"
     ]
    },
    {
     "name": "stderr",
     "output_type": "stream",
     "text": [
      "[06/07 16:22:44] tensorflow INFO: Step 298100 per-step time 0.628s loss=0.064\n"
     ]
    },
    {
     "name": "stdout",
     "output_type": "stream",
     "text": [
      "INFO:tensorflow:Step 298200 per-step time 0.615s loss=0.060\n"
     ]
    },
    {
     "name": "stderr",
     "output_type": "stream",
     "text": [
      "[06/07 16:23:46] tensorflow INFO: Step 298200 per-step time 0.615s loss=0.060\n"
     ]
    },
    {
     "name": "stdout",
     "output_type": "stream",
     "text": [
      "INFO:tensorflow:Step 298300 per-step time 0.616s loss=0.019\n"
     ]
    },
    {
     "name": "stderr",
     "output_type": "stream",
     "text": [
      "[06/07 16:24:47] tensorflow INFO: Step 298300 per-step time 0.616s loss=0.019\n"
     ]
    },
    {
     "name": "stdout",
     "output_type": "stream",
     "text": [
      "INFO:tensorflow:Step 298400 per-step time 0.615s loss=0.012\n"
     ]
    },
    {
     "name": "stderr",
     "output_type": "stream",
     "text": [
      "[06/07 16:25:49] tensorflow INFO: Step 298400 per-step time 0.615s loss=0.012\n"
     ]
    },
    {
     "name": "stdout",
     "output_type": "stream",
     "text": [
      "INFO:tensorflow:Step 298500 per-step time 0.615s loss=0.112\n"
     ]
    },
    {
     "name": "stderr",
     "output_type": "stream",
     "text": [
      "[06/07 16:26:50] tensorflow INFO: Step 298500 per-step time 0.615s loss=0.112\n"
     ]
    },
    {
     "name": "stdout",
     "output_type": "stream",
     "text": [
      "INFO:tensorflow:Step 298600 per-step time 0.614s loss=0.008\n"
     ]
    },
    {
     "name": "stderr",
     "output_type": "stream",
     "text": [
      "[06/07 16:27:52] tensorflow INFO: Step 298600 per-step time 0.614s loss=0.008\n"
     ]
    },
    {
     "name": "stdout",
     "output_type": "stream",
     "text": [
      "INFO:tensorflow:Step 298700 per-step time 0.616s loss=0.093\n"
     ]
    },
    {
     "name": "stderr",
     "output_type": "stream",
     "text": [
      "[06/07 16:28:53] tensorflow INFO: Step 298700 per-step time 0.616s loss=0.093\n"
     ]
    },
    {
     "name": "stdout",
     "output_type": "stream",
     "text": [
      "INFO:tensorflow:Step 298800 per-step time 0.615s loss=0.064\n"
     ]
    },
    {
     "name": "stderr",
     "output_type": "stream",
     "text": [
      "[06/07 16:29:55] tensorflow INFO: Step 298800 per-step time 0.615s loss=0.064\n"
     ]
    },
    {
     "name": "stdout",
     "output_type": "stream",
     "text": [
      "INFO:tensorflow:Step 298900 per-step time 0.614s loss=0.128\n"
     ]
    },
    {
     "name": "stderr",
     "output_type": "stream",
     "text": [
      "[06/07 16:30:56] tensorflow INFO: Step 298900 per-step time 0.614s loss=0.128\n"
     ]
    },
    {
     "name": "stdout",
     "output_type": "stream",
     "text": [
      "INFO:tensorflow:Step 299000 per-step time 0.615s loss=0.018\n"
     ]
    },
    {
     "name": "stderr",
     "output_type": "stream",
     "text": [
      "[06/07 16:31:58] tensorflow INFO: Step 299000 per-step time 0.615s loss=0.018\n"
     ]
    },
    {
     "name": "stdout",
     "output_type": "stream",
     "text": [
      "INFO:tensorflow:Step 299100 per-step time 0.628s loss=0.066\n"
     ]
    },
    {
     "name": "stderr",
     "output_type": "stream",
     "text": [
      "[06/07 16:33:01] tensorflow INFO: Step 299100 per-step time 0.628s loss=0.066\n"
     ]
    },
    {
     "name": "stdout",
     "output_type": "stream",
     "text": [
      "INFO:tensorflow:Step 299200 per-step time 0.617s loss=0.028\n"
     ]
    },
    {
     "name": "stderr",
     "output_type": "stream",
     "text": [
      "[06/07 16:34:02] tensorflow INFO: Step 299200 per-step time 0.617s loss=0.028\n"
     ]
    },
    {
     "name": "stdout",
     "output_type": "stream",
     "text": [
      "INFO:tensorflow:Step 299300 per-step time 0.615s loss=0.025\n"
     ]
    },
    {
     "name": "stderr",
     "output_type": "stream",
     "text": [
      "[06/07 16:35:04] tensorflow INFO: Step 299300 per-step time 0.615s loss=0.025\n"
     ]
    },
    {
     "name": "stdout",
     "output_type": "stream",
     "text": [
      "INFO:tensorflow:Step 299400 per-step time 0.614s loss=0.169\n"
     ]
    },
    {
     "name": "stderr",
     "output_type": "stream",
     "text": [
      "[06/07 16:36:05] tensorflow INFO: Step 299400 per-step time 0.614s loss=0.169\n"
     ]
    },
    {
     "name": "stdout",
     "output_type": "stream",
     "text": [
      "INFO:tensorflow:Step 299500 per-step time 0.615s loss=0.082\n"
     ]
    },
    {
     "name": "stderr",
     "output_type": "stream",
     "text": [
      "[06/07 16:37:07] tensorflow INFO: Step 299500 per-step time 0.615s loss=0.082\n"
     ]
    },
    {
     "name": "stdout",
     "output_type": "stream",
     "text": [
      "INFO:tensorflow:Step 299600 per-step time 0.615s loss=0.016\n"
     ]
    },
    {
     "name": "stderr",
     "output_type": "stream",
     "text": [
      "[06/07 16:38:08] tensorflow INFO: Step 299600 per-step time 0.615s loss=0.016\n"
     ]
    },
    {
     "name": "stdout",
     "output_type": "stream",
     "text": [
      "INFO:tensorflow:Step 299700 per-step time 0.616s loss=0.090\n"
     ]
    },
    {
     "name": "stderr",
     "output_type": "stream",
     "text": [
      "[06/07 16:39:10] tensorflow INFO: Step 299700 per-step time 0.616s loss=0.090\n"
     ]
    },
    {
     "name": "stdout",
     "output_type": "stream",
     "text": [
      "INFO:tensorflow:Step 299800 per-step time 0.616s loss=0.014\n"
     ]
    },
    {
     "name": "stderr",
     "output_type": "stream",
     "text": [
      "[06/07 16:40:11] tensorflow INFO: Step 299800 per-step time 0.616s loss=0.014\n"
     ]
    },
    {
     "name": "stdout",
     "output_type": "stream",
     "text": [
      "INFO:tensorflow:Step 299900 per-step time 0.615s loss=0.010\n"
     ]
    },
    {
     "name": "stderr",
     "output_type": "stream",
     "text": [
      "[06/07 16:41:13] tensorflow INFO: Step 299900 per-step time 0.615s loss=0.010\n"
     ]
    },
    {
     "name": "stdout",
     "output_type": "stream",
     "text": [
      "INFO:tensorflow:Step 300000 per-step time 0.616s loss=0.085\n"
     ]
    },
    {
     "name": "stderr",
     "output_type": "stream",
     "text": [
      "[06/07 16:42:14] tensorflow INFO: Step 300000 per-step time 0.616s loss=0.085\n"
     ]
    },
    {
     "name": "stdout",
     "output_type": "stream",
     "text": [
      "Training abgeschlossen: Dauer =  30909.030564300017\n"
     ]
    }
   ],
   "source": [
    "# model_main_tf2.py\n",
    "# individuell angepasst werden müssen die Zeilen 23, 24\n",
    "\n",
    "#from absl import flags\n",
    "import os\n",
    "import tensorflow.compat.v2 as tf\n",
    "from object_detection import model_lib_v2\n",
    "import time\n",
    "\n",
    "Path_to_scripts = r'C:\\Tensorflow2\\workspace\\Training_demo'\n",
    "model_dir = os.path.join(Path_to_scripts, 'models\\my_model')\n",
    "pipeline_config_path = os.path.join(model_dir, 'pipeline.config')\n",
    "num_train_steps = None\n",
    "eval_on_train_data = False\n",
    "sample_1_of_n_eval_examples = None\n",
    "sample_1_of_n_eval_on_train_examples = 5\n",
    "checkpoint_dir = None\n",
    "eval_timeout = 3600\n",
    "use_tpu = False\n",
    "num_train_steps = 300000\n",
    "num_workers = 1\n",
    "checkpoint_every_n = 1000\n",
    "record_summaries = True\n",
    "\n",
    "def main():  \n",
    "\n",
    "  if checkpoint_dir:\n",
    "    model_lib_v2.eval_continuously(\n",
    "        pipeline_config_path=pipeline_config_path,\n",
    "        model_dir=model_dir,\n",
    "        train_steps=num_train_steps,\n",
    "        sample_1_of_n_eval_examples=sample_1_of_n_eval_examples,\n",
    "        sample_1_of_n_eval_on_train_examples=(\n",
    "            sample_1_of_n_eval_on_train_examples),\n",
    "        checkpoint_dir=checkpoint_dir,\n",
    "        wait_interval=300, timeout=eval_timeout)\n",
    "  else:\n",
    "    if use_tpu:\n",
    "      # TPU is automatically inferred if tpu_name is None and\n",
    "      # we are running under cloud ai-platform.\n",
    "      resolver = tf.distribute.cluster_resolver.TPUClusterResolver(\n",
    "          tpu_name)\n",
    "      tf.config.experimental_connect_to_cluster(resolver)\n",
    "      tf.tpu.experimental.initialize_tpu_system(resolver)\n",
    "      strategy = tf.distribute.experimental.TPUStrategy(resolver)\n",
    "    elif num_workers > 1:\n",
    "      strategy = tf.distribute.experimental.MultiWorkerMirroredStrategy()\n",
    "    else:\n",
    "      strategy = tf.compat.v2.distribute.MirroredStrategy()\n",
    "\n",
    "    with strategy.scope():\n",
    "      model_lib_v2.train_loop(\n",
    "          pipeline_config_path=pipeline_config_path,\n",
    "          model_dir=model_dir,\n",
    "          train_steps=num_train_steps,\n",
    "          use_tpu=use_tpu,\n",
    "          checkpoint_every_n=checkpoint_every_n,\n",
    "          record_summaries=record_summaries)\n",
    "\n",
    "if __name__ == '__main__':\n",
    "    start_time = time.perf_counter()\n",
    "    main()\n",
    "    end_time = time.perf_counter() - start_time\n",
    "    print('Training abgeschlossen: Dauer = ', end_time)\n",
    "  #tf.compat.v1.app.run()\n"
   ]
  },
  {
   "cell_type": "markdown",
   "metadata": {},
   "source": [
    "# 5a. Evaluate the Training (optional)\n",
    "anders als beim Training ist hier ein Wert für Checkpoin_dir gesetzt.\n",
    "Zeile 21: checkpoint_dir = model_dir\n",
    "unvorteilhafter weise kann die Evaluierung nicht parallel zum Training laufen (kommt hoffentlich noch, bei TF1 gings ja auch). Also muss das Training mit num_train_steps = xxx  in kleine Portionen geteilt werden, und zwischendurch immer eval- wer es bracuht."
   ]
  },
  {
   "cell_type": "code",
   "execution_count": 58,
   "metadata": {
    "scrolled": true
   },
   "outputs": [
    {
     "name": "stdout",
     "output_type": "stream",
     "text": [
      "WARNING:tensorflow:Forced number of epochs for all eval validations to be 1.\n"
     ]
    },
    {
     "name": "stderr",
     "output_type": "stream",
     "text": [
      "[06/07 17:05:39] tensorflow WARNING: Forced number of epochs for all eval validations to be 1.\n"
     ]
    },
    {
     "name": "stdout",
     "output_type": "stream",
     "text": [
      "INFO:tensorflow:Maybe overwriting sample_1_of_n_eval_examples: None\n"
     ]
    },
    {
     "name": "stderr",
     "output_type": "stream",
     "text": [
      "[06/07 17:05:39] tensorflow INFO: Maybe overwriting sample_1_of_n_eval_examples: None\n"
     ]
    },
    {
     "name": "stdout",
     "output_type": "stream",
     "text": [
      "INFO:tensorflow:Maybe overwriting use_bfloat16: False\n"
     ]
    },
    {
     "name": "stderr",
     "output_type": "stream",
     "text": [
      "[06/07 17:05:39] tensorflow INFO: Maybe overwriting use_bfloat16: False\n"
     ]
    },
    {
     "name": "stdout",
     "output_type": "stream",
     "text": [
      "INFO:tensorflow:Maybe overwriting eval_num_epochs: 1\n"
     ]
    },
    {
     "name": "stderr",
     "output_type": "stream",
     "text": [
      "[06/07 17:05:39] tensorflow INFO: Maybe overwriting eval_num_epochs: 1\n"
     ]
    },
    {
     "name": "stdout",
     "output_type": "stream",
     "text": [
      "WARNING:tensorflow:Expected number of evaluation epochs is 1, but instead encountered `eval_on_train_input_config.num_epochs` = 0. Overwriting `num_epochs` to 1.\n"
     ]
    },
    {
     "name": "stderr",
     "output_type": "stream",
     "text": [
      "[06/07 17:05:39] tensorflow WARNING: Expected number of evaluation epochs is 1, but instead encountered `eval_on_train_input_config.num_epochs` = 0. Overwriting `num_epochs` to 1.\n"
     ]
    },
    {
     "name": "stdout",
     "output_type": "stream",
     "text": [
      "INFO:tensorflow:Reading unweighted datasets: ['C:/Tensorflow2/workspace/training_demo/annotations/test.record']\n"
     ]
    },
    {
     "name": "stderr",
     "output_type": "stream",
     "text": [
      "[06/07 17:05:39] tensorflow INFO: Reading unweighted datasets: ['C:/Tensorflow2/workspace/training_demo/annotations/test.record']\n"
     ]
    },
    {
     "name": "stdout",
     "output_type": "stream",
     "text": [
      "INFO:tensorflow:Reading record datasets for input file: ['C:/Tensorflow2/workspace/training_demo/annotations/test.record']\n"
     ]
    },
    {
     "name": "stderr",
     "output_type": "stream",
     "text": [
      "[06/07 17:05:39] tensorflow INFO: Reading record datasets for input file: ['C:/Tensorflow2/workspace/training_demo/annotations/test.record']\n"
     ]
    },
    {
     "name": "stdout",
     "output_type": "stream",
     "text": [
      "INFO:tensorflow:Number of filenames to read: 1\n"
     ]
    },
    {
     "name": "stderr",
     "output_type": "stream",
     "text": [
      "[06/07 17:05:39] tensorflow INFO: Number of filenames to read: 1\n"
     ]
    },
    {
     "name": "stdout",
     "output_type": "stream",
     "text": [
      "WARNING:tensorflow:num_readers has been reduced to 1 to match input file shards.\n"
     ]
    },
    {
     "name": "stderr",
     "output_type": "stream",
     "text": [
      "[06/07 17:05:39] tensorflow WARNING: num_readers has been reduced to 1 to match input file shards.\n"
     ]
    },
    {
     "name": "stdout",
     "output_type": "stream",
     "text": [
      "INFO:tensorflow:Waiting for new checkpoint at C:\\Tensorflow2\\workspace\\Training_demo\\models\\my_model\n"
     ]
    },
    {
     "name": "stderr",
     "output_type": "stream",
     "text": [
      "[06/07 17:05:40] tensorflow INFO: Waiting for new checkpoint at C:\\Tensorflow2\\workspace\\Training_demo\\models\\my_model\n"
     ]
    },
    {
     "name": "stdout",
     "output_type": "stream",
     "text": [
      "INFO:tensorflow:Found new checkpoint at C:\\Tensorflow2\\workspace\\Training_demo\\models\\my_model\\ckpt-301\n"
     ]
    },
    {
     "name": "stderr",
     "output_type": "stream",
     "text": [
      "[06/07 17:05:40] tensorflow INFO: Found new checkpoint at C:\\Tensorflow2\\workspace\\Training_demo\\models\\my_model\\ckpt-301\n"
     ]
    },
    {
     "name": "stdout",
     "output_type": "stream",
     "text": [
      "INFO:tensorflow:depth of additional conv before box predictor: 0\n"
     ]
    },
    {
     "name": "stderr",
     "output_type": "stream",
     "text": [
      "[06/07 17:05:47] tensorflow INFO: depth of additional conv before box predictor: 0\n"
     ]
    },
    {
     "name": "stdout",
     "output_type": "stream",
     "text": [
      "INFO:tensorflow:Finished eval step 0\n"
     ]
    },
    {
     "name": "stderr",
     "output_type": "stream",
     "text": [
      "[06/07 17:05:59] tensorflow INFO: Finished eval step 0\n"
     ]
    },
    {
     "name": "stdout",
     "output_type": "stream",
     "text": [
      "INFO:tensorflow:Finished eval step 100\n"
     ]
    },
    {
     "name": "stderr",
     "output_type": "stream",
     "text": [
      "[06/07 17:06:45] tensorflow INFO: Finished eval step 100\n"
     ]
    },
    {
     "name": "stdout",
     "output_type": "stream",
     "text": [
      "INFO:tensorflow:Performing evaluation on 198 images.\n"
     ]
    },
    {
     "name": "stderr",
     "output_type": "stream",
     "text": [
      "[06/07 17:07:27] tensorflow INFO: Performing evaluation on 198 images.\n"
     ]
    },
    {
     "name": "stdout",
     "output_type": "stream",
     "text": [
      "creating index...\n",
      "index created!\n",
      "INFO:tensorflow:Loading and preparing annotation results...\n"
     ]
    },
    {
     "name": "stderr",
     "output_type": "stream",
     "text": [
      "[06/07 17:07:27] tensorflow INFO: Loading and preparing annotation results...\n"
     ]
    },
    {
     "name": "stdout",
     "output_type": "stream",
     "text": [
      "INFO:tensorflow:DONE (t=0.01s)\n"
     ]
    },
    {
     "name": "stderr",
     "output_type": "stream",
     "text": [
      "[06/07 17:07:27] tensorflow INFO: DONE (t=0.01s)\n"
     ]
    },
    {
     "name": "stdout",
     "output_type": "stream",
     "text": [
      "creating index...\n",
      "index created!\n",
      "Running per image evaluation...\n",
      "Evaluate annotation type *bbox*\n",
      "DONE (t=0.44s).\n",
      "Accumulating evaluation results...\n",
      "DONE (t=0.28s).\n",
      " Average Precision  (AP) @[ IoU=0.50:0.95 | area=   all | maxDets=100 ] = 0.270\n",
      " Average Precision  (AP) @[ IoU=0.50      | area=   all | maxDets=100 ] = 0.553\n",
      " Average Precision  (AP) @[ IoU=0.75      | area=   all | maxDets=100 ] = 0.199\n",
      " Average Precision  (AP) @[ IoU=0.50:0.95 | area= small | maxDets=100 ] = 0.084\n",
      " Average Precision  (AP) @[ IoU=0.50:0.95 | area=medium | maxDets=100 ] = 0.229\n",
      " Average Precision  (AP) @[ IoU=0.50:0.95 | area= large | maxDets=100 ] = 0.260\n",
      " Average Recall     (AR) @[ IoU=0.50:0.95 | area=   all | maxDets=  1 ] = 0.282\n",
      " Average Recall     (AR) @[ IoU=0.50:0.95 | area=   all | maxDets= 10 ] = 0.374\n",
      " Average Recall     (AR) @[ IoU=0.50:0.95 | area=   all | maxDets=100 ] = 0.410\n",
      " Average Recall     (AR) @[ IoU=0.50:0.95 | area= small | maxDets=100 ] = 0.199\n",
      " Average Recall     (AR) @[ IoU=0.50:0.95 | area=medium | maxDets=100 ] = 0.359\n",
      " Average Recall     (AR) @[ IoU=0.50:0.95 | area= large | maxDets=100 ] = 0.380\n",
      "INFO:tensorflow:Eval metrics at step 300000\n"
     ]
    },
    {
     "name": "stderr",
     "output_type": "stream",
     "text": [
      "[06/07 17:07:28] tensorflow INFO: Eval metrics at step 300000\n"
     ]
    },
    {
     "name": "stdout",
     "output_type": "stream",
     "text": [
      "INFO:tensorflow:\t+ DetectionBoxes_Precision/mAP: 0.270194\n"
     ]
    },
    {
     "name": "stderr",
     "output_type": "stream",
     "text": [
      "[06/07 17:07:28] tensorflow INFO: \t+ DetectionBoxes_Precision/mAP: 0.270194\n"
     ]
    },
    {
     "name": "stdout",
     "output_type": "stream",
     "text": [
      "INFO:tensorflow:\t+ DetectionBoxes_Precision/mAP@.50IOU: 0.552930\n"
     ]
    },
    {
     "name": "stderr",
     "output_type": "stream",
     "text": [
      "[06/07 17:07:28] tensorflow INFO: \t+ DetectionBoxes_Precision/mAP@.50IOU: 0.552930\n"
     ]
    },
    {
     "name": "stdout",
     "output_type": "stream",
     "text": [
      "INFO:tensorflow:\t+ DetectionBoxes_Precision/mAP@.75IOU: 0.198512\n"
     ]
    },
    {
     "name": "stderr",
     "output_type": "stream",
     "text": [
      "[06/07 17:07:28] tensorflow INFO: \t+ DetectionBoxes_Precision/mAP@.75IOU: 0.198512\n"
     ]
    },
    {
     "name": "stdout",
     "output_type": "stream",
     "text": [
      "INFO:tensorflow:\t+ DetectionBoxes_Precision/mAP (small): 0.083609\n"
     ]
    },
    {
     "name": "stderr",
     "output_type": "stream",
     "text": [
      "[06/07 17:07:28] tensorflow INFO: \t+ DetectionBoxes_Precision/mAP (small): 0.083609\n"
     ]
    },
    {
     "name": "stdout",
     "output_type": "stream",
     "text": [
      "INFO:tensorflow:\t+ DetectionBoxes_Precision/mAP (medium): 0.229075\n"
     ]
    },
    {
     "name": "stderr",
     "output_type": "stream",
     "text": [
      "[06/07 17:07:28] tensorflow INFO: \t+ DetectionBoxes_Precision/mAP (medium): 0.229075\n"
     ]
    },
    {
     "name": "stdout",
     "output_type": "stream",
     "text": [
      "INFO:tensorflow:\t+ DetectionBoxes_Precision/mAP (large): 0.260355\n"
     ]
    },
    {
     "name": "stderr",
     "output_type": "stream",
     "text": [
      "[06/07 17:07:28] tensorflow INFO: \t+ DetectionBoxes_Precision/mAP (large): 0.260355\n"
     ]
    },
    {
     "name": "stdout",
     "output_type": "stream",
     "text": [
      "INFO:tensorflow:\t+ DetectionBoxes_Recall/AR@1: 0.282335\n"
     ]
    },
    {
     "name": "stderr",
     "output_type": "stream",
     "text": [
      "[06/07 17:07:28] tensorflow INFO: \t+ DetectionBoxes_Recall/AR@1: 0.282335\n"
     ]
    },
    {
     "name": "stdout",
     "output_type": "stream",
     "text": [
      "INFO:tensorflow:\t+ DetectionBoxes_Recall/AR@10: 0.373766\n"
     ]
    },
    {
     "name": "stderr",
     "output_type": "stream",
     "text": [
      "[06/07 17:07:28] tensorflow INFO: \t+ DetectionBoxes_Recall/AR@10: 0.373766\n"
     ]
    },
    {
     "name": "stdout",
     "output_type": "stream",
     "text": [
      "INFO:tensorflow:\t+ DetectionBoxes_Recall/AR@100: 0.410421\n"
     ]
    },
    {
     "name": "stderr",
     "output_type": "stream",
     "text": [
      "[06/07 17:07:28] tensorflow INFO: \t+ DetectionBoxes_Recall/AR@100: 0.410421\n"
     ]
    },
    {
     "name": "stdout",
     "output_type": "stream",
     "text": [
      "INFO:tensorflow:\t+ DetectionBoxes_Recall/AR@100 (small): 0.199286\n"
     ]
    },
    {
     "name": "stderr",
     "output_type": "stream",
     "text": [
      "[06/07 17:07:28] tensorflow INFO: \t+ DetectionBoxes_Recall/AR@100 (small): 0.199286\n"
     ]
    },
    {
     "name": "stdout",
     "output_type": "stream",
     "text": [
      "INFO:tensorflow:\t+ DetectionBoxes_Recall/AR@100 (medium): 0.359338\n"
     ]
    },
    {
     "name": "stderr",
     "output_type": "stream",
     "text": [
      "[06/07 17:07:28] tensorflow INFO: \t+ DetectionBoxes_Recall/AR@100 (medium): 0.359338\n"
     ]
    },
    {
     "name": "stdout",
     "output_type": "stream",
     "text": [
      "INFO:tensorflow:\t+ DetectionBoxes_Recall/AR@100 (large): 0.380361\n"
     ]
    },
    {
     "name": "stderr",
     "output_type": "stream",
     "text": [
      "[06/07 17:07:28] tensorflow INFO: \t+ DetectionBoxes_Recall/AR@100 (large): 0.380361\n"
     ]
    },
    {
     "name": "stdout",
     "output_type": "stream",
     "text": [
      "INFO:tensorflow:\t+ Loss/RPNLoss/localization_loss: 0.023647\n"
     ]
    },
    {
     "name": "stderr",
     "output_type": "stream",
     "text": [
      "[06/07 17:07:28] tensorflow INFO: \t+ Loss/RPNLoss/localization_loss: 0.023647\n"
     ]
    },
    {
     "name": "stdout",
     "output_type": "stream",
     "text": [
      "INFO:tensorflow:\t+ Loss/RPNLoss/objectness_loss: 0.008663\n"
     ]
    },
    {
     "name": "stderr",
     "output_type": "stream",
     "text": [
      "[06/07 17:07:28] tensorflow INFO: \t+ Loss/RPNLoss/objectness_loss: 0.008663\n"
     ]
    },
    {
     "name": "stdout",
     "output_type": "stream",
     "text": [
      "INFO:tensorflow:\t+ Loss/BoxClassifierLoss/localization_loss: 0.094058\n"
     ]
    },
    {
     "name": "stderr",
     "output_type": "stream",
     "text": [
      "[06/07 17:07:28] tensorflow INFO: \t+ Loss/BoxClassifierLoss/localization_loss: 0.094058\n"
     ]
    },
    {
     "name": "stdout",
     "output_type": "stream",
     "text": [
      "INFO:tensorflow:\t+ Loss/BoxClassifierLoss/classification_loss: 0.141949\n"
     ]
    },
    {
     "name": "stderr",
     "output_type": "stream",
     "text": [
      "[06/07 17:07:28] tensorflow INFO: \t+ Loss/BoxClassifierLoss/classification_loss: 0.141949\n"
     ]
    },
    {
     "name": "stdout",
     "output_type": "stream",
     "text": [
      "INFO:tensorflow:\t+ Loss/regularization_loss: 0.000000\n"
     ]
    },
    {
     "name": "stderr",
     "output_type": "stream",
     "text": [
      "[06/07 17:07:28] tensorflow INFO: \t+ Loss/regularization_loss: 0.000000\n"
     ]
    },
    {
     "name": "stdout",
     "output_type": "stream",
     "text": [
      "INFO:tensorflow:\t+ Loss/total_loss: 0.268318\n"
     ]
    },
    {
     "name": "stderr",
     "output_type": "stream",
     "text": [
      "[06/07 17:07:28] tensorflow INFO: \t+ Loss/total_loss: 0.268318\n"
     ]
    },
    {
     "name": "stdout",
     "output_type": "stream",
     "text": [
      "INFO:tensorflow:Waiting for new checkpoint at C:\\Tensorflow2\\workspace\\Training_demo\\models\\my_model\n"
     ]
    },
    {
     "name": "stderr",
     "output_type": "stream",
     "text": [
      "[06/07 17:10:40] tensorflow INFO: Waiting for new checkpoint at C:\\Tensorflow2\\workspace\\Training_demo\\models\\my_model\n"
     ]
    },
    {
     "name": "stdout",
     "output_type": "stream",
     "text": [
      "INFO:tensorflow:Timed-out waiting for a checkpoint.\n"
     ]
    },
    {
     "name": "stderr",
     "output_type": "stream",
     "text": [
      "[06/07 17:11:39] tensorflow INFO: Timed-out waiting for a checkpoint.\n"
     ]
    },
    {
     "name": "stdout",
     "output_type": "stream",
     "text": [
      "Evaluierung abgeschlossen: Dauer =  360.4483578999643\n"
     ]
    }
   ],
   "source": [
    "# model_main_tf2.py\n",
    "# individuell angepasst werden müssen die Zeilen 23, 24\n",
    "\n",
    "#from absl import flags\n",
    "import os\n",
    "import tensorflow.compat.v2 as tf\n",
    "from object_detection import model_lib_v2\n",
    "import time\n",
    "\n",
    "Path_to_scripts = r'C:\\Tensorflow2\\workspace\\Training_demo'\n",
    "model_dir = os.path.join(Path_to_scripts, 'models\\my_model')\n",
    "pipeline_config_path = os.path.join(model_dir, 'pipeline.config')\n",
    "num_train_steps = None\n",
    "eval_on_train_data = False\n",
    "sample_1_of_n_eval_examples = None\n",
    "sample_1_of_n_eval_on_train_examples = 5\n",
    "checkpoint_dir = model_dir\n",
    "eval_timeout = 60\n",
    "use_tpu = False\n",
    "num_train_steps = None\n",
    "num_workers = 1\n",
    "checkpoint_every_n = 1000\n",
    "record_summaries = True\n",
    "\n",
    "def main():  \n",
    "\n",
    "  if checkpoint_dir:\n",
    "    model_lib_v2.eval_continuously(\n",
    "        pipeline_config_path=pipeline_config_path,\n",
    "        model_dir=model_dir,\n",
    "        train_steps=num_train_steps,\n",
    "        sample_1_of_n_eval_examples=sample_1_of_n_eval_examples,\n",
    "        sample_1_of_n_eval_on_train_examples=(\n",
    "            sample_1_of_n_eval_on_train_examples),\n",
    "        checkpoint_dir=checkpoint_dir,\n",
    "        wait_interval=300, timeout=eval_timeout)\n",
    "  else:\n",
    "    if use_tpu:\n",
    "      # TPU is automatically inferred if tpu_name is None and\n",
    "      # we are running under cloud ai-platform.\n",
    "      resolver = tf.distribute.cluster_resolver.TPUClusterResolver(\n",
    "          tpu_name)\n",
    "      tf.config.experimental_connect_to_cluster(resolver)\n",
    "      tf.tpu.experimental.initialize_tpu_system(resolver)\n",
    "      strategy = tf.distribute.experimental.TPUStrategy(resolver)\n",
    "    elif num_workers > 1:\n",
    "      strategy = tf.distribute.experimental.MultiWorkerMirroredStrategy()\n",
    "    else:\n",
    "      strategy = tf.compat.v2.distribute.MirroredStrategy()\n",
    "\n",
    "    with strategy.scope():\n",
    "      model_lib_v2.train_loop(\n",
    "          pipeline_config_path=pipeline_config_path,\n",
    "          model_dir=model_dir,\n",
    "          train_steps=num_train_steps,\n",
    "          use_tpu=use_tpu,\n",
    "          checkpoint_every_n=checkpoint_every_n,\n",
    "          record_summaries=record_summaries)\n",
    "\n",
    "if __name__ == '__main__':\n",
    "    start_time = time.perf_counter()\n",
    "    main()\n",
    "    end_time = time.perf_counter() - start_time\n",
    "    print('Evaluierung abgeschlossen: Dauer = ', end_time)\n",
    "  #tf.compat.v1.app.run()\n"
   ]
  },
  {
   "cell_type": "markdown",
   "metadata": {},
   "source": [
    "# 6. Ergebnisse in Tensorboard\n",
    "dazu die Commands in Anacoda-prompt  oder cmd ausführen.\n",
    "command3 - evt. muss der Ordner my_....   angepasst werden "
   ]
  },
  {
   "cell_type": "code",
   "execution_count": null,
   "metadata": {},
   "outputs": [],
   "source": [
    "command1 = \"activate tf2_env\" \n",
    "command2 = \"cd C:\\Tensorflow2\\workspace\\Training_demo\"\n",
    "command3 = \"tensorboard --logdir=models/my_model\"\n",
    "print(command1)\n",
    "print(command2)\n",
    "print(command3)"
   ]
  },
  {
   "cell_type": "markdown",
   "metadata": {},
   "source": [
    "# 7. export model\n",
    "im command müssen die beiden Pfad angepasst werden:\n",
    "pipelin_config_path\n",
    "trained_checkpoint_dir\n",
    "\n",
    "und die exporter_main_v2.py sollte in  C:\\Tensorflow2\\workspace\\training_demo\\  liegen\n",
    "zu finden ist sie unter: C:\\Tensorflow2\\models-master\\research\\object_detection"
   ]
  },
  {
   "cell_type": "code",
   "execution_count": null,
   "metadata": {},
   "outputs": [],
   "source": [
    "command = python C:\\Tensorflow2\\workspace\\Training_demo\\exporter_main_v2.py --input_type image_tensor --pipeline_config_path C:\\Tensorflow2\\workspace\\training_demo\\models\\my_faster_rcnn_resnet50_v1\\pipeline.config --trained_checkpoint_dir C:\\Tensorflow2\\workspace\\training_demo\\models\\my_faster_rcnn_resnet50_v1\\ --output_directory C:\\Tensorflow2\\workspace\\training_demo\\exported-models\\my_model"
   ]
  },
  {
   "cell_type": "code",
   "execution_count": null,
   "metadata": {},
   "outputs": [],
   "source": [
    "!{command}"
   ]
  },
  {
   "cell_type": "markdown",
   "metadata": {},
   "source": [
    "# 8. Run model with images"
   ]
  },
  {
   "cell_type": "code",
   "execution_count": null,
   "metadata": {},
   "outputs": [],
   "source": [
    "#!/usr/bin/env python\n",
    "# coding: utf-8\n",
    "\n",
    "# %%\n",
    "# This demo will take you through the steps of running an \"out-of-the-box\" TensorFlow 2 compatible\n",
    "# detection model on a collection of images. More specifically, in this example we will be using\n",
    "# the `Saved Model Format <https://www.tensorflow.org/guide/saved_model>`__ to load the model.\n",
    "\n",
    "# %%\n",
    "# Download the test images\n",
    "# ~~~~~~~~~~~~~~~~~~~~~~~~\n",
    "# First we will download the images that we will use throughout this tutorial. The code snippet\n",
    "# shown bellow will download the test images from the `TensorFlow Model Garden <https://github.com/tensorflow/models/tree/master/research/object_detection/test_images>`_\n",
    "# and save them inside the ``data/images`` folder.\n",
    "import os\n",
    "os.environ['TF_CPP_MIN_LOG_LEVEL'] = '2'    # Suppress TensorFlow logging (1)\n",
    "#import pathlib\n",
    "import tensorflow as tf\n",
    "import time\n",
    "import numpy as np\n",
    "import glob\n",
    "import cv2\n",
    "#from PIL import Image\n",
    "#import matplotlib.pyplot as plt\n",
    "import warnings\n",
    "from utils import label_map_util\n",
    "#from utils import visualization_utils as viz_utils\n",
    "\n",
    "tf.get_logger().setLevel('ERROR')           # Suppress TensorFlow logging (2)\n",
    "\n",
    "# Enable GPU dynamic memory allocation\n",
    "gpus = tf.config.experimental.list_physical_devices('GPU')\n",
    "for gpu in gpus:\n",
    "    tf.config.experimental.set_memory_growth(gpu, True)\n",
    "\n",
    "\n",
    "IMAGE_PATHS = r'C:\\Tensorflow2\\workspace\\training_demo\\test'\n",
    "PATH_TO_LABELS = r'C:\\Tensorflow2\\workspace\\training_demo\\annotations\\label_map.pbtxt'\n",
    "PATH_TO_MODEL_DIR = r'C:\\Tensorflow2\\workspace\\training_demo\\exported-models\\my_model'\n",
    "PATH_TO_SAVED_MODEL = PATH_TO_MODEL_DIR + \"/saved_model\"\n",
    "alpha = 0.1 #transparency factor\n",
    "prediction_score = 0.5 #treshold  for prediction\n",
    "print('Loading model...', end='')\n",
    "start_time = time.time()\n",
    "\n",
    "# Load saved model and build the detection function\n",
    "detect_fn = tf.saved_model.load(PATH_TO_SAVED_MODEL)\n",
    "\n",
    "end_time = time.time()\n",
    "elapsed_time = end_time - start_time\n",
    "print('Done! Took {} seconds'.format(elapsed_time))\n",
    "\n",
    "category_index = label_map_util.create_category_index_from_labelmap(PATH_TO_LABELS,\n",
    "                                                                    use_display_name=True)\n",
    "\n",
    "# Here are some simple things to try out if you are curious:\n",
    "#\n",
    "# * Modify some of the input images and see if detection still works. Some simple things to try out here (just uncomment the relevant portions of code) include flipping the image horizontally, or converting to grayscale (note that we still expect the input image to have 3 channels).\n",
    "# * Print out `detections['detection_boxes']` and try to match the box locations to the boxes in the image.  Notice that coordinates are given in normalized form (i.e., in the interval [0, 1]).\n",
    "# * Set ``min_score_thresh`` to other values (between 0 and 1) to allow more detections in or to filter out more detections.\n",
    "\n",
    "warnings.filterwarnings('ignore')   # Suppress Matplotlib warnings\n",
    "\n",
    "images = glob.glob(os.path.join(IMAGE_PATHS, '*.jpg'))\n",
    "\n",
    "for img in images:\n",
    "\n",
    "    #print('Running inference for {}... '.format(img), end='')\n",
    "\n",
    "    image = cv2.imread(img)  # (PATH_TO_IMAGE)\n",
    "    # Things to try:\n",
    "    #image = cv2.flip(image, 1)  # horizontal flip\n",
    "    #image = cv2.flip(image, 0)  # vertical flip\n",
    "\n",
    "    image_copy = cv2.resize(image, (1280, 720))\n",
    "    overlay = image_copy.copy()\n",
    "\n",
    "    image_np = np.array(image)#load_image_into_numpy_array(image_path)\n",
    "\n",
    "    # The input needs to be a tensor, convert it using `tf.convert_to_tensor`.\n",
    "    input_tensor = tf.convert_to_tensor(image_np)\n",
    "    # The model expects a batch of images, so add an axis with `tf.newaxis`.\n",
    "    input_tensor = input_tensor[tf.newaxis, ...]\n",
    "\n",
    "    # input_tensor = np.expand_dims(image_np, 0)\n",
    "    detections = detect_fn(input_tensor)\n",
    "\n",
    "    # All outputs are batches tensors.\n",
    "    # Convert to numpy arrays, and take index [0] to remove the batch dimension.\n",
    "    # We're only interested in the first num_detections.\n",
    "    num_detections = int(detections.pop('num_detections'))\n",
    "    detections = {key: value[0, :num_detections].numpy()\n",
    "                   for key, value in detections.items()}\n",
    "    detections['num_detections'] = num_detections\n",
    "\n",
    "    # detection_classes should be ints.\n",
    "    detections['detection_classes'] = detections['detection_classes'].astype(np.int64)\n",
    "\n",
    "    #image_np_with_detections = image_np.copy()\n",
    "\n",
    "    for i in range(0, len(detections['detection_classes'])):\n",
    "        if detections['detection_scores'][i] > prediction_score:\n",
    "            ymin, xmin, ymax, xmax = detections['detection_boxes'][i]\n",
    "            class_name = category_index[detections['detection_classes'][i]]['name']\n",
    "            xmin = int(xmin * 1280)\n",
    "            xmax = int(xmax * 1280)\n",
    "            ymin = int(ymin * 720)\n",
    "            ymax = int(ymax * 720)\n",
    "            score = round(detections['detection_scores'][i] * 100, 1)\n",
    "            print(xmin, ymin, xmax, ymax, class_name, score)\n",
    "            text = class_name + ' ' + str(score)\n",
    "            cv2.rectangle(overlay, (xmin, ymin), (xmax, ymax), [0, 0, 255], -1)\n",
    "            cv2.rectangle(image_copy, (xmin, ymin), (xmax, ymax), [255, 255, 255], 2)\n",
    "            image = cv2.putText(image_copy, text, (xmin, ymin), cv2.FONT_HERSHEY_SIMPLEX, 1, (255, 255, 255), 2,\n",
    "                                cv2.LINE_AA)\n",
    "\n",
    "    image_copy = cv2.addWeighted(overlay, alpha, image_copy, 1 - alpha, 0)\n",
    "    cv2.imshow('result', image_copy)\n",
    "\n",
    "    # Press any key to close the image\n",
    "    k = cv2.waitKey(0)\n",
    "\n",
    "cv2.destroyAllWindows()\n",
    "\n",
    "# sphinx_gallery_thumbnail_number = 2"
   ]
  }
 ],
 "metadata": {
  "kernelspec": {
   "display_name": "tf2_env",
   "language": "python",
   "name": "tf2_env"
  },
  "language_info": {
   "codemirror_mode": {
    "name": "ipython",
    "version": 3
   },
   "file_extension": ".py",
   "mimetype": "text/x-python",
   "name": "python",
   "nbconvert_exporter": "python",
   "pygments_lexer": "ipython3",
   "version": "3.8.8"
  }
 },
 "nbformat": 4,
 "nbformat_minor": 4
}
