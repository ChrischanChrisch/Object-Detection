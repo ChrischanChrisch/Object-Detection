{
 "cells": [
  {
   "cell_type": "markdown",
   "metadata": {},
   "source": [
    "# 1. Aufteilen der Datensätze in Test und Train\n",
    "Alle Bilder und xml-Datein sollten im Ordner C:\\Tensorflow2\\workspace\\training_demo\\images   abgelegt sein\n",
    "ebenso sollte unterordner 'test' und 'train' angelegt sein.  "
   ]
  },
  {
   "cell_type": "code",
   "execution_count": null,
   "metadata": {},
   "outputs": [],
   "source": [
    "import os\n",
    "import re\n",
    "from shutil import copyfile\n",
    "import math\n",
    "import random\n",
    "import time\n",
    "\n",
    "imageDir = r'C:\\Tensorflow2\\workspace\\Training_demo\\images'\n",
    "outputDir = r'C:\\Tensorflow2\\workspace\\Training_demo\\images'\n",
    "ratio = 0.1\n",
    "xml = True\n",
    "\n",
    "def iterate_dir(source, dest, ratio, copy_xml):\n",
    "    source = source.replace('\\\\', '/')\n",
    "    dest = dest.replace('\\\\', '/')\n",
    "    train_dir = os.path.join(dest, 'train')\n",
    "    test_dir = os.path.join(dest, 'test')\n",
    "\n",
    "    if not os.path.exists(train_dir):\n",
    "        os.makedirs(train_dir)\n",
    "    if not os.path.exists(test_dir):\n",
    "        os.makedirs(test_dir)\n",
    "\n",
    "    images = [f for f in os.listdir(source)\n",
    "              if re.search(r'([a-zA-Z0-9\\s_\\\\.\\-\\(\\):])+(.jpg|.jpeg|.png)$', f)]\n",
    "\n",
    "    num_images = len(images)\n",
    "    num_test_images = math.ceil(ratio*num_images)\n",
    "\n",
    "    for i in range(num_test_images):\n",
    "        idx = random.randint(0, len(images)-1)\n",
    "        filename = images[idx]\n",
    "        copyfile(os.path.join(source, filename),\n",
    "                 os.path.join(test_dir, filename))\n",
    "        if copy_xml:\n",
    "            xml_filename = os.path.splitext(filename)[0]+'.xml'\n",
    "            copyfile(os.path.join(source, xml_filename),\n",
    "                     os.path.join(test_dir,xml_filename))\n",
    "        images.remove(images[idx])\n",
    "\n",
    "    for filename in images:\n",
    "        copyfile(os.path.join(source, filename),\n",
    "                 os.path.join(train_dir, filename))\n",
    "        if copy_xml:\n",
    "            xml_filename = os.path.splitext(filename)[0]+'.xml'\n",
    "            copyfile(os.path.join(source, xml_filename),\n",
    "                     os.path.join(train_dir, xml_filename))\n",
    "\n",
    "\n",
    "def main():   \n",
    "\n",
    "    # Now we are ready to start the iteration\n",
    "    start_time = time.perf_counter()\n",
    "    print('Start')\n",
    "    iterate_dir(imageDir, outputDir, ratio, xml)\n",
    "    end_time = time.perf_counter() - start_time\n",
    "    print('Ende: Dauer = ', end_time)\n",
    "\n",
    "if __name__ == '__main__':\n",
    "    main()"
   ]
  },
  {
   "cell_type": "markdown",
   "metadata": {},
   "source": [
    "# 1b. Andere Label verwenden (optional)\n",
    "neue xml-Datein zu den bereits aufgeteilten Bildern zuordnen\n",
    "dazu die neuen xml-Dateien C:\\Tensorflow2\\workspace\\training_demo\\images  ablegen\n",
    "unötig zu sagen dass die xml-Dateien den gleichen Namen haben wie das dazugehörige Bild"
   ]
  },
  {
   "cell_type": "code",
   "execution_count": null,
   "metadata": {},
   "outputs": [],
   "source": [
    "#Test_Train_xml.py\n",
    "# wird nur benötigt wenn Labels geändert wurden und neue XML-Datein zu den bereits aufgeteileten \n",
    "# Bilder zugordenet werden sollen \n",
    "import os\n",
    "import glob\n",
    "import time\n",
    "\n",
    "imageDir = r'C:\\Tensorflow2\\workspace\\Training_demo\\images'\n",
    "#CWD_Path = os.getcwd()\n",
    "start_time = time.perf_counter()\n",
    "print('Start:')\n",
    "for Folder in ['Test','Train']:\n",
    "    print(Folder)\n",
    "    for img in glob.glob(os.path.join(imageDir,Folder,'*.jpg')):\n",
    "        img_path = os.path.split(img)\n",
    "        img_path_2 = img_path[1].split('.')\n",
    "\n",
    "        for xml_file in glob.glob(CWD_Path + '\\*.xml'):\n",
    "            xml_path = os.path.split(xml_file)\n",
    "            xml_path_2 = xml_path[1].split('.')\n",
    "\n",
    "            if img_path_2 [0] == xml_path_2[0]:\n",
    "                print(img_path[1])\n",
    "                print(xml_path[1])\n",
    "                os.replace(xml_file, os.path.join(CWD_Path,Folder,xml_path[1]))\n",
    "                \n",
    "end_time = time.perf_counter() - start_time\n",
    "print('Ende: Dauer = ', end_time)\n",
    "print('Daten wurden aufgeteilt.')"
   ]
  },
  {
   "cell_type": "markdown",
   "metadata": {},
   "source": [
    "# 2. Label_Map erstellen\n",
    "die Namen der Labels müssen angepasst werden."
   ]
  },
  {
   "cell_type": "code",
   "execution_count": null,
   "metadata": {
    "scrolled": true
   },
   "outputs": [],
   "source": [
    "labels = [{'name':'Label1', 'id':1},{'name':'Label2', 'id':2},{'name':'Label3', 'id':3},{'name':'Label4', 'id':4}]\n",
    "\n",
    "with open(r'C:\\Tensorflow2\\workspace\\Training_demo\\annotations\\label_map1.pbtxt', 'w') as f:\n",
    "    for label in labels:\n",
    "        f.write('item { \\n')\n",
    "        f.write('\\tname:\\'{}\\'\\n'.format(label['name']))\n",
    "        f.write('\\tid:{}\\n'.format(label['id']))\n",
    "        f.write('}\\n')\n",
    "print('Label_map.pbtxt wurde erstellt.')"
   ]
  },
  {
   "cell_type": "markdown",
   "metadata": {},
   "source": [
    "# 3a. Umwandeln der csv in tfrecord\n",
    "# Test\n",
    "erstellt eine csv und eine .tfrecord Datei für Test\n",
    "Achtung!! es muss eine label_map.pbtxt vorhanden sein unter C:\\Tensorflow2\\workspace\\training_demo\\annotations\\"
   ]
  },
  {
   "cell_type": "code",
   "execution_count": null,
   "metadata": {},
   "outputs": [],
   "source": [
    "import os\n",
    "import glob\n",
    "import pandas as pd\n",
    "import io\n",
    "import xml.etree.ElementTree as ET\n",
    "\n",
    "os.environ['TF_CPP_MIN_LOG_LEVEL'] = '2'    # Suppress TensorFlow logging (1)\n",
    "import tensorflow.compat.v1 as tf\n",
    "from PIL import Image\n",
    "from object_detection.utils import dataset_util, label_map_util\n",
    "from collections import namedtuple\n",
    "\n",
    "xml_dir = r'C:\\Tensorflow2\\workspace\\Training_demo\\images\\test'\n",
    "labels_path = r'C:\\Tensorflow2\\workspace\\Training_demo\\annotations\\label_map.pbtxt'\n",
    "output_path = r'C:\\Tensorflow2\\workspace\\Training_demo\\annotations\\test.record'\n",
    "image_dir = xml_dir\n",
    "csv_path = r'C:\\Tensorflow2\\workspace\\Training_demo\\images\\_Test_labels.csv'\n",
    "\n",
    "label_map = label_map_util.load_labelmap(labels_path)\n",
    "label_map_dict = label_map_util.get_label_map_dict(label_map)\n",
    "\n",
    "\n",
    "def xml_to_csv(path): \n",
    "    xml_list = []\n",
    "    for xml_file in glob.glob(path + '/*.xml'):\n",
    "        tree = ET.parse(xml_file)\n",
    "        root = tree.getroot()\n",
    "        for member in root.findall('object'):\n",
    "            value = (root.find('filename').text,\n",
    "                     int(root.find('size')[0].text),\n",
    "                     int(root.find('size')[1].text),\n",
    "                     member[0].text,\n",
    "                     int(member[4][0].text),\n",
    "                     int(member[4][1].text),\n",
    "                     int(member[4][2].text),\n",
    "                     int(member[4][3].text)\n",
    "                     )\n",
    "            xml_list.append(value)\n",
    "    column_name = ['filename', 'width', 'height',\n",
    "                   'class', 'xmin', 'ymin', 'xmax', 'ymax']\n",
    "    xml_df = pd.DataFrame(xml_list, columns=column_name)\n",
    "    return xml_df\n",
    "\n",
    "\n",
    "def class_text_to_int(row_label):\n",
    "    return label_map_dict[row_label]\n",
    "\n",
    "\n",
    "def split(df, group):\n",
    "    data = namedtuple('data', ['filename', 'object'])\n",
    "    gb = df.groupby(group)\n",
    "    return [data(filename, gb.get_group(x)) for filename, x in zip(gb.groups.keys(), gb.groups)]\n",
    "\n",
    "\n",
    "def create_tf_example(group, path):\n",
    "    with tf.gfile.GFile(os.path.join(path, '{}'.format(group.filename)), 'rb') as fid:\n",
    "        encoded_jpg = fid.read()\n",
    "    encoded_jpg_io = io.BytesIO(encoded_jpg)\n",
    "    image = Image.open(encoded_jpg_io)\n",
    "    width, height = image.size\n",
    "\n",
    "    filename = group.filename.encode('utf8')\n",
    "    image_format = b'jpg'\n",
    "    xmins = []\n",
    "    xmaxs = []\n",
    "    ymins = []\n",
    "    ymaxs = []\n",
    "    classes_text = []\n",
    "    classes = []\n",
    "\n",
    "    for index, row in group.object.iterrows():\n",
    "        xmins.append(row['xmin'] / width)\n",
    "        xmaxs.append(row['xmax'] / width)\n",
    "        ymins.append(row['ymin'] / height)\n",
    "        ymaxs.append(row['ymax'] / height)\n",
    "        classes_text.append(row['class'].encode('utf8'))\n",
    "        classes.append(class_text_to_int(row['class']))\n",
    "\n",
    "    tf_example = tf.train.Example(features=tf.train.Features(feature={\n",
    "        'image/height': dataset_util.int64_feature(height),\n",
    "        'image/width': dataset_util.int64_feature(width),\n",
    "        'image/filename': dataset_util.bytes_feature(filename),\n",
    "        'image/source_id': dataset_util.bytes_feature(filename),\n",
    "        'image/encoded': dataset_util.bytes_feature(encoded_jpg),\n",
    "        'image/format': dataset_util.bytes_feature(image_format),\n",
    "        'image/object/bbox/xmin': dataset_util.float_list_feature(xmins),\n",
    "        'image/object/bbox/xmax': dataset_util.float_list_feature(xmaxs),\n",
    "        'image/object/bbox/ymin': dataset_util.float_list_feature(ymins),\n",
    "        'image/object/bbox/ymax': dataset_util.float_list_feature(ymaxs),\n",
    "        'image/object/class/text': dataset_util.bytes_list_feature(classes_text),\n",
    "        'image/object/class/label': dataset_util.int64_list_feature(classes),\n",
    "    }))\n",
    "    return tf_example\n",
    "\n",
    "\n",
    "def main(_):\n",
    "    start_time = time.perf_counter()\n",
    "    print('Start:')\n",
    "    writer = tf.python_io.TFRecordWriter(output_path)\n",
    "    path = os.path.join(image_dir)\n",
    "    examples = xml_to_csv(xml_dir)\n",
    "    grouped = split(examples, 'filename')\n",
    "    for group in grouped:\n",
    "        #print(group['filename'])\n",
    "        tf_example = create_tf_example(group, path)\n",
    "        writer.write(tf_example.SerializeToString())\n",
    "    writer.close()\n",
    "    print('Successfully created the TFRecord file: {}'.format(output_path))\n",
    "    if csv_path is not None:\n",
    "        examples.to_csv(csv_path, index=None)\n",
    "        print('Successfully created the CSV file: {}'.format(csv_path))\n",
    "        \n",
    "    end_time = time.perf_counter() - start_time\n",
    "    print('Ende: Dauer = ', end_time)\n",
    "\n",
    "if __name__ == '__main__':\n",
    "    tf.app.run()\n"
   ]
  },
  {
   "cell_type": "markdown",
   "metadata": {},
   "source": [
    "# 3b. Umwandeln der csv in tfrecord\n",
    "# Train\n",
    "erstellt eine csv und eine .tfrecord Datei für Train"
   ]
  },
  {
   "cell_type": "code",
   "execution_count": null,
   "metadata": {
    "scrolled": true
   },
   "outputs": [],
   "source": [
    "import os\n",
    "import glob\n",
    "import pandas as pd\n",
    "import io\n",
    "import xml.etree.ElementTree as ET\n",
    "\n",
    "os.environ['TF_CPP_MIN_LOG_LEVEL'] = '2'    # Suppress TensorFlow logging (1)\n",
    "import tensorflow.compat.v1 as tf\n",
    "from PIL import Image\n",
    "from object_detection.utils import dataset_util, label_map_util\n",
    "from collections import namedtuple\n",
    "\n",
    "xml_dir = r'C:\\Tensorflow2\\workspace\\Training_demo\\images\\train'\n",
    "labels_path = r'C:\\Tensorflow2\\workspace\\Training_demo\\annotations\\label_map.pbtxt'\n",
    "output_path = r'C:\\Tensorflow2\\workspace\\Training_demo\\annotations\\train.record'\n",
    "image_dir = xml_dir\n",
    "csv_path = r'C:\\Tensorflow2\\workspace\\Training_demo\\images\\_Train_labels.csv'\n",
    "\n",
    "label_map = label_map_util.load_labelmap(labels_path)\n",
    "label_map_dict = label_map_util.get_label_map_dict(label_map)\n",
    "\n",
    "\n",
    "def xml_to_csv(path): \n",
    "    xml_list = []\n",
    "    for xml_file in glob.glob(path + '/*.xml'):\n",
    "        tree = ET.parse(xml_file)\n",
    "        root = tree.getroot()\n",
    "        for member in root.findall('object'):\n",
    "            value = (root.find('filename').text,\n",
    "                     int(root.find('size')[0].text),\n",
    "                     int(root.find('size')[1].text),\n",
    "                     member[0].text,\n",
    "                     int(member[4][0].text),\n",
    "                     int(member[4][1].text),\n",
    "                     int(member[4][2].text),\n",
    "                     int(member[4][3].text)\n",
    "                     )\n",
    "            xml_list.append(value)\n",
    "    column_name = ['filename', 'width', 'height',\n",
    "                   'class', 'xmin', 'ymin', 'xmax', 'ymax']\n",
    "    xml_df = pd.DataFrame(xml_list, columns=column_name)\n",
    "    return xml_df\n",
    "\n",
    "\n",
    "def class_text_to_int(row_label):\n",
    "    return label_map_dict[row_label]\n",
    "\n",
    "\n",
    "def split(df, group):\n",
    "    data = namedtuple('data', ['filename', 'object'])\n",
    "    gb = df.groupby(group)\n",
    "    return [data(filename, gb.get_group(x)) for filename, x in zip(gb.groups.keys(), gb.groups)]\n",
    "\n",
    "\n",
    "def create_tf_example(group, path):\n",
    "    with tf.gfile.GFile(os.path.join(path, '{}'.format(group.filename)), 'rb') as fid:\n",
    "        encoded_jpg = fid.read()\n",
    "    encoded_jpg_io = io.BytesIO(encoded_jpg)\n",
    "    image = Image.open(encoded_jpg_io)\n",
    "    width, height = image.size\n",
    "\n",
    "    filename = group.filename.encode('utf8')\n",
    "    image_format = b'jpg'\n",
    "    xmins = []\n",
    "    xmaxs = []\n",
    "    ymins = []\n",
    "    ymaxs = []\n",
    "    classes_text = []\n",
    "    classes = []\n",
    "\n",
    "    for index, row in group.object.iterrows():\n",
    "        xmins.append(row['xmin'] / width)\n",
    "        xmaxs.append(row['xmax'] / width)\n",
    "        ymins.append(row['ymin'] / height)\n",
    "        ymaxs.append(row['ymax'] / height)\n",
    "        classes_text.append(row['class'].encode('utf8'))\n",
    "        classes.append(class_text_to_int(row['class']))\n",
    "\n",
    "    tf_example = tf.train.Example(features=tf.train.Features(feature={\n",
    "        'image/height': dataset_util.int64_feature(height),\n",
    "        'image/width': dataset_util.int64_feature(width),\n",
    "        'image/filename': dataset_util.bytes_feature(filename),\n",
    "        'image/source_id': dataset_util.bytes_feature(filename),\n",
    "        'image/encoded': dataset_util.bytes_feature(encoded_jpg),\n",
    "        'image/format': dataset_util.bytes_feature(image_format),\n",
    "        'image/object/bbox/xmin': dataset_util.float_list_feature(xmins),\n",
    "        'image/object/bbox/xmax': dataset_util.float_list_feature(xmaxs),\n",
    "        'image/object/bbox/ymin': dataset_util.float_list_feature(ymins),\n",
    "        'image/object/bbox/ymax': dataset_util.float_list_feature(ymaxs),\n",
    "        'image/object/class/text': dataset_util.bytes_list_feature(classes_text),\n",
    "        'image/object/class/label': dataset_util.int64_list_feature(classes),\n",
    "    }))\n",
    "    return tf_example\n",
    "\n",
    "\n",
    "def main(_):\n",
    "    start_time = time.perf_counter()\n",
    "    print('Start:')\n",
    "    writer = tf.python_io.TFRecordWriter(output_path)\n",
    "    path = os.path.join(image_dir)\n",
    "    examples = xml_to_csv(xml_dir)\n",
    "    grouped = split(examples, 'filename')\n",
    "    for group in grouped:\n",
    "        #print(group['filename'])\n",
    "        tf_example = create_tf_example(group, path)\n",
    "        writer.write(tf_example.SerializeToString())\n",
    "    writer.close()\n",
    "    print('Successfully created the TFRecord file: {}'.format(output_path))\n",
    "    if csv_path is not None:\n",
    "        examples.to_csv(csv_path, index=None)\n",
    "        print('Successfully created the CSV file: {}'.format(csv_path))\n",
    "        \n",
    "    end_time = time.perf_counter() - start_time\n",
    "    print('Ende: Dauer = ', end_time)\n",
    "\n",
    "if __name__ == '__main__':\n",
    "    tf.app.run()\n"
   ]
  },
  {
   "cell_type": "markdown",
   "metadata": {},
   "source": [
    "# 4. pipeline config anpassen\n",
    "dazu die piplien.config vom pretrained model kopieren in \n",
    "und Anpassungen bei folgenden Punkten vornehmen:\n"
   ]
  },
  {
   "cell_type": "code",
   "execution_count": null,
   "metadata": {},
   "outputs": [],
   "source": []
  },
  {
   "cell_type": "markdown",
   "metadata": {},
   "source": [
    "# 4. Das Training\n",
    "individuell angepasst werden müssen die Zeilen 9,10,11 evt. 19 \n",
    "\n",
    "vorher muss ein pretrained Model von https://github.com/tensorflow/models/blob/master/research/object_detection/g3doc/tf2_detection_zoo.md runtergelade und in C:/Tensorflow2/workspace/training_demo/prtrained_Models  gespeichert werden.\n",
    "In diesem Bsp. faster_rcnn_resnet50_v1_1024x1024_coco17_tpu-8   genutzt.\n",
    "\n",
    "Von da die entsprechende config -Datei  nehmen und in C:/Tensorflow2/workspace/training_demo/models/my_model...   speichern\n",
    "in der verschobenen config-Datei müssen die Zeilen \n",
    "110 - fine_tune_checkpoint: \"PATH_TO_BE_CONFIGURED\"\n",
    "143 - label_map_path: \"PATH_TO_BE_CONFIGURED/label_map.txt\"\n",
    "145 - input_path: \"PATH_TO_BE_CONFIGURED/train2017-?????-of-00256.tfrecord\"\n",
    "156 - label_map_path: \"PATH_TO_BE_CONFIGURED/label_map.txt\"\n",
    "160 - input_path: \"PATH_TO_BE_CONFIGURED/val2017-?????-of-00032.tfrecord\"\n",
    "angepast werden.\n",
    "\n"
   ]
  },
  {
   "cell_type": "code",
   "execution_count": 3,
   "metadata": {
    "scrolled": true
   },
   "outputs": [
    {
     "name": "stdout",
     "output_type": "stream",
     "text": [
      "INFO:tensorflow:Using MirroredStrategy with devices ('/job:localhost/replica:0/task:0/device:GPU:0',)\n"
     ]
    },
    {
     "name": "stderr",
     "output_type": "stream",
     "text": [
      "[06/01 21:50:32] tensorflow INFO: Using MirroredStrategy with devices ('/job:localhost/replica:0/task:0/device:GPU:0',)\n"
     ]
    },
    {
     "name": "stdout",
     "output_type": "stream",
     "text": [
      "INFO:tensorflow:Maybe overwriting train_steps: 200000\n"
     ]
    },
    {
     "name": "stderr",
     "output_type": "stream",
     "text": [
      "[06/01 21:50:32] tensorflow INFO: Maybe overwriting train_steps: 200000\n"
     ]
    },
    {
     "name": "stdout",
     "output_type": "stream",
     "text": [
      "INFO:tensorflow:Maybe overwriting use_bfloat16: False\n"
     ]
    },
    {
     "name": "stderr",
     "output_type": "stream",
     "text": [
      "[06/01 21:50:32] tensorflow INFO: Maybe overwriting use_bfloat16: False\n"
     ]
    },
    {
     "name": "stdout",
     "output_type": "stream",
     "text": [
      "INFO:tensorflow:Reading unweighted datasets: ['C:/Tensorflow2/workspace/training_demo/annotations/train.record']\n"
     ]
    },
    {
     "name": "stderr",
     "output_type": "stream",
     "text": [
      "[06/01 21:50:32] tensorflow INFO: Reading unweighted datasets: ['C:/Tensorflow2/workspace/training_demo/annotations/train.record']\n"
     ]
    },
    {
     "name": "stdout",
     "output_type": "stream",
     "text": [
      "INFO:tensorflow:Reading record datasets for input file: ['C:/Tensorflow2/workspace/training_demo/annotations/train.record']\n"
     ]
    },
    {
     "name": "stderr",
     "output_type": "stream",
     "text": [
      "[06/01 21:50:32] tensorflow INFO: Reading record datasets for input file: ['C:/Tensorflow2/workspace/training_demo/annotations/train.record']\n"
     ]
    },
    {
     "name": "stdout",
     "output_type": "stream",
     "text": [
      "INFO:tensorflow:Number of filenames to read: 1\n"
     ]
    },
    {
     "name": "stderr",
     "output_type": "stream",
     "text": [
      "[06/01 21:50:32] tensorflow INFO: Number of filenames to read: 1\n"
     ]
    },
    {
     "name": "stdout",
     "output_type": "stream",
     "text": [
      "WARNING:tensorflow:num_readers has been reduced to 1 to match input file shards.\n"
     ]
    },
    {
     "name": "stderr",
     "output_type": "stream",
     "text": [
      "[06/01 21:50:32] tensorflow WARNING: num_readers has been reduced to 1 to match input file shards.\n"
     ]
    },
    {
     "name": "stdout",
     "output_type": "stream",
     "text": [
      "INFO:tensorflow:depth of additional conv before box predictor: 0\n"
     ]
    },
    {
     "name": "stderr",
     "output_type": "stream",
     "text": [
      "[06/01 21:50:35] tensorflow INFO: depth of additional conv before box predictor: 0\n"
     ]
    },
    {
     "name": "stdout",
     "output_type": "stream",
     "text": [
      "WARNING:tensorflow:Unresolved object in checkpoint: (root).model._groundtruth_lists\n"
     ]
    },
    {
     "name": "stderr",
     "output_type": "stream",
     "text": [
      "[06/01 21:50:42] tensorflow WARNING: Unresolved object in checkpoint: (root).model._groundtruth_lists\n"
     ]
    },
    {
     "name": "stdout",
     "output_type": "stream",
     "text": [
      "WARNING:tensorflow:Unresolved object in checkpoint: (root).model._first_stage_box_predictor_first_conv\n"
     ]
    },
    {
     "name": "stderr",
     "output_type": "stream",
     "text": [
      "[06/01 21:50:42] tensorflow WARNING: Unresolved object in checkpoint: (root).model._first_stage_box_predictor_first_conv\n"
     ]
    },
    {
     "name": "stdout",
     "output_type": "stream",
     "text": [
      "WARNING:tensorflow:Unresolved object in checkpoint: (root).model._first_stage_box_predictor\n"
     ]
    },
    {
     "name": "stderr",
     "output_type": "stream",
     "text": [
      "[06/01 21:50:42] tensorflow WARNING: Unresolved object in checkpoint: (root).model._first_stage_box_predictor\n"
     ]
    },
    {
     "name": "stdout",
     "output_type": "stream",
     "text": [
      "WARNING:tensorflow:Unresolved object in checkpoint: (root).model._maxpool_layer\n"
     ]
    },
    {
     "name": "stderr",
     "output_type": "stream",
     "text": [
      "[06/01 21:50:42] tensorflow WARNING: Unresolved object in checkpoint: (root).model._maxpool_layer\n"
     ]
    },
    {
     "name": "stdout",
     "output_type": "stream",
     "text": [
      "WARNING:tensorflow:Unresolved object in checkpoint: (root).model._mask_rcnn_box_predictor\n"
     ]
    },
    {
     "name": "stderr",
     "output_type": "stream",
     "text": [
      "[06/01 21:50:42] tensorflow WARNING: Unresolved object in checkpoint: (root).model._mask_rcnn_box_predictor\n"
     ]
    },
    {
     "name": "stdout",
     "output_type": "stream",
     "text": [
      "WARNING:tensorflow:Unresolved object in checkpoint: (root).model._batched_prediction_tensor_names\n"
     ]
    },
    {
     "name": "stderr",
     "output_type": "stream",
     "text": [
      "[06/01 21:50:42] tensorflow WARNING: Unresolved object in checkpoint: (root).model._batched_prediction_tensor_names\n"
     ]
    },
    {
     "name": "stdout",
     "output_type": "stream",
     "text": [
      "WARNING:tensorflow:Unresolved object in checkpoint: (root).model.endpoints\n"
     ]
    },
    {
     "name": "stderr",
     "output_type": "stream",
     "text": [
      "[06/01 21:50:42] tensorflow WARNING: Unresolved object in checkpoint: (root).model.endpoints\n"
     ]
    },
    {
     "name": "stdout",
     "output_type": "stream",
     "text": [
      "WARNING:tensorflow:Unresolved object in checkpoint: (root).model._first_stage_box_predictor_first_conv.layer_with_weights-0\n"
     ]
    },
    {
     "name": "stderr",
     "output_type": "stream",
     "text": [
      "[06/01 21:50:42] tensorflow WARNING: Unresolved object in checkpoint: (root).model._first_stage_box_predictor_first_conv.layer_with_weights-0\n"
     ]
    },
    {
     "name": "stdout",
     "output_type": "stream",
     "text": [
      "WARNING:tensorflow:Unresolved object in checkpoint: (root).model._first_stage_box_predictor_first_conv.layer-1\n"
     ]
    },
    {
     "name": "stderr",
     "output_type": "stream",
     "text": [
      "[06/01 21:50:42] tensorflow WARNING: Unresolved object in checkpoint: (root).model._first_stage_box_predictor_first_conv.layer-1\n"
     ]
    },
    {
     "name": "stdout",
     "output_type": "stream",
     "text": [
      "WARNING:tensorflow:Unresolved object in checkpoint: (root).model._first_stage_box_predictor_first_conv.layer-2\n"
     ]
    },
    {
     "name": "stderr",
     "output_type": "stream",
     "text": [
      "[06/01 21:50:42] tensorflow WARNING: Unresolved object in checkpoint: (root).model._first_stage_box_predictor_first_conv.layer-2\n"
     ]
    },
    {
     "name": "stdout",
     "output_type": "stream",
     "text": [
      "WARNING:tensorflow:Unresolved object in checkpoint: (root).model._first_stage_box_predictor._prediction_heads\n"
     ]
    },
    {
     "name": "stderr",
     "output_type": "stream",
     "text": [
      "[06/01 21:50:42] tensorflow WARNING: Unresolved object in checkpoint: (root).model._first_stage_box_predictor._prediction_heads\n"
     ]
    },
    {
     "name": "stdout",
     "output_type": "stream",
     "text": [
      "WARNING:tensorflow:Unresolved object in checkpoint: (root).model._first_stage_box_predictor._sorted_head_names\n"
     ]
    },
    {
     "name": "stderr",
     "output_type": "stream",
     "text": [
      "[06/01 21:50:42] tensorflow WARNING: Unresolved object in checkpoint: (root).model._first_stage_box_predictor._sorted_head_names\n"
     ]
    },
    {
     "name": "stdout",
     "output_type": "stream",
     "text": [
      "WARNING:tensorflow:Unresolved object in checkpoint: (root).model._first_stage_box_predictor._shared_nets\n"
     ]
    },
    {
     "name": "stderr",
     "output_type": "stream",
     "text": [
      "[06/01 21:50:42] tensorflow WARNING: Unresolved object in checkpoint: (root).model._first_stage_box_predictor._shared_nets\n"
     ]
    },
    {
     "name": "stdout",
     "output_type": "stream",
     "text": [
      "WARNING:tensorflow:Unresolved object in checkpoint: (root).model._mask_rcnn_box_predictor._box_prediction_head\n"
     ]
    },
    {
     "name": "stderr",
     "output_type": "stream",
     "text": [
      "[06/01 21:50:42] tensorflow WARNING: Unresolved object in checkpoint: (root).model._mask_rcnn_box_predictor._box_prediction_head\n"
     ]
    },
    {
     "name": "stdout",
     "output_type": "stream",
     "text": [
      "WARNING:tensorflow:Unresolved object in checkpoint: (root).model._mask_rcnn_box_predictor._class_prediction_head\n"
     ]
    },
    {
     "name": "stderr",
     "output_type": "stream",
     "text": [
      "[06/01 21:50:42] tensorflow WARNING: Unresolved object in checkpoint: (root).model._mask_rcnn_box_predictor._class_prediction_head\n"
     ]
    },
    {
     "name": "stdout",
     "output_type": "stream",
     "text": [
      "WARNING:tensorflow:Unresolved object in checkpoint: (root).model._mask_rcnn_box_predictor._third_stage_heads\n"
     ]
    },
    {
     "name": "stderr",
     "output_type": "stream",
     "text": [
      "[06/01 21:50:42] tensorflow WARNING: Unresolved object in checkpoint: (root).model._mask_rcnn_box_predictor._third_stage_heads\n"
     ]
    },
    {
     "name": "stdout",
     "output_type": "stream",
     "text": [
      "WARNING:tensorflow:Unresolved object in checkpoint: (root).model._first_stage_box_predictor_first_conv.layer_with_weights-0._inbound_nodes\n"
     ]
    },
    {
     "name": "stderr",
     "output_type": "stream",
     "text": [
      "[06/01 21:50:42] tensorflow WARNING: Unresolved object in checkpoint: (root).model._first_stage_box_predictor_first_conv.layer_with_weights-0._inbound_nodes\n"
     ]
    },
    {
     "name": "stdout",
     "output_type": "stream",
     "text": [
      "WARNING:tensorflow:Unresolved object in checkpoint: (root).model._first_stage_box_predictor_first_conv.layer_with_weights-0.kernel\n"
     ]
    },
    {
     "name": "stderr",
     "output_type": "stream",
     "text": [
      "[06/01 21:50:42] tensorflow WARNING: Unresolved object in checkpoint: (root).model._first_stage_box_predictor_first_conv.layer_with_weights-0.kernel\n"
     ]
    },
    {
     "name": "stdout",
     "output_type": "stream",
     "text": [
      "WARNING:tensorflow:Unresolved object in checkpoint: (root).model._first_stage_box_predictor_first_conv.layer_with_weights-0.bias\n"
     ]
    },
    {
     "name": "stderr",
     "output_type": "stream",
     "text": [
      "[06/01 21:50:42] tensorflow WARNING: Unresolved object in checkpoint: (root).model._first_stage_box_predictor_first_conv.layer_with_weights-0.bias\n"
     ]
    },
    {
     "name": "stdout",
     "output_type": "stream",
     "text": [
      "WARNING:tensorflow:Unresolved object in checkpoint: (root).model._first_stage_box_predictor_first_conv.layer-1._inbound_nodes\n"
     ]
    },
    {
     "name": "stderr",
     "output_type": "stream",
     "text": [
      "[06/01 21:50:42] tensorflow WARNING: Unresolved object in checkpoint: (root).model._first_stage_box_predictor_first_conv.layer-1._inbound_nodes\n"
     ]
    },
    {
     "name": "stdout",
     "output_type": "stream",
     "text": [
      "WARNING:tensorflow:Unresolved object in checkpoint: (root).model._first_stage_box_predictor_first_conv.layer-2._inbound_nodes\n"
     ]
    },
    {
     "name": "stderr",
     "output_type": "stream",
     "text": [
      "[06/01 21:50:42] tensorflow WARNING: Unresolved object in checkpoint: (root).model._first_stage_box_predictor_first_conv.layer-2._inbound_nodes\n"
     ]
    },
    {
     "name": "stdout",
     "output_type": "stream",
     "text": [
      "WARNING:tensorflow:Unresolved object in checkpoint: (root).model._first_stage_box_predictor._prediction_heads.box_encodings\n"
     ]
    },
    {
     "name": "stderr",
     "output_type": "stream",
     "text": [
      "[06/01 21:50:42] tensorflow WARNING: Unresolved object in checkpoint: (root).model._first_stage_box_predictor._prediction_heads.box_encodings\n"
     ]
    },
    {
     "name": "stdout",
     "output_type": "stream",
     "text": [
      "WARNING:tensorflow:Unresolved object in checkpoint: (root).model._first_stage_box_predictor._prediction_heads.class_predictions_with_background\n"
     ]
    },
    {
     "name": "stderr",
     "output_type": "stream",
     "text": [
      "[06/01 21:50:42] tensorflow WARNING: Unresolved object in checkpoint: (root).model._first_stage_box_predictor._prediction_heads.class_predictions_with_background\n"
     ]
    },
    {
     "name": "stdout",
     "output_type": "stream",
     "text": [
      "WARNING:tensorflow:Unresolved object in checkpoint: (root).model._first_stage_box_predictor._shared_nets.0\n"
     ]
    },
    {
     "name": "stderr",
     "output_type": "stream",
     "text": [
      "[06/01 21:50:42] tensorflow WARNING: Unresolved object in checkpoint: (root).model._first_stage_box_predictor._shared_nets.0\n"
     ]
    },
    {
     "name": "stdout",
     "output_type": "stream",
     "text": [
      "WARNING:tensorflow:Unresolved object in checkpoint: (root).model._mask_rcnn_box_predictor._box_prediction_head._box_encoder_layers\n"
     ]
    },
    {
     "name": "stderr",
     "output_type": "stream",
     "text": [
      "[06/01 21:50:42] tensorflow WARNING: Unresolved object in checkpoint: (root).model._mask_rcnn_box_predictor._box_prediction_head._box_encoder_layers\n"
     ]
    },
    {
     "name": "stdout",
     "output_type": "stream",
     "text": [
      "WARNING:tensorflow:Unresolved object in checkpoint: (root).model._mask_rcnn_box_predictor._class_prediction_head._class_predictor_layers\n"
     ]
    },
    {
     "name": "stderr",
     "output_type": "stream",
     "text": [
      "[06/01 21:50:42] tensorflow WARNING: Unresolved object in checkpoint: (root).model._mask_rcnn_box_predictor._class_prediction_head._class_predictor_layers\n"
     ]
    },
    {
     "name": "stdout",
     "output_type": "stream",
     "text": [
      "WARNING:tensorflow:Unresolved object in checkpoint: (root).model._first_stage_box_predictor._prediction_heads.box_encodings.0\n"
     ]
    },
    {
     "name": "stderr",
     "output_type": "stream",
     "text": [
      "[06/01 21:50:42] tensorflow WARNING: Unresolved object in checkpoint: (root).model._first_stage_box_predictor._prediction_heads.box_encodings.0\n"
     ]
    },
    {
     "name": "stdout",
     "output_type": "stream",
     "text": [
      "WARNING:tensorflow:Unresolved object in checkpoint: (root).model._first_stage_box_predictor._prediction_heads.class_predictions_with_background.0\n"
     ]
    },
    {
     "name": "stderr",
     "output_type": "stream",
     "text": [
      "[06/01 21:50:42] tensorflow WARNING: Unresolved object in checkpoint: (root).model._first_stage_box_predictor._prediction_heads.class_predictions_with_background.0\n"
     ]
    },
    {
     "name": "stdout",
     "output_type": "stream",
     "text": [
      "WARNING:tensorflow:Unresolved object in checkpoint: (root).model._mask_rcnn_box_predictor._box_prediction_head._box_encoder_layers.0\n"
     ]
    },
    {
     "name": "stderr",
     "output_type": "stream",
     "text": [
      "[06/01 21:50:42] tensorflow WARNING: Unresolved object in checkpoint: (root).model._mask_rcnn_box_predictor._box_prediction_head._box_encoder_layers.0\n"
     ]
    },
    {
     "name": "stdout",
     "output_type": "stream",
     "text": [
      "WARNING:tensorflow:Unresolved object in checkpoint: (root).model._mask_rcnn_box_predictor._box_prediction_head._box_encoder_layers.1\n"
     ]
    },
    {
     "name": "stderr",
     "output_type": "stream",
     "text": [
      "[06/01 21:50:42] tensorflow WARNING: Unresolved object in checkpoint: (root).model._mask_rcnn_box_predictor._box_prediction_head._box_encoder_layers.1\n"
     ]
    },
    {
     "name": "stdout",
     "output_type": "stream",
     "text": [
      "WARNING:tensorflow:Unresolved object in checkpoint: (root).model._mask_rcnn_box_predictor._box_prediction_head._box_encoder_layers.2\n"
     ]
    },
    {
     "name": "stderr",
     "output_type": "stream",
     "text": [
      "[06/01 21:50:42] tensorflow WARNING: Unresolved object in checkpoint: (root).model._mask_rcnn_box_predictor._box_prediction_head._box_encoder_layers.2\n"
     ]
    },
    {
     "name": "stdout",
     "output_type": "stream",
     "text": [
      "WARNING:tensorflow:Unresolved object in checkpoint: (root).model._mask_rcnn_box_predictor._class_prediction_head._class_predictor_layers.0\n"
     ]
    },
    {
     "name": "stderr",
     "output_type": "stream",
     "text": [
      "[06/01 21:50:42] tensorflow WARNING: Unresolved object in checkpoint: (root).model._mask_rcnn_box_predictor._class_prediction_head._class_predictor_layers.0\n"
     ]
    },
    {
     "name": "stdout",
     "output_type": "stream",
     "text": [
      "WARNING:tensorflow:Unresolved object in checkpoint: (root).model._mask_rcnn_box_predictor._class_prediction_head._class_predictor_layers.1\n"
     ]
    },
    {
     "name": "stderr",
     "output_type": "stream",
     "text": [
      "[06/01 21:50:42] tensorflow WARNING: Unresolved object in checkpoint: (root).model._mask_rcnn_box_predictor._class_prediction_head._class_predictor_layers.1\n"
     ]
    },
    {
     "name": "stdout",
     "output_type": "stream",
     "text": [
      "WARNING:tensorflow:Unresolved object in checkpoint: (root).model._mask_rcnn_box_predictor._class_prediction_head._class_predictor_layers.2\n"
     ]
    },
    {
     "name": "stderr",
     "output_type": "stream",
     "text": [
      "[06/01 21:50:42] tensorflow WARNING: Unresolved object in checkpoint: (root).model._mask_rcnn_box_predictor._class_prediction_head._class_predictor_layers.2\n"
     ]
    },
    {
     "name": "stdout",
     "output_type": "stream",
     "text": [
      "WARNING:tensorflow:Unresolved object in checkpoint: (root).model._first_stage_box_predictor._prediction_heads.box_encodings.0._box_encoder_layers\n"
     ]
    },
    {
     "name": "stderr",
     "output_type": "stream",
     "text": [
      "[06/01 21:50:42] tensorflow WARNING: Unresolved object in checkpoint: (root).model._first_stage_box_predictor._prediction_heads.box_encodings.0._box_encoder_layers\n"
     ]
    },
    {
     "name": "stdout",
     "output_type": "stream",
     "text": [
      "WARNING:tensorflow:Unresolved object in checkpoint: (root).model._first_stage_box_predictor._prediction_heads.class_predictions_with_background.0._class_predictor_layers\n"
     ]
    },
    {
     "name": "stderr",
     "output_type": "stream",
     "text": [
      "[06/01 21:50:42] tensorflow WARNING: Unresolved object in checkpoint: (root).model._first_stage_box_predictor._prediction_heads.class_predictions_with_background.0._class_predictor_layers\n"
     ]
    },
    {
     "name": "stdout",
     "output_type": "stream",
     "text": [
      "WARNING:tensorflow:Unresolved object in checkpoint: (root).model._mask_rcnn_box_predictor._box_prediction_head._box_encoder_layers.1.kernel\n"
     ]
    },
    {
     "name": "stderr",
     "output_type": "stream",
     "text": [
      "[06/01 21:50:42] tensorflow WARNING: Unresolved object in checkpoint: (root).model._mask_rcnn_box_predictor._box_prediction_head._box_encoder_layers.1.kernel\n"
     ]
    },
    {
     "name": "stdout",
     "output_type": "stream",
     "text": [
      "WARNING:tensorflow:Unresolved object in checkpoint: (root).model._mask_rcnn_box_predictor._box_prediction_head._box_encoder_layers.1.bias\n"
     ]
    },
    {
     "name": "stderr",
     "output_type": "stream",
     "text": [
      "[06/01 21:50:42] tensorflow WARNING: Unresolved object in checkpoint: (root).model._mask_rcnn_box_predictor._box_prediction_head._box_encoder_layers.1.bias\n"
     ]
    },
    {
     "name": "stdout",
     "output_type": "stream",
     "text": [
      "WARNING:tensorflow:Unresolved object in checkpoint: (root).model._mask_rcnn_box_predictor._class_prediction_head._class_predictor_layers.1.kernel\n"
     ]
    },
    {
     "name": "stderr",
     "output_type": "stream",
     "text": [
      "[06/01 21:50:42] tensorflow WARNING: Unresolved object in checkpoint: (root).model._mask_rcnn_box_predictor._class_prediction_head._class_predictor_layers.1.kernel\n"
     ]
    },
    {
     "name": "stdout",
     "output_type": "stream",
     "text": [
      "WARNING:tensorflow:Unresolved object in checkpoint: (root).model._mask_rcnn_box_predictor._class_prediction_head._class_predictor_layers.1.bias\n"
     ]
    },
    {
     "name": "stderr",
     "output_type": "stream",
     "text": [
      "[06/01 21:50:42] tensorflow WARNING: Unresolved object in checkpoint: (root).model._mask_rcnn_box_predictor._class_prediction_head._class_predictor_layers.1.bias\n"
     ]
    },
    {
     "name": "stdout",
     "output_type": "stream",
     "text": [
      "WARNING:tensorflow:Unresolved object in checkpoint: (root).model._first_stage_box_predictor._prediction_heads.box_encodings.0._box_encoder_layers.0\n"
     ]
    },
    {
     "name": "stderr",
     "output_type": "stream",
     "text": [
      "[06/01 21:50:42] tensorflow WARNING: Unresolved object in checkpoint: (root).model._first_stage_box_predictor._prediction_heads.box_encodings.0._box_encoder_layers.0\n"
     ]
    },
    {
     "name": "stdout",
     "output_type": "stream",
     "text": [
      "WARNING:tensorflow:Unresolved object in checkpoint: (root).model._first_stage_box_predictor._prediction_heads.class_predictions_with_background.0._class_predictor_layers.0\n"
     ]
    },
    {
     "name": "stderr",
     "output_type": "stream",
     "text": [
      "[06/01 21:50:42] tensorflow WARNING: Unresolved object in checkpoint: (root).model._first_stage_box_predictor._prediction_heads.class_predictions_with_background.0._class_predictor_layers.0\n"
     ]
    },
    {
     "name": "stdout",
     "output_type": "stream",
     "text": [
      "WARNING:tensorflow:Unresolved object in checkpoint: (root).model._first_stage_box_predictor._prediction_heads.box_encodings.0._box_encoder_layers.0.kernel\n"
     ]
    },
    {
     "name": "stderr",
     "output_type": "stream",
     "text": [
      "[06/01 21:50:42] tensorflow WARNING: Unresolved object in checkpoint: (root).model._first_stage_box_predictor._prediction_heads.box_encodings.0._box_encoder_layers.0.kernel\n"
     ]
    },
    {
     "name": "stdout",
     "output_type": "stream",
     "text": [
      "WARNING:tensorflow:Unresolved object in checkpoint: (root).model._first_stage_box_predictor._prediction_heads.box_encodings.0._box_encoder_layers.0.bias\n"
     ]
    },
    {
     "name": "stderr",
     "output_type": "stream",
     "text": [
      "[06/01 21:50:42] tensorflow WARNING: Unresolved object in checkpoint: (root).model._first_stage_box_predictor._prediction_heads.box_encodings.0._box_encoder_layers.0.bias\n"
     ]
    },
    {
     "name": "stdout",
     "output_type": "stream",
     "text": [
      "WARNING:tensorflow:Unresolved object in checkpoint: (root).model._first_stage_box_predictor._prediction_heads.class_predictions_with_background.0._class_predictor_layers.0.kernel\n"
     ]
    },
    {
     "name": "stderr",
     "output_type": "stream",
     "text": [
      "[06/01 21:50:42] tensorflow WARNING: Unresolved object in checkpoint: (root).model._first_stage_box_predictor._prediction_heads.class_predictions_with_background.0._class_predictor_layers.0.kernel\n"
     ]
    },
    {
     "name": "stdout",
     "output_type": "stream",
     "text": [
      "WARNING:tensorflow:Unresolved object in checkpoint: (root).model._first_stage_box_predictor._prediction_heads.class_predictions_with_background.0._class_predictor_layers.0.bias\n"
     ]
    },
    {
     "name": "stderr",
     "output_type": "stream",
     "text": [
      "[06/01 21:50:42] tensorflow WARNING: Unresolved object in checkpoint: (root).model._first_stage_box_predictor._prediction_heads.class_predictions_with_background.0._class_predictor_layers.0.bias\n"
     ]
    },
    {
     "name": "stdout",
     "output_type": "stream",
     "text": [
      "WARNING:tensorflow:A checkpoint was restored (e.g. tf.train.Checkpoint.restore or tf.keras.Model.load_weights) but not all checkpointed values were used. See above for specific issues. Use expect_partial() on the load status object, e.g. tf.train.Checkpoint.restore(...).expect_partial(), to silence these warnings, or use assert_consumed() to make the check explicit. See https://www.tensorflow.org/guide/checkpoint#loading_mechanics for details.\n"
     ]
    },
    {
     "name": "stderr",
     "output_type": "stream",
     "text": [
      "[06/01 21:50:42] tensorflow WARNING: A checkpoint was restored (e.g. tf.train.Checkpoint.restore or tf.keras.Model.load_weights) but not all checkpointed values were used. See above for specific issues. Use expect_partial() on the load status object, e.g. tf.train.Checkpoint.restore(...).expect_partial(), to silence these warnings, or use assert_consumed() to make the check explicit. See https://www.tensorflow.org/guide/checkpoint#loading_mechanics for details.\n"
     ]
    },
    {
     "name": "stdout",
     "output_type": "stream",
     "text": [
      "INFO:tensorflow:Step 180100 per-step time 0.395s loss=0.053\n"
     ]
    },
    {
     "name": "stderr",
     "output_type": "stream",
     "text": [
      "[06/01 21:51:22] tensorflow INFO: Step 180100 per-step time 0.395s loss=0.053\n"
     ]
    },
    {
     "name": "stdout",
     "output_type": "stream",
     "text": [
      "INFO:tensorflow:Step 180200 per-step time 0.161s loss=0.035\n"
     ]
    },
    {
     "name": "stderr",
     "output_type": "stream",
     "text": [
      "[06/01 21:51:38] tensorflow INFO: Step 180200 per-step time 0.161s loss=0.035\n"
     ]
    },
    {
     "name": "stdout",
     "output_type": "stream",
     "text": [
      "INFO:tensorflow:Step 180300 per-step time 0.161s loss=0.476\n"
     ]
    },
    {
     "name": "stderr",
     "output_type": "stream",
     "text": [
      "[06/01 21:51:55] tensorflow INFO: Step 180300 per-step time 0.161s loss=0.476\n"
     ]
    },
    {
     "name": "stdout",
     "output_type": "stream",
     "text": [
      "INFO:tensorflow:Step 180400 per-step time 0.161s loss=0.020\n"
     ]
    },
    {
     "name": "stderr",
     "output_type": "stream",
     "text": [
      "[06/01 21:52:11] tensorflow INFO: Step 180400 per-step time 0.161s loss=0.020\n"
     ]
    },
    {
     "name": "stdout",
     "output_type": "stream",
     "text": [
      "INFO:tensorflow:Step 180500 per-step time 0.161s loss=0.026\n"
     ]
    },
    {
     "name": "stderr",
     "output_type": "stream",
     "text": [
      "[06/01 21:52:27] tensorflow INFO: Step 180500 per-step time 0.161s loss=0.026\n"
     ]
    },
    {
     "name": "stdout",
     "output_type": "stream",
     "text": [
      "INFO:tensorflow:Step 180600 per-step time 0.161s loss=0.075\n"
     ]
    },
    {
     "name": "stderr",
     "output_type": "stream",
     "text": [
      "[06/01 21:52:43] tensorflow INFO: Step 180600 per-step time 0.161s loss=0.075\n"
     ]
    },
    {
     "name": "stdout",
     "output_type": "stream",
     "text": [
      "INFO:tensorflow:Step 180700 per-step time 0.160s loss=0.357\n"
     ]
    },
    {
     "name": "stderr",
     "output_type": "stream",
     "text": [
      "[06/01 21:52:59] tensorflow INFO: Step 180700 per-step time 0.160s loss=0.357\n"
     ]
    },
    {
     "name": "stdout",
     "output_type": "stream",
     "text": [
      "INFO:tensorflow:Step 180800 per-step time 0.160s loss=0.097\n"
     ]
    },
    {
     "name": "stderr",
     "output_type": "stream",
     "text": [
      "[06/01 21:53:15] tensorflow INFO: Step 180800 per-step time 0.160s loss=0.097\n"
     ]
    },
    {
     "name": "stdout",
     "output_type": "stream",
     "text": [
      "INFO:tensorflow:Step 180900 per-step time 0.160s loss=0.022\n"
     ]
    },
    {
     "name": "stderr",
     "output_type": "stream",
     "text": [
      "[06/01 21:53:31] tensorflow INFO: Step 180900 per-step time 0.160s loss=0.022\n"
     ]
    },
    {
     "name": "stdout",
     "output_type": "stream",
     "text": [
      "INFO:tensorflow:Step 181000 per-step time 0.160s loss=0.070\n"
     ]
    },
    {
     "name": "stderr",
     "output_type": "stream",
     "text": [
      "[06/01 21:53:47] tensorflow INFO: Step 181000 per-step time 0.160s loss=0.070\n"
     ]
    },
    {
     "name": "stdout",
     "output_type": "stream",
     "text": [
      "INFO:tensorflow:Step 181100 per-step time 0.166s loss=0.037\n"
     ]
    },
    {
     "name": "stderr",
     "output_type": "stream",
     "text": [
      "[06/01 21:54:03] tensorflow INFO: Step 181100 per-step time 0.166s loss=0.037\n"
     ]
    },
    {
     "name": "stdout",
     "output_type": "stream",
     "text": [
      "INFO:tensorflow:Step 181200 per-step time 0.160s loss=0.084\n"
     ]
    },
    {
     "name": "stderr",
     "output_type": "stream",
     "text": [
      "[06/01 21:54:20] tensorflow INFO: Step 181200 per-step time 0.160s loss=0.084\n"
     ]
    },
    {
     "name": "stdout",
     "output_type": "stream",
     "text": [
      "INFO:tensorflow:Step 181300 per-step time 0.161s loss=0.470\n"
     ]
    },
    {
     "name": "stderr",
     "output_type": "stream",
     "text": [
      "[06/01 21:54:36] tensorflow INFO: Step 181300 per-step time 0.161s loss=0.470\n"
     ]
    },
    {
     "name": "stdout",
     "output_type": "stream",
     "text": [
      "INFO:tensorflow:Step 181400 per-step time 0.160s loss=0.440\n"
     ]
    },
    {
     "name": "stderr",
     "output_type": "stream",
     "text": [
      "[06/01 21:54:52] tensorflow INFO: Step 181400 per-step time 0.160s loss=0.440\n"
     ]
    },
    {
     "name": "stdout",
     "output_type": "stream",
     "text": [
      "INFO:tensorflow:Step 181500 per-step time 0.160s loss=0.026\n"
     ]
    },
    {
     "name": "stderr",
     "output_type": "stream",
     "text": [
      "[06/01 21:55:08] tensorflow INFO: Step 181500 per-step time 0.160s loss=0.026\n"
     ]
    },
    {
     "name": "stdout",
     "output_type": "stream",
     "text": [
      "INFO:tensorflow:Step 181600 per-step time 0.160s loss=0.016\n"
     ]
    },
    {
     "name": "stderr",
     "output_type": "stream",
     "text": [
      "[06/01 21:55:24] tensorflow INFO: Step 181600 per-step time 0.160s loss=0.016\n"
     ]
    },
    {
     "name": "stdout",
     "output_type": "stream",
     "text": [
      "INFO:tensorflow:Step 181700 per-step time 0.160s loss=0.037\n"
     ]
    },
    {
     "name": "stderr",
     "output_type": "stream",
     "text": [
      "[06/01 21:55:40] tensorflow INFO: Step 181700 per-step time 0.160s loss=0.037\n"
     ]
    },
    {
     "name": "stdout",
     "output_type": "stream",
     "text": [
      "INFO:tensorflow:Step 181800 per-step time 0.160s loss=0.070\n"
     ]
    },
    {
     "name": "stderr",
     "output_type": "stream",
     "text": [
      "[06/01 21:55:56] tensorflow INFO: Step 181800 per-step time 0.160s loss=0.070\n"
     ]
    },
    {
     "name": "stdout",
     "output_type": "stream",
     "text": [
      "INFO:tensorflow:Step 181900 per-step time 0.160s loss=0.041\n"
     ]
    },
    {
     "name": "stderr",
     "output_type": "stream",
     "text": [
      "[06/01 21:56:12] tensorflow INFO: Step 181900 per-step time 0.160s loss=0.041\n"
     ]
    },
    {
     "name": "stdout",
     "output_type": "stream",
     "text": [
      "INFO:tensorflow:Step 182000 per-step time 0.160s loss=0.018\n"
     ]
    },
    {
     "name": "stderr",
     "output_type": "stream",
     "text": [
      "[06/01 21:56:28] tensorflow INFO: Step 182000 per-step time 0.160s loss=0.018\n"
     ]
    },
    {
     "name": "stdout",
     "output_type": "stream",
     "text": [
      "INFO:tensorflow:Step 182100 per-step time 0.166s loss=0.058\n"
     ]
    },
    {
     "name": "stderr",
     "output_type": "stream",
     "text": [
      "[06/01 21:56:44] tensorflow INFO: Step 182100 per-step time 0.166s loss=0.058\n"
     ]
    },
    {
     "name": "stdout",
     "output_type": "stream",
     "text": [
      "INFO:tensorflow:Step 182200 per-step time 0.161s loss=0.063\n"
     ]
    },
    {
     "name": "stderr",
     "output_type": "stream",
     "text": [
      "[06/01 21:57:00] tensorflow INFO: Step 182200 per-step time 0.161s loss=0.063\n"
     ]
    },
    {
     "name": "stdout",
     "output_type": "stream",
     "text": [
      "INFO:tensorflow:Step 182300 per-step time 0.161s loss=0.286\n"
     ]
    },
    {
     "name": "stderr",
     "output_type": "stream",
     "text": [
      "[06/01 21:57:16] tensorflow INFO: Step 182300 per-step time 0.161s loss=0.286\n"
     ]
    },
    {
     "name": "stdout",
     "output_type": "stream",
     "text": [
      "INFO:tensorflow:Step 182400 per-step time 0.160s loss=0.016\n"
     ]
    },
    {
     "name": "stderr",
     "output_type": "stream",
     "text": [
      "[06/01 21:57:33] tensorflow INFO: Step 182400 per-step time 0.160s loss=0.016\n"
     ]
    },
    {
     "name": "stdout",
     "output_type": "stream",
     "text": [
      "INFO:tensorflow:Step 182500 per-step time 0.160s loss=0.164\n"
     ]
    },
    {
     "name": "stderr",
     "output_type": "stream",
     "text": [
      "[06/01 21:57:49] tensorflow INFO: Step 182500 per-step time 0.160s loss=0.164\n"
     ]
    },
    {
     "name": "stdout",
     "output_type": "stream",
     "text": [
      "INFO:tensorflow:Step 182600 per-step time 0.160s loss=0.087\n"
     ]
    },
    {
     "name": "stderr",
     "output_type": "stream",
     "text": [
      "[06/01 21:58:05] tensorflow INFO: Step 182600 per-step time 0.160s loss=0.087\n"
     ]
    },
    {
     "name": "stdout",
     "output_type": "stream",
     "text": [
      "INFO:tensorflow:Step 182700 per-step time 0.161s loss=0.071\n"
     ]
    },
    {
     "name": "stderr",
     "output_type": "stream",
     "text": [
      "[06/01 21:58:21] tensorflow INFO: Step 182700 per-step time 0.161s loss=0.071\n"
     ]
    },
    {
     "name": "stdout",
     "output_type": "stream",
     "text": [
      "INFO:tensorflow:Step 182800 per-step time 0.160s loss=0.072\n"
     ]
    },
    {
     "name": "stderr",
     "output_type": "stream",
     "text": [
      "[06/01 21:58:37] tensorflow INFO: Step 182800 per-step time 0.160s loss=0.072\n"
     ]
    },
    {
     "name": "stdout",
     "output_type": "stream",
     "text": [
      "INFO:tensorflow:Step 182900 per-step time 0.162s loss=0.088\n"
     ]
    },
    {
     "name": "stderr",
     "output_type": "stream",
     "text": [
      "[06/01 21:58:53] tensorflow INFO: Step 182900 per-step time 0.162s loss=0.088\n"
     ]
    },
    {
     "name": "stdout",
     "output_type": "stream",
     "text": [
      "INFO:tensorflow:Step 183000 per-step time 0.160s loss=0.058\n"
     ]
    },
    {
     "name": "stderr",
     "output_type": "stream",
     "text": [
      "[06/01 21:59:09] tensorflow INFO: Step 183000 per-step time 0.160s loss=0.058\n"
     ]
    },
    {
     "name": "stdout",
     "output_type": "stream",
     "text": [
      "INFO:tensorflow:Step 183100 per-step time 0.166s loss=0.127\n"
     ]
    },
    {
     "name": "stderr",
     "output_type": "stream",
     "text": [
      "[06/01 21:59:25] tensorflow INFO: Step 183100 per-step time 0.166s loss=0.127\n"
     ]
    },
    {
     "name": "stdout",
     "output_type": "stream",
     "text": [
      "INFO:tensorflow:Step 183200 per-step time 0.160s loss=0.488\n"
     ]
    },
    {
     "name": "stderr",
     "output_type": "stream",
     "text": [
      "[06/01 21:59:42] tensorflow INFO: Step 183200 per-step time 0.160s loss=0.488\n"
     ]
    },
    {
     "name": "stdout",
     "output_type": "stream",
     "text": [
      "INFO:tensorflow:Step 183300 per-step time 0.160s loss=0.049\n"
     ]
    },
    {
     "name": "stderr",
     "output_type": "stream",
     "text": [
      "[06/01 21:59:58] tensorflow INFO: Step 183300 per-step time 0.160s loss=0.049\n"
     ]
    },
    {
     "name": "stdout",
     "output_type": "stream",
     "text": [
      "INFO:tensorflow:Step 183400 per-step time 0.161s loss=0.044\n"
     ]
    },
    {
     "name": "stderr",
     "output_type": "stream",
     "text": [
      "[06/01 22:00:14] tensorflow INFO: Step 183400 per-step time 0.161s loss=0.044\n"
     ]
    },
    {
     "name": "stdout",
     "output_type": "stream",
     "text": [
      "INFO:tensorflow:Step 183500 per-step time 0.160s loss=0.097\n"
     ]
    },
    {
     "name": "stderr",
     "output_type": "stream",
     "text": [
      "[06/01 22:00:30] tensorflow INFO: Step 183500 per-step time 0.160s loss=0.097\n"
     ]
    },
    {
     "name": "stdout",
     "output_type": "stream",
     "text": [
      "INFO:tensorflow:Step 183600 per-step time 0.161s loss=0.102\n"
     ]
    },
    {
     "name": "stderr",
     "output_type": "stream",
     "text": [
      "[06/01 22:00:46] tensorflow INFO: Step 183600 per-step time 0.161s loss=0.102\n"
     ]
    },
    {
     "name": "stdout",
     "output_type": "stream",
     "text": [
      "INFO:tensorflow:Step 183700 per-step time 0.160s loss=0.017\n"
     ]
    },
    {
     "name": "stderr",
     "output_type": "stream",
     "text": [
      "[06/01 22:01:02] tensorflow INFO: Step 183700 per-step time 0.160s loss=0.017\n"
     ]
    },
    {
     "name": "stdout",
     "output_type": "stream",
     "text": [
      "INFO:tensorflow:Step 183800 per-step time 0.160s loss=0.134\n"
     ]
    },
    {
     "name": "stderr",
     "output_type": "stream",
     "text": [
      "[06/01 22:01:18] tensorflow INFO: Step 183800 per-step time 0.160s loss=0.134\n"
     ]
    },
    {
     "name": "stdout",
     "output_type": "stream",
     "text": [
      "INFO:tensorflow:Step 183900 per-step time 0.160s loss=0.101\n"
     ]
    },
    {
     "name": "stderr",
     "output_type": "stream",
     "text": [
      "[06/01 22:01:34] tensorflow INFO: Step 183900 per-step time 0.160s loss=0.101\n"
     ]
    },
    {
     "name": "stdout",
     "output_type": "stream",
     "text": [
      "INFO:tensorflow:Step 184000 per-step time 0.160s loss=0.360\n"
     ]
    },
    {
     "name": "stderr",
     "output_type": "stream",
     "text": [
      "[06/01 22:01:50] tensorflow INFO: Step 184000 per-step time 0.160s loss=0.360\n"
     ]
    },
    {
     "name": "stdout",
     "output_type": "stream",
     "text": [
      "INFO:tensorflow:Step 184100 per-step time 0.166s loss=0.132\n"
     ]
    },
    {
     "name": "stderr",
     "output_type": "stream",
     "text": [
      "[06/01 22:02:06] tensorflow INFO: Step 184100 per-step time 0.166s loss=0.132\n"
     ]
    },
    {
     "name": "stdout",
     "output_type": "stream",
     "text": [
      "INFO:tensorflow:Step 184200 per-step time 0.160s loss=0.026\n"
     ]
    },
    {
     "name": "stderr",
     "output_type": "stream",
     "text": [
      "[06/01 22:02:22] tensorflow INFO: Step 184200 per-step time 0.160s loss=0.026\n"
     ]
    },
    {
     "name": "stdout",
     "output_type": "stream",
     "text": [
      "INFO:tensorflow:Step 184300 per-step time 0.161s loss=0.142\n"
     ]
    },
    {
     "name": "stderr",
     "output_type": "stream",
     "text": [
      "[06/01 22:02:38] tensorflow INFO: Step 184300 per-step time 0.161s loss=0.142\n"
     ]
    },
    {
     "name": "stdout",
     "output_type": "stream",
     "text": [
      "INFO:tensorflow:Step 184400 per-step time 0.160s loss=0.127\n"
     ]
    },
    {
     "name": "stderr",
     "output_type": "stream",
     "text": [
      "[06/01 22:02:54] tensorflow INFO: Step 184400 per-step time 0.160s loss=0.127\n"
     ]
    },
    {
     "name": "stdout",
     "output_type": "stream",
     "text": [
      "INFO:tensorflow:Step 184500 per-step time 0.161s loss=0.080\n"
     ]
    },
    {
     "name": "stderr",
     "output_type": "stream",
     "text": [
      "[06/01 22:03:11] tensorflow INFO: Step 184500 per-step time 0.161s loss=0.080\n"
     ]
    },
    {
     "name": "stdout",
     "output_type": "stream",
     "text": [
      "INFO:tensorflow:Step 184600 per-step time 0.161s loss=0.326\n"
     ]
    },
    {
     "name": "stderr",
     "output_type": "stream",
     "text": [
      "[06/01 22:03:27] tensorflow INFO: Step 184600 per-step time 0.161s loss=0.326\n"
     ]
    },
    {
     "name": "stdout",
     "output_type": "stream",
     "text": [
      "INFO:tensorflow:Step 184700 per-step time 0.160s loss=0.044\n"
     ]
    },
    {
     "name": "stderr",
     "output_type": "stream",
     "text": [
      "[06/01 22:03:43] tensorflow INFO: Step 184700 per-step time 0.160s loss=0.044\n"
     ]
    },
    {
     "name": "stdout",
     "output_type": "stream",
     "text": [
      "INFO:tensorflow:Step 184800 per-step time 0.160s loss=0.028\n"
     ]
    },
    {
     "name": "stderr",
     "output_type": "stream",
     "text": [
      "[06/01 22:03:59] tensorflow INFO: Step 184800 per-step time 0.160s loss=0.028\n"
     ]
    },
    {
     "name": "stdout",
     "output_type": "stream",
     "text": [
      "INFO:tensorflow:Step 184900 per-step time 0.161s loss=0.031\n"
     ]
    },
    {
     "name": "stderr",
     "output_type": "stream",
     "text": [
      "[06/01 22:04:15] tensorflow INFO: Step 184900 per-step time 0.161s loss=0.031\n"
     ]
    },
    {
     "name": "stdout",
     "output_type": "stream",
     "text": [
      "INFO:tensorflow:Step 185000 per-step time 0.160s loss=0.079\n"
     ]
    },
    {
     "name": "stderr",
     "output_type": "stream",
     "text": [
      "[06/01 22:04:31] tensorflow INFO: Step 185000 per-step time 0.160s loss=0.079\n"
     ]
    },
    {
     "name": "stdout",
     "output_type": "stream",
     "text": [
      "INFO:tensorflow:Step 185100 per-step time 0.166s loss=0.090\n"
     ]
    },
    {
     "name": "stderr",
     "output_type": "stream",
     "text": [
      "[06/01 22:04:47] tensorflow INFO: Step 185100 per-step time 0.166s loss=0.090\n"
     ]
    },
    {
     "name": "stdout",
     "output_type": "stream",
     "text": [
      "INFO:tensorflow:Step 185200 per-step time 0.160s loss=0.106\n"
     ]
    },
    {
     "name": "stderr",
     "output_type": "stream",
     "text": [
      "[06/01 22:05:03] tensorflow INFO: Step 185200 per-step time 0.160s loss=0.106\n"
     ]
    },
    {
     "name": "stdout",
     "output_type": "stream",
     "text": [
      "INFO:tensorflow:Step 185300 per-step time 0.160s loss=0.029\n"
     ]
    },
    {
     "name": "stderr",
     "output_type": "stream",
     "text": [
      "[06/01 22:05:19] tensorflow INFO: Step 185300 per-step time 0.160s loss=0.029\n"
     ]
    },
    {
     "name": "stdout",
     "output_type": "stream",
     "text": [
      "INFO:tensorflow:Step 185400 per-step time 0.160s loss=0.019\n"
     ]
    },
    {
     "name": "stderr",
     "output_type": "stream",
     "text": [
      "[06/01 22:05:35] tensorflow INFO: Step 185400 per-step time 0.160s loss=0.019\n"
     ]
    },
    {
     "name": "stdout",
     "output_type": "stream",
     "text": [
      "INFO:tensorflow:Step 185500 per-step time 0.160s loss=0.063\n"
     ]
    },
    {
     "name": "stderr",
     "output_type": "stream",
     "text": [
      "[06/01 22:05:52] tensorflow INFO: Step 185500 per-step time 0.160s loss=0.063\n"
     ]
    },
    {
     "name": "stdout",
     "output_type": "stream",
     "text": [
      "INFO:tensorflow:Step 185600 per-step time 0.161s loss=0.563\n"
     ]
    },
    {
     "name": "stderr",
     "output_type": "stream",
     "text": [
      "[06/01 22:06:08] tensorflow INFO: Step 185600 per-step time 0.161s loss=0.563\n"
     ]
    },
    {
     "name": "stdout",
     "output_type": "stream",
     "text": [
      "INFO:tensorflow:Step 185700 per-step time 0.160s loss=0.077\n"
     ]
    },
    {
     "name": "stderr",
     "output_type": "stream",
     "text": [
      "[06/01 22:06:24] tensorflow INFO: Step 185700 per-step time 0.160s loss=0.077\n"
     ]
    },
    {
     "name": "stdout",
     "output_type": "stream",
     "text": [
      "INFO:tensorflow:Step 185800 per-step time 0.161s loss=0.088\n"
     ]
    },
    {
     "name": "stderr",
     "output_type": "stream",
     "text": [
      "[06/01 22:06:40] tensorflow INFO: Step 185800 per-step time 0.161s loss=0.088\n"
     ]
    },
    {
     "name": "stdout",
     "output_type": "stream",
     "text": [
      "INFO:tensorflow:Step 185900 per-step time 0.160s loss=0.374\n"
     ]
    },
    {
     "name": "stderr",
     "output_type": "stream",
     "text": [
      "[06/01 22:06:56] tensorflow INFO: Step 185900 per-step time 0.160s loss=0.374\n"
     ]
    },
    {
     "name": "stdout",
     "output_type": "stream",
     "text": [
      "INFO:tensorflow:Step 186000 per-step time 0.160s loss=0.038\n"
     ]
    },
    {
     "name": "stderr",
     "output_type": "stream",
     "text": [
      "[06/01 22:07:12] tensorflow INFO: Step 186000 per-step time 0.160s loss=0.038\n"
     ]
    },
    {
     "name": "stdout",
     "output_type": "stream",
     "text": [
      "INFO:tensorflow:Step 186100 per-step time 0.166s loss=0.075\n"
     ]
    },
    {
     "name": "stderr",
     "output_type": "stream",
     "text": [
      "[06/01 22:07:28] tensorflow INFO: Step 186100 per-step time 0.166s loss=0.075\n"
     ]
    },
    {
     "name": "stdout",
     "output_type": "stream",
     "text": [
      "INFO:tensorflow:Step 186200 per-step time 0.161s loss=0.019\n"
     ]
    },
    {
     "name": "stderr",
     "output_type": "stream",
     "text": [
      "[06/01 22:07:44] tensorflow INFO: Step 186200 per-step time 0.161s loss=0.019\n"
     ]
    },
    {
     "name": "stdout",
     "output_type": "stream",
     "text": [
      "INFO:tensorflow:Step 186300 per-step time 0.161s loss=0.015\n"
     ]
    },
    {
     "name": "stderr",
     "output_type": "stream",
     "text": [
      "[06/01 22:08:00] tensorflow INFO: Step 186300 per-step time 0.161s loss=0.015\n"
     ]
    },
    {
     "name": "stdout",
     "output_type": "stream",
     "text": [
      "INFO:tensorflow:Step 186400 per-step time 0.160s loss=0.169\n"
     ]
    },
    {
     "name": "stderr",
     "output_type": "stream",
     "text": [
      "[06/01 22:08:16] tensorflow INFO: Step 186400 per-step time 0.160s loss=0.169\n"
     ]
    },
    {
     "name": "stdout",
     "output_type": "stream",
     "text": [
      "INFO:tensorflow:Step 186500 per-step time 0.160s loss=0.109\n"
     ]
    },
    {
     "name": "stderr",
     "output_type": "stream",
     "text": [
      "[06/01 22:08:32] tensorflow INFO: Step 186500 per-step time 0.160s loss=0.109\n"
     ]
    },
    {
     "name": "stdout",
     "output_type": "stream",
     "text": [
      "INFO:tensorflow:Step 186600 per-step time 0.160s loss=0.047\n"
     ]
    },
    {
     "name": "stderr",
     "output_type": "stream",
     "text": [
      "[06/01 22:08:48] tensorflow INFO: Step 186600 per-step time 0.160s loss=0.047\n"
     ]
    },
    {
     "name": "stdout",
     "output_type": "stream",
     "text": [
      "INFO:tensorflow:Step 186700 per-step time 0.161s loss=0.038\n"
     ]
    },
    {
     "name": "stderr",
     "output_type": "stream",
     "text": [
      "[06/01 22:09:05] tensorflow INFO: Step 186700 per-step time 0.161s loss=0.038\n"
     ]
    },
    {
     "name": "stdout",
     "output_type": "stream",
     "text": [
      "INFO:tensorflow:Step 186800 per-step time 0.161s loss=0.022\n"
     ]
    },
    {
     "name": "stderr",
     "output_type": "stream",
     "text": [
      "[06/01 22:09:21] tensorflow INFO: Step 186800 per-step time 0.161s loss=0.022\n"
     ]
    },
    {
     "name": "stdout",
     "output_type": "stream",
     "text": [
      "INFO:tensorflow:Step 186900 per-step time 0.160s loss=0.018\n"
     ]
    },
    {
     "name": "stderr",
     "output_type": "stream",
     "text": [
      "[06/01 22:09:37] tensorflow INFO: Step 186900 per-step time 0.160s loss=0.018\n"
     ]
    },
    {
     "name": "stdout",
     "output_type": "stream",
     "text": [
      "INFO:tensorflow:Step 187000 per-step time 0.160s loss=0.081\n"
     ]
    },
    {
     "name": "stderr",
     "output_type": "stream",
     "text": [
      "[06/01 22:09:53] tensorflow INFO: Step 187000 per-step time 0.160s loss=0.081\n"
     ]
    },
    {
     "name": "stdout",
     "output_type": "stream",
     "text": [
      "INFO:tensorflow:Step 187100 per-step time 0.166s loss=0.335\n"
     ]
    },
    {
     "name": "stderr",
     "output_type": "stream",
     "text": [
      "[06/01 22:10:09] tensorflow INFO: Step 187100 per-step time 0.166s loss=0.335\n"
     ]
    },
    {
     "name": "stdout",
     "output_type": "stream",
     "text": [
      "INFO:tensorflow:Step 187200 per-step time 0.160s loss=0.094\n"
     ]
    },
    {
     "name": "stderr",
     "output_type": "stream",
     "text": [
      "[06/01 22:10:25] tensorflow INFO: Step 187200 per-step time 0.160s loss=0.094\n"
     ]
    },
    {
     "name": "stdout",
     "output_type": "stream",
     "text": [
      "INFO:tensorflow:Step 187300 per-step time 0.161s loss=0.104\n"
     ]
    },
    {
     "name": "stderr",
     "output_type": "stream",
     "text": [
      "[06/01 22:10:41] tensorflow INFO: Step 187300 per-step time 0.161s loss=0.104\n"
     ]
    },
    {
     "name": "stdout",
     "output_type": "stream",
     "text": [
      "INFO:tensorflow:Step 187400 per-step time 0.161s loss=0.052\n"
     ]
    },
    {
     "name": "stderr",
     "output_type": "stream",
     "text": [
      "[06/01 22:10:57] tensorflow INFO: Step 187400 per-step time 0.161s loss=0.052\n"
     ]
    },
    {
     "name": "stdout",
     "output_type": "stream",
     "text": [
      "INFO:tensorflow:Step 187500 per-step time 0.160s loss=0.021\n"
     ]
    },
    {
     "name": "stderr",
     "output_type": "stream",
     "text": [
      "[06/01 22:11:13] tensorflow INFO: Step 187500 per-step time 0.160s loss=0.021\n"
     ]
    },
    {
     "name": "stdout",
     "output_type": "stream",
     "text": [
      "INFO:tensorflow:Step 187600 per-step time 0.160s loss=0.257\n"
     ]
    },
    {
     "name": "stderr",
     "output_type": "stream",
     "text": [
      "[06/01 22:11:29] tensorflow INFO: Step 187600 per-step time 0.160s loss=0.257\n"
     ]
    },
    {
     "name": "stdout",
     "output_type": "stream",
     "text": [
      "INFO:tensorflow:Step 187700 per-step time 0.160s loss=0.130\n"
     ]
    },
    {
     "name": "stderr",
     "output_type": "stream",
     "text": [
      "[06/01 22:11:45] tensorflow INFO: Step 187700 per-step time 0.160s loss=0.130\n"
     ]
    },
    {
     "name": "stdout",
     "output_type": "stream",
     "text": [
      "INFO:tensorflow:Step 187800 per-step time 0.160s loss=0.071\n"
     ]
    },
    {
     "name": "stderr",
     "output_type": "stream",
     "text": [
      "[06/01 22:12:01] tensorflow INFO: Step 187800 per-step time 0.160s loss=0.071\n"
     ]
    },
    {
     "name": "stdout",
     "output_type": "stream",
     "text": [
      "INFO:tensorflow:Step 187900 per-step time 0.161s loss=0.132\n"
     ]
    },
    {
     "name": "stderr",
     "output_type": "stream",
     "text": [
      "[06/01 22:12:18] tensorflow INFO: Step 187900 per-step time 0.161s loss=0.132\n"
     ]
    },
    {
     "name": "stdout",
     "output_type": "stream",
     "text": [
      "INFO:tensorflow:Step 188000 per-step time 0.161s loss=0.150\n"
     ]
    },
    {
     "name": "stderr",
     "output_type": "stream",
     "text": [
      "[06/01 22:12:34] tensorflow INFO: Step 188000 per-step time 0.161s loss=0.150\n"
     ]
    },
    {
     "name": "stdout",
     "output_type": "stream",
     "text": [
      "INFO:tensorflow:Step 188100 per-step time 0.166s loss=0.116\n"
     ]
    },
    {
     "name": "stderr",
     "output_type": "stream",
     "text": [
      "[06/01 22:12:50] tensorflow INFO: Step 188100 per-step time 0.166s loss=0.116\n"
     ]
    },
    {
     "name": "stdout",
     "output_type": "stream",
     "text": [
      "INFO:tensorflow:Step 188200 per-step time 0.161s loss=0.083\n"
     ]
    },
    {
     "name": "stderr",
     "output_type": "stream",
     "text": [
      "[06/01 22:13:06] tensorflow INFO: Step 188200 per-step time 0.161s loss=0.083\n"
     ]
    },
    {
     "name": "stdout",
     "output_type": "stream",
     "text": [
      "INFO:tensorflow:Step 188300 per-step time 0.160s loss=0.170\n"
     ]
    },
    {
     "name": "stderr",
     "output_type": "stream",
     "text": [
      "[06/01 22:13:22] tensorflow INFO: Step 188300 per-step time 0.160s loss=0.170\n"
     ]
    },
    {
     "name": "stdout",
     "output_type": "stream",
     "text": [
      "INFO:tensorflow:Step 188400 per-step time 0.161s loss=0.018\n"
     ]
    },
    {
     "name": "stderr",
     "output_type": "stream",
     "text": [
      "[06/01 22:13:38] tensorflow INFO: Step 188400 per-step time 0.161s loss=0.018\n"
     ]
    },
    {
     "name": "stdout",
     "output_type": "stream",
     "text": [
      "INFO:tensorflow:Step 188500 per-step time 0.160s loss=0.066\n"
     ]
    },
    {
     "name": "stderr",
     "output_type": "stream",
     "text": [
      "[06/01 22:13:54] tensorflow INFO: Step 188500 per-step time 0.160s loss=0.066\n"
     ]
    },
    {
     "name": "stdout",
     "output_type": "stream",
     "text": [
      "INFO:tensorflow:Step 188600 per-step time 0.160s loss=0.095\n"
     ]
    },
    {
     "name": "stderr",
     "output_type": "stream",
     "text": [
      "[06/01 22:14:10] tensorflow INFO: Step 188600 per-step time 0.160s loss=0.095\n"
     ]
    },
    {
     "name": "stdout",
     "output_type": "stream",
     "text": [
      "INFO:tensorflow:Step 188700 per-step time 0.165s loss=0.118\n"
     ]
    },
    {
     "name": "stderr",
     "output_type": "stream",
     "text": [
      "[06/01 22:14:27] tensorflow INFO: Step 188700 per-step time 0.165s loss=0.118\n"
     ]
    },
    {
     "name": "stdout",
     "output_type": "stream",
     "text": [
      "INFO:tensorflow:Step 188800 per-step time 0.164s loss=0.130\n"
     ]
    },
    {
     "name": "stderr",
     "output_type": "stream",
     "text": [
      "[06/01 22:14:43] tensorflow INFO: Step 188800 per-step time 0.164s loss=0.130\n"
     ]
    },
    {
     "name": "stdout",
     "output_type": "stream",
     "text": [
      "INFO:tensorflow:Step 188900 per-step time 0.165s loss=0.086\n"
     ]
    },
    {
     "name": "stderr",
     "output_type": "stream",
     "text": [
      "[06/01 22:15:00] tensorflow INFO: Step 188900 per-step time 0.165s loss=0.086\n"
     ]
    },
    {
     "name": "stdout",
     "output_type": "stream",
     "text": [
      "INFO:tensorflow:Step 189000 per-step time 0.165s loss=0.165\n"
     ]
    },
    {
     "name": "stderr",
     "output_type": "stream",
     "text": [
      "[06/01 22:15:16] tensorflow INFO: Step 189000 per-step time 0.165s loss=0.165\n"
     ]
    },
    {
     "name": "stdout",
     "output_type": "stream",
     "text": [
      "INFO:tensorflow:Step 189100 per-step time 0.171s loss=0.075\n"
     ]
    },
    {
     "name": "stderr",
     "output_type": "stream",
     "text": [
      "[06/01 22:15:33] tensorflow INFO: Step 189100 per-step time 0.171s loss=0.075\n"
     ]
    },
    {
     "name": "stdout",
     "output_type": "stream",
     "text": [
      "INFO:tensorflow:Step 189200 per-step time 0.165s loss=0.024\n"
     ]
    },
    {
     "name": "stderr",
     "output_type": "stream",
     "text": [
      "[06/01 22:15:50] tensorflow INFO: Step 189200 per-step time 0.165s loss=0.024\n"
     ]
    },
    {
     "name": "stdout",
     "output_type": "stream",
     "text": [
      "INFO:tensorflow:Step 189300 per-step time 0.164s loss=0.055\n"
     ]
    },
    {
     "name": "stderr",
     "output_type": "stream",
     "text": [
      "[06/01 22:16:06] tensorflow INFO: Step 189300 per-step time 0.164s loss=0.055\n"
     ]
    },
    {
     "name": "stdout",
     "output_type": "stream",
     "text": [
      "INFO:tensorflow:Step 189400 per-step time 0.165s loss=0.049\n"
     ]
    },
    {
     "name": "stderr",
     "output_type": "stream",
     "text": [
      "[06/01 22:16:23] tensorflow INFO: Step 189400 per-step time 0.165s loss=0.049\n"
     ]
    },
    {
     "name": "stdout",
     "output_type": "stream",
     "text": [
      "INFO:tensorflow:Step 189500 per-step time 0.164s loss=0.062\n"
     ]
    },
    {
     "name": "stderr",
     "output_type": "stream",
     "text": [
      "[06/01 22:16:39] tensorflow INFO: Step 189500 per-step time 0.164s loss=0.062\n"
     ]
    },
    {
     "name": "stdout",
     "output_type": "stream",
     "text": [
      "INFO:tensorflow:Step 189600 per-step time 0.162s loss=0.048\n"
     ]
    },
    {
     "name": "stderr",
     "output_type": "stream",
     "text": [
      "[06/01 22:16:55] tensorflow INFO: Step 189600 per-step time 0.162s loss=0.048\n"
     ]
    },
    {
     "name": "stdout",
     "output_type": "stream",
     "text": [
      "INFO:tensorflow:Step 189700 per-step time 0.162s loss=0.023\n"
     ]
    },
    {
     "name": "stderr",
     "output_type": "stream",
     "text": [
      "[06/01 22:17:12] tensorflow INFO: Step 189700 per-step time 0.162s loss=0.023\n"
     ]
    },
    {
     "name": "stdout",
     "output_type": "stream",
     "text": [
      "INFO:tensorflow:Step 189800 per-step time 0.164s loss=0.422\n"
     ]
    },
    {
     "name": "stderr",
     "output_type": "stream",
     "text": [
      "[06/01 22:17:28] tensorflow INFO: Step 189800 per-step time 0.164s loss=0.422\n"
     ]
    },
    {
     "name": "stdout",
     "output_type": "stream",
     "text": [
      "INFO:tensorflow:Step 189900 per-step time 0.166s loss=0.126\n"
     ]
    },
    {
     "name": "stderr",
     "output_type": "stream",
     "text": [
      "[06/01 22:17:45] tensorflow INFO: Step 189900 per-step time 0.166s loss=0.126\n"
     ]
    },
    {
     "name": "stdout",
     "output_type": "stream",
     "text": [
      "INFO:tensorflow:Step 190000 per-step time 0.164s loss=0.105\n"
     ]
    },
    {
     "name": "stderr",
     "output_type": "stream",
     "text": [
      "[06/01 22:18:01] tensorflow INFO: Step 190000 per-step time 0.164s loss=0.105\n"
     ]
    },
    {
     "name": "stdout",
     "output_type": "stream",
     "text": [
      "INFO:tensorflow:Step 190100 per-step time 0.170s loss=0.124\n"
     ]
    },
    {
     "name": "stderr",
     "output_type": "stream",
     "text": [
      "[06/01 22:18:18] tensorflow INFO: Step 190100 per-step time 0.170s loss=0.124\n"
     ]
    },
    {
     "name": "stdout",
     "output_type": "stream",
     "text": [
      "INFO:tensorflow:Step 190200 per-step time 0.163s loss=0.091\n"
     ]
    },
    {
     "name": "stderr",
     "output_type": "stream",
     "text": [
      "[06/01 22:18:34] tensorflow INFO: Step 190200 per-step time 0.163s loss=0.091\n"
     ]
    },
    {
     "name": "stdout",
     "output_type": "stream",
     "text": [
      "INFO:tensorflow:Step 190300 per-step time 0.164s loss=0.391\n"
     ]
    },
    {
     "name": "stderr",
     "output_type": "stream",
     "text": [
      "[06/01 22:18:51] tensorflow INFO: Step 190300 per-step time 0.164s loss=0.391\n"
     ]
    },
    {
     "name": "stdout",
     "output_type": "stream",
     "text": [
      "INFO:tensorflow:Step 190400 per-step time 0.164s loss=0.024\n"
     ]
    },
    {
     "name": "stderr",
     "output_type": "stream",
     "text": [
      "[06/01 22:19:07] tensorflow INFO: Step 190400 per-step time 0.164s loss=0.024\n"
     ]
    },
    {
     "name": "stdout",
     "output_type": "stream",
     "text": [
      "INFO:tensorflow:Step 190500 per-step time 0.165s loss=0.146\n"
     ]
    },
    {
     "name": "stderr",
     "output_type": "stream",
     "text": [
      "[06/01 22:19:24] tensorflow INFO: Step 190500 per-step time 0.165s loss=0.146\n"
     ]
    },
    {
     "name": "stdout",
     "output_type": "stream",
     "text": [
      "INFO:tensorflow:Step 190600 per-step time 0.160s loss=0.169\n"
     ]
    },
    {
     "name": "stderr",
     "output_type": "stream",
     "text": [
      "[06/01 22:19:40] tensorflow INFO: Step 190600 per-step time 0.160s loss=0.169\n"
     ]
    },
    {
     "name": "stdout",
     "output_type": "stream",
     "text": [
      "INFO:tensorflow:Step 190700 per-step time 0.161s loss=0.024\n"
     ]
    },
    {
     "name": "stderr",
     "output_type": "stream",
     "text": [
      "[06/01 22:19:56] tensorflow INFO: Step 190700 per-step time 0.161s loss=0.024\n"
     ]
    },
    {
     "name": "stdout",
     "output_type": "stream",
     "text": [
      "INFO:tensorflow:Step 190800 per-step time 0.161s loss=0.115\n"
     ]
    },
    {
     "name": "stderr",
     "output_type": "stream",
     "text": [
      "[06/01 22:20:12] tensorflow INFO: Step 190800 per-step time 0.161s loss=0.115\n"
     ]
    },
    {
     "name": "stdout",
     "output_type": "stream",
     "text": [
      "INFO:tensorflow:Step 190900 per-step time 0.161s loss=0.104\n"
     ]
    },
    {
     "name": "stderr",
     "output_type": "stream",
     "text": [
      "[06/01 22:20:28] tensorflow INFO: Step 190900 per-step time 0.161s loss=0.104\n"
     ]
    },
    {
     "name": "stdout",
     "output_type": "stream",
     "text": [
      "INFO:tensorflow:Step 191000 per-step time 0.160s loss=0.086\n"
     ]
    },
    {
     "name": "stderr",
     "output_type": "stream",
     "text": [
      "[06/01 22:20:44] tensorflow INFO: Step 191000 per-step time 0.160s loss=0.086\n"
     ]
    },
    {
     "name": "stdout",
     "output_type": "stream",
     "text": [
      "INFO:tensorflow:Step 191100 per-step time 0.166s loss=0.088\n"
     ]
    },
    {
     "name": "stderr",
     "output_type": "stream",
     "text": [
      "[06/01 22:21:01] tensorflow INFO: Step 191100 per-step time 0.166s loss=0.088\n"
     ]
    },
    {
     "name": "stdout",
     "output_type": "stream",
     "text": [
      "INFO:tensorflow:Step 191200 per-step time 0.160s loss=0.075\n"
     ]
    },
    {
     "name": "stderr",
     "output_type": "stream",
     "text": [
      "[06/01 22:21:17] tensorflow INFO: Step 191200 per-step time 0.160s loss=0.075\n"
     ]
    },
    {
     "name": "stdout",
     "output_type": "stream",
     "text": [
      "INFO:tensorflow:Step 191300 per-step time 0.160s loss=0.062\n"
     ]
    },
    {
     "name": "stderr",
     "output_type": "stream",
     "text": [
      "[06/01 22:21:33] tensorflow INFO: Step 191300 per-step time 0.160s loss=0.062\n"
     ]
    },
    {
     "name": "stdout",
     "output_type": "stream",
     "text": [
      "INFO:tensorflow:Step 191400 per-step time 0.160s loss=0.051\n"
     ]
    },
    {
     "name": "stderr",
     "output_type": "stream",
     "text": [
      "[06/01 22:21:49] tensorflow INFO: Step 191400 per-step time 0.160s loss=0.051\n"
     ]
    },
    {
     "name": "stdout",
     "output_type": "stream",
     "text": [
      "INFO:tensorflow:Step 191500 per-step time 0.160s loss=0.219\n"
     ]
    },
    {
     "name": "stderr",
     "output_type": "stream",
     "text": [
      "[06/01 22:22:05] tensorflow INFO: Step 191500 per-step time 0.160s loss=0.219\n"
     ]
    },
    {
     "name": "stdout",
     "output_type": "stream",
     "text": [
      "INFO:tensorflow:Step 191600 per-step time 0.160s loss=0.027\n"
     ]
    },
    {
     "name": "stderr",
     "output_type": "stream",
     "text": [
      "[06/01 22:22:21] tensorflow INFO: Step 191600 per-step time 0.160s loss=0.027\n"
     ]
    },
    {
     "name": "stdout",
     "output_type": "stream",
     "text": [
      "INFO:tensorflow:Step 191700 per-step time 0.160s loss=0.023\n"
     ]
    },
    {
     "name": "stderr",
     "output_type": "stream",
     "text": [
      "[06/01 22:22:37] tensorflow INFO: Step 191700 per-step time 0.160s loss=0.023\n"
     ]
    },
    {
     "name": "stdout",
     "output_type": "stream",
     "text": [
      "INFO:tensorflow:Step 191800 per-step time 0.160s loss=0.142\n"
     ]
    },
    {
     "name": "stderr",
     "output_type": "stream",
     "text": [
      "[06/01 22:22:53] tensorflow INFO: Step 191800 per-step time 0.160s loss=0.142\n"
     ]
    },
    {
     "name": "stdout",
     "output_type": "stream",
     "text": [
      "INFO:tensorflow:Step 191900 per-step time 0.160s loss=0.029\n"
     ]
    },
    {
     "name": "stderr",
     "output_type": "stream",
     "text": [
      "[06/01 22:23:09] tensorflow INFO: Step 191900 per-step time 0.160s loss=0.029\n"
     ]
    },
    {
     "name": "stdout",
     "output_type": "stream",
     "text": [
      "INFO:tensorflow:Step 192000 per-step time 0.160s loss=0.045\n"
     ]
    },
    {
     "name": "stderr",
     "output_type": "stream",
     "text": [
      "[06/01 22:23:25] tensorflow INFO: Step 192000 per-step time 0.160s loss=0.045\n"
     ]
    },
    {
     "name": "stdout",
     "output_type": "stream",
     "text": [
      "INFO:tensorflow:Step 192100 per-step time 0.166s loss=0.086\n"
     ]
    },
    {
     "name": "stderr",
     "output_type": "stream",
     "text": [
      "[06/01 22:23:41] tensorflow INFO: Step 192100 per-step time 0.166s loss=0.086\n"
     ]
    },
    {
     "name": "stdout",
     "output_type": "stream",
     "text": [
      "INFO:tensorflow:Step 192200 per-step time 0.160s loss=0.485\n"
     ]
    },
    {
     "name": "stderr",
     "output_type": "stream",
     "text": [
      "[06/01 22:23:57] tensorflow INFO: Step 192200 per-step time 0.160s loss=0.485\n"
     ]
    },
    {
     "name": "stdout",
     "output_type": "stream",
     "text": [
      "INFO:tensorflow:Step 192300 per-step time 0.160s loss=0.053\n"
     ]
    },
    {
     "name": "stderr",
     "output_type": "stream",
     "text": [
      "[06/01 22:24:13] tensorflow INFO: Step 192300 per-step time 0.160s loss=0.053\n"
     ]
    },
    {
     "name": "stdout",
     "output_type": "stream",
     "text": [
      "INFO:tensorflow:Step 192400 per-step time 0.160s loss=0.024\n"
     ]
    },
    {
     "name": "stderr",
     "output_type": "stream",
     "text": [
      "[06/01 22:24:29] tensorflow INFO: Step 192400 per-step time 0.160s loss=0.024\n"
     ]
    },
    {
     "name": "stdout",
     "output_type": "stream",
     "text": [
      "INFO:tensorflow:Step 192500 per-step time 0.161s loss=0.034\n"
     ]
    },
    {
     "name": "stderr",
     "output_type": "stream",
     "text": [
      "[06/01 22:24:46] tensorflow INFO: Step 192500 per-step time 0.161s loss=0.034\n"
     ]
    },
    {
     "name": "stdout",
     "output_type": "stream",
     "text": [
      "INFO:tensorflow:Step 192600 per-step time 0.160s loss=0.069\n"
     ]
    },
    {
     "name": "stderr",
     "output_type": "stream",
     "text": [
      "[06/01 22:25:02] tensorflow INFO: Step 192600 per-step time 0.160s loss=0.069\n"
     ]
    },
    {
     "name": "stdout",
     "output_type": "stream",
     "text": [
      "INFO:tensorflow:Step 192700 per-step time 0.160s loss=0.048\n"
     ]
    },
    {
     "name": "stderr",
     "output_type": "stream",
     "text": [
      "[06/01 22:25:18] tensorflow INFO: Step 192700 per-step time 0.160s loss=0.048\n"
     ]
    },
    {
     "name": "stdout",
     "output_type": "stream",
     "text": [
      "INFO:tensorflow:Step 192800 per-step time 0.160s loss=0.024\n"
     ]
    },
    {
     "name": "stderr",
     "output_type": "stream",
     "text": [
      "[06/01 22:25:34] tensorflow INFO: Step 192800 per-step time 0.160s loss=0.024\n"
     ]
    },
    {
     "name": "stdout",
     "output_type": "stream",
     "text": [
      "INFO:tensorflow:Step 192900 per-step time 0.160s loss=0.467\n"
     ]
    },
    {
     "name": "stderr",
     "output_type": "stream",
     "text": [
      "[06/01 22:25:50] tensorflow INFO: Step 192900 per-step time 0.160s loss=0.467\n"
     ]
    },
    {
     "name": "stdout",
     "output_type": "stream",
     "text": [
      "INFO:tensorflow:Step 193000 per-step time 0.160s loss=0.054\n"
     ]
    },
    {
     "name": "stderr",
     "output_type": "stream",
     "text": [
      "[06/01 22:26:06] tensorflow INFO: Step 193000 per-step time 0.160s loss=0.054\n"
     ]
    },
    {
     "name": "stdout",
     "output_type": "stream",
     "text": [
      "INFO:tensorflow:Step 193100 per-step time 0.166s loss=0.044\n"
     ]
    },
    {
     "name": "stderr",
     "output_type": "stream",
     "text": [
      "[06/01 22:26:22] tensorflow INFO: Step 193100 per-step time 0.166s loss=0.044\n"
     ]
    },
    {
     "name": "stdout",
     "output_type": "stream",
     "text": [
      "INFO:tensorflow:Step 193200 per-step time 0.161s loss=0.761\n"
     ]
    },
    {
     "name": "stderr",
     "output_type": "stream",
     "text": [
      "[06/01 22:26:38] tensorflow INFO: Step 193200 per-step time 0.161s loss=0.761\n"
     ]
    },
    {
     "name": "stdout",
     "output_type": "stream",
     "text": [
      "INFO:tensorflow:Step 193300 per-step time 0.160s loss=0.156\n"
     ]
    },
    {
     "name": "stderr",
     "output_type": "stream",
     "text": [
      "[06/01 22:26:54] tensorflow INFO: Step 193300 per-step time 0.160s loss=0.156\n"
     ]
    },
    {
     "name": "stdout",
     "output_type": "stream",
     "text": [
      "INFO:tensorflow:Step 193400 per-step time 0.160s loss=0.089\n"
     ]
    },
    {
     "name": "stderr",
     "output_type": "stream",
     "text": [
      "[06/01 22:27:10] tensorflow INFO: Step 193400 per-step time 0.160s loss=0.089\n"
     ]
    },
    {
     "name": "stdout",
     "output_type": "stream",
     "text": [
      "INFO:tensorflow:Step 193500 per-step time 0.161s loss=0.089\n"
     ]
    },
    {
     "name": "stderr",
     "output_type": "stream",
     "text": [
      "[06/01 22:27:26] tensorflow INFO: Step 193500 per-step time 0.161s loss=0.089\n"
     ]
    },
    {
     "name": "stdout",
     "output_type": "stream",
     "text": [
      "INFO:tensorflow:Step 193600 per-step time 0.160s loss=0.143\n"
     ]
    },
    {
     "name": "stderr",
     "output_type": "stream",
     "text": [
      "[06/01 22:27:42] tensorflow INFO: Step 193600 per-step time 0.160s loss=0.143\n"
     ]
    },
    {
     "name": "stdout",
     "output_type": "stream",
     "text": [
      "INFO:tensorflow:Step 193700 per-step time 0.160s loss=0.032\n"
     ]
    },
    {
     "name": "stderr",
     "output_type": "stream",
     "text": [
      "[06/01 22:27:59] tensorflow INFO: Step 193700 per-step time 0.160s loss=0.032\n"
     ]
    },
    {
     "name": "stdout",
     "output_type": "stream",
     "text": [
      "INFO:tensorflow:Step 193800 per-step time 0.160s loss=0.167\n"
     ]
    },
    {
     "name": "stderr",
     "output_type": "stream",
     "text": [
      "[06/01 22:28:15] tensorflow INFO: Step 193800 per-step time 0.160s loss=0.167\n"
     ]
    },
    {
     "name": "stdout",
     "output_type": "stream",
     "text": [
      "INFO:tensorflow:Step 193900 per-step time 0.161s loss=0.092\n"
     ]
    },
    {
     "name": "stderr",
     "output_type": "stream",
     "text": [
      "[06/01 22:28:31] tensorflow INFO: Step 193900 per-step time 0.161s loss=0.092\n"
     ]
    },
    {
     "name": "stdout",
     "output_type": "stream",
     "text": [
      "INFO:tensorflow:Step 194000 per-step time 0.161s loss=0.083\n"
     ]
    },
    {
     "name": "stderr",
     "output_type": "stream",
     "text": [
      "[06/01 22:28:47] tensorflow INFO: Step 194000 per-step time 0.161s loss=0.083\n"
     ]
    },
    {
     "name": "stdout",
     "output_type": "stream",
     "text": [
      "INFO:tensorflow:Step 194100 per-step time 0.172s loss=0.138\n"
     ]
    },
    {
     "name": "stderr",
     "output_type": "stream",
     "text": [
      "[06/01 22:29:04] tensorflow INFO: Step 194100 per-step time 0.172s loss=0.138\n"
     ]
    },
    {
     "name": "stdout",
     "output_type": "stream",
     "text": [
      "INFO:tensorflow:Step 194200 per-step time 0.160s loss=0.080\n"
     ]
    },
    {
     "name": "stderr",
     "output_type": "stream",
     "text": [
      "[06/01 22:29:20] tensorflow INFO: Step 194200 per-step time 0.160s loss=0.080\n"
     ]
    },
    {
     "name": "stdout",
     "output_type": "stream",
     "text": [
      "INFO:tensorflow:Step 194300 per-step time 0.161s loss=0.023\n"
     ]
    },
    {
     "name": "stderr",
     "output_type": "stream",
     "text": [
      "[06/01 22:29:36] tensorflow INFO: Step 194300 per-step time 0.161s loss=0.023\n"
     ]
    },
    {
     "name": "stdout",
     "output_type": "stream",
     "text": [
      "INFO:tensorflow:Step 194400 per-step time 0.161s loss=0.147\n"
     ]
    },
    {
     "name": "stderr",
     "output_type": "stream",
     "text": [
      "[06/01 22:29:52] tensorflow INFO: Step 194400 per-step time 0.161s loss=0.147\n"
     ]
    },
    {
     "name": "stdout",
     "output_type": "stream",
     "text": [
      "INFO:tensorflow:Step 194500 per-step time 0.160s loss=0.073\n"
     ]
    },
    {
     "name": "stderr",
     "output_type": "stream",
     "text": [
      "[06/01 22:30:08] tensorflow INFO: Step 194500 per-step time 0.160s loss=0.073\n"
     ]
    },
    {
     "name": "stdout",
     "output_type": "stream",
     "text": [
      "INFO:tensorflow:Step 194600 per-step time 0.161s loss=0.033\n"
     ]
    },
    {
     "name": "stderr",
     "output_type": "stream",
     "text": [
      "[06/01 22:30:24] tensorflow INFO: Step 194600 per-step time 0.161s loss=0.033\n"
     ]
    },
    {
     "name": "stdout",
     "output_type": "stream",
     "text": [
      "INFO:tensorflow:Step 194700 per-step time 0.161s loss=0.086\n"
     ]
    },
    {
     "name": "stderr",
     "output_type": "stream",
     "text": [
      "[06/01 22:30:40] tensorflow INFO: Step 194700 per-step time 0.161s loss=0.086\n"
     ]
    },
    {
     "name": "stdout",
     "output_type": "stream",
     "text": [
      "INFO:tensorflow:Step 194800 per-step time 0.160s loss=0.091\n"
     ]
    },
    {
     "name": "stderr",
     "output_type": "stream",
     "text": [
      "[06/01 22:30:56] tensorflow INFO: Step 194800 per-step time 0.160s loss=0.091\n"
     ]
    },
    {
     "name": "stdout",
     "output_type": "stream",
     "text": [
      "INFO:tensorflow:Step 194900 per-step time 0.160s loss=0.341\n"
     ]
    },
    {
     "name": "stderr",
     "output_type": "stream",
     "text": [
      "[06/01 22:31:12] tensorflow INFO: Step 194900 per-step time 0.160s loss=0.341\n"
     ]
    },
    {
     "name": "stdout",
     "output_type": "stream",
     "text": [
      "INFO:tensorflow:Step 195000 per-step time 0.160s loss=0.026\n"
     ]
    },
    {
     "name": "stderr",
     "output_type": "stream",
     "text": [
      "[06/01 22:31:28] tensorflow INFO: Step 195000 per-step time 0.160s loss=0.026\n"
     ]
    },
    {
     "name": "stdout",
     "output_type": "stream",
     "text": [
      "INFO:tensorflow:Step 195100 per-step time 0.165s loss=0.298\n"
     ]
    },
    {
     "name": "stderr",
     "output_type": "stream",
     "text": [
      "[06/01 22:31:45] tensorflow INFO: Step 195100 per-step time 0.165s loss=0.298\n"
     ]
    },
    {
     "name": "stdout",
     "output_type": "stream",
     "text": [
      "INFO:tensorflow:Step 195200 per-step time 0.160s loss=0.069\n"
     ]
    },
    {
     "name": "stderr",
     "output_type": "stream",
     "text": [
      "[06/01 22:32:01] tensorflow INFO: Step 195200 per-step time 0.160s loss=0.069\n"
     ]
    },
    {
     "name": "stdout",
     "output_type": "stream",
     "text": [
      "INFO:tensorflow:Step 195300 per-step time 0.160s loss=0.080\n"
     ]
    },
    {
     "name": "stderr",
     "output_type": "stream",
     "text": [
      "[06/01 22:32:17] tensorflow INFO: Step 195300 per-step time 0.160s loss=0.080\n"
     ]
    },
    {
     "name": "stdout",
     "output_type": "stream",
     "text": [
      "INFO:tensorflow:Step 195400 per-step time 0.160s loss=0.409\n"
     ]
    },
    {
     "name": "stderr",
     "output_type": "stream",
     "text": [
      "[06/01 22:32:33] tensorflow INFO: Step 195400 per-step time 0.160s loss=0.409\n"
     ]
    },
    {
     "name": "stdout",
     "output_type": "stream",
     "text": [
      "INFO:tensorflow:Step 195500 per-step time 0.161s loss=0.040\n"
     ]
    },
    {
     "name": "stderr",
     "output_type": "stream",
     "text": [
      "[06/01 22:32:49] tensorflow INFO: Step 195500 per-step time 0.161s loss=0.040\n"
     ]
    },
    {
     "name": "stdout",
     "output_type": "stream",
     "text": [
      "INFO:tensorflow:Step 195600 per-step time 0.160s loss=0.012\n"
     ]
    },
    {
     "name": "stderr",
     "output_type": "stream",
     "text": [
      "[06/01 22:33:05] tensorflow INFO: Step 195600 per-step time 0.160s loss=0.012\n"
     ]
    },
    {
     "name": "stdout",
     "output_type": "stream",
     "text": [
      "INFO:tensorflow:Step 195700 per-step time 0.160s loss=0.170\n"
     ]
    },
    {
     "name": "stderr",
     "output_type": "stream",
     "text": [
      "[06/01 22:33:21] tensorflow INFO: Step 195700 per-step time 0.160s loss=0.170\n"
     ]
    },
    {
     "name": "stdout",
     "output_type": "stream",
     "text": [
      "INFO:tensorflow:Step 195800 per-step time 0.160s loss=0.699\n"
     ]
    },
    {
     "name": "stderr",
     "output_type": "stream",
     "text": [
      "[06/01 22:33:37] tensorflow INFO: Step 195800 per-step time 0.160s loss=0.699\n"
     ]
    },
    {
     "name": "stdout",
     "output_type": "stream",
     "text": [
      "INFO:tensorflow:Step 195900 per-step time 0.160s loss=0.162\n"
     ]
    },
    {
     "name": "stderr",
     "output_type": "stream",
     "text": [
      "[06/01 22:33:53] tensorflow INFO: Step 195900 per-step time 0.160s loss=0.162\n"
     ]
    },
    {
     "name": "stdout",
     "output_type": "stream",
     "text": [
      "INFO:tensorflow:Step 196000 per-step time 0.160s loss=0.094\n"
     ]
    },
    {
     "name": "stderr",
     "output_type": "stream",
     "text": [
      "[06/01 22:34:09] tensorflow INFO: Step 196000 per-step time 0.160s loss=0.094\n"
     ]
    },
    {
     "name": "stdout",
     "output_type": "stream",
     "text": [
      "INFO:tensorflow:Step 196100 per-step time 0.165s loss=0.095\n"
     ]
    },
    {
     "name": "stderr",
     "output_type": "stream",
     "text": [
      "[06/01 22:34:26] tensorflow INFO: Step 196100 per-step time 0.165s loss=0.095\n"
     ]
    },
    {
     "name": "stdout",
     "output_type": "stream",
     "text": [
      "INFO:tensorflow:Step 196200 per-step time 0.161s loss=0.048\n"
     ]
    },
    {
     "name": "stderr",
     "output_type": "stream",
     "text": [
      "[06/01 22:34:42] tensorflow INFO: Step 196200 per-step time 0.161s loss=0.048\n"
     ]
    },
    {
     "name": "stdout",
     "output_type": "stream",
     "text": [
      "INFO:tensorflow:Step 196300 per-step time 0.162s loss=0.073\n"
     ]
    },
    {
     "name": "stderr",
     "output_type": "stream",
     "text": [
      "[06/01 22:34:58] tensorflow INFO: Step 196300 per-step time 0.162s loss=0.073\n"
     ]
    },
    {
     "name": "stdout",
     "output_type": "stream",
     "text": [
      "INFO:tensorflow:Step 196400 per-step time 0.165s loss=0.051\n"
     ]
    },
    {
     "name": "stderr",
     "output_type": "stream",
     "text": [
      "[06/01 22:35:14] tensorflow INFO: Step 196400 per-step time 0.165s loss=0.051\n"
     ]
    },
    {
     "name": "stdout",
     "output_type": "stream",
     "text": [
      "INFO:tensorflow:Step 196500 per-step time 0.162s loss=0.018\n"
     ]
    },
    {
     "name": "stderr",
     "output_type": "stream",
     "text": [
      "[06/01 22:35:31] tensorflow INFO: Step 196500 per-step time 0.162s loss=0.018\n"
     ]
    },
    {
     "name": "stdout",
     "output_type": "stream",
     "text": [
      "INFO:tensorflow:Step 196600 per-step time 0.163s loss=0.058\n"
     ]
    },
    {
     "name": "stderr",
     "output_type": "stream",
     "text": [
      "[06/01 22:35:47] tensorflow INFO: Step 196600 per-step time 0.163s loss=0.058\n"
     ]
    },
    {
     "name": "stdout",
     "output_type": "stream",
     "text": [
      "INFO:tensorflow:Step 196700 per-step time 0.163s loss=0.007\n"
     ]
    },
    {
     "name": "stderr",
     "output_type": "stream",
     "text": [
      "[06/01 22:36:03] tensorflow INFO: Step 196700 per-step time 0.163s loss=0.007\n"
     ]
    },
    {
     "name": "stdout",
     "output_type": "stream",
     "text": [
      "INFO:tensorflow:Step 196800 per-step time 0.162s loss=0.092\n"
     ]
    },
    {
     "name": "stderr",
     "output_type": "stream",
     "text": [
      "[06/01 22:36:19] tensorflow INFO: Step 196800 per-step time 0.162s loss=0.092\n"
     ]
    },
    {
     "name": "stdout",
     "output_type": "stream",
     "text": [
      "INFO:tensorflow:Step 196900 per-step time 0.163s loss=0.044\n"
     ]
    },
    {
     "name": "stderr",
     "output_type": "stream",
     "text": [
      "[06/01 22:36:36] tensorflow INFO: Step 196900 per-step time 0.163s loss=0.044\n"
     ]
    },
    {
     "name": "stdout",
     "output_type": "stream",
     "text": [
      "INFO:tensorflow:Step 197000 per-step time 0.166s loss=0.056\n"
     ]
    },
    {
     "name": "stderr",
     "output_type": "stream",
     "text": [
      "[06/01 22:36:52] tensorflow INFO: Step 197000 per-step time 0.166s loss=0.056\n"
     ]
    },
    {
     "name": "stdout",
     "output_type": "stream",
     "text": [
      "INFO:tensorflow:Step 197100 per-step time 0.175s loss=0.767\n"
     ]
    },
    {
     "name": "stderr",
     "output_type": "stream",
     "text": [
      "[06/01 22:37:10] tensorflow INFO: Step 197100 per-step time 0.175s loss=0.767\n"
     ]
    },
    {
     "name": "stdout",
     "output_type": "stream",
     "text": [
      "INFO:tensorflow:Step 197200 per-step time 0.165s loss=0.613\n"
     ]
    },
    {
     "name": "stderr",
     "output_type": "stream",
     "text": [
      "[06/01 22:37:26] tensorflow INFO: Step 197200 per-step time 0.165s loss=0.613\n"
     ]
    },
    {
     "name": "stdout",
     "output_type": "stream",
     "text": [
      "INFO:tensorflow:Step 197300 per-step time 0.164s loss=0.034\n"
     ]
    },
    {
     "name": "stderr",
     "output_type": "stream",
     "text": [
      "[06/01 22:37:43] tensorflow INFO: Step 197300 per-step time 0.164s loss=0.034\n"
     ]
    },
    {
     "name": "stdout",
     "output_type": "stream",
     "text": [
      "INFO:tensorflow:Step 197400 per-step time 0.163s loss=0.140\n"
     ]
    },
    {
     "name": "stderr",
     "output_type": "stream",
     "text": [
      "[06/01 22:37:59] tensorflow INFO: Step 197400 per-step time 0.163s loss=0.140\n"
     ]
    },
    {
     "name": "stdout",
     "output_type": "stream",
     "text": [
      "INFO:tensorflow:Step 197500 per-step time 0.163s loss=0.061\n"
     ]
    },
    {
     "name": "stderr",
     "output_type": "stream",
     "text": [
      "[06/01 22:38:15] tensorflow INFO: Step 197500 per-step time 0.163s loss=0.061\n"
     ]
    },
    {
     "name": "stdout",
     "output_type": "stream",
     "text": [
      "INFO:tensorflow:Step 197600 per-step time 0.165s loss=0.101\n"
     ]
    },
    {
     "name": "stderr",
     "output_type": "stream",
     "text": [
      "[06/01 22:38:32] tensorflow INFO: Step 197600 per-step time 0.165s loss=0.101\n"
     ]
    },
    {
     "name": "stdout",
     "output_type": "stream",
     "text": [
      "INFO:tensorflow:Step 197700 per-step time 0.164s loss=0.017\n"
     ]
    },
    {
     "name": "stderr",
     "output_type": "stream",
     "text": [
      "[06/01 22:38:48] tensorflow INFO: Step 197700 per-step time 0.164s loss=0.017\n"
     ]
    },
    {
     "name": "stdout",
     "output_type": "stream",
     "text": [
      "INFO:tensorflow:Step 197800 per-step time 0.164s loss=0.136\n"
     ]
    },
    {
     "name": "stderr",
     "output_type": "stream",
     "text": [
      "[06/01 22:39:04] tensorflow INFO: Step 197800 per-step time 0.164s loss=0.136\n"
     ]
    },
    {
     "name": "stdout",
     "output_type": "stream",
     "text": [
      "INFO:tensorflow:Step 197900 per-step time 0.162s loss=0.036\n"
     ]
    },
    {
     "name": "stderr",
     "output_type": "stream",
     "text": [
      "[06/01 22:39:21] tensorflow INFO: Step 197900 per-step time 0.162s loss=0.036\n"
     ]
    },
    {
     "name": "stdout",
     "output_type": "stream",
     "text": [
      "INFO:tensorflow:Step 198000 per-step time 0.161s loss=0.039\n"
     ]
    },
    {
     "name": "stderr",
     "output_type": "stream",
     "text": [
      "[06/01 22:39:37] tensorflow INFO: Step 198000 per-step time 0.161s loss=0.039\n"
     ]
    },
    {
     "name": "stdout",
     "output_type": "stream",
     "text": [
      "INFO:tensorflow:Step 198100 per-step time 0.170s loss=0.028\n"
     ]
    },
    {
     "name": "stderr",
     "output_type": "stream",
     "text": [
      "[06/01 22:39:54] tensorflow INFO: Step 198100 per-step time 0.170s loss=0.028\n"
     ]
    },
    {
     "name": "stdout",
     "output_type": "stream",
     "text": [
      "INFO:tensorflow:Step 198200 per-step time 0.164s loss=0.062\n"
     ]
    },
    {
     "name": "stderr",
     "output_type": "stream",
     "text": [
      "[06/01 22:40:10] tensorflow INFO: Step 198200 per-step time 0.164s loss=0.062\n"
     ]
    },
    {
     "name": "stdout",
     "output_type": "stream",
     "text": [
      "INFO:tensorflow:Step 198300 per-step time 0.164s loss=0.101\n"
     ]
    },
    {
     "name": "stderr",
     "output_type": "stream",
     "text": [
      "[06/01 22:40:27] tensorflow INFO: Step 198300 per-step time 0.164s loss=0.101\n"
     ]
    },
    {
     "name": "stdout",
     "output_type": "stream",
     "text": [
      "INFO:tensorflow:Step 198400 per-step time 0.163s loss=0.039\n"
     ]
    },
    {
     "name": "stderr",
     "output_type": "stream",
     "text": [
      "[06/01 22:40:43] tensorflow INFO: Step 198400 per-step time 0.163s loss=0.039\n"
     ]
    },
    {
     "name": "stdout",
     "output_type": "stream",
     "text": [
      "INFO:tensorflow:Step 198500 per-step time 0.163s loss=0.082\n"
     ]
    },
    {
     "name": "stderr",
     "output_type": "stream",
     "text": [
      "[06/01 22:40:59] tensorflow INFO: Step 198500 per-step time 0.163s loss=0.082\n"
     ]
    },
    {
     "name": "stdout",
     "output_type": "stream",
     "text": [
      "INFO:tensorflow:Step 198600 per-step time 0.165s loss=0.063\n"
     ]
    },
    {
     "name": "stderr",
     "output_type": "stream",
     "text": [
      "[06/01 22:41:16] tensorflow INFO: Step 198600 per-step time 0.165s loss=0.063\n"
     ]
    },
    {
     "name": "stdout",
     "output_type": "stream",
     "text": [
      "INFO:tensorflow:Step 198700 per-step time 0.162s loss=0.040\n"
     ]
    },
    {
     "name": "stderr",
     "output_type": "stream",
     "text": [
      "[06/01 22:41:32] tensorflow INFO: Step 198700 per-step time 0.162s loss=0.040\n"
     ]
    },
    {
     "name": "stdout",
     "output_type": "stream",
     "text": [
      "INFO:tensorflow:Step 198800 per-step time 0.160s loss=0.026\n"
     ]
    },
    {
     "name": "stderr",
     "output_type": "stream",
     "text": [
      "[06/01 22:41:48] tensorflow INFO: Step 198800 per-step time 0.160s loss=0.026\n"
     ]
    },
    {
     "name": "stdout",
     "output_type": "stream",
     "text": [
      "INFO:tensorflow:Step 198900 per-step time 0.160s loss=0.059\n"
     ]
    },
    {
     "name": "stderr",
     "output_type": "stream",
     "text": [
      "[06/01 22:42:04] tensorflow INFO: Step 198900 per-step time 0.160s loss=0.059\n"
     ]
    },
    {
     "name": "stdout",
     "output_type": "stream",
     "text": [
      "INFO:tensorflow:Step 199000 per-step time 0.160s loss=0.026\n"
     ]
    },
    {
     "name": "stderr",
     "output_type": "stream",
     "text": [
      "[06/01 22:42:20] tensorflow INFO: Step 199000 per-step time 0.160s loss=0.026\n"
     ]
    },
    {
     "name": "stdout",
     "output_type": "stream",
     "text": [
      "INFO:tensorflow:Step 199100 per-step time 0.166s loss=0.047\n"
     ]
    },
    {
     "name": "stderr",
     "output_type": "stream",
     "text": [
      "[06/01 22:42:37] tensorflow INFO: Step 199100 per-step time 0.166s loss=0.047\n"
     ]
    },
    {
     "name": "stdout",
     "output_type": "stream",
     "text": [
      "INFO:tensorflow:Step 199200 per-step time 0.161s loss=0.151\n"
     ]
    },
    {
     "name": "stderr",
     "output_type": "stream",
     "text": [
      "[06/01 22:42:53] tensorflow INFO: Step 199200 per-step time 0.161s loss=0.151\n"
     ]
    },
    {
     "name": "stdout",
     "output_type": "stream",
     "text": [
      "INFO:tensorflow:Step 199300 per-step time 0.160s loss=0.175\n"
     ]
    },
    {
     "name": "stderr",
     "output_type": "stream",
     "text": [
      "[06/01 22:43:09] tensorflow INFO: Step 199300 per-step time 0.160s loss=0.175\n"
     ]
    },
    {
     "name": "stdout",
     "output_type": "stream",
     "text": [
      "INFO:tensorflow:Step 199400 per-step time 0.160s loss=0.151\n"
     ]
    },
    {
     "name": "stderr",
     "output_type": "stream",
     "text": [
      "[06/01 22:43:25] tensorflow INFO: Step 199400 per-step time 0.160s loss=0.151\n"
     ]
    },
    {
     "name": "stdout",
     "output_type": "stream",
     "text": [
      "INFO:tensorflow:Step 199500 per-step time 0.160s loss=0.126\n"
     ]
    },
    {
     "name": "stderr",
     "output_type": "stream",
     "text": [
      "[06/01 22:43:41] tensorflow INFO: Step 199500 per-step time 0.160s loss=0.126\n"
     ]
    },
    {
     "name": "stdout",
     "output_type": "stream",
     "text": [
      "INFO:tensorflow:Step 199600 per-step time 0.160s loss=0.120\n"
     ]
    },
    {
     "name": "stderr",
     "output_type": "stream",
     "text": [
      "[06/01 22:43:57] tensorflow INFO: Step 199600 per-step time 0.160s loss=0.120\n"
     ]
    },
    {
     "name": "stdout",
     "output_type": "stream",
     "text": [
      "INFO:tensorflow:Step 199700 per-step time 0.160s loss=0.100\n"
     ]
    },
    {
     "name": "stderr",
     "output_type": "stream",
     "text": [
      "[06/01 22:44:13] tensorflow INFO: Step 199700 per-step time 0.160s loss=0.100\n"
     ]
    },
    {
     "name": "stdout",
     "output_type": "stream",
     "text": [
      "INFO:tensorflow:Step 199800 per-step time 0.160s loss=0.110\n"
     ]
    },
    {
     "name": "stderr",
     "output_type": "stream",
     "text": [
      "[06/01 22:44:29] tensorflow INFO: Step 199800 per-step time 0.160s loss=0.110\n"
     ]
    },
    {
     "name": "stdout",
     "output_type": "stream",
     "text": [
      "INFO:tensorflow:Step 199900 per-step time 0.161s loss=0.060\n"
     ]
    },
    {
     "name": "stderr",
     "output_type": "stream",
     "text": [
      "[06/01 22:44:45] tensorflow INFO: Step 199900 per-step time 0.161s loss=0.060\n"
     ]
    },
    {
     "name": "stdout",
     "output_type": "stream",
     "text": [
      "INFO:tensorflow:Step 200000 per-step time 0.161s loss=0.219\n"
     ]
    },
    {
     "name": "stderr",
     "output_type": "stream",
     "text": [
      "[06/01 22:45:01] tensorflow INFO: Step 200000 per-step time 0.161s loss=0.219\n"
     ]
    },
    {
     "name": "stdout",
     "output_type": "stream",
     "text": [
      "Training abgeschlossen: Dauer =  3269.5293088999997\n"
     ]
    }
   ],
   "source": [
    "# model_main_tf2.py\n",
    "# individuell angepasst werden müssen die Zeilen 23, 24\n",
    "\n",
    "#from absl import flags\n",
    "import os\n",
    "import tensorflow.compat.v2 as tf\n",
    "from object_detection import model_lib_v2\n",
    "import time\n",
    "\n",
    "Path_to_scripts = r'C:\\Tensorflow2\\workspace\\Training_demo'\n",
    "model_dir = os.path.join(Path_to_scripts, 'models\\my_faster_rcnn_resnet50_v1')\n",
    "pipeline_config_path = os.path.join(model_dir, 'pipeline.config')\n",
    "num_train_steps = None\n",
    "eval_on_train_data = False\n",
    "sample_1_of_n_eval_examples = None\n",
    "sample_1_of_n_eval_on_train_examples = 5\n",
    "checkpoint_dir = None\n",
    "eval_timeout = 3600\n",
    "use_tpu = False\n",
    "num_train_steps = 200000\n",
    "num_workers = 1\n",
    "checkpoint_every_n = 1000\n",
    "record_summaries = True\n",
    "\n",
    "def main():  \n",
    "\n",
    "  if checkpoint_dir:\n",
    "    model_lib_v2.eval_continuously(\n",
    "        pipeline_config_path=pipeline_config_path,\n",
    "        model_dir=model_dir,\n",
    "        train_steps=num_train_steps,\n",
    "        sample_1_of_n_eval_examples=sample_1_of_n_eval_examples,\n",
    "        sample_1_of_n_eval_on_train_examples=(\n",
    "            sample_1_of_n_eval_on_train_examples),\n",
    "        checkpoint_dir=checkpoint_dir,\n",
    "        wait_interval=300, timeout=eval_timeout)\n",
    "  else:\n",
    "    if use_tpu:\n",
    "      # TPU is automatically inferred if tpu_name is None and\n",
    "      # we are running under cloud ai-platform.\n",
    "      resolver = tf.distribute.cluster_resolver.TPUClusterResolver(\n",
    "          tpu_name)\n",
    "      tf.config.experimental_connect_to_cluster(resolver)\n",
    "      tf.tpu.experimental.initialize_tpu_system(resolver)\n",
    "      strategy = tf.distribute.experimental.TPUStrategy(resolver)\n",
    "    elif num_workers > 1:\n",
    "      strategy = tf.distribute.experimental.MultiWorkerMirroredStrategy()\n",
    "    else:\n",
    "      strategy = tf.compat.v2.distribute.MirroredStrategy()\n",
    "\n",
    "    with strategy.scope():\n",
    "      model_lib_v2.train_loop(\n",
    "          pipeline_config_path=pipeline_config_path,\n",
    "          model_dir=model_dir,\n",
    "          train_steps=num_train_steps,\n",
    "          use_tpu=use_tpu,\n",
    "          checkpoint_every_n=checkpoint_every_n,\n",
    "          record_summaries=record_summaries)\n",
    "\n",
    "if __name__ == '__main__':\n",
    "    start_time = time.perf_counter()\n",
    "    main()\n",
    "    end_time = time.perf_counter() - start_time\n",
    "    print('Training abgeschlossen: Dauer = ', end_time)\n",
    "  #tf.compat.v1.app.run()\n"
   ]
  },
  {
   "cell_type": "markdown",
   "metadata": {},
   "source": [
    "# Evaluate the Training\n",
    "anders als beim Training ist hier ein Wert für Checkpoin_dir gesetzt.\n",
    "Zeile 21: checkpoint_dir = model_dir\n",
    "unvorteilhafter weise kann die Evaluierung nicht parallel zum Training laufen (kommt hoffentlich noch, bei TF1 gings ja auch). Also muss das Training mit num_train_steps = xxx  in kleine Portionen geteilt werden, und zwischendurch immer eval- wer es bracuht."
   ]
  },
  {
   "cell_type": "code",
   "execution_count": null,
   "metadata": {
    "scrolled": true
   },
   "outputs": [
    {
     "name": "stdout",
     "output_type": "stream",
     "text": [
      "WARNING:tensorflow:Forced number of epochs for all eval validations to be 1.\n"
     ]
    },
    {
     "name": "stderr",
     "output_type": "stream",
     "text": [
      "[06/01 22:50:38] tensorflow WARNING: Forced number of epochs for all eval validations to be 1.\n"
     ]
    },
    {
     "name": "stdout",
     "output_type": "stream",
     "text": [
      "INFO:tensorflow:Maybe overwriting sample_1_of_n_eval_examples: None\n"
     ]
    },
    {
     "name": "stderr",
     "output_type": "stream",
     "text": [
      "[06/01 22:50:38] tensorflow INFO: Maybe overwriting sample_1_of_n_eval_examples: None\n"
     ]
    },
    {
     "name": "stdout",
     "output_type": "stream",
     "text": [
      "INFO:tensorflow:Maybe overwriting use_bfloat16: False\n"
     ]
    },
    {
     "name": "stderr",
     "output_type": "stream",
     "text": [
      "[06/01 22:50:38] tensorflow INFO: Maybe overwriting use_bfloat16: False\n"
     ]
    },
    {
     "name": "stdout",
     "output_type": "stream",
     "text": [
      "INFO:tensorflow:Maybe overwriting eval_num_epochs: 1\n"
     ]
    },
    {
     "name": "stderr",
     "output_type": "stream",
     "text": [
      "[06/01 22:50:38] tensorflow INFO: Maybe overwriting eval_num_epochs: 1\n"
     ]
    },
    {
     "name": "stdout",
     "output_type": "stream",
     "text": [
      "WARNING:tensorflow:Expected number of evaluation epochs is 1, but instead encountered `eval_on_train_input_config.num_epochs` = 0. Overwriting `num_epochs` to 1.\n"
     ]
    },
    {
     "name": "stderr",
     "output_type": "stream",
     "text": [
      "[06/01 22:50:38] tensorflow WARNING: Expected number of evaluation epochs is 1, but instead encountered `eval_on_train_input_config.num_epochs` = 0. Overwriting `num_epochs` to 1.\n"
     ]
    },
    {
     "name": "stdout",
     "output_type": "stream",
     "text": [
      "INFO:tensorflow:Reading unweighted datasets: ['C:/Tensorflow2/workspace/training_demo/annotations/test.record']\n"
     ]
    },
    {
     "name": "stderr",
     "output_type": "stream",
     "text": [
      "[06/01 22:50:38] tensorflow INFO: Reading unweighted datasets: ['C:/Tensorflow2/workspace/training_demo/annotations/test.record']\n"
     ]
    },
    {
     "name": "stdout",
     "output_type": "stream",
     "text": [
      "INFO:tensorflow:Reading record datasets for input file: ['C:/Tensorflow2/workspace/training_demo/annotations/test.record']\n"
     ]
    },
    {
     "name": "stderr",
     "output_type": "stream",
     "text": [
      "[06/01 22:50:38] tensorflow INFO: Reading record datasets for input file: ['C:/Tensorflow2/workspace/training_demo/annotations/test.record']\n"
     ]
    },
    {
     "name": "stdout",
     "output_type": "stream",
     "text": [
      "INFO:tensorflow:Number of filenames to read: 1\n"
     ]
    },
    {
     "name": "stderr",
     "output_type": "stream",
     "text": [
      "[06/01 22:50:38] tensorflow INFO: Number of filenames to read: 1\n"
     ]
    },
    {
     "name": "stdout",
     "output_type": "stream",
     "text": [
      "WARNING:tensorflow:num_readers has been reduced to 1 to match input file shards.\n"
     ]
    },
    {
     "name": "stderr",
     "output_type": "stream",
     "text": [
      "[06/01 22:50:38] tensorflow WARNING: num_readers has been reduced to 1 to match input file shards.\n"
     ]
    },
    {
     "name": "stdout",
     "output_type": "stream",
     "text": [
      "INFO:tensorflow:Waiting for new checkpoint at C:\\Tensorflow2\\workspace\\Training_demo\\models\\my_faster_rcnn_resnet50_v1\n"
     ]
    },
    {
     "name": "stderr",
     "output_type": "stream",
     "text": [
      "[06/01 22:50:38] tensorflow INFO: Waiting for new checkpoint at C:\\Tensorflow2\\workspace\\Training_demo\\models\\my_faster_rcnn_resnet50_v1\n"
     ]
    },
    {
     "name": "stdout",
     "output_type": "stream",
     "text": [
      "INFO:tensorflow:Found new checkpoint at C:\\Tensorflow2\\workspace\\Training_demo\\models\\my_faster_rcnn_resnet50_v1\\ckpt-201\n"
     ]
    },
    {
     "name": "stderr",
     "output_type": "stream",
     "text": [
      "[06/01 22:50:38] tensorflow INFO: Found new checkpoint at C:\\Tensorflow2\\workspace\\Training_demo\\models\\my_faster_rcnn_resnet50_v1\\ckpt-201\n"
     ]
    },
    {
     "name": "stdout",
     "output_type": "stream",
     "text": [
      "INFO:tensorflow:depth of additional conv before box predictor: 0\n"
     ]
    },
    {
     "name": "stderr",
     "output_type": "stream",
     "text": [
      "[06/01 22:50:40] tensorflow INFO: depth of additional conv before box predictor: 0\n"
     ]
    },
    {
     "name": "stdout",
     "output_type": "stream",
     "text": [
      "INFO:tensorflow:Finished eval step 0\n"
     ]
    },
    {
     "name": "stderr",
     "output_type": "stream",
     "text": [
      "[06/01 22:50:46] tensorflow INFO: Finished eval step 0\n"
     ]
    },
    {
     "name": "stdout",
     "output_type": "stream",
     "text": [
      "INFO:tensorflow:Finished eval step 100\n"
     ]
    },
    {
     "name": "stderr",
     "output_type": "stream",
     "text": [
      "[06/01 22:50:59] tensorflow INFO: Finished eval step 100\n"
     ]
    },
    {
     "name": "stdout",
     "output_type": "stream",
     "text": [
      "INFO:tensorflow:Performing evaluation on 198 images.\n"
     ]
    },
    {
     "name": "stderr",
     "output_type": "stream",
     "text": [
      "[06/01 22:51:08] tensorflow INFO: Performing evaluation on 198 images.\n"
     ]
    },
    {
     "name": "stdout",
     "output_type": "stream",
     "text": [
      "creating index...\n",
      "index created!\n",
      "INFO:tensorflow:Loading and preparing annotation results...\n"
     ]
    },
    {
     "name": "stderr",
     "output_type": "stream",
     "text": [
      "[06/01 22:51:08] tensorflow INFO: Loading and preparing annotation results...\n"
     ]
    },
    {
     "name": "stdout",
     "output_type": "stream",
     "text": [
      "INFO:tensorflow:DONE (t=0.02s)\n"
     ]
    },
    {
     "name": "stderr",
     "output_type": "stream",
     "text": [
      "[06/01 22:51:08] tensorflow INFO: DONE (t=0.02s)\n"
     ]
    },
    {
     "name": "stdout",
     "output_type": "stream",
     "text": [
      "creating index...\n",
      "index created!\n",
      "Running per image evaluation...\n",
      "Evaluate annotation type *bbox*\n",
      "DONE (t=0.79s).\n",
      "Accumulating evaluation results...\n",
      "DONE (t=0.39s).\n",
      " Average Precision  (AP) @[ IoU=0.50:0.95 | area=   all | maxDets=100 ] = 0.130\n",
      " Average Precision  (AP) @[ IoU=0.50      | area=   all | maxDets=100 ] = 0.316\n",
      " Average Precision  (AP) @[ IoU=0.75      | area=   all | maxDets=100 ] = 0.085\n",
      " Average Precision  (AP) @[ IoU=0.50:0.95 | area= small | maxDets=100 ] = 0.122\n",
      " Average Precision  (AP) @[ IoU=0.50:0.95 | area=medium | maxDets=100 ] = 0.114\n",
      " Average Precision  (AP) @[ IoU=0.50:0.95 | area= large | maxDets=100 ] = 0.080\n",
      " Average Recall     (AR) @[ IoU=0.50:0.95 | area=   all | maxDets=  1 ] = 0.160\n",
      " Average Recall     (AR) @[ IoU=0.50:0.95 | area=   all | maxDets= 10 ] = 0.276\n",
      " Average Recall     (AR) @[ IoU=0.50:0.95 | area=   all | maxDets=100 ] = 0.327\n",
      " Average Recall     (AR) @[ IoU=0.50:0.95 | area= small | maxDets=100 ] = 0.311\n",
      " Average Recall     (AR) @[ IoU=0.50:0.95 | area=medium | maxDets=100 ] = 0.279\n",
      " Average Recall     (AR) @[ IoU=0.50:0.95 | area= large | maxDets=100 ] = 0.277\n",
      "INFO:tensorflow:Eval metrics at step 200000\n"
     ]
    },
    {
     "name": "stderr",
     "output_type": "stream",
     "text": [
      "[06/01 22:51:10] tensorflow INFO: Eval metrics at step 200000\n"
     ]
    },
    {
     "name": "stdout",
     "output_type": "stream",
     "text": [
      "INFO:tensorflow:\t+ DetectionBoxes_Precision/mAP: 0.130280\n"
     ]
    },
    {
     "name": "stderr",
     "output_type": "stream",
     "text": [
      "[06/01 22:51:10] tensorflow INFO: \t+ DetectionBoxes_Precision/mAP: 0.130280\n"
     ]
    },
    {
     "name": "stdout",
     "output_type": "stream",
     "text": [
      "INFO:tensorflow:\t+ DetectionBoxes_Precision/mAP@.50IOU: 0.315570\n"
     ]
    },
    {
     "name": "stderr",
     "output_type": "stream",
     "text": [
      "[06/01 22:51:10] tensorflow INFO: \t+ DetectionBoxes_Precision/mAP@.50IOU: 0.315570\n"
     ]
    },
    {
     "name": "stdout",
     "output_type": "stream",
     "text": [
      "INFO:tensorflow:\t+ DetectionBoxes_Precision/mAP@.75IOU: 0.084684\n"
     ]
    },
    {
     "name": "stderr",
     "output_type": "stream",
     "text": [
      "[06/01 22:51:10] tensorflow INFO: \t+ DetectionBoxes_Precision/mAP@.75IOU: 0.084684\n"
     ]
    },
    {
     "name": "stdout",
     "output_type": "stream",
     "text": [
      "INFO:tensorflow:\t+ DetectionBoxes_Precision/mAP (small): 0.121712\n"
     ]
    },
    {
     "name": "stderr",
     "output_type": "stream",
     "text": [
      "[06/01 22:51:10] tensorflow INFO: \t+ DetectionBoxes_Precision/mAP (small): 0.121712\n"
     ]
    },
    {
     "name": "stdout",
     "output_type": "stream",
     "text": [
      "INFO:tensorflow:\t+ DetectionBoxes_Precision/mAP (medium): 0.114326\n"
     ]
    },
    {
     "name": "stderr",
     "output_type": "stream",
     "text": [
      "[06/01 22:51:10] tensorflow INFO: \t+ DetectionBoxes_Precision/mAP (medium): 0.114326\n"
     ]
    },
    {
     "name": "stdout",
     "output_type": "stream",
     "text": [
      "INFO:tensorflow:\t+ DetectionBoxes_Precision/mAP (large): 0.079951\n"
     ]
    },
    {
     "name": "stderr",
     "output_type": "stream",
     "text": [
      "[06/01 22:51:10] tensorflow INFO: \t+ DetectionBoxes_Precision/mAP (large): 0.079951\n"
     ]
    },
    {
     "name": "stdout",
     "output_type": "stream",
     "text": [
      "INFO:tensorflow:\t+ DetectionBoxes_Recall/AR@1: 0.160472\n"
     ]
    },
    {
     "name": "stderr",
     "output_type": "stream",
     "text": [
      "[06/01 22:51:10] tensorflow INFO: \t+ DetectionBoxes_Recall/AR@1: 0.160472\n"
     ]
    },
    {
     "name": "stdout",
     "output_type": "stream",
     "text": [
      "INFO:tensorflow:\t+ DetectionBoxes_Recall/AR@10: 0.276200\n"
     ]
    },
    {
     "name": "stderr",
     "output_type": "stream",
     "text": [
      "[06/01 22:51:10] tensorflow INFO: \t+ DetectionBoxes_Recall/AR@10: 0.276200\n"
     ]
    },
    {
     "name": "stdout",
     "output_type": "stream",
     "text": [
      "INFO:tensorflow:\t+ DetectionBoxes_Recall/AR@100: 0.327253\n"
     ]
    },
    {
     "name": "stderr",
     "output_type": "stream",
     "text": [
      "[06/01 22:51:10] tensorflow INFO: \t+ DetectionBoxes_Recall/AR@100: 0.327253\n"
     ]
    },
    {
     "name": "stdout",
     "output_type": "stream",
     "text": [
      "INFO:tensorflow:\t+ DetectionBoxes_Recall/AR@100 (small): 0.311429\n"
     ]
    },
    {
     "name": "stderr",
     "output_type": "stream",
     "text": [
      "[06/01 22:51:10] tensorflow INFO: \t+ DetectionBoxes_Recall/AR@100 (small): 0.311429\n"
     ]
    },
    {
     "name": "stdout",
     "output_type": "stream",
     "text": [
      "INFO:tensorflow:\t+ DetectionBoxes_Recall/AR@100 (medium): 0.278983\n"
     ]
    },
    {
     "name": "stderr",
     "output_type": "stream",
     "text": [
      "[06/01 22:51:10] tensorflow INFO: \t+ DetectionBoxes_Recall/AR@100 (medium): 0.278983\n"
     ]
    },
    {
     "name": "stdout",
     "output_type": "stream",
     "text": [
      "INFO:tensorflow:\t+ DetectionBoxes_Recall/AR@100 (large): 0.277462\n"
     ]
    },
    {
     "name": "stderr",
     "output_type": "stream",
     "text": [
      "[06/01 22:51:10] tensorflow INFO: \t+ DetectionBoxes_Recall/AR@100 (large): 0.277462\n"
     ]
    },
    {
     "name": "stdout",
     "output_type": "stream",
     "text": [
      "INFO:tensorflow:\t+ Loss/RPNLoss/localization_loss: 0.074596\n"
     ]
    },
    {
     "name": "stderr",
     "output_type": "stream",
     "text": [
      "[06/01 22:51:10] tensorflow INFO: \t+ Loss/RPNLoss/localization_loss: 0.074596\n"
     ]
    },
    {
     "name": "stdout",
     "output_type": "stream",
     "text": [
      "INFO:tensorflow:\t+ Loss/RPNLoss/objectness_loss: 0.039984\n"
     ]
    },
    {
     "name": "stderr",
     "output_type": "stream",
     "text": [
      "[06/01 22:51:10] tensorflow INFO: \t+ Loss/RPNLoss/objectness_loss: 0.039984\n"
     ]
    },
    {
     "name": "stdout",
     "output_type": "stream",
     "text": [
      "INFO:tensorflow:\t+ Loss/BoxClassifierLoss/localization_loss: 0.098535\n"
     ]
    },
    {
     "name": "stderr",
     "output_type": "stream",
     "text": [
      "[06/01 22:51:10] tensorflow INFO: \t+ Loss/BoxClassifierLoss/localization_loss: 0.098535\n"
     ]
    },
    {
     "name": "stdout",
     "output_type": "stream",
     "text": [
      "INFO:tensorflow:\t+ Loss/BoxClassifierLoss/classification_loss: 0.140354\n"
     ]
    },
    {
     "name": "stderr",
     "output_type": "stream",
     "text": [
      "[06/01 22:51:10] tensorflow INFO: \t+ Loss/BoxClassifierLoss/classification_loss: 0.140354\n"
     ]
    },
    {
     "name": "stdout",
     "output_type": "stream",
     "text": [
      "INFO:tensorflow:\t+ Loss/regularization_loss: 0.000000\n"
     ]
    },
    {
     "name": "stderr",
     "output_type": "stream",
     "text": [
      "[06/01 22:51:10] tensorflow INFO: \t+ Loss/regularization_loss: 0.000000\n"
     ]
    },
    {
     "name": "stdout",
     "output_type": "stream",
     "text": [
      "INFO:tensorflow:\t+ Loss/total_loss: 0.353469\n"
     ]
    },
    {
     "name": "stderr",
     "output_type": "stream",
     "text": [
      "[06/01 22:51:10] tensorflow INFO: \t+ Loss/total_loss: 0.353469\n"
     ]
    },
    {
     "name": "stdout",
     "output_type": "stream",
     "text": [
      "INFO:tensorflow:Waiting for new checkpoint at C:\\Tensorflow2\\workspace\\Training_demo\\models\\my_faster_rcnn_resnet50_v1\n"
     ]
    },
    {
     "name": "stderr",
     "output_type": "stream",
     "text": [
      "[06/01 22:55:38] tensorflow INFO: Waiting for new checkpoint at C:\\Tensorflow2\\workspace\\Training_demo\\models\\my_faster_rcnn_resnet50_v1\n"
     ]
    }
   ],
   "source": [
    "# model_main_tf2.py\n",
    "# individuell angepasst werden müssen die Zeilen 23, 24\n",
    "\n",
    "#from absl import flags\n",
    "import os\n",
    "import tensorflow.compat.v2 as tf\n",
    "from object_detection import model_lib_v2\n",
    "import time\n",
    "\n",
    "Path_to_scripts = r'C:\\Tensorflow2\\workspace\\Training_demo'\n",
    "model_dir = os.path.join(Path_to_scripts, 'models\\my_faster_rcnn_resnet50_v1')\n",
    "pipeline_config_path = os.path.join(model_dir, 'pipeline.config')\n",
    "num_train_steps = None\n",
    "eval_on_train_data = False\n",
    "sample_1_of_n_eval_examples = None\n",
    "sample_1_of_n_eval_on_train_examples = 5\n",
    "checkpoint_dir = model_dir\n",
    "eval_timeout = 180\n",
    "use_tpu = False\n",
    "num_train_steps = None\n",
    "num_workers = 1\n",
    "checkpoint_every_n = 1000\n",
    "record_summaries = True\n",
    "\n",
    "def main():  \n",
    "\n",
    "  if checkpoint_dir:\n",
    "    model_lib_v2.eval_continuously(\n",
    "        pipeline_config_path=pipeline_config_path,\n",
    "        model_dir=model_dir,\n",
    "        train_steps=num_train_steps,\n",
    "        sample_1_of_n_eval_examples=sample_1_of_n_eval_examples,\n",
    "        sample_1_of_n_eval_on_train_examples=(\n",
    "            sample_1_of_n_eval_on_train_examples),\n",
    "        checkpoint_dir=checkpoint_dir,\n",
    "        wait_interval=300, timeout=eval_timeout)\n",
    "  else:\n",
    "    if use_tpu:\n",
    "      # TPU is automatically inferred if tpu_name is None and\n",
    "      # we are running under cloud ai-platform.\n",
    "      resolver = tf.distribute.cluster_resolver.TPUClusterResolver(\n",
    "          tpu_name)\n",
    "      tf.config.experimental_connect_to_cluster(resolver)\n",
    "      tf.tpu.experimental.initialize_tpu_system(resolver)\n",
    "      strategy = tf.distribute.experimental.TPUStrategy(resolver)\n",
    "    elif num_workers > 1:\n",
    "      strategy = tf.distribute.experimental.MultiWorkerMirroredStrategy()\n",
    "    else:\n",
    "      strategy = tf.compat.v2.distribute.MirroredStrategy()\n",
    "\n",
    "    with strategy.scope():\n",
    "      model_lib_v2.train_loop(\n",
    "          pipeline_config_path=pipeline_config_path,\n",
    "          model_dir=model_dir,\n",
    "          train_steps=num_train_steps,\n",
    "          use_tpu=use_tpu,\n",
    "          checkpoint_every_n=checkpoint_every_n,\n",
    "          record_summaries=record_summaries)\n",
    "\n",
    "if __name__ == '__main__':\n",
    "    start_time = time.perf_counter()\n",
    "    main()\n",
    "    end_time = time.perf_counter() - start_time\n",
    "    print('Evaluierung abgeschlossen: Dauer = ', end_time)\n",
    "  #tf.compat.v1.app.run()\n"
   ]
  },
  {
   "cell_type": "markdown",
   "metadata": {},
   "source": [
    "# 5. Ergebnisse in Tensorboard\n",
    "dazu die Commands in Anacoda-prompt  oder cmd ausführen.\n",
    "command3 - evt. muss der Ordner my_....   angepasst werden "
   ]
  },
  {
   "cell_type": "code",
   "execution_count": null,
   "metadata": {},
   "outputs": [],
   "source": [
    "command1 = \"activate tf2_env\" \n",
    "command2 = \"cd C:\\Tensorflow2\\workspace\\Training_demo\"\n",
    "command3 = \"tensorboard --logdir=models/my_faster_rcnn_resnet50_v1\"\n",
    "print(command1)\n",
    "print(command2)\n",
    "print(command3)"
   ]
  },
  {
   "cell_type": "markdown",
   "metadata": {},
   "source": [
    "# 5. export model\n",
    "im command müssen die beiden Pfad angepasst werden:\n",
    "pipelin_config_path\n",
    "trained_checkpoint_dir\n",
    "\n",
    "und die exporter_main_v2.py sollte in  C:\\Tensorflow2\\workspace\\training_demo\\  liegen\n",
    "zu finden ist sie unter: C:\\Tensorflow2\\models-master\\research\\object_detection"
   ]
  },
  {
   "cell_type": "code",
   "execution_count": null,
   "metadata": {},
   "outputs": [],
   "source": [
    "command = python C:\\Tensorflow2\\workspace\\Training_demo\\exporter_main_v2.py --input_type image_tensor --pipeline_config_path C:\\Tensorflow2\\workspace\\training_demo\\models\\my_faster_rcnn_resnet50_v1\\pipeline.config --trained_checkpoint_dir C:\\Tensorflow2\\workspace\\training_demo\\models\\my_faster_rcnn_resnet50_v1\\ --output_directory C:\\Tensorflow2\\workspace\\training_demo\\exported-models\\my_model"
   ]
  },
  {
   "cell_type": "code",
   "execution_count": null,
   "metadata": {},
   "outputs": [],
   "source": [
    "!{command}"
   ]
  },
  {
   "cell_type": "markdown",
   "metadata": {},
   "source": [
    "# 6. Run model with images"
   ]
  },
  {
   "cell_type": "code",
   "execution_count": null,
   "metadata": {},
   "outputs": [],
   "source": [
    "#!/usr/bin/env python\n",
    "# coding: utf-8\n",
    "\n",
    "# %%\n",
    "# This demo will take you through the steps of running an \"out-of-the-box\" TensorFlow 2 compatible\n",
    "# detection model on a collection of images. More specifically, in this example we will be using\n",
    "# the `Saved Model Format <https://www.tensorflow.org/guide/saved_model>`__ to load the model.\n",
    "\n",
    "# %%\n",
    "# Download the test images\n",
    "# ~~~~~~~~~~~~~~~~~~~~~~~~\n",
    "# First we will download the images that we will use throughout this tutorial. The code snippet\n",
    "# shown bellow will download the test images from the `TensorFlow Model Garden <https://github.com/tensorflow/models/tree/master/research/object_detection/test_images>`_\n",
    "# and save them inside the ``data/images`` folder.\n",
    "import os\n",
    "os.environ['TF_CPP_MIN_LOG_LEVEL'] = '2'    # Suppress TensorFlow logging (1)\n",
    "#import pathlib\n",
    "import tensorflow as tf\n",
    "import time\n",
    "import numpy as np\n",
    "import glob\n",
    "import cv2\n",
    "#from PIL import Image\n",
    "#import matplotlib.pyplot as plt\n",
    "import warnings\n",
    "from utils import label_map_util\n",
    "#from utils import visualization_utils as viz_utils\n",
    "\n",
    "tf.get_logger().setLevel('ERROR')           # Suppress TensorFlow logging (2)\n",
    "\n",
    "# Enable GPU dynamic memory allocation\n",
    "gpus = tf.config.experimental.list_physical_devices('GPU')\n",
    "for gpu in gpus:\n",
    "    tf.config.experimental.set_memory_growth(gpu, True)\n",
    "\n",
    "\n",
    "IMAGE_PATHS = r'C:\\Tensorflow2\\workspace\\training_demo\\test'\n",
    "PATH_TO_LABELS = r'C:\\Tensorflow2\\workspace\\training_demo\\annotations\\label_map.pbtxt'\n",
    "PATH_TO_MODEL_DIR = r'C:\\Tensorflow2\\workspace\\training_demo\\exported-models\\my_model'\n",
    "PATH_TO_SAVED_MODEL = PATH_TO_MODEL_DIR + \"/saved_model\"\n",
    "alpha = 0.1 #transparency factor\n",
    "prediction_score = 0.5 #treshold  for prediction\n",
    "print('Loading model...', end='')\n",
    "start_time = time.time()\n",
    "\n",
    "# Load saved model and build the detection function\n",
    "detect_fn = tf.saved_model.load(PATH_TO_SAVED_MODEL)\n",
    "\n",
    "end_time = time.time()\n",
    "elapsed_time = end_time - start_time\n",
    "print('Done! Took {} seconds'.format(elapsed_time))\n",
    "\n",
    "category_index = label_map_util.create_category_index_from_labelmap(PATH_TO_LABELS,\n",
    "                                                                    use_display_name=True)\n",
    "\n",
    "# Here are some simple things to try out if you are curious:\n",
    "#\n",
    "# * Modify some of the input images and see if detection still works. Some simple things to try out here (just uncomment the relevant portions of code) include flipping the image horizontally, or converting to grayscale (note that we still expect the input image to have 3 channels).\n",
    "# * Print out `detections['detection_boxes']` and try to match the box locations to the boxes in the image.  Notice that coordinates are given in normalized form (i.e., in the interval [0, 1]).\n",
    "# * Set ``min_score_thresh`` to other values (between 0 and 1) to allow more detections in or to filter out more detections.\n",
    "\n",
    "warnings.filterwarnings('ignore')   # Suppress Matplotlib warnings\n",
    "\n",
    "images = glob.glob(os.path.join(IMAGE_PATHS, '*.jpg'))\n",
    "\n",
    "for img in images:\n",
    "\n",
    "    #print('Running inference for {}... '.format(img), end='')\n",
    "\n",
    "    image = cv2.imread(img)  # (PATH_TO_IMAGE)\n",
    "    # Things to try:\n",
    "    #image = cv2.flip(image, 1)  # horizontal flip\n",
    "    #image = cv2.flip(image, 0)  # vertical flip\n",
    "\n",
    "    image_copy = cv2.resize(image, (1280, 720))\n",
    "    overlay = image_copy.copy()\n",
    "\n",
    "    image_np = np.array(image)#load_image_into_numpy_array(image_path)\n",
    "\n",
    "    # The input needs to be a tensor, convert it using `tf.convert_to_tensor`.\n",
    "    input_tensor = tf.convert_to_tensor(image_np)\n",
    "    # The model expects a batch of images, so add an axis with `tf.newaxis`.\n",
    "    input_tensor = input_tensor[tf.newaxis, ...]\n",
    "\n",
    "    # input_tensor = np.expand_dims(image_np, 0)\n",
    "    detections = detect_fn(input_tensor)\n",
    "\n",
    "    # All outputs are batches tensors.\n",
    "    # Convert to numpy arrays, and take index [0] to remove the batch dimension.\n",
    "    # We're only interested in the first num_detections.\n",
    "    num_detections = int(detections.pop('num_detections'))\n",
    "    detections = {key: value[0, :num_detections].numpy()\n",
    "                   for key, value in detections.items()}\n",
    "    detections['num_detections'] = num_detections\n",
    "\n",
    "    # detection_classes should be ints.\n",
    "    detections['detection_classes'] = detections['detection_classes'].astype(np.int64)\n",
    "\n",
    "    #image_np_with_detections = image_np.copy()\n",
    "\n",
    "    for i in range(0, len(detections['detection_classes'])):\n",
    "        if detections['detection_scores'][i] > prediction_score:\n",
    "            ymin, xmin, ymax, xmax = detections['detection_boxes'][i]\n",
    "            class_name = category_index[detections['detection_classes'][i]]['name']\n",
    "            xmin = int(xmin * 1280)\n",
    "            xmax = int(xmax * 1280)\n",
    "            ymin = int(ymin * 720)\n",
    "            ymax = int(ymax * 720)\n",
    "            score = round(detections['detection_scores'][i] * 100, 1)\n",
    "            print(xmin, ymin, xmax, ymax, class_name, score)\n",
    "            text = class_name + ' ' + str(score)\n",
    "            cv2.rectangle(overlay, (xmin, ymin), (xmax, ymax), [0, 0, 255], -1)\n",
    "            cv2.rectangle(image_copy, (xmin, ymin), (xmax, ymax), [255, 255, 255], 2)\n",
    "            image = cv2.putText(image_copy, text, (xmin, ymin), cv2.FONT_HERSHEY_SIMPLEX, 1, (255, 255, 255), 2,\n",
    "                                cv2.LINE_AA)\n",
    "\n",
    "    image_copy = cv2.addWeighted(overlay, alpha, image_copy, 1 - alpha, 0)\n",
    "    cv2.imshow('result', image_copy)\n",
    "\n",
    "    # Press any key to close the image\n",
    "    k = cv2.waitKey(0)\n",
    "\n",
    "cv2.destroyAllWindows()\n",
    "\n",
    "# sphinx_gallery_thumbnail_number = 2"
   ]
  }
 ],
 "metadata": {
  "kernelspec": {
   "display_name": "tf2_env",
   "language": "python",
   "name": "tf2_env"
  },
  "language_info": {
   "codemirror_mode": {
    "name": "ipython",
    "version": 3
   },
   "file_extension": ".py",
   "mimetype": "text/x-python",
   "name": "python",
   "nbconvert_exporter": "python",
   "pygments_lexer": "ipython3",
   "version": "3.8.8"
  }
 },
 "nbformat": 4,
 "nbformat_minor": 4
}
